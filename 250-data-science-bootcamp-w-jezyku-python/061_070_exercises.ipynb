{
  "nbformat": 4,
  "nbformat_minor": 0,
  "metadata": {
    "colab": {
      "provenance": [],
      "include_colab_link": true
    },
    "kernelspec": {
      "name": "python3",
      "display_name": "Python 3"
    }
  },
  "cells": [
    {
      "cell_type": "markdown",
      "metadata": {
        "id": "view-in-github",
        "colab_type": "text"
      },
      "source": [
        "<a href=\"https://colab.research.google.com/github/sebekpro/python-krakowiak/blob/main/250-data-science-bootcamp-w-jezyku-python/061_070_exercises.ipynb\" target=\"_parent\"><img src=\"https://colab.research.google.com/assets/colab-badge.svg\" alt=\"Open In Colab\"/></a>"
      ]
    },
    {
      "cell_type": "markdown",
      "metadata": {
        "id": "WLEgCW5F1hho"
      },
      "source": [
        "## Numpy\n",
        "\n",
        "### Spis treści:\n",
        "* [Import biblioteki](#0)\n",
        "* [Ćwiczenie 61](#1)\n",
        "* [Ćwiczenie 62](#2)\n",
        "* [Ćwiczenie 63](#3)\n",
        "* [Ćwiczenie 64](#4)\n",
        "* [Ćwiczenie 65](#5)\n",
        "* [Ćwiczenie 66](#6)\n",
        "* [Ćwiczenie 67](#7)\n",
        "* [Ćwiczenie 68](#8)\n",
        "* [Ćwiczenie 69](#9)\n",
        "* [Ćwiczenie 70](#10)"
      ]
    },
    {
      "cell_type": "markdown",
      "metadata": {
        "id": "zeLOLmTj1kBM"
      },
      "source": [
        "### <a name='0'></a>Import biblioteki"
      ]
    },
    {
      "cell_type": "code",
      "metadata": {
        "id": "HXMB7SMe1Wnz",
        "colab": {
          "base_uri": "https://localhost:8080/",
          "height": 35
        },
        "outputId": "56d5f905-a4e6-4dc1-fa63-2706ff17b000"
      },
      "source": [
        "import numpy as np\n",
        "\n",
        "np.set_printoptions(suppress=True, precision=4)\n",
        "np.random.seed(42)\n",
        "np.__version__"
      ],
      "execution_count": 2,
      "outputs": [
        {
          "output_type": "execute_result",
          "data": {
            "text/plain": [
              "'1.26.4'"
            ],
            "application/vnd.google.colaboratory.intrinsic+json": {
              "type": "string"
            }
          },
          "metadata": {},
          "execution_count": 2
        }
      ]
    },
    {
      "cell_type": "markdown",
      "metadata": {
        "id": "cyc70pMe1oCg"
      },
      "source": [
        "### <a name='1'></a> Ćwiczenie 61\n",
        "Podane są poniższe dwie tablice $A$ i $B$:\n",
        "\n",
        "```\n",
        "A = np.array([[3, 4, 9, 2],\n",
        "              [5, 3, 2, 5]])\n",
        "B = np.array([[4, 3, 2, 5],\n",
        "              [6, 3, 1, 6]])\n",
        "```\n",
        "\n",
        "Wyznacz tablicę składającą się ze średnich arytmetycznych tablic $A$ i $B$ odpowiadających im elementów.\n",
        "\n",
        "__Oczekiwany wynik:__\n",
        "\n",
        "\n",
        "```\n",
        "array([[3.5, 3.5, 5.5, 3.5],\n",
        "       [5.5, 3. , 1.5, 5.5]])\n",
        "```\n",
        "\n"
      ]
    },
    {
      "cell_type": "code",
      "metadata": {
        "id": "9zMjVYfP-tI6",
        "colab": {
          "base_uri": "https://localhost:8080/"
        },
        "outputId": "221da2c5-3001-4f12-ae49-40e802d19d27"
      },
      "source": [
        "# tutaj wpisz rozwiązanie\n",
        "A = np.array([[3, 4, 9, 2],\n",
        "              [5, 3, 2, 5]])\n",
        "B = np.array([[4, 3, 2, 5],\n",
        "              [6, 3, 1, 6]])\n",
        "print ((A + B) / 2)"
      ],
      "execution_count": 3,
      "outputs": [
        {
          "output_type": "stream",
          "name": "stdout",
          "text": [
            "[[3.5 3.5 5.5 3.5]\n",
            " [5.5 3.  1.5 5.5]]\n"
          ]
        }
      ]
    },
    {
      "cell_type": "markdown",
      "metadata": {
        "id": "J9pY1rtr1sC0"
      },
      "source": [
        "### <a name='2'></a> Ćwiczenie 62\n",
        "Podane są poniższe dwie tablice $A$ i $B$:\n",
        "\n",
        "```\n",
        "A = np.array([[3, 4, 9, 2],\n",
        "              [5, 3, 2, 5]])\n",
        "B = np.array([[4, 3, 2, 5],\n",
        "              [6, 3, 1, 6]])\n",
        "```\n",
        "Pomnóż tablice przez siebie - element po elemencie (element-wise).\n"
      ]
    },
    {
      "cell_type": "code",
      "metadata": {
        "id": "9b_Bhik1Jqo7",
        "colab": {
          "base_uri": "https://localhost:8080/"
        },
        "outputId": "52338780-13ed-410a-ddf7-87a5f092bde8"
      },
      "source": [
        "# tutaj wpisz rozwiązanie\n",
        "A = np.array([[3, 4, 9, 2],\n",
        "              [5, 3, 2, 5]])\n",
        "B = np.array([[4, 3, 2, 5],\n",
        "              [6, 3, 1, 6]])\n",
        "\n",
        "C = A * B\n",
        "C"
      ],
      "execution_count": 4,
      "outputs": [
        {
          "output_type": "execute_result",
          "data": {
            "text/plain": [
              "array([[12, 12, 18, 10],\n",
              "       [30,  9,  2, 30]])"
            ]
          },
          "metadata": {},
          "execution_count": 4
        }
      ]
    },
    {
      "cell_type": "markdown",
      "metadata": {
        "id": "XQLYT2m11wVG"
      },
      "source": [
        "### <a name='3'></a> Ćwiczenie 63\n",
        "Podana jest poniższa tablica $A$:\n",
        "\n",
        "```\n",
        "A = np.array([[3, 4, 9, 2],\n",
        "              [5, 3, 2, 5]])\n",
        "```\n",
        "Wyznacz pierwiastek z każdego elementu tablicy $A$.\n",
        "\n",
        "__Wskazówka:__ Użyj funkcji _np.sqrt()_.\n",
        "\n"
      ]
    },
    {
      "cell_type": "code",
      "metadata": {
        "id": "vcAGgYGhKOTd",
        "colab": {
          "base_uri": "https://localhost:8080/"
        },
        "outputId": "e1b4c9bb-5305-4477-ad9e-3cf6666fdc8b"
      },
      "source": [
        "# tutaj wpisz rozwiązanie\n",
        "A = np.array([[3, 4, 9, 2],\n",
        "              [5, 3, 2, 5]])\n",
        "B = np.sqrt(A)\n",
        "B"
      ],
      "execution_count": 5,
      "outputs": [
        {
          "output_type": "execute_result",
          "data": {
            "text/plain": [
              "array([[1.7321, 2.    , 3.    , 1.4142],\n",
              "       [2.2361, 1.7321, 1.4142, 2.2361]])"
            ]
          },
          "metadata": {},
          "execution_count": 5
        }
      ]
    },
    {
      "cell_type": "markdown",
      "metadata": {
        "id": "4xTKSUzg10MK"
      },
      "source": [
        "### <a name='4'></a> Ćwiczenie 64\n",
        "Podane są poniższe tablice $A$ oraz $B$:\n",
        "\n",
        "\n",
        "```\n",
        "A = np.linspace(0, np.pi / 2, 20)\n",
        "B = np.full(shape=(20,), fill_value=1, dtype='float')\n",
        "```\n",
        "Sprawdź działanie jedynki trygonometrycznej na tablicy $A$ i następnie porównaj wynik z tablicą $B$. Użyj funkcji _np.allclose()_.\n",
        "\n",
        "__Jedynka trygonometryczna:__ Dla dowolnej wartości kąta $\\alpha \\in R$ zachodzi:\n",
        "$$sin^2\\alpha + cos^2\\alpha = 1$$\n",
        "\n"
      ]
    },
    {
      "cell_type": "code",
      "metadata": {
        "id": "jI143TodMDId",
        "colab": {
          "base_uri": "https://localhost:8080/"
        },
        "outputId": "51bb2329-7339-4ae9-d7c2-169d5e40d7a0"
      },
      "source": [
        "# tutaj wpisz rozwiązanie\n",
        "A = np.linspace(0, np.pi / 2, 20)\n",
        "B = np.full(shape=(20,), fill_value=1, dtype='float')\n",
        "\n",
        "# Obliczamy sin^2(A) + cos^2(A) dla każdej wartości kąta w tablicy A\n",
        "result = np.sin(A)**2 + np.cos(A)**2\n",
        "\n",
        "# Porównujemy wynik z tablicą B, sprawdzając, czy elementy są \"bliskie\"\n",
        "equal = np.allclose(result, B)\n",
        "\n",
        "print(f\"Tablica A: \\n {A}\\n\")\n",
        "print(f\"Tablica B: \\n {B}\\n\")\n",
        "print(\"Wynik sin^2 + cos^2 dla A:\")\n",
        "print(result)\n",
        "print(\"\\nCzy wynik jest równy B (jedynce)?:\", equal)"
      ],
      "execution_count": 6,
      "outputs": [
        {
          "output_type": "stream",
          "name": "stdout",
          "text": [
            "Tablica A: \n",
            " [0.     0.0827 0.1653 0.248  0.3307 0.4134 0.496  0.5787 0.6614 0.7441\n",
            " 0.8267 0.9094 0.9921 1.0748 1.1574 1.2401 1.3228 1.4054 1.4881 1.5708]\n",
            "\n",
            "Tablica B: \n",
            " [1. 1. 1. 1. 1. 1. 1. 1. 1. 1. 1. 1. 1. 1. 1. 1. 1. 1. 1. 1.]\n",
            "\n",
            "Wynik sin^2 + cos^2 dla A:\n",
            "[1. 1. 1. 1. 1. 1. 1. 1. 1. 1. 1. 1. 1. 1. 1. 1. 1. 1. 1. 1.]\n",
            "\n",
            "Czy wynik jest równy B (jedynce)?: True\n"
          ]
        }
      ]
    },
    {
      "cell_type": "markdown",
      "metadata": {
        "id": "o3HKIKlP15Ro"
      },
      "source": [
        "### Przypomnienie\n",
        "### Mnożenie macierzy:\n",
        "$${A} ={\\begin{bmatrix}a_{11}&a_{12}&\\cdots &a_{1n}\\\\a_{21}&a_{22}&\\cdots &a_{2n}\\\\\\vdots &\\vdots &\\ddots &\\vdots \\\\a_{m1}&a_{m2}&\\cdots &a_{mn}\\\\\\end{bmatrix}}$$\n",
        "A - macierz wymairu $m\\ x\\ n$\n",
        "\n",
        "$$ {B} ={\\begin{bmatrix}b_{11}&b_{12}&\\cdots &b_{1p}\\\\b_{21}&b_{22}&\\cdots &b_{2p}\\\\\\vdots &\\vdots &\\ddots &\\vdots \\\\b_{n1}&b_{n2}&\\cdots &b_{np}\\\\\\end{bmatrix}}$$\n",
        "B - macierz wymairu $n\\ x\\ p$\n",
        "\n",
        "$$C = AB$$\n",
        "C - macierz wymiaru $m\\ x\\ p$  \n",
        "Aby móc pomnożyć dwie macierze liczba kolumn w lewej macierzy musi zgadzać się z liczbą wierszy prawej macierzy.\n",
        "\n",
        "Mnożenie macierzy nie jest przemienne! Tzn. $$AB \\neq BA$$\n",
        "\n",
        "### Przykład 1\n",
        "$ X = \\begin{bmatrix}5&3\\\\3&9\\end{bmatrix}$, $ Y= \\begin{bmatrix}1\\\\-1\\end{bmatrix} $  \n",
        "$X$ macierz 2x2  \n",
        "$Y$ macierz 2x1\n",
        "$$Z = X \\cdot Y = \\begin{bmatrix}5&3\\\\3&9\\end{bmatrix} \\cdot \\begin{bmatrix}1\\\\-1\\end{bmatrix} = \\begin{bmatrix}2\\\\-6\\end{bmatrix}$$\n",
        "$Z$ macierz 2x1\n",
        "\n",
        "### Przykład 2\n",
        "$X = \\begin{bmatrix}2&-1&3\\\\3&1&0\\end{bmatrix}$, $Y = \\begin{bmatrix}2&1&-1\\\\0&-1&2\\\\3&2&0\\end{bmatrix}$\n",
        "\n",
        "$X$ macierz 2x3  \n",
        "$Y$ macierz 3x3\n",
        "$$Z = X \\cdot Y =  \\begin{bmatrix}2&-1&3\\\\3&1&0\\end{bmatrix} \\cdot \\begin{bmatrix}2&1&-1\\\\0&-1&2\\\\3&2&0\\end{bmatrix} = \\begin{bmatrix}13&9&-4\\\\6&2&-1\\end{bmatrix}$$\n",
        "$Z$ macierz 2x3\n",
        "\n",
        "\n"
      ]
    },
    {
      "cell_type": "markdown",
      "metadata": {
        "id": "cDCQVpQUr6qb"
      },
      "source": [
        "### <a name='5'></a> Ćwiczenie 65\n",
        "\n",
        "Podane są dwie dwuwymiarowe tablice numpy $A$ oraz $B$.  \n",
        "$A$ - macierz wymiaru $(3, 2)$  \n",
        "$B$ - macierz wymiaru $(2, 3)$\n",
        "\n",
        "```\n",
        "A = np.array([[2, 3],\n",
        "              [-4, 2],\n",
        "              [5, 0]])\n",
        "B = np.array([[4, 3, 2],\n",
        "              [-1, 0, 2]])\n",
        "```\n",
        "Dokonaj mnożenia macierzowego tablic $A$ i $B$.\n",
        "\n",
        "__Wskazówka:__ Użyj funkcji _np.dot()_.\n"
      ]
    },
    {
      "cell_type": "code",
      "metadata": {
        "id": "wXd9qiJLQyfs",
        "colab": {
          "base_uri": "https://localhost:8080/"
        },
        "outputId": "518c97d1-a282-48db-8860-cdd99ba9fbb6"
      },
      "source": [
        "# tutaj wpisz rozwiązanie\n",
        "A = np.array([[2, 3],\n",
        "              [-4, 2],\n",
        "              [5, 0]])\n",
        "B = np.array([[4, 3, 2],\n",
        "              [-1, 0, 2]])\n",
        "\n",
        "C = np.dot(A, B)\n",
        "C"
      ],
      "execution_count": 8,
      "outputs": [
        {
          "output_type": "execute_result",
          "data": {
            "text/plain": [
              "array([[  5,   6,  10],\n",
              "       [-18, -12,  -4],\n",
              "       [ 20,  15,  10]])"
            ]
          },
          "metadata": {},
          "execution_count": 8
        }
      ]
    },
    {
      "cell_type": "markdown",
      "metadata": {
        "id": "Yemog0IvsNsH"
      },
      "source": [
        "### Przypomnienie\n",
        "\n",
        "### Wyznacznik macierzy:\n",
        "\n",
        "$${\\displaystyle A={\\begin{bmatrix}a_{11}&a_{12}&\\dots &a_{1n}\\\\a_{21}&a_{22}&\\dots &a_{2n}\\\\\\vdots &\\vdots &\\ddots &\\vdots \\\\a_{n1}&a_{n2}&\\dots &a_{nn}\\end{bmatrix}}}$$\n",
        "$A$ - macierz wymiaru nxn\n",
        "\n",
        "#### Oznaczenia:\n",
        "\n",
        "${\\displaystyle |A|=\\left|{\\begin{array}{c}a_{11}&a_{12}&\\dots &a_{1n}\\\\a_{21}&a_{22}&\\dots &a_{2n}\\\\\\vdots &\\vdots &\\ddots &\\vdots \\\\a_{n1}&a_{n2}&\\dots &a_{nn}\\end{array}}\\right|} $  lub  $ {\\displaystyle \\det A=\\det {\\begin{bmatrix}a_{11}&a_{12}&\\dots &a_{1n}\\\\a_{21}&a_{22}&\\dots &a_{2n}\\\\\\vdots &\\vdots &\\ddots &\\vdots \\\\a_{n1}&a_{n2}&\\dots &a_{nn}\\end{bmatrix}}}$\n",
        "\n",
        "#### Przykład:\n",
        "${\\displaystyle \\det A={\\begin{vmatrix}a_{11}&a_{12}\\\\a_{21}&a_{22}\\end{vmatrix}}=a_{11}a_{22}-a_{12}a_{21}}$\n",
        "\n",
        "${\\displaystyle \\det A={\\begin{vmatrix}a_{11}&a_{12}&a_{13}\\\\a_{21}&a_{22}&a_{23}\\\\a_{31}&a_{32}&a_{33}\\end{vmatrix}}=a_{11}a_{22}a_{33}+a_{21}a_{32}a_{13}+a_{31}a_{12}a_{23}-a_{21}a_{12}a_{33}-a_{11}a_{32}a_{23}-a_{31}a_{22}a_{13}}$\n",
        "\n",
        "${\\displaystyle \\det A={\\begin{vmatrix}2&4\\\\-1&3\\end{vmatrix}}=2\\cdot3-4\\cdot(-1)} = 6 + 4 = 10 $\n",
        "\n",
        "\n",
        "\n"
      ]
    },
    {
      "cell_type": "markdown",
      "source": [
        "# Kroki obliczeń:\n",
        "\n",
        "1. **Sprawdzenie zgodności wymiarów:**\n",
        "W macierzy A liczba kolumn wynosi 2, a w macierzy B liczba wierszy wynosi 2 – warunek jest spełniony. Wynik mnożenia będzie macierzą o wymiarach (3,3) (czyli (liczba wierszy A, liczba kolumn B)).\n",
        "\n",
        "2. **Obliczanie elementów macierzy wynikowej:**\n",
        "Elementy iloczynu 𝐶 = 𝐴 ⋅ 𝐵 obliczamy:\n",
        "### Przykładowo:\n",
        "* C[0,0] = A[0,0] × B[0,0] + A[0,1] × B[1,0] = 2 × 4 + 3× (−1)= 8 − 3 = 5\n",
        "\n",
        "* C[0,1] = A[0,0] × B[0,1] + A[0,1] × B[1,1] = 2 × 3 +3 × 0 = 6\n",
        "\n",
        "* C[0,2] = A[0,0] × B[0,2] + A[0,1] × B[1,2] = 2 × 2 + 3 × 2 = 4 + 6 = 10\n",
        "\n",
        "### Analogicznie obliczamy pozostałe elementy:\n",
        "\n",
        "* C[1,0] = (−4) × 4 + 2 × (−1) = −16 − 2 = −18\n",
        "* C[1,1] = (−4) × 3 + 2 × 0 = − 12\n",
        "* C[1,2] = (−4) × 2 + 2 × 2 = −8 + 4= −4\n",
        "* C[2,0] = 5 × 4 + 0 × (−1) = 20\n",
        "* C[2,1] = 5 × 3 + 0 × 0 = 15\n",
        "* C[2,2] = 5 × 2 + 0 × 2 = 10\n",
        "\n"
      ],
      "metadata": {
        "id": "BC5JOlKzADiJ"
      }
    },
    {
      "cell_type": "markdown",
      "metadata": {
        "id": "PunXd_Ey16so"
      },
      "source": [
        "### <a name='6'></a> Ćwiczenie 66\n",
        "Podana jest poniższa tablica (macierz kwadratowa) $A$:\n",
        "\n",
        "```\n",
        "A = np.array([[-2, 0, 4],\n",
        "              [5, 2, -1],\n",
        "              [-4, 2, 4]])\n",
        "```\n",
        "Wyznacz wyznacznik macierzy $A$.\n",
        "\n",
        "__Wskazówka:__ Użyj funkcji _np.linalg.det()_.\n"
      ]
    },
    {
      "cell_type": "code",
      "metadata": {
        "id": "90J6eB4RSmAG",
        "colab": {
          "base_uri": "https://localhost:8080/"
        },
        "outputId": "8ee35e04-fa80-4e3b-8575-78a49e761056"
      },
      "source": [
        "# tutaj wpisz rozwiązanie\n",
        "A = np.array([[-2, 0, 4],\n",
        "              [5, 2, -1],\n",
        "              [-4, 2, 4]])\n",
        "\n",
        "detA = np.linalg.det(A)\n",
        "detA"
      ],
      "execution_count": 10,
      "outputs": [
        {
          "output_type": "execute_result",
          "data": {
            "text/plain": [
              "51.999999999999986"
            ]
          },
          "metadata": {},
          "execution_count": 10
        }
      ]
    },
    {
      "cell_type": "markdown",
      "source": [
        "Wyznacznik macierzy **𝐴** (dla macierzy 3x3) obliczamy według wzoru:\n",
        "\n",
        "det(A)=a11(a22a33 − a23a32) − a12(a21a33 − a23a31 ) + a13(a21a32 − a22a31)\n",
        "\n",
        "##### Podstawiając wartości:\n",
        "\n",
        "* 𝑎11 = −2, 𝑎12 = 0, 𝑎13 = 4\n",
        "* 𝑎21 = 5, a22 = 2, a23 = −1\n",
        "* 𝑎31 = −4, a32 = 2, a33 = 4\n",
        "\n",
        "##### Otrzymujemy:\n",
        "\n",
        "* Pierwszy składnik: −2 × (2 × 4 − (−1) × 2) = −2 × (8 + 2) = −2 × 10 = −20\n",
        "* Drugi składnik: 0 × (…) = 0\n",
        "* Trzeci składnik: 4 × (5 × 2 − 2 × (−4)) = 4 × (10+8) = 4 × 18 = 72\n",
        "\n",
        "Stąd:\n",
        "\n",
        "    det(A) = −20 + 72 = 52"
      ],
      "metadata": {
        "id": "_jr4z-pGKYfy"
      }
    },
    {
      "cell_type": "markdown",
      "metadata": {
        "id": "hOhqDRz618Tx"
      },
      "source": [
        "### <a name='7'></a> Ćwiczenie 67\n",
        "Podana jest poniższa tablica (macierz kwadratowa) $A$:\n",
        "\n",
        "```\n",
        "A = np.array([[5, 8, 16],\n",
        "              [4, 1, 8],\n",
        "              [-4, 4, -11]])\n",
        "```\n",
        "Wyzancz wartości własne i odpowiadające im wektory własne macierzy $A$.\n",
        "\n",
        "__Wskazówka:__ Użyj funkcji _np.linalg.eig()_.\n"
      ]
    },
    {
      "cell_type": "code",
      "metadata": {
        "id": "DYG72PcWTvPT",
        "colab": {
          "base_uri": "https://localhost:8080/"
        },
        "outputId": "b49af3fa-cf6f-4a48-8fdd-3bce4b668f60"
      },
      "source": [
        "# tutaj wpisz rozwiązanie\n",
        "A = np.array([[5, 8, 16],\n",
        "              [4, 1, 8],\n",
        "              [-4, 4, -11]])\n",
        "print(f\"Macierz A: \\n{A}\\n\")\n",
        "eigenvalues, eigenvectors = np.linalg.eig(A)\n",
        "\n",
        "print(\"Wartości własne:\")\n",
        "print(eigenvalues)\n",
        "\n",
        "print(\"\\nWektory własne (każda kolumna to wektor własny):\")\n",
        "print(eigenvectors)"
      ],
      "execution_count": 15,
      "outputs": [
        {
          "output_type": "stream",
          "name": "stdout",
          "text": [
            "Macierz A: \n",
            "[[  5   8  16]\n",
            " [  4   1   8]\n",
            " [ -4   4 -11]]\n",
            "\n",
            "Wartości własne:\n",
            "[-9.2462 -3.      7.2462]\n",
            "\n",
            "Wektory własne (każda kolumna to wektor własny):\n",
            "[[-0.6262 -0.8944  0.8902]\n",
            " [-0.3131  0.      0.4451]\n",
            " [ 0.7141  0.4472 -0.0976]]\n"
          ]
        }
      ]
    },
    {
      "cell_type": "markdown",
      "source": [],
      "metadata": {
        "id": "LgicCuoEiYo5"
      }
    },
    {
      "cell_type": "markdown",
      "source": [
        "1. **Wartości własne:**\n",
        "\n",
        "* Uzyskałeś trzy wartości własne: −9.2462, −3 i 7.2462.\n",
        "* Suma wartości własnych powinna być równa śladowi macierzy (czyli sumie elementów na głównej przekątnej). Dla macierzy\n",
        "\n",
        "$A = \\begin{bmatrix}5&8&16\\\\4&1&8\\\\-4&4&-11\\end{bmatrix}$\n",
        "\n",
        "ślad wynosi 5 + 1 + (−11) = −5. Sprawdźmy: −9.2462 + (−3) + 7.2462 ≈ −5, co jest zgodne z teorią.\n",
        "* Iloczyn wartości własnych powinien być równy wyznacznikowi macierzy. W Twoim przypadku iloczyn (−9.2462) × (−3) × (7.2462) daje wartość zbliżoną do wyznacznika macierzy 𝐴."
      ],
      "metadata": {
        "id": "4Lzgn4-7gtSv"
      }
    },
    {
      "cell_type": "markdown",
      "metadata": {
        "id": "bj6TWh-9s7fL"
      },
      "source": [
        "### Przypomnienie\n",
        "### Macierz odwrotna:\n",
        "\n",
        "$A$ - macierz kwadratowa stopnia $n$. Macierz $A$ posiada macierz odwrotną, gdy istnieje macierz $B$, taka, że\n",
        "$$AB = BA = I$$\n",
        "\n",
        "$A = \\begin{bmatrix}2&4\\\\-1&3\\end{bmatrix}$\n",
        "\n",
        "Funkcja ta zwraca:\n",
        "\n",
        "* eigenvalues – jednowymiarową tablicę zawierającą wartości własne macierzy 𝐴.\n",
        "* eigenvectors – tablicę, w której każda kolumna jest wektorem własnym odpowiadającym kolejno wyznaczonej wartości własnej.\n"
      ]
    },
    {
      "cell_type": "markdown",
      "metadata": {
        "id": "TXUd_4631-gw"
      },
      "source": [
        "### <a name='8'></a> Ćwiczenie 68\n",
        "Podana jest poniższa tablica (macierz kwadratowa) $A$:\n",
        "\n",
        "```\n",
        "A = np.array([[5, 8, 16],\n",
        "              [4, 1, 8],\n",
        "              [-4, 4, -11]])\n",
        "```\n",
        "Wyznacz macierz odwrotną do macierzy $A$.\n",
        "\n",
        "__Wskazówka:__ Użyj funkcji _np.linalg.inv()_.\n"
      ]
    },
    {
      "cell_type": "code",
      "metadata": {
        "id": "l0duTp0Db7EM",
        "colab": {
          "base_uri": "https://localhost:8080/"
        },
        "outputId": "9983040c-bda2-4aaf-f904-1a101537d951"
      },
      "source": [
        "# tutaj wpisz rozwiązanie\n",
        "A = np.array([[5, 8, 16],\n",
        "              [4, 1, 8],\n",
        "              [-4, 4, -11]])\n",
        "print(f\"Macierz A: \\n{A}\\n\")\n",
        "invA = np.linalg.inv(A)\n",
        "print(\"Macierz odwrotna do A:\\n\")\n",
        "print(invA)"
      ],
      "execution_count": 16,
      "outputs": [
        {
          "output_type": "stream",
          "name": "stdout",
          "text": [
            "Macierz A: \n",
            "[[  5   8  16]\n",
            " [  4   1   8]\n",
            " [ -4   4 -11]]\n",
            "\n",
            "Macierz odwrotna do A:\n",
            "\n",
            "[[-0.2139  0.7562  0.2388]\n",
            " [ 0.0597  0.0448  0.1194]\n",
            " [ 0.0995 -0.2587 -0.1343]]\n"
          ]
        }
      ]
    },
    {
      "cell_type": "markdown",
      "metadata": {
        "id": "ht_WwJrqsczo"
      },
      "source": [
        "### Przypomnienie\n",
        "\n",
        "### Ślad macierzy:\n",
        "\n",
        "$${\\displaystyle A={\\begin{bmatrix}a_{11}&a_{12}&\\dots &a_{1n}\\\\a_{21}&a_{22}&\\dots &a_{2n}\\\\\\vdots &\\vdots &\\ddots &\\vdots \\\\a_{n1}&a_{n2}&\\dots &a_{nn}\\end{bmatrix}}}$$\n",
        "$A$ - macierz wymiaru nxn\n",
        "\n",
        "${\\displaystyle \\operatorname {tr} (A)=\\sum _{i=1}^{n}a_{ii}=a_{11}+a_{22}+\\dots +a_{nn}}$\n",
        "\n",
        "#### Przykład:\n",
        "$A = \\begin{bmatrix}2&4\\\\-1&3\\end{bmatrix}$\n",
        "\n",
        "${\\displaystyle \\operatorname {tr} (A)=\\sum _{i=1}^{2}a_{ii}=a_{11}+a_{22} = 2 + 3 = 5}$"
      ]
    },
    {
      "cell_type": "markdown",
      "metadata": {
        "id": "tgI6xEn-2AQo"
      },
      "source": [
        "### <a name='9'></a> Ćwiczenie 69\n",
        "Podana jest poniższa tablica (macierz kwadratowa) $A$:\n",
        "\n",
        "```\n",
        "A = np.array([[5, 8, 16],\n",
        "              [4, 1, 8],\n",
        "              [-4, 4, -11]])\n",
        "```\n",
        "Wyznacz ślad macierzy kwadratowej $A$ (suma elementów na głównej przekątnej).\n",
        "\n",
        "__Wskazówka:__ Użyj funkcji _np.trace()_.\n"
      ]
    },
    {
      "cell_type": "code",
      "metadata": {
        "id": "XiuQkuNTcYkC",
        "colab": {
          "base_uri": "https://localhost:8080/"
        },
        "outputId": "e2d959eb-b69a-4f22-e3df-72515c64d979"
      },
      "source": [
        "# tutaj wpisz rozwiązanie\n",
        "A = np.array([[5, 8, 16],\n",
        "              [4, 1, 8],\n",
        "              [-4, 4, -11]])\n",
        "\n",
        "# trace(A) = 5 + 1 + (−11) = −5\n",
        "traceA = np.trace(A)\n",
        "\n",
        "print(f\"Macierz A: \\n{A}\\n\")\n",
        "print(f\"Ślad macierzy A: \\n {traceA}\\n\")"
      ],
      "execution_count": 17,
      "outputs": [
        {
          "output_type": "stream",
          "name": "stdout",
          "text": [
            "Macierz A: \n",
            "[[  5   8  16]\n",
            " [  4   1   8]\n",
            " [ -4   4 -11]]\n",
            "\n",
            "Ślad macierzy: \n",
            " -5\n",
            "\n"
          ]
        }
      ]
    },
    {
      "cell_type": "markdown",
      "source": [
        "#### Ślad macierzy to suma elementów znajdujących się na głównej przekątnej macierzy (czyli elementów, dla których indeks wiersza jest równy indeksowi kolumny)."
      ],
      "metadata": {
        "id": "umLBiqVKkKZc"
      }
    },
    {
      "cell_type": "markdown",
      "metadata": {
        "id": "ZsBk6UK-uPpQ"
      },
      "source": [
        "### Przypomnienie\n",
        "### Macierz transponowana:\n",
        "\n",
        "Zamiana wierszy na kolumny i kolumny na wiersze.\n",
        "\n",
        "#### Przykład 1:\n",
        "\n",
        "$A = \\begin{bmatrix}2&4\\\\-1&3\\end{bmatrix}$,\n",
        "$A^{T} = \\begin{bmatrix}2&-1\\\\4&3\\end{bmatrix}$\n",
        "\n",
        "#### Przykład 2:\n",
        "$A = \\begin{bmatrix}2&1&-1\\\\0&-1&2\\end{bmatrix}$,\n",
        "$A^{T} = \\begin{bmatrix}2&0\\\\1&-1\\\\-1&2\\end{bmatrix}$\n"
      ]
    },
    {
      "cell_type": "markdown",
      "metadata": {
        "id": "7tGnMHu7uXOe"
      },
      "source": [
        "### Ćwiczenie 69 c.d.\n",
        "Dokonaj transpozycji macierzy $A$."
      ]
    },
    {
      "cell_type": "code",
      "metadata": {
        "id": "SA2K4h0bufDc",
        "colab": {
          "base_uri": "https://localhost:8080/"
        },
        "outputId": "9634797a-69e5-42da-c3e7-607aae3a242d"
      },
      "source": [
        "# tutaj wpisz rozwiązanie\n",
        "A_transposed = A.T\n",
        "\n",
        "print(\"Macierz A:\")\n",
        "print(A)\n",
        "print(\"\\nTransponowana macierz A:\")\n",
        "print(A_transposed)"
      ],
      "execution_count": 18,
      "outputs": [
        {
          "output_type": "stream",
          "name": "stdout",
          "text": [
            "Macierz A:\n",
            "[[  5   8  16]\n",
            " [  4   1   8]\n",
            " [ -4   4 -11]]\n",
            "\n",
            "Transponowana macierz A:\n",
            "[[  5   4  -4]\n",
            " [  8   1   4]\n",
            " [ 16   8 -11]]\n"
          ]
        }
      ]
    },
    {
      "cell_type": "markdown",
      "source": [
        "### Wyjaśnienie:\n",
        "\n",
        "* Transpozycja macierzy polega na zamianie wierszy z kolumnami.\n",
        "* W powyższym przykładzie macierz A ma wymiary 3x3, więc jej transpozycja również będzie macierzą 3x3, gdzie element z pozycji A[i, j] przechodzi do pozycji A[j, i]."
      ],
      "metadata": {
        "id": "bIYcG0kZkylk"
      }
    },
    {
      "cell_type": "markdown",
      "metadata": {
        "id": "wxhpf-uq2B1I"
      },
      "source": [
        "### <a name='10'></a> Ćwiczenie 70\n",
        "Podane są dwie dwuwymiarowe tablice numpy $A$ oraz $B$:   \n",
        "$A$ - macierz wymiaru $(4, 2)$  \n",
        "$B$ - macierz wymiaru $(1, 8)$\n",
        "\n",
        "```\n",
        "A = np.array([[2, 0],\n",
        "              [4, 2],\n",
        "              [5, 3],\n",
        "              [4, 2]])\n",
        "B = np.array([[4, 0, 2, 1, 1, 0, 2, 9]])\n",
        "```\n",
        "Przekształć tablicę $B$ tak, aby można było dokonać mnożenia macierzowego $A \\cdot B$. Wykonaj to mnożenie.\n",
        "\n",
        "__Oczekiwany wynik:__\n",
        "\n",
        "\n",
        "```\n",
        "array([[ 8,  0,  4,  2],\n",
        "       [18,  0, 12, 22],\n",
        "       [23,  0, 16, 32],\n",
        "       [18,  0, 12, 22]])\n",
        "```\n",
        "\n",
        "\n"
      ]
    },
    {
      "cell_type": "code",
      "metadata": {
        "id": "bALDEEmGdAbD",
        "colab": {
          "base_uri": "https://localhost:8080/"
        },
        "outputId": "7fce3261-d582-4241-f046-ff66737381de"
      },
      "source": [
        "# tutaj wpisz rozwiązanie\n",
        "A = np.array([[2, 0],\n",
        "              [4, 2],\n",
        "              [5, 3],\n",
        "              [4, 2]])\n",
        "B = np.array([[4, 0, 2, 1, 1, 0, 2, 9]])\n",
        "\n",
        "print(f\"Macierz A: \\n {A} \\n\")\n",
        "\n",
        "# Przekształcenie macierzy B:\n",
        "# Używamy funkcji reshape(), aby zmienić kształt B z (1,8) na (2,4):\n",
        "B_reshaped = B.reshape(2, 4)\n",
        "print(f\"Przekształcona macierz B (kształt (2,4)) \\n{B_reshaped}\\n\")\n",
        "\n",
        "# Mnożenie macierzy\n",
        "# Teraz, gdy A ma kształt (4,2) a B_new (2,4), mnożenie A ⋅ B_new jest możliwe i da macierz wynikową o wymiarach (4,4).\n",
        "# Mnożenie macierzy wykonujemy za pomocą funkcji np.dot() lub operatora @\n",
        "C = np.dot(A, B_reshaped)\n",
        "print(f\"Mnozenie macierzy A i przekształconej macierzy B: \\n{C}\\n\")\n",
        "\n",
        "# Obliczenie elementów macierzy wynikowej:\n",
        "# iloczyn macierzy (4,2) i (2,4) daje macierz (4,4)\n"
      ],
      "execution_count": 23,
      "outputs": [
        {
          "output_type": "stream",
          "name": "stdout",
          "text": [
            "Macierz A: \n",
            " [[2 0]\n",
            " [4 2]\n",
            " [5 3]\n",
            " [4 2]] \n",
            "\n",
            "Przekształcona macierz B (kształt (2,4)) \n",
            "[[4 0 2 1]\n",
            " [1 0 2 9]]\n",
            "\n",
            "Mnozenie macierzy A i przekształconej macierzy B: \n",
            "[[ 8  0  4  2]\n",
            " [18  0 12 22]\n",
            " [23  0 16 32]\n",
            " [18  0 12 22]]\n",
            "\n"
          ]
        }
      ]
    }
  ]
}