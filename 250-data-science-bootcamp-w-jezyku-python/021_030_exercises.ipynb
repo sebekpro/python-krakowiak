{
  "nbformat": 4,
  "nbformat_minor": 0,
  "metadata": {
    "colab": {
      "provenance": [],
      "include_colab_link": true
    },
    "kernelspec": {
      "name": "python3",
      "display_name": "Python 3"
    }
  },
  "cells": [
    {
      "cell_type": "markdown",
      "metadata": {
        "id": "view-in-github",
        "colab_type": "text"
      },
      "source": [
        "<a href=\"https://colab.research.google.com/github/sebekpro/python-krakowiak/blob/main/250-data-science-bootcamp-w-jezyku-python/021_030_exercises.ipynb\" target=\"_parent\"><img src=\"https://colab.research.google.com/assets/colab-badge.svg\" alt=\"Open In Colab\"/></a>"
      ]
    },
    {
      "cell_type": "markdown",
      "metadata": {
        "id": "WLEgCW5F1hho"
      },
      "source": [
        "## Numpy\n",
        "\n",
        "### Spis treści:\n",
        "* [Import biblioteki](#0)\n",
        "* [Ćwiczenie 21](#1)\n",
        "* [Ćwiczenie 22](#2)\n",
        "* [Ćwiczenie 23](#3)\n",
        "* [Ćwiczenie 24](#4)\n",
        "* [Ćwiczenie 25](#5)\n",
        "* [Ćwiczenie 26](#6)\n",
        "* [Ćwiczenie 27](#7)\n",
        "* [Ćwiczenie 28](#8)\n",
        "* [Ćwiczenie 29](#9)\n",
        "* [Ćwiczenie 30](#10)"
      ]
    },
    {
      "cell_type": "markdown",
      "metadata": {
        "id": "zeLOLmTj1kBM"
      },
      "source": [
        "### <a name='0'></a>Import biblioteki"
      ]
    },
    {
      "cell_type": "code",
      "metadata": {
        "id": "HXMB7SMe1Wnz",
        "colab": {
          "base_uri": "https://localhost:8080/",
          "height": 35
        },
        "outputId": "58c78670-7e69-4efb-db71-4d5902858924"
      },
      "source": [
        "import numpy as np\n",
        "\n",
        "np.__version__"
      ],
      "execution_count": 3,
      "outputs": [
        {
          "output_type": "execute_result",
          "data": {
            "text/plain": [
              "'1.26.4'"
            ],
            "application/vnd.google.colaboratory.intrinsic+json": {
              "type": "string"
            }
          },
          "metadata": {},
          "execution_count": 3
        }
      ]
    },
    {
      "cell_type": "markdown",
      "metadata": {
        "id": "cyc70pMe1oCg"
      },
      "source": [
        "### <a name='1'></a> Ćwiczenie 21\n",
        "Wygeneruj poniższą tablicę numpy. Zapisz tablicę do pliku bianarnego o nazwie _'array.npy'_ i następnie wczytaj z powrotem ten plik do innej zmiennej.\n",
        "\n",
        "\n",
        "```\n",
        "array([[ 0,  1,  2,  3],\n",
        "       [ 4,  5,  6,  7],\n",
        "       [ 8,  9, 10, 11]])\n",
        "```\n",
        "\n",
        "\n",
        "__Wskazówka:__ Użyj funkcji _np.save()_ oraz _np.load()_."
      ]
    },
    {
      "cell_type": "code",
      "metadata": {
        "id": "MhvZKgtPKAOF",
        "colab": {
          "base_uri": "https://localhost:8080/"
        },
        "outputId": "2105d1a7-f7a5-480b-a7fc-b2532fb4a7ef"
      },
      "source": [
        "# tutaj wpisz rozwiązanie\n",
        "A = np.arange(12).reshape(3, 4)\n",
        "print(f\"A = \\n {A}\")\n",
        "np.save('array.npy', A)\n",
        "B = np.load('array.npy')\n",
        "print(f\"B = \\n {B}\")"
      ],
      "execution_count": 25,
      "outputs": [
        {
          "output_type": "stream",
          "name": "stdout",
          "text": [
            "A = \n",
            " [[ 0  1  2  3]\n",
            " [ 4  5  6  7]\n",
            " [ 8  9 10 11]]\n",
            "B = \n",
            " [[ 0  1  2  3]\n",
            " [ 4  5  6  7]\n",
            " [ 8  9 10 11]]\n"
          ]
        }
      ]
    },
    {
      "cell_type": "code",
      "source": [
        "from google.colab import drive\n",
        "drive.mount('/content/drive')"
      ],
      "metadata": {
        "id": "maK9nrmU9ShC"
      },
      "execution_count": null,
      "outputs": []
    },
    {
      "cell_type": "markdown",
      "metadata": {
        "id": "J9pY1rtr1sC0"
      },
      "source": [
        "### <a name='2'></a> Ćwiczenie 22\n",
        "Wygeneruj ponizszą tablicę numpy:\n",
        "\n",
        "\n",
        "```\n",
        "array([[ 0,  1,  2,  3],\n",
        "       [ 4,  5,  6,  7],\n",
        "       [ 8,  9, 10, 11]])\n",
        "```\n",
        "\n",
        "\n",
        "Zapisz tablicę do pliku tekstowego o nazwie _'array.txt'_ z dokładnością do drugiego miejsca po przecinku i następnie wczytaj z powrotem ten plik do innej zmiennej.\n",
        "\n",
        "__Wskazówka:__ Użyj funkcji _np.savetxt()_ oraz _np.loadtxt()_.\n"
      ]
    },
    {
      "cell_type": "code",
      "metadata": {
        "id": "Ac7M7bDhLAlf",
        "colab": {
          "base_uri": "https://localhost:8080/"
        },
        "outputId": "4b381128-c54b-4d9f-ec3b-d9e1d0c90ac4"
      },
      "source": [
        "# tutaj wpisz rozwiązanie\n",
        "A = np.arange(12).reshape(3, 4)\n",
        "print(f\"A = \\n {A}\")\n",
        "np.savetxt(fname='array.txt', X=A, fmt='%0.2f')\n",
        "B = np.loadtxt(fname='array.txt')\n",
        "print(f\"B = \\n {B}\")"
      ],
      "execution_count": 27,
      "outputs": [
        {
          "output_type": "stream",
          "name": "stdout",
          "text": [
            "A = \n",
            " [[ 0  1  2  3]\n",
            " [ 4  5  6  7]\n",
            " [ 8  9 10 11]]\n",
            "B = \n",
            " [[ 0.  1.  2.  3.]\n",
            " [ 4.  5.  6.  7.]\n",
            " [ 8.  9. 10. 11.]]\n"
          ]
        }
      ]
    },
    {
      "cell_type": "markdown",
      "metadata": {
        "id": "XQLYT2m11wVG"
      },
      "source": [
        "### <a name='3'></a> Ćwiczenie 23\n",
        "Wygeneruj i przekształć poniższą tablicę numpy na listę.\n",
        "\n",
        "\n",
        "```\n",
        "array([[ 0,  1,  2,  3],\n",
        "       [ 4,  5,  6,  7],\n",
        "       [ 8,  9, 10, 11]])\n",
        "```\n",
        "\n",
        "\n",
        "\n",
        "__Wskazówka:__ Użyj metody _np.array.tolist()_."
      ]
    },
    {
      "cell_type": "code",
      "metadata": {
        "id": "Dtu-EJViT1Os",
        "colab": {
          "base_uri": "https://localhost:8080/"
        },
        "outputId": "195dfba5-b3d4-47da-cb24-622e51da51bf"
      },
      "source": [
        "# tutaj wpisz rozwiązanie\n",
        "A = np.arange(12).reshape(3, 4)\n",
        "print(A)\n",
        "print(\"\\n\")\n",
        "list1 = np.array(A).tolist()\n",
        "print(list1)\n",
        "print(\"\\n\")\n"
      ],
      "execution_count": 24,
      "outputs": [
        {
          "output_type": "stream",
          "name": "stdout",
          "text": [
            "[[ 0  1  2  3]\n",
            " [ 4  5  6  7]\n",
            " [ 8  9 10 11]]\n",
            "\n",
            "\n",
            "[[0, 1, 2, 3], [4, 5, 6, 7], [8, 9, 10, 11]]\n",
            "\n",
            "\n"
          ]
        }
      ]
    },
    {
      "cell_type": "markdown",
      "metadata": {
        "id": "4xTKSUzg10MK"
      },
      "source": [
        "### <a name='4'></a> Ćwiczenie 24\n",
        "Podana jest poniższa tablica numpy:\n",
        "\n",
        "```\n",
        "array([[ 0,  1,  2,  3],\n",
        "       [ 4,  5,  6,  7],\n",
        "       [ 8,  9, 10, 11]])\n",
        "```\n",
        "Używając operatora wycinania przekształć tablicę w poniższe:\n",
        "\n",
        "* zamiana wierszy (pierwszy z ostatnim)\n",
        "\n",
        "```\n",
        "array([[ 8,  9, 10, 11],\n",
        "       [ 4,  5,  6,  7],\n",
        "       [ 0,  1,  2,  3]])\n",
        "```\n",
        "\n",
        "\n",
        "\n",
        "\n",
        "\n"
      ]
    },
    {
      "cell_type": "code",
      "metadata": {
        "id": "1iqUDmG3V7sM",
        "colab": {
          "base_uri": "https://localhost:8080/"
        },
        "outputId": "369f1400-1e76-4e03-a516-c77e19e3ac4a"
      },
      "source": [
        "# tutaj wpisz rozwiązanie\n",
        "A = np.arange(12).reshape(3, 4)\n",
        "print(f\"A \\n {A}\")\n",
        "\n",
        "a_swapped = A[::-1]\n",
        "print(f\"a_swapped =\\n {a_swapped}\")"
      ],
      "execution_count": 17,
      "outputs": [
        {
          "output_type": "stream",
          "name": "stdout",
          "text": [
            "A \n",
            " [[ 0  1  2  3]\n",
            " [ 4  5  6  7]\n",
            " [ 8  9 10 11]]\n",
            "a_swapped =\n",
            " [[ 8  9 10 11]\n",
            " [ 4  5  6  7]\n",
            " [ 0  1  2  3]]\n"
          ]
        }
      ]
    },
    {
      "cell_type": "markdown",
      "source": [
        "#  Składnia slicing dla jednej osi\n",
        "Ogólna składnia wycinania dla listy lub tablicy wygląda tak:\n",
        "\n",
        "\n",
        "\n",
        "```\n",
        "python\n",
        "\n",
        "[start:stop:step]\n",
        "```\n",
        "\n",
        "* **start** – indeks, od którego zaczynamy wycinanie (domyślnie początek).\n",
        "* **stop** – indeks, na którym kończymy (domyślnie koniec).\n",
        "* **step** – krok, czyli co ile elementów wybieramy.\n",
        "\n",
        "Jeżeli pominiemy **start** i **stop** oraz podamy tylko step równy -1, zapisujemy to jako [::-1]. Oznacza to: „przejdź przez całą sekwencję, ale z krokiem -1”, czyli odwróć kolejność elementów.\n",
        "\n",
        "# Jak działa a[::-1, ::-1]?\n",
        "1. a[::-1] – ten fragment odnosi się do pierwszej osi tablicy (wierszy).\n",
        "* Zapis [::-1] oznacza, że dla osi wierszy wybieramy wszystkie wiersze, ale zaczynając od ostatniego i idąc wstecz do pierwszego. Innymi słowy, odwracamy kolejność wierszy.\n",
        "\n",
        "2. a[:, ::-1] – analogicznie, ten zapis odnosi się do drugiej osi tablicy (kolumn).\n",
        "* Dwukropek przed przecinkiem (:) oznacza, że wybieramy wszystkie wiersze (bez zmiany kolejności), natomiast [::-1] po przecinku odwraca kolejność kolumn w każdym wierszu.\n",
        "\n",
        "3. Łącząc oba zapisy w a[::-1, ::-1] otrzymujemy:\n",
        "* Najpierw odwracamy kolejność wierszy.\n",
        "* Następnie w każdej z odwróconych kolejności wierszy odwracamy kolejność kolumn.\n",
        "\n",
        "# Dlaczego \"dwa razy dwukropek\"?\n",
        "* Pierwszy dwukropek ([::-1]): dotyczy pierwszej osi (wierszy).\n",
        "* Drugi dwukropek ([::-1]): dotyczy drugiej osi (kolumn).\n",
        "\n",
        "W tablicach wielowymiarowych, po przecinku podajemy oddzielne wyrażenia dla każdej osi. Dzięki temu możemy niezależnie kontrolować wycinanie (slicing) dla wierszy i kolumn.\n",
        "\n",
        "\n",
        "## Przykład\n",
        "Rozważmy tablicę:\n",
        "\n",
        "\n",
        "```\n",
        "import numpy as np\n",
        "\n",
        "a = np.array([[ 0,  1,  2,  3],\n",
        "              [ 4,  5,  6,  7],\n",
        "              [ 8,  9, 10, 11]])\n",
        "```\n",
        "* a[::-1] daje:\n",
        "\n",
        "\n",
        "```\n",
        "[[ 8,  9, 10, 11],\n",
        " [ 4,  5,  6,  7],\n",
        " [ 0,  1,  2,  3]]\n",
        "```\n",
        "* a[:, ::-1] da (odwracamy kolumny, wiersze pozostają takie same):\n",
        "\n",
        "```\n",
        "[[ 3,  2,  1,  0],\n",
        " [ 7,  6,  5,  4],\n",
        " [11, 10,  9,  8]]\n",
        "\n",
        "```\n",
        "\n",
        "* a[::-1, ::-1] łączy obie operacje – odwraca kolejność wierszy i kolumn:\n",
        "\n",
        "\n",
        "```\n",
        "[[11, 10,  9,  8],\n",
        " [ 7,  6,  5,  4],\n",
        " [ 3,  2,  1,  0]]\n",
        "```\n",
        "\n",
        "\n",
        "\n"
      ],
      "metadata": {
        "id": "lo9_LrvbyZ72"
      }
    },
    {
      "cell_type": "markdown",
      "metadata": {
        "id": "QwFXH2dIEhMp"
      },
      "source": [
        "* zamiana kolumn (odwrócona kolejność)\n",
        "\n",
        "\n",
        "```\n",
        "array([[ 3,  2,  1,  0],\n",
        "       [ 7,  6,  5,  4],\n",
        "       [11, 10,  9,  8]])\n",
        "```\n"
      ]
    },
    {
      "cell_type": "code",
      "metadata": {
        "id": "dux6cn8YV-q_",
        "colab": {
          "base_uri": "https://localhost:8080/"
        },
        "outputId": "613714b4-60c9-4c10-b687-41602b1525fb"
      },
      "source": [
        "# tutaj wpisz rozwiązanie\n",
        "A = np.arange(12).reshape(3, 4)\n",
        "a = A[:, ::-1]\n",
        "\n",
        "print(f\"a = \\n {a}\")"
      ],
      "execution_count": 19,
      "outputs": [
        {
          "output_type": "stream",
          "name": "stdout",
          "text": [
            "a = \n",
            " [[ 3  2  1  0]\n",
            " [ 7  6  5  4]\n",
            " [11 10  9  8]]\n"
          ]
        }
      ]
    },
    {
      "cell_type": "markdown",
      "metadata": {
        "id": "i5mm0dexEoDe"
      },
      "source": [
        "* zamiana wierszy i kolumn (odwrócone kolejności)\n",
        "\n",
        "\n",
        "```\n",
        "array([[11, 10,  9,  8],\n",
        "       [ 7,  6,  5,  4],\n",
        "       [ 3,  2,  1,  0]])\n",
        "```       "
      ]
    },
    {
      "cell_type": "code",
      "metadata": {
        "id": "ZqkvfYoKWHLp",
        "colab": {
          "base_uri": "https://localhost:8080/"
        },
        "outputId": "0e43d54b-f21f-42c2-de84-36d086a25c61"
      },
      "source": [
        "# tutaj wpisz rozwiązanie\n",
        "A = np.arange(12).reshape(3, 4)\n",
        "print(f\"aoryginalna A = \\n {A}\")\n",
        "\n",
        "a = A[::-1, ::-1]\n",
        "\n",
        "print(f\"a = \\n {a}\")"
      ],
      "execution_count": 21,
      "outputs": [
        {
          "output_type": "stream",
          "name": "stdout",
          "text": [
            "aoryginalna A = \n",
            " [[ 0  1  2  3]\n",
            " [ 4  5  6  7]\n",
            " [ 8  9 10 11]]\n",
            "a = \n",
            " [[11 10  9  8]\n",
            " [ 7  6  5  4]\n",
            " [ 3  2  1  0]]\n"
          ]
        }
      ]
    },
    {
      "cell_type": "markdown",
      "metadata": {
        "id": "o3HKIKlP15Ro"
      },
      "source": [
        "### <a name='5'></a> Ćwiczenie 25\n",
        "Podaną poniżej tablicę numpy:\n",
        "\n",
        "```\n",
        "array([[1., 1., 1., 1.],\n",
        "       [1., 1., 1., 1.],\n",
        "       [1., 1., 1., 1.],\n",
        "       [1., 1., 1., 1.]])\n",
        "```\n",
        "Przekształć na tablicę:\n",
        "\n",
        "\n",
        "```\n",
        "array([[0., 0., 0., 0., 0., 0.],\n",
        "       [0., 1., 1., 1., 1., 0.],\n",
        "       [0., 1., 1., 1., 1., 0.],\n",
        "       [0., 1., 1., 1., 1., 0.],\n",
        "       [0., 1., 1., 1., 1., 0.],\n",
        "       [0., 0., 0., 0., 0., 0.]])\n",
        "```\n",
        "__Wskazówka:__ Użyj funkcji _np.pad()_.\n",
        "\n",
        "\n",
        "\n"
      ]
    },
    {
      "cell_type": "code",
      "metadata": {
        "id": "enLY_Qz4qGdJ",
        "colab": {
          "base_uri": "https://localhost:8080/"
        },
        "outputId": "beed0187-d761-46ca-e460-31bea10d3adf"
      },
      "source": [
        "# tutaj wpisz rozwiązanie\n",
        "a = np.ones((4, 4))\n",
        "\n",
        "pad1 = np.pad(a, pad_width=1, mode = 'constant', constant_values = 0)\n",
        "print(f\"padding : \\n {pad1}\")"
      ],
      "execution_count": 31,
      "outputs": [
        {
          "output_type": "stream",
          "name": "stdout",
          "text": [
            "padding : \n",
            " [[0. 0. 0. 0. 0. 0.]\n",
            " [0. 1. 1. 1. 1. 0.]\n",
            " [0. 1. 1. 1. 1. 0.]\n",
            " [0. 1. 1. 1. 1. 0.]\n",
            " [0. 1. 1. 1. 1. 0.]\n",
            " [0. 0. 0. 0. 0. 0.]]\n"
          ]
        }
      ]
    },
    {
      "cell_type": "markdown",
      "source": [
        "Funkcja np.pad() umożliwia dodawanie \"obrzeży\" (paddingu) do tablicy. Aby przekształcić tablicę 4×4 w tablicę 6×6 z zerowym obramowaniem, możesz użyć następującego kodu:\n",
        "\n",
        "## Wyjaśnienie:\n",
        "\n",
        "* np.ones((4, 4)) – tworzy tablicę 4×4 wypełnioną jedynkami.\n",
        "* np.pad(a, pad_width=1, mode='constant', constant_values=0) – dodaje padding o szerokości 1 elementu na każdej krawędzi tablicy:\n",
        "* pad_width=1 oznacza, że do każdej osi dodamy jeden element zarówno na\n",
        "początku, jak i na końcu (jest to równoważne zapisie pad_width=((1, 1), (1, 1))).\n",
        "* mode='constant' ustawia tryb wypełniania stałą wartością.\n",
        "* constant_values=0 wskazuje, że wypełnienie ma odbywać się wartością 0."
      ],
      "metadata": {
        "id": "lk-nSMOP7e1m"
      }
    },
    {
      "cell_type": "markdown",
      "metadata": {
        "id": "PunXd_Ey16so"
      },
      "source": [
        "### <a name='6'></a> Ćwiczenie 26\n",
        "Podaną poniżej tablicę numpy:\n",
        "\n",
        "```\n",
        "array([[0, 0, 0, 0, 0, 0],\n",
        "       [0, 0, 0, 0, 0, 0],\n",
        "       [0, 0, 0, 0, 0, 0],\n",
        "       [0, 0, 0, 0, 0, 0],\n",
        "       [0, 0, 0, 0, 0, 0],\n",
        "       [0, 0, 0, 0, 0, 0]])\n",
        "```\n",
        "Przekształć na tablicę:\n",
        "\n",
        "\n",
        "```\n",
        "array([[10,  0, 10,  0, 10,  0],\n",
        "       [ 5,  0,  5,  0,  5,  0],\n",
        "       [10,  0, 10,  0, 10,  0],\n",
        "       [ 5,  0,  5,  0,  5,  0],\n",
        "       [10,  0, 10,  0, 10,  0],\n",
        "       [ 5,  0,  5,  0,  5,  0]])\n",
        "```\n",
        "__Wskazówka:__ Użyj operatora wycinania oraz przypisz odpowiednie wartości.\n",
        "\n",
        "\n",
        "\n"
      ]
    },
    {
      "cell_type": "code",
      "metadata": {
        "id": "xOVKpjvMr7bX",
        "colab": {
          "base_uri": "https://localhost:8080/"
        },
        "outputId": "42de6f17-11ad-4475-f67b-48495c3afa55"
      },
      "source": [
        "# tutaj wpisz rozwiązanie\n",
        "# Tworzymy tablicę 6x6 wypełnioną zerami\n",
        "A = np.zeros((6, 6), dtype=int)\n",
        "print(A)\n",
        "print(\"\\n\")\n",
        "\n",
        "# Dla wierszy parzystych (indeksy 0, 2, 4) i kolumn parzystych (indeksy 0, 2, 4) przypisujemy wartość 10\n",
        "A[::2, ::2] = 10\n",
        "print(A)\n",
        "print(\"\\n\")\n",
        "\n",
        "# Dla wierszy nieparzystych (indeksy 1, 3, 5) i kolumn parzystych (indeksy 0, 2, 4) przypisujemy wartość 5\n",
        "A[1::2, ::2] = 5\n",
        "\n",
        "print(A)\n",
        "print(\"\\n\")\n"
      ],
      "execution_count": 35,
      "outputs": [
        {
          "output_type": "stream",
          "name": "stdout",
          "text": [
            "[[0 0 0 0 0 0]\n",
            " [0 0 0 0 0 0]\n",
            " [0 0 0 0 0 0]\n",
            " [0 0 0 0 0 0]\n",
            " [0 0 0 0 0 0]\n",
            " [0 0 0 0 0 0]]\n",
            "\n",
            "\n",
            "[[10  0 10  0 10  0]\n",
            " [ 0  0  0  0  0  0]\n",
            " [10  0 10  0 10  0]\n",
            " [ 0  0  0  0  0  0]\n",
            " [10  0 10  0 10  0]\n",
            " [ 0  0  0  0  0  0]]\n",
            "\n",
            "\n",
            "[[10  0 10  0 10  0]\n",
            " [ 5  0  5  0  5  0]\n",
            " [10  0 10  0 10  0]\n",
            " [ 5  0  5  0  5  0]\n",
            " [10  0 10  0 10  0]\n",
            " [ 5  0  5  0  5  0]]\n",
            "\n",
            "\n"
          ]
        }
      ]
    },
    {
      "cell_type": "markdown",
      "source": [
        "Możesz to osiągnąć, przypisując wartości do odpowiednich fragmentów tablicy przy użyciu operatora wycinania (slicing). Poniższy kod tworzy tablicę 6×6 wypełnioną zerami, a następnie:\n",
        "\n",
        "* Wierszom o indeksach parzystych (0, 2, 4) i kolumnom o indeksach parzystych (0, 2, 4) przypisuje wartość 10.\n",
        "* Wierszom o indeksach nieparzystych (1, 3, 5) i kolumnom o indeksach parzystych (0, 2, 4) przypisuje wartość 5.\n",
        "\n",
        "## Wyjaśnienie slicing:\n",
        "\n",
        "1. A[0::2, 0::2] oznacza:\n",
        "\n",
        "* Dla pierwszej osi (wierszy): zaczynamy od indeksu 0 i wybieramy co drugi wiersz (czyli 0, 2, 4).\n",
        "*Dla drugiej osi (kolumn): zaczynamy od indeksu 0 i wybieramy co drugą kolumnę (czyli 0, 2, 4).\n",
        "\n",
        "2. Analogicznie, A[1::2, 0::2] wybiera:\n",
        "\n",
        "* Wiersze o indeksach 1, 3, 5.\n",
        "* Kolumny o indeksach 0, 2, 4."
      ],
      "metadata": {
        "id": "gwurEfG7_7cP"
      }
    },
    {
      "cell_type": "markdown",
      "metadata": {
        "id": "hOhqDRz618Tx"
      },
      "source": [
        "### <a name='7'></a> Ćwiczenie 27\n",
        "Połącz podane poniżej tablice $A$ oraz $B$ w jedną.\n",
        "\n",
        "\n",
        "```\n",
        "A = np.arange(12).reshape(-1, 4)\n",
        "B = np.array([[4, 3, 7, 2],\n",
        "              [0, 5, 2, 6]])\n",
        "```\n",
        "\n",
        "\n",
        "\n",
        "\n",
        "__Oczekiwany rezultat:__\n",
        "\n",
        "\n",
        "```\n",
        "array([[ 0,  1,  2,  3],\n",
        "       [ 4,  5,  6,  7],\n",
        "       [ 8,  9, 10, 11],\n",
        "       [ 4,  3,  7,  2],\n",
        "       [ 0,  5,  2,  6]])\n",
        "```\n",
        "__Wskazówka:__ Użyj funkcji _np.append()_.\n"
      ]
    },
    {
      "cell_type": "code",
      "metadata": {
        "id": "CCHfKU4Y3Z-X",
        "colab": {
          "base_uri": "https://localhost:8080/"
        },
        "outputId": "b48c11b8-7791-44d5-a0f6-63437a00ccd7"
      },
      "source": [
        "# tutaj wpisz rozwiązanie\n",
        "A = np.arange(12).reshape(-1, 4)\n",
        "B = np.array([[4, 3, 7, 2],\n",
        "              [0, 5, 2, 6]])\n",
        "C = np.append(A, B, axis = 0)\n",
        "C"
      ],
      "execution_count": 33,
      "outputs": [
        {
          "output_type": "execute_result",
          "data": {
            "text/plain": [
              "array([[ 0,  1,  2,  3],\n",
              "       [ 4,  5,  6,  7],\n",
              "       [ 8,  9, 10, 11],\n",
              "       [ 4,  3,  7,  2],\n",
              "       [ 0,  5,  2,  6]])"
            ]
          },
          "metadata": {},
          "execution_count": 33
        }
      ]
    },
    {
      "cell_type": "markdown",
      "metadata": {
        "id": "TXUd_4631-gw"
      },
      "source": [
        "### <a name='8'></a> Ćwiczenie 28\n",
        "Z podanych poniżej tablic $A$ i $B$ wydobądź elementy wspólne (przecięcie) tablic.\n",
        "\n",
        "```\n",
        "A = np.arange(8).reshape(-1, 4)\n",
        "B = np.array([[9, 10, 11, 3],\n",
        "              [2, 8, 0, 9]])      \n",
        "```\n",
        "\n",
        "\n",
        "\n",
        "__Wskazówka:__ Użyj funkcji _np.intersect1d()_."
      ]
    },
    {
      "cell_type": "code",
      "metadata": {
        "id": "pgvyad4UCI6Q",
        "colab": {
          "base_uri": "https://localhost:8080/"
        },
        "outputId": "dd13c1c6-94fd-4e13-eca0-3c6a6f331309"
      },
      "source": [
        "# tutaj wpisz rozwiązanie\n",
        "A = np.arange(8).reshape(-1, 4)\n",
        "B = np.array([[9, 10, 11, 3],\n",
        "              [2, 8, 0, 9]])\n",
        "\n",
        "print(f\"A = \\n {A}\")\n",
        "print(\"\\n\")\n",
        "\n",
        "print(f\"B = \\n {B}\")\n",
        "print(\"\\n\")\n",
        "\n",
        "# Funkcja np.intersect1d(A, B) przeszukuje obie tablice (w sensie \"element-wise\",\n",
        "# po spłaszczeniu) i zwraca unikalne elementy występujące zarówno w A, jak i w B\n",
        "common_elements = np.intersect1d(A, B)\n",
        "print(common_elements)"
      ],
      "execution_count": 5,
      "outputs": [
        {
          "output_type": "stream",
          "name": "stdout",
          "text": [
            "A = \n",
            " [[0 1 2 3]\n",
            " [4 5 6 7]]\n",
            "\n",
            "\n",
            "B = \n",
            " [[ 9 10 11  3]\n",
            " [ 2  8  0  9]]\n",
            "\n",
            "\n",
            "[0 2 3]\n"
          ]
        }
      ]
    },
    {
      "cell_type": "markdown",
      "metadata": {
        "id": "tgI6xEn-2AQo"
      },
      "source": [
        "### <a name='9'></a> Ćwiczenie 29\n",
        "Podana jest poniższa tablica numpy $A$.\n",
        "Znajdź unikalne wartości tej tablicy.\n",
        "\n",
        "\n",
        "```\n",
        "A = np.array([[5, 1, 2, 1, 2],\n",
        "              [9, 1, 9, 7, 5],\n",
        "              [4, 1, 5, 7, 9]])\n",
        "```\n",
        "\n",
        "\n",
        "__Wskazówka:__ Użyj funkcji _np.unique()_."
      ]
    },
    {
      "cell_type": "code",
      "metadata": {
        "id": "h3Q6RADIELkH",
        "colab": {
          "base_uri": "https://localhost:8080/"
        },
        "outputId": "f28837ca-91a2-4d9b-9023-ad24cf9af95c"
      },
      "source": [
        "# tutaj wpisz rozwiązanie\n",
        "A = np.array([[5, 1, 2, 1, 2],\n",
        "              [9, 1, 9, 7, 5],\n",
        "              [4, 1, 5, 7, 9]])\n",
        "np.unique(A)"
      ],
      "execution_count": 11,
      "outputs": [
        {
          "output_type": "execute_result",
          "data": {
            "text/plain": [
              "array([1, 2, 4, 5, 7, 9])"
            ]
          },
          "metadata": {},
          "execution_count": 11
        }
      ]
    },
    {
      "cell_type": "markdown",
      "metadata": {
        "id": "wxhpf-uq2B1I"
      },
      "source": [
        "### <a name='10'></a> Ćwiczenie 30\n",
        "Podana jest poniższa tablica:\n",
        "\n",
        "\n",
        "```\n",
        "A = np.array([[0.4, 0.3, 0.3],\n",
        "              [0.1, 0.1, 0.8],\n",
        "              [0.2, 0.5, 0.3]])\n",
        "```\n",
        "\n",
        "\n",
        "\n",
        "Zwróć indeksy na których stoją maksymalne wartości dla danego wiersza.\n",
        "\n",
        "__Wskazówka:__ Użyj funkcji _np.argmax()_."
      ]
    },
    {
      "cell_type": "code",
      "metadata": {
        "id": "YcQFRYUyFWbY",
        "colab": {
          "base_uri": "https://localhost:8080/"
        },
        "outputId": "79d7ac45-410f-4c9c-aa0d-61e74da2d491"
      },
      "source": [
        "# tutaj wpisz rozwiązanie\n",
        "A = np.array([[0.4, 0.3, 0.3],\n",
        "              [0.1, 0.1, 0.8],\n",
        "              [0.2, 0.5, 0.3]])\n",
        "\n",
        "max_indices = np.argmax(A, axis=1)\n",
        "print(\"Indeksy maksymalnych wartości:\", max_indices)\n",
        "print(\"\\n\")\n",
        "\n",
        "# Aby wyciągnąć maksymalne wartości dla każdego wiersza,\n",
        "# tworzymy tablicę indeksów wierszy:\n",
        "row_indices = np.arange(A.shape[0])\n",
        "print(\"tablica indeksów wierszy:\", row_indices)\n",
        "print(\"\\n\")\n",
        "\n",
        "# Następnie wykorzystujemy zaawansowane indeksowanie:\n",
        "max_values = A[row_indices, max_indices]\n",
        "print(\"Maksymalne wartości:\", max_values)\n",
        "print(\"\\n\")\n"
      ],
      "execution_count": 23,
      "outputs": [
        {
          "output_type": "stream",
          "name": "stdout",
          "text": [
            "Indeksy maksymalnych wartości: [0 2 1]\n",
            "\n",
            "\n",
            "tablica indeksów wierszy: [0 1 2]\n",
            "\n",
            "\n",
            "Maksymalne wartości: [0.4 0.8 0.5]\n",
            "\n",
            "\n"
          ]
        }
      ]
    }
  ]
}