{
  "nbformat": 4,
  "nbformat_minor": 0,
  "metadata": {
    "colab": {
      "provenance": [],
      "include_colab_link": true
    },
    "kernelspec": {
      "name": "python3",
      "display_name": "Python 3"
    }
  },
  "cells": [
    {
      "cell_type": "markdown",
      "metadata": {
        "id": "view-in-github",
        "colab_type": "text"
      },
      "source": [
        "<a href=\"https://colab.research.google.com/github/sebekpro/python-krakowiak/blob/main/250-data-science-bootcamp-w-jezyku-python/051_060_exercises.ipynb\" target=\"_parent\"><img src=\"https://colab.research.google.com/assets/colab-badge.svg\" alt=\"Open In Colab\"/></a>"
      ]
    },
    {
      "cell_type": "markdown",
      "metadata": {
        "id": "WLEgCW5F1hho"
      },
      "source": [
        "## Numpy\n",
        "\n",
        "### Spis treści:\n",
        "* [Import biblioteki](#0)\n",
        "* [Ćwiczenie 51](#1)\n",
        "* [Ćwiczenie 52](#2)\n",
        "* [Ćwiczenie 53](#3)\n",
        "* [Ćwiczenie 54](#4)\n",
        "* [Ćwiczenie 55](#5)\n",
        "* [Ćwiczenie 56](#6)\n",
        "* [Ćwiczenie 57](#7)\n",
        "* [Ćwiczenie 58](#8)\n",
        "* [Ćwiczenie 59](#9)\n",
        "* [Ćwiczenie 60](#10)"
      ]
    },
    {
      "cell_type": "markdown",
      "metadata": {
        "id": "zeLOLmTj1kBM"
      },
      "source": [
        "### <a name='0'></a>Import biblioteki"
      ]
    },
    {
      "cell_type": "code",
      "metadata": {
        "id": "HXMB7SMe1Wnz",
        "colab": {
          "base_uri": "https://localhost:8080/",
          "height": 35
        },
        "outputId": "c0a52cdc-ad19-49ef-fe7c-6e64da39bb4f"
      },
      "source": [
        "import numpy as np\n",
        "\n",
        "np.random.seed(42)\n",
        "np.__version__"
      ],
      "execution_count": 2,
      "outputs": [
        {
          "output_type": "execute_result",
          "data": {
            "text/plain": [
              "'1.26.4'"
            ],
            "application/vnd.google.colaboratory.intrinsic+json": {
              "type": "string"
            }
          },
          "metadata": {},
          "execution_count": 2
        }
      ]
    },
    {
      "cell_type": "markdown",
      "metadata": {
        "id": "cyc70pMe1oCg"
      },
      "source": [
        "### <a name='1'></a> Ćwiczenie 51\n",
        "Podane są poniżej dwie tablice $A$ i $B$:\n",
        "\n",
        "\n",
        "```\n",
        "A = np.array([[3, 4, 5],\n",
        "              [8, 3, 1]])\n",
        "B = np.array([[0, 5, 2],\n",
        "              [4, 2, 1]])\n",
        "```\n",
        "* Połącz te tablice w następujący sposób:\n",
        "\n",
        "\n",
        "```\n",
        "array([[3, 4, 5],\n",
        "       [8, 3, 1],\n",
        "       [0, 5, 2],\n",
        "       [4, 2, 1]])\n",
        "```\n",
        "__Wskazówka:__ Wykorzystaj funkcję _np.concatenate()_.\n",
        "\n",
        "\n",
        "\n"
      ]
    },
    {
      "cell_type": "code",
      "metadata": {
        "id": "G06kZluT8eIh",
        "colab": {
          "base_uri": "https://localhost:8080/"
        },
        "outputId": "89210ddc-b617-4ab1-d892-a260ff1de096"
      },
      "source": [
        "# tutaj wpisz rozwiązanie\n",
        "A = np.array([[3, 4, 5],\n",
        "              [8, 3, 1]])\n",
        "B = np.array([[0, 5, 2],\n",
        "              [4, 2, 1]])\n",
        "C = np.concatenate((A, B), axis=0)\n",
        "C"
      ],
      "execution_count": 3,
      "outputs": [
        {
          "output_type": "execute_result",
          "data": {
            "text/plain": [
              "array([[3, 4, 5],\n",
              "       [8, 3, 1],\n",
              "       [0, 5, 2],\n",
              "       [4, 2, 1]])"
            ]
          },
          "metadata": {},
          "execution_count": 3
        }
      ]
    },
    {
      "cell_type": "markdown",
      "metadata": {
        "id": "ODw_gitA98Ul"
      },
      "source": [
        "* Połącz te tablice w następujący sposób:\n",
        "\n",
        "\n",
        "```\n",
        "array([[3, 4, 5, 0, 5, 2],\n",
        "       [8, 3, 1, 4, 2, 1]])\n",
        "```\n",
        "__Wskazówka:__ Wykorzystaj funkcję _np.concatenate()_."
      ]
    },
    {
      "cell_type": "code",
      "metadata": {
        "id": "1pmGjLj88tcf",
        "colab": {
          "base_uri": "https://localhost:8080/"
        },
        "outputId": "24030a37-2a82-45b2-cf8b-db0bf4c3af0f"
      },
      "source": [
        "# tutaj wpisz rozwiązanie\n",
        "C = np.concatenate((A, B), axis = 1)\n",
        "C"
      ],
      "execution_count": 4,
      "outputs": [
        {
          "output_type": "execute_result",
          "data": {
            "text/plain": [
              "array([[3, 4, 5, 0, 5, 2],\n",
              "       [8, 3, 1, 4, 2, 1]])"
            ]
          },
          "metadata": {},
          "execution_count": 4
        }
      ]
    },
    {
      "cell_type": "markdown",
      "metadata": {
        "id": "J9pY1rtr1sC0"
      },
      "source": [
        "### <a name='2'></a> Ćwiczenie 52\n",
        "Podana jest tablica zawierająca dane _data_ oraz tablica zawierająca docelową klasę dla danego wiersza _target_:\n",
        "\n",
        "```\n",
        "data = np.array([[4.3, 4.2],\n",
        "                 [3.1, 3.6]])\n",
        "target = np.array([[0],\n",
        "                   [1]])\n",
        "```\n",
        "\n"
      ]
    },
    {
      "cell_type": "markdown",
      "metadata": {
        "id": "8cAKF7ok-RjX"
      },
      "source": [
        "Połącz te tablice w jedną tak jak pokazano poniżej:\n",
        "\n",
        "\n",
        "```\n",
        "array([[4.3, 4.2, 0. ],\n",
        "       [3.1, 3.6, 1. ]])\n",
        "```\n",
        "\n"
      ]
    },
    {
      "cell_type": "code",
      "metadata": {
        "id": "4lc68Wfr8z3u",
        "colab": {
          "base_uri": "https://localhost:8080/"
        },
        "outputId": "9313886a-a0df-4ae0-bed0-20aac4f244f5"
      },
      "source": [
        "# tutaj wpisz rozwiązanie\n",
        "data = np.array([[4.3, 4.2],\n",
        "                 [3.1, 3.6]])\n",
        "target = np.array([[0],\n",
        "                   [1]])\n",
        "C = np.concatenate((data, target), axis = -1)\n",
        "C"
      ],
      "execution_count": 5,
      "outputs": [
        {
          "output_type": "execute_result",
          "data": {
            "text/plain": [
              "array([[4.3, 4.2, 0. ],\n",
              "       [3.1, 3.6, 1. ]])"
            ]
          },
          "metadata": {},
          "execution_count": 5
        }
      ]
    },
    {
      "cell_type": "markdown",
      "metadata": {
        "id": "XQLYT2m11wVG"
      },
      "source": [
        "### <a name='3'></a> Ćwiczenie 53\n",
        "Podane są trzy poniższe jednowymiarowe tablice:  \n",
        "\n",
        "\n",
        "```\n",
        "feature1 = np.array([1.6, 0.9, 2.2])\n",
        "feature2 = np.array([0.4, 1.3, 3.2])\n",
        "feature3 = np.array([1.4, 0.3, 1.2])\n",
        "```\n",
        "Przekształć każdą z tych tablic w kolumnę i sklej w jedną dużą tablicę.\n",
        "\n",
        "__Oczekiwany wynik:__\n",
        "\n",
        "\n",
        "```\n",
        "array([[1.6, 0.4, 1.4],\n",
        "       [0.9, 1.3, 0.3],\n",
        "       [2.2, 3.2, 1.2]])\n",
        "```\n",
        "\n",
        "__Wskazówka:__ Wykorzystaj funkcję _np.column_stack()_.\n",
        "\n"
      ]
    },
    {
      "cell_type": "code",
      "metadata": {
        "id": "xfPf_vq7-jBP",
        "colab": {
          "base_uri": "https://localhost:8080/"
        },
        "outputId": "4e35650d-ec2a-407e-a4c5-aae9ba011515"
      },
      "source": [
        "# tutaj wpisz rozwiązanie\n",
        "feature1 = np.array([1.6, 0.9, 2.2])\n",
        "feature2 = np.array([0.4, 1.3, 3.2])\n",
        "feature3 = np.array([1.4, 0.3, 1.2])\n",
        "C = np.column_stack((feature1, feature2, feature3))\n",
        "C"
      ],
      "execution_count": 6,
      "outputs": [
        {
          "output_type": "execute_result",
          "data": {
            "text/plain": [
              "array([[1.6, 0.4, 1.4],\n",
              "       [0.9, 1.3, 0.3],\n",
              "       [2.2, 3.2, 1.2]])"
            ]
          },
          "metadata": {},
          "execution_count": 6
        }
      ]
    },
    {
      "cell_type": "markdown",
      "metadata": {
        "id": "4xTKSUzg10MK"
      },
      "source": [
        "### <a name='4'></a> Ćwiczenie 54\n",
        "Podana jest poniższa dwuwymiarowa tablica:\n",
        "\n",
        "```\n",
        "A = np.random.randint(low=0, high=7, size=(5, 8))\n",
        "A[:, :2] = 0\n",
        "A[:, -2:] = 1\n",
        "A\n",
        "```\n",
        "```\n",
        "array([[0, 0, 4, 6, 2, 4, 1, 1],\n",
        "       [0, 0, 6, 2, 2, 4, 1, 1],\n",
        "       [0, 0, 1, 3, 5, 5, 1, 1],\n",
        "       [0, 0, 3, 1, 5, 4, 1, 1],\n",
        "       [0, 0, 2, 6, 1, 3, 1, 1]])\n",
        "```\n",
        "\n",
        "Podziel tablicę na 3 części tak aby pierwsze dwie kolumny stanowiły pierwszą tablicę $A1$, cztery kolejne drugą tablicę $A2$ oraz dwie ostatnie trzecią tablicę $A3$.\n",
        "\n",
        "__Wskazówka:__ Wykorzystaj funkcję _np.split()_."
      ]
    },
    {
      "cell_type": "code",
      "metadata": {
        "id": "U5MFrLUHBsEf",
        "colab": {
          "base_uri": "https://localhost:8080/"
        },
        "outputId": "ff600efd-ccff-4d5c-9009-a6a04b6f0d72"
      },
      "source": [
        "# tutaj wpisz rozwiązanie\n",
        "A = np.random.randint(low=0, high=7, size=(5, 8))\n",
        "A[:, :2] = 0\n",
        "A[:, -2:] = 1\n",
        "A"
      ],
      "execution_count": 7,
      "outputs": [
        {
          "output_type": "execute_result",
          "data": {
            "text/plain": [
              "array([[0, 0, 4, 6, 2, 4, 1, 1],\n",
              "       [0, 0, 6, 2, 2, 4, 1, 1],\n",
              "       [0, 0, 1, 3, 5, 5, 1, 1],\n",
              "       [0, 0, 3, 1, 5, 4, 1, 1],\n",
              "       [0, 0, 2, 6, 1, 3, 1, 1]])"
            ]
          },
          "metadata": {},
          "execution_count": 7
        }
      ]
    },
    {
      "cell_type": "code",
      "source": [
        "# Pierwsza metoda\n",
        "A1, A2, A3 = np.split(A, [2, 6], axis = 1)\n",
        "print(f\"A1: \\n{A1}\\n\")\n",
        "print(f\"A2: \\n{A2}\\n\")\n",
        "print(f\"A3: \\n{A3}\\n\")\n",
        "\n",
        "# Druga metoda\n",
        "B1 = A[:, :2]\n",
        "B2 = A[:, 2:6]\n",
        "B3 = A[:, -2:]\n",
        "print(f\"B1: \\n{B1}\\n\")\n",
        "print(f\"B2: \\n{B2}\\n\")\n",
        "print(f\"B3: \\n{B3}\\n\")\n"
      ],
      "metadata": {
        "id": "bnqildE5rKVK",
        "outputId": "ba520cc2-299c-47d7-b4fa-68834d8f4879",
        "colab": {
          "base_uri": "https://localhost:8080/"
        }
      },
      "execution_count": 20,
      "outputs": [
        {
          "output_type": "stream",
          "name": "stdout",
          "text": [
            "A1: \n",
            "[[0 0]\n",
            " [0 0]\n",
            " [0 0]\n",
            " [0 0]\n",
            " [0 0]]\n",
            "\n",
            "A2: \n",
            "[[4 6 2 4]\n",
            " [6 2 2 4]\n",
            " [1 3 5 5]\n",
            " [3 1 5 4]\n",
            " [2 6 1 3]]\n",
            "\n",
            "A3: \n",
            "[[1 1]\n",
            " [1 1]\n",
            " [1 1]\n",
            " [1 1]\n",
            " [1 1]]\n",
            "\n",
            "B1: \n",
            "[[0 0]\n",
            " [0 0]\n",
            " [0 0]\n",
            " [0 0]\n",
            " [0 0]]\n",
            "\n",
            "B2: \n",
            "[[4 6 2 4]\n",
            " [6 2 2 4]\n",
            " [1 3 5 5]\n",
            " [3 1 5 4]\n",
            " [2 6 1 3]]\n",
            "\n",
            "B3: \n",
            "[[1 1]\n",
            " [1 1]\n",
            " [1 1]\n",
            " [1 1]\n",
            " [1 1]]\n",
            "\n"
          ]
        }
      ]
    },
    {
      "cell_type": "markdown",
      "metadata": {
        "id": "o3HKIKlP15Ro"
      },
      "source": [
        "### <a name='5'></a> Ćwiczenie 55\n",
        "Podana jest poniższa tablica $A$:\n",
        "\n",
        "```\n",
        "A = np.random.randint(low=0, high=2, size=(10, 6))\n",
        "```\n",
        "Wyznacz łączną liczbę elementów niezerowych dla tej tablicy.\n",
        "\n",
        "__Wskazówka:__ Wykorzystaj funkcję _np.count_nonzero()_.\n"
      ]
    },
    {
      "cell_type": "code",
      "metadata": {
        "id": "j5E2nOFyDy1b",
        "colab": {
          "base_uri": "https://localhost:8080/"
        },
        "outputId": "b3780a68-f02e-4980-8905-d3a59e367657"
      },
      "source": [
        "# tutaj wpisz rozwiązanie\n",
        "A = np.random.randint(low=0, high=2, size=(10, 6))\n",
        "non_zero = np.count_nonzero(A)\n",
        "print(f\"A = \\n {A} \\n\")\n",
        "non_zero"
      ],
      "execution_count": 24,
      "outputs": [
        {
          "output_type": "stream",
          "name": "stdout",
          "text": [
            "A = \n",
            " [[0 0 1 1 1 1]\n",
            " [1 1 1 1 0 1]\n",
            " [1 0 1 0 0 1]\n",
            " [0 0 0 0 1 0]\n",
            " [1 0 0 0 0 1]\n",
            " [1 0 0 1 0 0]\n",
            " [0 1 1 1 0 0]\n",
            " [1 1 1 1 0 1]\n",
            " [0 1 0 1 1 1]\n",
            " [1 0 1 0 0 0]] \n",
            "\n"
          ]
        },
        {
          "output_type": "execute_result",
          "data": {
            "text/plain": [
              "31"
            ]
          },
          "metadata": {},
          "execution_count": 24
        }
      ]
    },
    {
      "cell_type": "markdown",
      "metadata": {
        "id": "wJde65uYhJ2f"
      },
      "source": [
        "Wyznacz łączną liczbę elementów niezerowych dla każdego wiersza tej tablicy.\n",
        "\n",
        "__Wskazówka:__ Wykorzystaj funkcję _np.count_nonzero()_."
      ]
    },
    {
      "cell_type": "code",
      "metadata": {
        "id": "BWG-icQuEEPS",
        "colab": {
          "base_uri": "https://localhost:8080/"
        },
        "outputId": "2d1e7f93-9055-4c76-d63e-5b5fba082f2b"
      },
      "source": [
        "# tutaj wpisz rozwiązanie\n",
        "non_zero_rows = np.count_nonzero(A, axis = 1)\n",
        "non_zero_rows"
      ],
      "execution_count": 26,
      "outputs": [
        {
          "output_type": "execute_result",
          "data": {
            "text/plain": [
              "array([4, 5, 3, 1, 2, 2, 3, 5, 4, 2])"
            ]
          },
          "metadata": {},
          "execution_count": 26
        }
      ]
    },
    {
      "cell_type": "markdown",
      "metadata": {
        "id": "PunXd_Ey16so"
      },
      "source": [
        "### <a name='6'></a> Ćwiczenie 56\n",
        "Poniżej podana jest przykładowa tablica $A$:\n",
        "\n",
        "```\n",
        "A = np.random.randn(10, 4)\n",
        "```\n",
        "\n",
        "```\n",
        "array([[-0.53441645, -1.49505387, -0.78925833,  0.74371128],\n",
        "       [-0.21216142, -0.42686879,  0.50144833,  1.15818665],\n",
        "       [ 0.25711687,  0.3145129 ,  1.37186213,  0.17555329],\n",
        "       [-0.30928855,  0.6731255 , -0.25663018, -0.36782572],\n",
        "       [ 1.27373362, -0.29195267, -2.65517605,  0.34551794],\n",
        "       [-0.39551645, -0.28913686,  0.45293633, -0.16606091],\n",
        "       [ 0.21493883, -2.02231493, -0.94305681,  1.40395874],\n",
        "       [-0.0185508 , -1.67350462, -1.07253183, -0.99258618],\n",
        "       [ 0.10234768, -0.43260928, -0.6591823 ,  0.0039373 ],\n",
        "       [ 0.4777541 , -0.25902864, -0.57470921, -0.42149822]])\n",
        "```\n",
        "\n",
        "\n",
        "Ustaw odopowiednią opcję biblioteki numpy pozwalającą drukować tablice z określoną precyzją. Ustaw jej wartość na 4 i wydrukuj tablicę $A$.\n",
        "\n"
      ]
    },
    {
      "cell_type": "code",
      "metadata": {
        "id": "aL6C9MYSYkaL",
        "colab": {
          "base_uri": "https://localhost:8080/"
        },
        "outputId": "2958ad7d-6ef6-4709-fbe1-d2a461dcfa25"
      },
      "source": [
        "# tutaj wpisz rozwiązanie\n",
        "np.set_printoptions(precision = 4)\n",
        "A = np.random.randn(10, 4)\n",
        "A"
      ],
      "execution_count": 38,
      "outputs": [
        {
          "output_type": "execute_result",
          "data": {
            "text/plain": [
              "array([[ 1.1678,  0.2544,  0.3376, -0.4119],\n",
              "       [-0.4876, -0.4326,  0.3945, -0.421 ],\n",
              "       [ 0.2898,  2.0754,  0.8711, -0.326 ],\n",
              "       [ 1.2012, -0.4081, -2.0381, -1.0081],\n",
              "       [-1.8708, -0.3515,  0.0184,  1.6764],\n",
              "       [ 0.3269, -0.2191,  0.8294, -2.2111],\n",
              "       [ 0.2356,  0.7709, -1.4786,  1.1438],\n",
              "       [ 0.3385, -0.4153,  0.6328,  2.2707],\n",
              "       [ 0.1819,  0.2482, -0.4594, -0.8498],\n",
              "       [ 0.8303, -0.8561,  0.0716, -0.4777]])"
            ]
          },
          "metadata": {},
          "execution_count": 38
        }
      ]
    },
    {
      "cell_type": "markdown",
      "metadata": {
        "id": "hOhqDRz618Tx"
      },
      "source": [
        "### <a name='7'></a> Ćwiczenie 57\n",
        "Podana jest poniższa tablica numpy $A$:\n",
        "\n",
        "```\n",
        "A = np.array([1.2e-6, 1.7e-7])\n",
        "```\n",
        "\n",
        "Ustaw wartość precyzji na 8. Następnie ustaw odopowiednią opcję biblioteki numpy pozwalającą stłumić notację wykładniczą. Wydrukuj tablicę $A$.\n",
        "\n",
        "__Oczekiwany wynik:__\n",
        "\n",
        "\n",
        "```\n",
        "array([0.0000012 , 0.00000017])\n",
        "```\n",
        "\n",
        "\n",
        "\n"
      ]
    },
    {
      "cell_type": "code",
      "metadata": {
        "id": "BUr3XXiWdUWi",
        "colab": {
          "base_uri": "https://localhost:8080/"
        },
        "outputId": "01fad5ef-15e9-471f-c5c5-04f4478c86ab"
      },
      "source": [
        "# tutaj wpisz rozwiązanie\n",
        "A = np.array([1.2e-6, 1.7e-7])\n",
        "np.set_printoptions(precision = 8, suppress = True)\n",
        "A"
      ],
      "execution_count": 54,
      "outputs": [
        {
          "output_type": "execute_result",
          "data": {
            "text/plain": [
              "array([0.0000012 , 0.00000017])"
            ]
          },
          "metadata": {},
          "execution_count": 54
        }
      ]
    },
    {
      "cell_type": "markdown",
      "metadata": {
        "id": "TXUd_4631-gw"
      },
      "source": [
        "### <a name='8'></a> Ćwiczenie 58\n",
        "Podana jest poniższa tablica numpy $A$:\n",
        "\n",
        "```\n",
        "A = np.random.randn(8, 4)\n",
        "```\n",
        "Usuń trzecią kolumnę z tablicy $A$.\n",
        "\n",
        "__Oczekiwany wynik:__\n",
        "\n",
        "\n",
        "```\n",
        "array([[-0.55692881, -0.66003196,  0.70856031],\n",
        "       [ 0.22378737, -0.19796576, -0.16889332],\n",
        "       [ 0.26062786,  0.29865445, -0.92259267],\n",
        "       [-2.40317659,  1.79961876, -1.96495796],\n",
        "       [ 0.13051561, -1.7085185 ,  0.54885043],\n",
        "       [ 1.77268727,  0.38751181, -0.05141955],\n",
        "       [-1.80858596, -0.45075211,  0.15332866],\n",
        "       [ 1.94218961, -1.93679529, -1.83350954]])\n",
        "```\n",
        "__Wskazówka:__ Wykorzystaj funkcję _np.delete()_.\n",
        "\n",
        "\n"
      ]
    },
    {
      "cell_type": "code",
      "metadata": {
        "id": "o5PxnILogU6z",
        "colab": {
          "base_uri": "https://localhost:8080/"
        },
        "outputId": "3ada5601-4b0e-42ae-8ab3-22c3927c1bb6"
      },
      "source": [
        "# tutaj wpisz rozwiązanie\n",
        "A = np.random.randn(8, 4)\n",
        "print(f\"A oryginal table = \\n {A}\")\n",
        "\n",
        "B = np.delete(A, 2, axis = 1)\n",
        "print(f\"A delete 3 column = \\n {B}\")"
      ],
      "execution_count": 58,
      "outputs": [
        {
          "output_type": "stream",
          "name": "stdout",
          "text": [
            "A oryginal table = \n",
            " [[ 0.71095997  0.44426331 -0.36096617  1.1593298 ]\n",
            " [-1.08106333  0.61593561  0.59310126 -0.30954644]\n",
            " [ 0.32613302 -1.25111358  0.92402702 -0.18490214]\n",
            " [-0.52272302  1.04900923 -0.70434369 -1.4084613 ]\n",
            " [-1.55662917  0.60600995 -1.28042935  1.75479418]\n",
            " [-2.08192941  1.69645637  0.21101747 -0.09671311]\n",
            " [-0.54491909  0.39913611 -0.0376347   1.10330188]\n",
            " [ 0.11422765  0.15030176 -0.36361221 -0.05694562]]\n",
            "A delete 3 column = \n",
            " [[ 0.71095997  0.44426331  1.1593298 ]\n",
            " [-1.08106333  0.61593561 -0.30954644]\n",
            " [ 0.32613302 -1.25111358 -0.18490214]\n",
            " [-0.52272302  1.04900923 -1.4084613 ]\n",
            " [-1.55662917  0.60600995  1.75479418]\n",
            " [-2.08192941  1.69645637 -0.09671311]\n",
            " [-0.54491909  0.39913611  1.10330188]\n",
            " [ 0.11422765  0.15030176 -0.05694562]]\n"
          ]
        }
      ]
    },
    {
      "cell_type": "markdown",
      "metadata": {
        "id": "tgI6xEn-2AQo"
      },
      "source": [
        "### <a name='9'></a> Ćwiczenie 59\n",
        "Podana jest tablica jednowymiarowa $v$ (wektor):\n",
        "\n",
        "```\n",
        "v = np.array([3, 4, -2])\n",
        "```\n",
        "Policz normę wektora $v$.\n"
      ]
    },
    {
      "cell_type": "code",
      "metadata": {
        "id": "TYPzAZCwi-Ky",
        "colab": {
          "base_uri": "https://localhost:8080/"
        },
        "outputId": "73df9970-c45a-4e78-b7e4-05db3e6c3603"
      },
      "source": [
        "# tutaj wpisz rozwiązanie\n",
        "v = np.array([3, 4, -2])\n",
        "\n",
        "# v = sqrt(3^2 + 4^2 + (-2)^2) = sqrt(9 + 16 + 4) = sqrt(29), which is about 5.385.\n",
        "vaector_norm = np.linalg.norm(v)\n",
        "vaector_norm"
      ],
      "execution_count": 59,
      "outputs": [
        {
          "output_type": "execute_result",
          "data": {
            "text/plain": [
              "5.385164807134504"
            ]
          },
          "metadata": {},
          "execution_count": 59
        }
      ]
    },
    {
      "cell_type": "markdown",
      "source": [],
      "metadata": {
        "id": "HEMz5VYh4kla"
      }
    },
    {
      "cell_type": "markdown",
      "metadata": {
        "id": "wxhpf-uq2B1I"
      },
      "source": [
        "### <a name='10'></a> Ćwiczenie 60\n",
        "Poniżej podana jest przykładowa tablica $A$:\n",
        "\n",
        "\n",
        "```\n",
        "A = np.random.randint(10, size=(100, 30))\n",
        "```\n",
        "Ustaw odopowiednią opcję biblioteki numpy pozwalającą drukować 10 skrajnych elementów. Wydrukuj tablicę $A$.\n"
      ]
    },
    {
      "cell_type": "code",
      "metadata": {
        "id": "liJX2nIBk-gO",
        "colab": {
          "base_uri": "https://localhost:8080/"
        },
        "outputId": "3632e00b-8e0a-47ff-9b83-c04addf8ae8c"
      },
      "source": [
        "# tutaj wpisz rozwiązanie\n",
        "A = np.random.randint(10, size=(100, 30))\n",
        "print(A)\n",
        "print(\"\\n\")\n",
        "np.set_printoptions(edgeitems = 10)\n",
        "print(A)"
      ],
      "execution_count": 61,
      "outputs": [
        {
          "output_type": "stream",
          "name": "stdout",
          "text": [
            "[[3 8 0 ... 9 4 6]\n",
            " [9 3 0 ... 1 9 0]\n",
            " [9 1 1 ... 3 9 4]\n",
            " ...\n",
            " [9 6 9 ... 1 5 4]\n",
            " [3 6 7 ... 1 0 9]\n",
            " [2 3 4 ... 3 0 7]]\n",
            "\n",
            "\n",
            "[[3 8 0 1 1 5 3 9 2 2 ... 1 7 8 3 7 8 9 9 4 6]\n",
            " [9 3 0 2 4 2 6 8 5 9 ... 9 9 5 7 7 8 7 1 9 0]\n",
            " [9 1 1 2 9 6 1 0 5 8 ... 6 4 3 6 6 5 7 3 9 4]\n",
            " [3 0 7 0 4 5 5 4 2 4 ... 1 1 7 0 5 5 3 9 2 2]\n",
            " [0 2 3 4 2 5 4 2 5 5 ... 9 2 8 3 2 1 9 8 3 2]\n",
            " [6 7 1 6 4 4 2 4 1 3 ... 7 6 4 4 6 8 8 8 5 9]\n",
            " [5 2 0 6 3 0 7 5 5 1 ... 2 7 9 1 4 0 5 1 3 5]\n",
            " [9 7 7 5 3 7 7 9 0 3 ... 3 4 9 0 6 8 7 4 3 6]\n",
            " [4 6 0 0 9 2 1 1 6 9 ... 4 8 7 7 7 7 6 7 7 7]\n",
            " [9 6 0 3 3 4 9 5 3 1 ... 7 7 2 6 0 0 6 9 8 6]\n",
            " ...\n",
            " [6 2 2 9 7 4 3 6 6 8 ... 7 4 9 6 4 7 9 9 3 1]\n",
            " [2 7 6 1 5 8 3 8 1 1 ... 3 8 0 7 4 0 3 0 5 1]\n",
            " [4 6 1 5 5 4 4 2 9 9 ... 6 4 6 3 7 9 9 6 9 4]\n",
            " [5 4 6 1 4 9 2 8 5 9 ... 4 6 5 1 3 1 0 2 2 6]\n",
            " [0 8 5 3 2 2 1 1 9 4 ... 5 0 2 9 4 9 4 9 5 9]\n",
            " [7 4 0 4 2 3 7 6 4 1 ... 6 5 4 7 2 5 4 7 3 7]\n",
            " [9 1 8 8 9 9 5 3 3 5 ... 8 8 8 7 9 2 0 7 6 4]\n",
            " [9 6 9 3 8 9 1 8 8 4 ... 5 4 1 9 9 1 6 1 5 4]\n",
            " [3 6 7 3 0 0 0 0 4 3 ... 7 3 7 0 2 5 8 1 0 9]\n",
            " [2 3 4 2 9 1 1 6 8 9 ... 1 8 6 3 3 1 4 3 0 7]]\n"
          ]
        }
      ]
    }
  ]
}