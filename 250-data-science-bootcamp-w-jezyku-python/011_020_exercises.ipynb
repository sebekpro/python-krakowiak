{
  "nbformat": 4,
  "nbformat_minor": 0,
  "metadata": {
    "colab": {
      "provenance": [],
      "include_colab_link": true
    },
    "kernelspec": {
      "name": "python3",
      "display_name": "Python 3"
    }
  },
  "cells": [
    {
      "cell_type": "markdown",
      "metadata": {
        "id": "view-in-github",
        "colab_type": "text"
      },
      "source": [
        "<a href=\"https://colab.research.google.com/github/sebekpro/python-krakowiak/blob/main/250-data-science-bootcamp-w-jezyku-python/011_020_exercises.ipynb\" target=\"_parent\"><img src=\"https://colab.research.google.com/assets/colab-badge.svg\" alt=\"Open In Colab\"/></a>"
      ]
    },
    {
      "cell_type": "markdown",
      "metadata": {
        "id": "WLEgCW5F1hho"
      },
      "source": [
        "## Numpy\n",
        "\n",
        "### Spis treści:\n",
        "* [Import biblioteki](#0)\n",
        "* [Ćwiczenie 11](#1)\n",
        "* [Ćwiczenie 12](#2)\n",
        "* [Ćwiczenie 13](#3)\n",
        "* [Ćwiczenie 14](#4)\n",
        "* [Ćwiczenie 15](#5)\n",
        "* [Ćwiczenie 16](#6)\n",
        "* [Ćwiczenie 17](#7)\n",
        "* [Ćwiczenie 18](#8)\n",
        "* [Ćwiczenie 19](#9)\n",
        "* [Ćwiczenie 20](#10)"
      ]
    },
    {
      "cell_type": "markdown",
      "metadata": {
        "id": "zeLOLmTj1kBM"
      },
      "source": [
        "### <a name='0'></a>Import biblioteki"
      ]
    },
    {
      "cell_type": "code",
      "metadata": {
        "id": "HXMB7SMe1Wnz",
        "outputId": "e4a87903-381e-4b0a-be97-65d36606ab84",
        "colab": {
          "base_uri": "https://localhost:8080/",
          "height": 35
        }
      },
      "source": [
        "import numpy as np\n",
        "\n",
        "np.__version__"
      ],
      "execution_count": 2,
      "outputs": [
        {
          "output_type": "execute_result",
          "data": {
            "text/plain": [
              "'1.26.4'"
            ],
            "application/vnd.google.colaboratory.intrinsic+json": {
              "type": "string"
            }
          },
          "metadata": {},
          "execution_count": 2
        }
      ]
    },
    {
      "cell_type": "markdown",
      "metadata": {
        "id": "cyc70pMe1oCg"
      },
      "source": [
        "### <a name='1'></a> Ćwiczenie 11\n",
        "Zbuduj jednowymiarową tablicę numpy liczb dwucyfrowych.\n",
        "\n",
        "__Oczekiwany wynik:__\n",
        "\n",
        "\n",
        "```\n",
        "array([10, 11, 12, 13, 14, 15, 16, 17, 18, 19, 20, 21, 22, 23, 24, 25, 26,\n",
        "       27, 28, 29, 30, 31, 32, 33, 34, 35, 36, 37, 38, 39, 40, 41, 42, 43,\n",
        "       44, 45, 46, 47, 48, 49, 50, 51, 52, 53, 54, 55, 56, 57, 58, 59, 60,\n",
        "       61, 62, 63, 64, 65, 66, 67, 68, 69, 70, 71, 72, 73, 74, 75, 76, 77,\n",
        "       78, 79, 80, 81, 82, 83, 84, 85, 86, 87, 88, 89, 90, 91, 92, 93, 94,\n",
        "       95, 96, 97, 98, 99])\n",
        "```\n",
        "\n",
        "\n",
        "\n",
        "__Wskazówka:__ Użyj funkcji _np.arange()_.\n"
      ]
    },
    {
      "cell_type": "code",
      "metadata": {
        "id": "GlQI9dUUVY5D",
        "outputId": "1bded888-d3d3-4083-97e5-e5e8c782ff4d",
        "colab": {
          "base_uri": "https://localhost:8080/"
        }
      },
      "source": [
        "# tutaj wpisz rozwiązanie\n",
        "A = np.arange(start = 10, stop = 100)\n",
        "A"
      ],
      "execution_count": 5,
      "outputs": [
        {
          "output_type": "execute_result",
          "data": {
            "text/plain": [
              "array([10, 11, 12, 13, 14, 15, 16, 17, 18, 19, 20, 21, 22, 23, 24, 25, 26,\n",
              "       27, 28, 29, 30, 31, 32, 33, 34, 35, 36, 37, 38, 39, 40, 41, 42, 43,\n",
              "       44, 45, 46, 47, 48, 49, 50, 51, 52, 53, 54, 55, 56, 57, 58, 59, 60,\n",
              "       61, 62, 63, 64, 65, 66, 67, 68, 69, 70, 71, 72, 73, 74, 75, 76, 77,\n",
              "       78, 79, 80, 81, 82, 83, 84, 85, 86, 87, 88, 89, 90, 91, 92, 93, 94,\n",
              "       95, 96, 97, 98, 99])"
            ]
          },
          "metadata": {},
          "execution_count": 5
        }
      ]
    },
    {
      "cell_type": "markdown",
      "metadata": {
        "id": "J9pY1rtr1sC0"
      },
      "source": [
        "### <a name='2'></a> Ćwiczenie 12\n",
        "Zbuduj tablicę numpy określoną poniżej:\n",
        "\n",
        "\n",
        "```\n",
        "array([[10, 11, 12, 13, 14, 15, 16, 17, 18, 19],\n",
        "       [20, 21, 22, 23, 24, 25, 26, 27, 28, 29],\n",
        "       [30, 31, 32, 33, 34, 35, 36, 37, 38, 39],\n",
        "       [40, 41, 42, 43, 44, 45, 46, 47, 48, 49],\n",
        "       [50, 51, 52, 53, 54, 55, 56, 57, 58, 59],\n",
        "       [60, 61, 62, 63, 64, 65, 66, 67, 68, 69],\n",
        "       [70, 71, 72, 73, 74, 75, 76, 77, 78, 79],\n",
        "       [80, 81, 82, 83, 84, 85, 86, 87, 88, 89],\n",
        "       [90, 91, 92, 93, 94, 95, 96, 97, 98, 99]])\n",
        "```\n",
        "\n",
        "Zwróć uwagę, że kształt tablicy to (9, 10).\n",
        "\n",
        "\n",
        "__Wskazówka:__ Użyj funkcji _np.arange()_ oraz metodę _np.ndarray.reshape()_."
      ]
    },
    {
      "cell_type": "code",
      "metadata": {
        "id": "Ehjc7nZpV_3a",
        "outputId": "cd8fb3d9-5a56-4ebc-dfbc-d23ada10ef05",
        "colab": {
          "base_uri": "https://localhost:8080/"
        }
      },
      "source": [
        "# tutaj wpisz rozwiązanie\n",
        "A = np.arange(start = 10, stop = 100)\n",
        "A9x10 = A.reshape((9, 10))\n",
        "print(A9x10)\n",
        "\n",
        "print(\"A.reshape((-1, 10)) = \\n\", A.reshape((-1, 10)))"
      ],
      "execution_count": 15,
      "outputs": [
        {
          "output_type": "stream",
          "name": "stdout",
          "text": [
            "[[10 11 12 13 14 15 16 17 18 19]\n",
            " [20 21 22 23 24 25 26 27 28 29]\n",
            " [30 31 32 33 34 35 36 37 38 39]\n",
            " [40 41 42 43 44 45 46 47 48 49]\n",
            " [50 51 52 53 54 55 56 57 58 59]\n",
            " [60 61 62 63 64 65 66 67 68 69]\n",
            " [70 71 72 73 74 75 76 77 78 79]\n",
            " [80 81 82 83 84 85 86 87 88 89]\n",
            " [90 91 92 93 94 95 96 97 98 99]]\n",
            "A.reshape((-1, 10)) = \n",
            " [[10 11 12 13 14 15 16 17 18 19]\n",
            " [20 21 22 23 24 25 26 27 28 29]\n",
            " [30 31 32 33 34 35 36 37 38 39]\n",
            " [40 41 42 43 44 45 46 47 48 49]\n",
            " [50 51 52 53 54 55 56 57 58 59]\n",
            " [60 61 62 63 64 65 66 67 68 69]\n",
            " [70 71 72 73 74 75 76 77 78 79]\n",
            " [80 81 82 83 84 85 86 87 88 89]\n",
            " [90 91 92 93 94 95 96 97 98 99]]\n"
          ]
        }
      ]
    },
    {
      "cell_type": "markdown",
      "metadata": {
        "id": "Von808MYssim"
      },
      "source": [
        "### Przypomnienie\n",
        "\n",
        "###  Macierz jednostkowa:\n",
        "\n",
        "Macierz jednostkowa - macierz kwadratowa, której współczynniki podane są wzorem:\n",
        "$${\\displaystyle a_{ij}={\\begin{cases}1\\quad {\\text{dla}}\\quad i=j\\\\[2pt]0\\quad {\\text{dla}}\\quad i\\neq j\\end{cases}}}$$\n",
        "\n",
        "#### Przykłady\n",
        "${\\displaystyle I_{1}={\\begin{bmatrix}1\\end{bmatrix}},\\;I_{2}={\\begin{bmatrix}1&0\\\\0&1\\end{bmatrix}},\\;I_{3}={\\begin{bmatrix}1&0&0\\\\0&1&0\\\\0&0&1\\end{bmatrix}}}$"
      ]
    },
    {
      "cell_type": "markdown",
      "metadata": {
        "id": "XQLYT2m11wVG"
      },
      "source": [
        "### <a name='3'></a> Ćwiczenie 13\n",
        "Zbuduj tablicę dwuwymiarową (macierz jednostkową) o kształcie _6x6_ mającą na przekątnej jedynki oraz poza same zera. Użyj typu danych _int_.\n",
        "__Oczekiwany wynik:__\n",
        "\n",
        "\n",
        "```\n",
        "array([[1, 0, 0, 0, 0, 0],\n",
        "       [0, 1, 0, 0, 0, 0],\n",
        "       [0, 0, 1, 0, 0, 0],\n",
        "       [0, 0, 0, 1, 0, 0],\n",
        "       [0, 0, 0, 0, 1, 0],\n",
        "       [0, 0, 0, 0, 0, 1]])\n",
        "```\n",
        "\n",
        "\n",
        "\n",
        "__Wskazówka:__ Użyj funkcji _np.eye()_."
      ]
    },
    {
      "cell_type": "code",
      "metadata": {
        "id": "jhXfKuTdXP2k",
        "outputId": "5376a505-b662-4566-911c-ab47f64bf415",
        "colab": {
          "base_uri": "https://localhost:8080/"
        }
      },
      "source": [
        "# tutaj wpisz rozwiązanie\n",
        "np.eye(N = 6, M = 6, dtype = 'int')"
      ],
      "execution_count": 11,
      "outputs": [
        {
          "output_type": "execute_result",
          "data": {
            "text/plain": [
              "array([[1, 0, 0, 0, 0, 0],\n",
              "       [0, 1, 0, 0, 0, 0],\n",
              "       [0, 0, 1, 0, 0, 0],\n",
              "       [0, 0, 0, 1, 0, 0],\n",
              "       [0, 0, 0, 0, 1, 0],\n",
              "       [0, 0, 0, 0, 0, 1]])"
            ]
          },
          "metadata": {},
          "execution_count": 11
        }
      ]
    },
    {
      "cell_type": "markdown",
      "metadata": {
        "id": "4xTKSUzg10MK"
      },
      "source": [
        "### <a name='4'></a> Ćwiczenie 14\n",
        "Ustaw ziarno losowe na wartość 10. Następnie zbuduj jednowymiarową tablicę składającą się z 30 pseudolosowo wygenerowanych wartości z rozkładu jednostajnego nad przedziałem $[0, 1)$.\n",
        "\n",
        "__Oczekiwany wynik:__\n",
        "\n",
        "\n",
        "```\n",
        "array([0.77132064, 0.02075195, 0.63364823, 0.74880388, 0.49850701,\n",
        "       0.22479665, 0.19806286, 0.76053071, 0.16911084, 0.08833981,\n",
        "       0.68535982, 0.95339335, 0.00394827, 0.51219226, 0.81262096,\n",
        "       0.61252607, 0.72175532, 0.29187607, 0.91777412, 0.71457578,\n",
        "       0.54254437, 0.14217005, 0.37334076, 0.67413362, 0.44183317,\n",
        "       0.43401399, 0.61776698, 0.51313824, 0.65039718, 0.60103895])\n",
        "```\n",
        "\n",
        "\n",
        "\n",
        "__Wskazówka:__ Użyj funkcji _np.random.rand()_."
      ]
    },
    {
      "cell_type": "code",
      "metadata": {
        "id": "kssg7-vEYX6T",
        "outputId": "37b57730-b500-434e-a849-24765a68ab75",
        "colab": {
          "base_uri": "https://localhost:8080/"
        }
      },
      "source": [
        "# tutaj wpisz rozwiązanie\n",
        "np.random.seed(10)\n",
        "\n",
        "np.random.rand(30)"
      ],
      "execution_count": 13,
      "outputs": [
        {
          "output_type": "execute_result",
          "data": {
            "text/plain": [
              "array([0.77132064, 0.02075195, 0.63364823, 0.74880388, 0.49850701,\n",
              "       0.22479665, 0.19806286, 0.76053071, 0.16911084, 0.08833981,\n",
              "       0.68535982, 0.95339335, 0.00394827, 0.51219226, 0.81262096,\n",
              "       0.61252607, 0.72175532, 0.29187607, 0.91777412, 0.71457578,\n",
              "       0.54254437, 0.14217005, 0.37334076, 0.67413362, 0.44183317,\n",
              "       0.43401399, 0.61776698, 0.51313824, 0.65039718, 0.60103895])"
            ]
          },
          "metadata": {},
          "execution_count": 13
        }
      ]
    },
    {
      "cell_type": "markdown",
      "metadata": {
        "id": "o3HKIKlP15Ro"
      },
      "source": [
        "### <a name='5'></a> Ćwiczenie 15\n",
        "Ustaw ziarno losowe na wartość 20. Następnie zbuduj dwuwymiarową tablicę o kształcie _(10, 4)_ wartości pseudolosowo wygenerowanych ze standardowego rozkładu normalego $N(0, 1)$.\n",
        "\n",
        "__Oczekiwany wynik:__\n",
        "\n",
        "\n",
        "```\n",
        "array([[ 0.88389311,  0.19586502,  0.35753652, -2.34326191],\n",
        "       [-1.08483259,  0.55969629,  0.93946935, -0.97848104],\n",
        "       [ 0.50309684,  0.40641447,  0.32346101, -0.49341088],\n",
        "       [-0.79201679, -0.84236793, -1.27950266,  0.24571517],\n",
        "       [-0.0441948 ,  1.56763255,  1.05110868,  0.40636843],\n",
        "       [-0.1686461 , -3.18970279,  1.12013226,  1.33277821],\n",
        "       [-0.24333877, -0.13003071, -0.10901737,  1.55618644],\n",
        "       [ 0.12877835, -2.06694872, -0.88549315, -1.10457948],\n",
        "       [ 0.93286635,  2.059838  , -0.93493796, -1.61299022],\n",
        "       [ 0.52706972, -1.55110074,  0.32961334, -1.13652654]])\n",
        "```\n",
        "\n",
        "\n",
        "\n",
        "__Wskazówka:__ Użyj funkcji _np.random.randn()_."
      ]
    },
    {
      "cell_type": "code",
      "metadata": {
        "id": "qrIqjdTgZoXJ",
        "outputId": "064bb93d-bfd9-4513-aa88-000313a8f634",
        "colab": {
          "base_uri": "https://localhost:8080/"
        }
      },
      "source": [
        "# tutaj wpisz rozwiązanie\n",
        "np.random.seed(20)\n",
        "X = np.random.normal(loc = 0, scale = 1, size = (10, 4))\n",
        "print(X, \"\\n\")\n",
        "X1 = np.random.randn(10, 4)\n",
        "print(X1)"
      ],
      "execution_count": 17,
      "outputs": [
        {
          "output_type": "stream",
          "name": "stdout",
          "text": [
            "[[ 0.88389311  0.19586502  0.35753652 -2.34326191]\n",
            " [-1.08483259  0.55969629  0.93946935 -0.97848104]\n",
            " [ 0.50309684  0.40641447  0.32346101 -0.49341088]\n",
            " [-0.79201679 -0.84236793 -1.27950266  0.24571517]\n",
            " [-0.0441948   1.56763255  1.05110868  0.40636843]\n",
            " [-0.1686461  -3.18970279  1.12013226  1.33277821]\n",
            " [-0.24333877 -0.13003071 -0.10901737  1.55618644]\n",
            " [ 0.12877835 -2.06694872 -0.88549315 -1.10457948]\n",
            " [ 0.93286635  2.059838   -0.93493796 -1.61299022]\n",
            " [ 0.52706972 -1.55110074  0.32961334 -1.13652654]] \n",
            "\n",
            "[[-3.38490605e-01  3.20970784e-01 -6.02308018e-01  1.54472836e+00]\n",
            " [ 6.47034084e-01  5.93217213e-01  4.38024497e-01  1.35778902e+00]\n",
            " [ 1.20451128e+00  1.35179619e+00  4.93437236e-01 -2.70436525e+00]\n",
            " [-5.55185797e-01  1.50856026e-03  8.57093817e-01  1.48114365e+00]\n",
            " [-2.19661122e-01  1.50339816e+00 -1.48238505e+00 -8.56164218e-01]\n",
            " [-8.28692770e-01  1.14047603e-01  5.27728470e-01  1.55838222e-01]\n",
            " [ 1.30142940e+00 -9.94801908e-01  2.09466534e+00  3.59428994e-01]\n",
            " [ 6.91002119e-01 -1.48571961e+00  9.87886147e-02 -2.28321031e-01]\n",
            " [-8.54775487e-01 -5.13145106e-01 -9.62215984e-01 -4.82450911e-01]\n",
            " [-2.39469757e-01  4.59744227e-01  6.46430166e-01  4.87402961e-01]]\n"
          ]
        }
      ]
    },
    {
      "cell_type": "markdown",
      "metadata": {
        "id": "PunXd_Ey16so"
      },
      "source": [
        "### <a name='6'></a> Ćwiczenie 16\n",
        "Ustaw ziarno losowe na wartość 30. Następnie zbuduj dwuwymiarową tablicę o kształcie _(10, 4)_ wartości pseudolosowo wygenerowanych z rozkładu normalego $N(100, 5)$.  \n",
        "$\\mu=100$   \n",
        "$\\sigma^{2}=5$\n",
        "\n",
        "__Oczekiwany wynik:__\n",
        "\n",
        "\n",
        "```\n",
        "array([[ 97.17349231, 103.41650023,  97.82942436, 101.05220329],\n",
        "       [ 99.7748353 , 100.67930221,  96.14063068, 103.544381  ],\n",
        "       [100.30029631,  97.52499594, 103.52901961, 100.24037271],\n",
        "       [ 98.29153712,  98.2666258 , 103.09437633, 101.70027274],\n",
        "       [ 99.36127721, 101.20382627,  95.34026547, 102.09694365],\n",
        "       [ 99.98708001,  98.95468525,  99.05410904, 102.38025432],\n",
        "       [ 93.50787269, 103.61547679, 103.18753701,  98.51356237],\n",
        "       [102.20256689,  96.19764407,  97.54000366,  97.05813038],\n",
        "       [101.81233513,  97.66380453,  98.45883627,  98.09317768],\n",
        "       [102.48979932,  95.70413391,  98.43161651, 101.89861815]])\n",
        "```\n",
        "\n",
        "\n",
        "\n",
        "__Wskazówka:__ Użyj funkcji _np.random.randn()_."
      ]
    },
    {
      "cell_type": "code",
      "metadata": {
        "id": "Z53wec08avi9",
        "outputId": "bb289008-e7c4-4239-9c3f-0995c6c110fe",
        "colab": {
          "base_uri": "https://localhost:8080/"
        }
      },
      "source": [
        "# tutaj wpisz rozwiązanie\n",
        "np.random.seed(30)\n",
        "print(\"np.random.normal(loc = 100, scale = 5, size = (10, 4)) \\n\", np.random.normal(loc = 100, scale = 5, size = (10, 4)))\n",
        "\n",
        "# Rozwiązanie autora\n",
        "mu = 100\n",
        "sigma = np.sqrt(5)\n",
        "\n",
        "print(\"sigma * np.random.randn(10, 4) + mu \\n\", sigma * np.random.randn(10, 4) + mu)"
      ],
      "execution_count": 19,
      "outputs": [
        {
          "output_type": "stream",
          "name": "stdout",
          "text": [
            "np.random.normal(loc = 100, scale = 5, size = (10, 4)) \n",
            " [[ 93.67973668 107.63952676  95.14644531 102.35279808]\n",
            " [ 99.49651642 101.51896592  91.37018786 107.92547685]\n",
            " [100.67148297  94.46572267 107.89112775 100.53748971]\n",
            " [ 96.17976087  96.12405745 106.91923583 103.80192542]\n",
            " [ 98.57177243 102.69183738  89.58051684 104.68890855]\n",
            " [ 99.97111002  97.66260516  97.8849235  105.32241047]\n",
            " [ 85.48316202 108.08445187 107.12754943  96.67622441]\n",
            " [104.9250893   91.49767367  94.49928096  93.42177955]\n",
            " [104.05250455  94.77610813  96.55385313  95.73621568]\n",
            " [105.56736054  90.39415141  96.49298791 104.24543925]]\n",
            "sigma * np.random.randn(10, 4) + mu \n",
            " [[102.34943615  98.79951222  99.9347231  103.11720395]\n",
            " [ 99.11034135 102.27883811 104.24602767  99.20653207]\n",
            " [ 99.13460486  95.69041414 101.23152918 102.13400447]\n",
            " [101.75034147  95.99019815 102.77687331 103.8186381 ]\n",
            " [100.72259296  97.78219087  97.39882154  99.95229327]\n",
            " [ 96.46255099  97.22031218  99.08283418  97.64077982]\n",
            " [ 97.63577818  97.12862661 102.0418119   96.89690708]\n",
            " [100.06714412  98.99375205 100.45980967  98.97135019]\n",
            " [ 99.61223676  99.51554504  99.41876804 101.26627061]\n",
            " [102.21487558  98.67006883 100.76800657  94.21009881]]\n"
          ]
        }
      ]
    },
    {
      "cell_type": "markdown",
      "metadata": {
        "id": "hOhqDRz618Tx"
      },
      "source": [
        "### <a name='7'></a> Ćwiczenie 17\n",
        "Iterując po tablicy numpy $A$ element po elemencie (element-wise) wydrukuj każdy element tablicy do konsoli.\n",
        "\n",
        "\n",
        "```\n",
        "A = np.array([[1, 4, 3],\n",
        "              [5, 2, 6]])\n",
        "```\n",
        "\n",
        "\n",
        "\n",
        "__Wskazówka:__ Użyj funkcji _np.nditer()_."
      ]
    },
    {
      "cell_type": "code",
      "metadata": {
        "id": "1GbS3dat1gIl",
        "outputId": "dae0f2de-c510-4feb-ec68-15bf76bfab75",
        "colab": {
          "base_uri": "https://localhost:8080/"
        }
      },
      "source": [
        "# tutaj wpisz rozwiązanie\n",
        "A = np.array([[1, 4, 3],\n",
        "              [5, 2, 6]])\n",
        "\n",
        "for x in np.nditer(A):\n",
        "  print(f'A = {x}')"
      ],
      "execution_count": 20,
      "outputs": [
        {
          "output_type": "stream",
          "name": "stdout",
          "text": [
            "A = 1\n",
            "A = 4\n",
            "A = 3\n",
            "A = 5\n",
            "A = 2\n",
            "A = 6\n"
          ]
        }
      ]
    },
    {
      "cell_type": "markdown",
      "metadata": {
        "id": "TXUd_4631-gw"
      },
      "source": [
        "### <a name='8'></a> Ćwiczenie 18\n",
        "Utwórz jednowymiarową tablicę numpy (wektor) składający się z 11 równo rozmieszczonych punktów z przedziału $[0, 1].$\n",
        "\n",
        "__Oczekiwany wynik:__\n",
        "\n",
        "\n",
        "```\n",
        "array([0. , 0.1, 0.2, 0.3, 0.4, 0.5, 0.6, 0.7, 0.8, 0.9, 1. ])\n",
        "```\n",
        "__Wskazówka:__ Użyj funkcji _np.linspace()_.\n"
      ]
    },
    {
      "cell_type": "code",
      "metadata": {
        "id": "ZuaUXkg73Amn",
        "outputId": "b2551ef3-3f2a-434c-8dca-70cc6c1ff217",
        "colab": {
          "base_uri": "https://localhost:8080/"
        }
      },
      "source": [
        "# tutaj wpisz rozwiązanie\n",
        "np.linspace(start = 0, stop = 1, num = 11)"
      ],
      "execution_count": 20,
      "outputs": [
        {
          "output_type": "execute_result",
          "data": {
            "text/plain": [
              "array([0. , 0.1, 0.2, 0.3, 0.4, 0.5, 0.6, 0.7, 0.8, 0.9, 1. ])"
            ]
          },
          "metadata": {},
          "execution_count": 20
        }
      ]
    },
    {
      "cell_type": "markdown",
      "metadata": {
        "id": "tgI6xEn-2AQo"
      },
      "source": [
        "### <a name='9'></a> Ćwiczenie 19\n",
        "Ustaw ziarno losowe na wartość 42. Wygeneruj tablicę jednowymiarową (wektor) zawierający możliwy wynik losowania w grę Duży Lotek.\n",
        "\n",
        "__Oczekiwany wynik:__\n",
        "\n",
        "\n",
        "```\n",
        "array([39, 29, 15, 43,  8, 21])\n",
        "```\n",
        "\n",
        "\n",
        "\n",
        "__Wskazówka:__ Wynikiem losowania jest 6-elementowy wektor wartości od 1 do 49 włącznie."
      ]
    },
    {
      "cell_type": "code",
      "metadata": {
        "id": "BAnycpr13-Nz",
        "outputId": "8f1631b1-c8cc-43fa-dce5-d0d86eca7d45",
        "colab": {
          "base_uri": "https://localhost:8080/"
        }
      },
      "source": [
        "# tutaj wpisz rozwiązanie\n",
        "\n",
        "# Ustawienie ziarna losowego\n",
        "np.random.seed(42)\n",
        "\n",
        "# Wygenerowanie losowego wyniku losowania: 6 unikalnych(replace=False) liczb od 1 do 49\n",
        "lottery_result = np.random.choice(np.arange(1, 50), size=6, replace=False)\n",
        "print(\"lottery_result: \\n\", lottery_result)\n",
        "\n",
        "# rozwiązanie autora\n",
        "ran = np.random.randint(low = 1, high = 50, size = 6)\n",
        "print(\"ran: \\n\", ran)\n"
      ],
      "execution_count": 22,
      "outputs": [
        {
          "output_type": "stream",
          "name": "stdout",
          "text": [
            "lottery_result: \n",
            " [14 46 48 45 18 28]\n",
            "ran: \n",
            " [ 9 26  2 20 28 47]\n"
          ]
        }
      ]
    },
    {
      "cell_type": "markdown",
      "metadata": {
        "id": "wxhpf-uq2B1I"
      },
      "source": [
        "### <a name='10'></a> Ćwiczenie 20\n",
        "Zbuduj dwuwymiarową tablicę numpy rozmiaru _6x6_ podaną poniżej:\n",
        "\n",
        "\n",
        "```\n",
        "array([[0, 0, 0, 0, 0, 0],\n",
        "       [0, 1, 0, 0, 0, 0],\n",
        "       [0, 0, 2, 0, 0, 0],\n",
        "       [0, 0, 0, 3, 0, 0],\n",
        "       [0, 0, 0, 0, 4, 0],\n",
        "       [0, 0, 0, 0, 0, 5]])\n",
        "```\n",
        "__Wskazówka:__ Użyj funkcji _np.diag()_.\n"
      ]
    },
    {
      "cell_type": "code",
      "metadata": {
        "id": "UrVAQwBJ6HpX",
        "outputId": "582d219c-3b58-40ff-9807-1d1d8a583bee",
        "colab": {
          "base_uri": "https://localhost:8080/"
        }
      },
      "source": [
        "# tutaj wpisz rozwiązanie\n",
        "A = np.arange(6)\n",
        "B = np.diag(A)\n",
        "B"
      ],
      "execution_count": 12,
      "outputs": [
        {
          "output_type": "execute_result",
          "data": {
            "text/plain": [
              "array([[0, 0, 0, 0, 0, 0],\n",
              "       [0, 1, 0, 0, 0, 0],\n",
              "       [0, 0, 2, 0, 0, 0],\n",
              "       [0, 0, 0, 3, 0, 0],\n",
              "       [0, 0, 0, 0, 4, 0],\n",
              "       [0, 0, 0, 0, 0, 5]])"
            ]
          },
          "metadata": {},
          "execution_count": 12
        }
      ]
    }
  ]
}