{
  "nbformat": 4,
  "nbformat_minor": 0,
  "metadata": {
    "colab": {
      "provenance": [],
      "include_colab_link": true
    },
    "kernelspec": {
      "name": "python3",
      "display_name": "Python 3"
    }
  },
  "cells": [
    {
      "cell_type": "markdown",
      "metadata": {
        "id": "view-in-github",
        "colab_type": "text"
      },
      "source": [
        "<a href=\"https://colab.research.google.com/github/sebekpro/python-krakowiak/blob/main/250-data-science-bootcamp-w-jezyku-python/101_110_exercises.ipynb\" target=\"_parent\"><img src=\"https://colab.research.google.com/assets/colab-badge.svg\" alt=\"Open In Colab\"/></a>"
      ]
    },
    {
      "cell_type": "markdown",
      "metadata": {
        "id": "WLEgCW5F1hho"
      },
      "source": [
        "## Pandas\n",
        "\n",
        "### Spis treści:\n",
        "* [Import biblioteki](#0)\n",
        "* [Ćwiczenie 101](#1)\n",
        "* [Ćwiczenie 102](#2)\n",
        "* [Ćwiczenie 103](#3)\n",
        "* [Ćwiczenie 104](#4)\n",
        "* [Ćwiczenie 105](#5)\n",
        "* [Ćwiczenie 106](#6)\n",
        "* [Ćwiczenie 107](#7)\n",
        "* [Ćwiczenie 108](#8)\n",
        "* [Ćwiczenie 109](#9)\n",
        "* [Ćwiczenie 110](#10)"
      ]
    },
    {
      "cell_type": "markdown",
      "metadata": {
        "id": "zeLOLmTj1kBM"
      },
      "source": [
        "### <a name='0'></a>Import biblioteki"
      ]
    },
    {
      "cell_type": "code",
      "metadata": {
        "id": "HXMB7SMe1Wnz",
        "colab": {
          "base_uri": "https://localhost:8080/",
          "height": 35
        },
        "outputId": "1aad7773-624a-4de5-adf5-9ef130792437"
      },
      "source": [
        "import numpy as np\n",
        "import pandas as pd\n",
        "\n",
        "pd.__version__"
      ],
      "execution_count": 1,
      "outputs": [
        {
          "output_type": "execute_result",
          "data": {
            "text/plain": [
              "'2.2.2'"
            ],
            "application/vnd.google.colaboratory.intrinsic+json": {
              "type": "string"
            }
          },
          "metadata": {},
          "execution_count": 1
        }
      ]
    },
    {
      "cell_type": "markdown",
      "metadata": {
        "id": "cyc70pMe1oCg"
      },
      "source": [
        "### <a name='1'></a> Ćwiczenie 101\n",
        "Z podanej poniżej listy:\n",
        "\n",
        "\n",
        "```\n",
        "stocks = ['PLW', 'CDR', '11B', 'TEN']\n",
        "```\n",
        "Utwórz obiekt typu Series.\n",
        "\n",
        "__Oczekiwany wynik:__\n",
        "\n",
        "\n",
        "```\n",
        "0    PLW\n",
        "1    CDR\n",
        "2    11B\n",
        "3    TEN\n",
        "dtype: object\n",
        "```\n",
        "\n",
        "\n",
        "\n"
      ]
    },
    {
      "cell_type": "code",
      "metadata": {
        "id": "GDGFmMI9BJ_D",
        "colab": {
          "base_uri": "https://localhost:8080/"
        },
        "outputId": "500ecc87-588c-47ed-c263-f12e492afa69"
      },
      "source": [
        "# tutaj wpisz rozwiązanie\n",
        "stocks = ['PLW', 'CDR', '11B', 'TEN']\n",
        "stocks_series = pd.Series(stocks)\n",
        "print(stocks_series)"
      ],
      "execution_count": 2,
      "outputs": [
        {
          "output_type": "stream",
          "name": "stdout",
          "text": [
            "0    PLW\n",
            "1    CDR\n",
            "2    11B\n",
            "3    TEN\n",
            "dtype: object\n"
          ]
        }
      ]
    },
    {
      "cell_type": "markdown",
      "metadata": {
        "id": "J9pY1rtr1sC0"
      },
      "source": [
        "### <a name='2'></a> Ćwiczenie 102\n",
        "Z podanego poniżej słownika:\n",
        "\n",
        "\n",
        "```\n",
        "stocks = {'PLW': 387.00, 'CDR': 339.5, 'TEN': 349.5, '11B': 391.0}\n",
        "```\n",
        "Utwórz obiekt typu Series i przypisz do zmiennej _quotations_.\n",
        "\n",
        "__Oczekiwany wynik:__\n",
        "\n",
        "\n",
        "```\n",
        "PLW    387.0\n",
        "CDR    339.5\n",
        "TEN    349.5\n",
        "11B    391.0\n",
        "dtype: float64\n",
        "```\n",
        "\n",
        "\n",
        "\n"
      ]
    },
    {
      "cell_type": "code",
      "metadata": {
        "id": "Qxkr7Q_DB79J",
        "colab": {
          "base_uri": "https://localhost:8080/"
        },
        "outputId": "1c15fe9b-73c3-4b02-c915-f545736758a1"
      },
      "source": [
        "# tutaj wpisz rozwiązanie\n",
        "stocks = {'PLW': 387.00, 'CDR': 339.5, 'TEN': 349.5, '11B': 391.0}\n",
        "quotations = pd.Series(stocks)\n",
        "print(quotations)"
      ],
      "execution_count": 3,
      "outputs": [
        {
          "output_type": "stream",
          "name": "stdout",
          "text": [
            "PLW    387.0\n",
            "CDR    339.5\n",
            "TEN    349.5\n",
            "11B    391.0\n",
            "dtype: float64\n"
          ]
        }
      ]
    },
    {
      "cell_type": "markdown",
      "metadata": {
        "id": "XQLYT2m11wVG"
      },
      "source": [
        "### <a name='3'></a> Ćwiczenie 103\n",
        "Przekształć obiekt _quotations_ do listy.\n",
        "\n",
        "__Oczekiwany wynik:__\n",
        "\n",
        "\n",
        "```\n",
        "[387.0, 339.5, 349.5, 391.0]\n",
        "```\n",
        "\n"
      ]
    },
    {
      "cell_type": "code",
      "metadata": {
        "id": "d0GEZKMGCgKt",
        "colab": {
          "base_uri": "https://localhost:8080/"
        },
        "outputId": "948c9dfb-347c-4217-c231-5bbbf70faef3"
      },
      "source": [
        "# tutaj wpisz rozwiązanie\n",
        "quotations_list = pd.Series.tolist(quotations)\n",
        "print(quotations_list)"
      ],
      "execution_count": 4,
      "outputs": [
        {
          "output_type": "stream",
          "name": "stdout",
          "text": [
            "[387.0, 339.5, 349.5, 391.0]\n"
          ]
        }
      ]
    },
    {
      "cell_type": "markdown",
      "metadata": {
        "id": "JQtZ-hYaGp7h"
      },
      "source": [
        "Przekształć obiekt _quotations_ do tablicy _numpy_."
      ]
    },
    {
      "cell_type": "code",
      "metadata": {
        "id": "0fMS1VvoGmyG",
        "colab": {
          "base_uri": "https://localhost:8080/"
        },
        "outputId": "2f9976df-90ec-4d78-cdd8-c319f71de9cf"
      },
      "source": [
        "# tutaj wpisz rozwiązanie\n",
        "table_numpy = np.array(quotations)\n",
        "print(table_numpy)"
      ],
      "execution_count": 5,
      "outputs": [
        {
          "output_type": "stream",
          "name": "stdout",
          "text": [
            "[387.  339.5 349.5 391. ]\n"
          ]
        }
      ]
    },
    {
      "cell_type": "markdown",
      "metadata": {
        "id": "4xTKSUzg10MK"
      },
      "source": [
        "### <a name='4'></a> Ćwiczenie 104\n",
        "Przekształć obiekt _quotations_ do obiektu _DataFrame_. Ustaw nazwę kolumny na _price_."
      ]
    },
    {
      "cell_type": "code",
      "metadata": {
        "id": "ygDJC3NmD_M6",
        "colab": {
          "base_uri": "https://localhost:8080/"
        },
        "outputId": "c8e17988-2688-42f8-89b3-ea377fd6f2f8"
      },
      "source": [
        "# tutaj wpisz rozwiązanie\n",
        "dt = pd.DataFrame(quotations, columns=['price'])\n",
        "print(dt)"
      ],
      "execution_count": 6,
      "outputs": [
        {
          "output_type": "stream",
          "name": "stdout",
          "text": [
            "     price\n",
            "PLW  387.0\n",
            "CDR  339.5\n",
            "TEN  349.5\n",
            "11B  391.0\n"
          ]
        }
      ]
    },
    {
      "cell_type": "markdown",
      "metadata": {
        "id": "o3HKIKlP15Ro"
      },
      "source": [
        "### <a name='5'></a> Ćwiczenie 105\n",
        "Wykorzystując bibliotekę _numpy_ zbuduj poniższy obiekt typu _Series_:\n",
        "\n",
        "\n",
        "```\n",
        "101    10.0\n",
        "102    20.0\n",
        "103    30.0\n",
        "104    40.0\n",
        "105    50.0\n",
        "106    60.0\n",
        "107    70.0\n",
        "108    80.0\n",
        "109    90.0\n",
        "dtype: float64\n",
        "```\n",
        "\n"
      ]
    },
    {
      "cell_type": "code",
      "metadata": {
        "id": "78evbbA2ELsX",
        "colab": {
          "base_uri": "https://localhost:8080/"
        },
        "outputId": "e6be5737-3cfd-4edf-90e2-dcdda292cdbf"
      },
      "source": [
        "# tutaj wpisz rozwiązanie\n",
        "data = np.arange(10, 100, 10, dtype = np.float_)\n",
        "idx = np.arange(101, 110)\n",
        "series =  pd.Series(data, idx)\n",
        "print(series)"
      ],
      "execution_count": 7,
      "outputs": [
        {
          "output_type": "stream",
          "name": "stdout",
          "text": [
            "101    10.0\n",
            "102    20.0\n",
            "103    30.0\n",
            "104    40.0\n",
            "105    50.0\n",
            "106    60.0\n",
            "107    70.0\n",
            "108    80.0\n",
            "109    90.0\n",
            "dtype: float64\n"
          ]
        }
      ]
    },
    {
      "cell_type": "markdown",
      "metadata": {
        "id": "PunXd_Ey16so"
      },
      "source": [
        "### <a name='6'></a> Ćwiczenie 106\n",
        "Podany jest poniższy obiekt typu _Series_:\n",
        "\n",
        "```\n",
        "series = pd.Series(['001', '002', '003', '004'], list('abcd'))\n",
        "```\n",
        "Skonwertuj typ obiektu _series_ na _int_.\n",
        "\n"
      ]
    },
    {
      "cell_type": "code",
      "metadata": {
        "id": "Ve_jsXz7FiPI",
        "colab": {
          "base_uri": "https://localhost:8080/"
        },
        "outputId": "53a24aa4-f9e8-4e11-b0e1-3e0c91a55d67"
      },
      "source": [
        "# tutaj wpisz rozwiązanie\n",
        "series = pd.Series(['001', '002', '003', '004'], list('abcd'))\n",
        "series_int = series.astype(int)\n",
        "print(series_int)\n",
        "print(series_int.dtypes)"
      ],
      "execution_count": 13,
      "outputs": [
        {
          "output_type": "stream",
          "name": "stdout",
          "text": [
            "a    1\n",
            "b    2\n",
            "c    3\n",
            "d    4\n",
            "dtype: int64\n",
            "int64\n"
          ]
        }
      ]
    },
    {
      "cell_type": "markdown",
      "metadata": {
        "id": "M9Xadb-hGRiD"
      },
      "source": [
        "Skonwertuj typ obiektu _series_ na _float_."
      ]
    },
    {
      "cell_type": "code",
      "metadata": {
        "id": "Fa7dEamIGQdr",
        "colab": {
          "base_uri": "https://localhost:8080/"
        },
        "outputId": "48a88b89-e057-48b4-e2ff-9cfbd368f424"
      },
      "source": [
        "# tutaj wpisz rozwiązanie\n",
        "series_float = series.astype(float)\n",
        "print(series_float)\n",
        "print(series_float.dtypes)"
      ],
      "execution_count": 21,
      "outputs": [
        {
          "output_type": "stream",
          "name": "stdout",
          "text": [
            "a    1.0\n",
            "b    2.0\n",
            "c    3.0\n",
            "d    4.0\n",
            "dtype: float64\n",
            "float64\n"
          ]
        }
      ]
    },
    {
      "cell_type": "markdown",
      "metadata": {
        "id": "hOhqDRz618Tx"
      },
      "source": [
        "### <a name='7'></a> Ćwiczenie 107\n",
        "Do poniższego obiektu _quotations_:\n",
        "\n",
        "```\n",
        "stocks = {'PLW': 387.00, 'CDR': 339.5, 'TEN': 349.5, '11B': 391.0}\n",
        "quotations = pd.Series(data=stocks)\n",
        "```\n",
        "Dodaj dwa elementy:\n",
        "* indeks: BBT, wartość: 25.5\n",
        "* indeks: F51, wartość: 19.2\n",
        "\n",
        "__Oczekiwany wynik:__\n",
        "\n",
        "\n",
        "```\n",
        "PLW    387.0\n",
        "CDR    339.5\n",
        "TEN    349.5\n",
        "11B    391.0\n",
        "BBT     25.5\n",
        "F51     19.2\n",
        "dtype: float64\n",
        "```\n",
        "\n",
        "\n"
      ]
    },
    {
      "cell_type": "code",
      "metadata": {
        "id": "ujz9ReTUHGeQ",
        "colab": {
          "base_uri": "https://localhost:8080/"
        },
        "outputId": "815d313d-1d6a-4a55-d713-56dfe3cf0ccf"
      },
      "source": [
        "# tutaj wpisz rozwiązanie\n",
        "stocks = {'PLW': 387.00, 'CDR': 339.5, 'TEN': 349.5, '11B': 391.0}\n",
        "quotations = pd.Series(data=stocks)\n",
        "quotations1 = pd.Series(data=stocks)\n",
        "quotations1['BBT'] = 25.5\n",
        "quotations1['F51'] = 19.2\n",
        "print(quotations1)\n",
        "\n",
        "# vesrion 2\n",
        "new_elem = pd.Series({'BBT': 25.5, 'F51': 19.2})\n",
        "quotations2 = pd.concat([quotations, new_elem])\n",
        "print(\"\\n\",quotations2)"
      ],
      "execution_count": 23,
      "outputs": [
        {
          "output_type": "stream",
          "name": "stdout",
          "text": [
            "PLW    387.0\n",
            "CDR    339.5\n",
            "TEN    349.5\n",
            "11B    391.0\n",
            "BBT     25.5\n",
            "F51     19.2\n",
            "dtype: float64\n",
            "\n",
            " PLW    387.0\n",
            "CDR    339.5\n",
            "TEN    349.5\n",
            "11B    391.0\n",
            "BBT     25.5\n",
            "F51     19.2\n",
            "dtype: float64\n"
          ]
        }
      ]
    },
    {
      "cell_type": "markdown",
      "metadata": {
        "id": "TXUd_4631-gw"
      },
      "source": [
        "### <a name='8'></a> Ćwiczenie 108\n",
        "Obiekt _quotations_ z poprzedniego ćwiczenia przekształć do obiektu typu _DataFrame_. Zresetuj indeks i nadaj nazwy kolumn '_ticker_' oraz _'price'_."
      ]
    },
    {
      "cell_type": "code",
      "metadata": {
        "id": "hthuSwq4IX9w",
        "colab": {
          "base_uri": "https://localhost:8080/"
        },
        "outputId": "c8f3b5c8-e962-45d7-8301-ca8c75257558"
      },
      "source": [
        "# tutaj wpisz rozwiązanie\n",
        "\n",
        "quotations_df = quotations1.reset_index()\n",
        "quotations_df.columns = ['ticker', 'price']\n",
        "print(quotations_df)"
      ],
      "execution_count": 27,
      "outputs": [
        {
          "output_type": "stream",
          "name": "stdout",
          "text": [
            "  ticker  price\n",
            "0    PLW  387.0\n",
            "1    CDR  339.5\n",
            "2    TEN  349.5\n",
            "3    11B  391.0\n",
            "4    BBT   25.5\n",
            "5    F51   19.2\n"
          ]
        }
      ]
    },
    {
      "cell_type": "markdown",
      "metadata": {
        "id": "tgI6xEn-2AQo"
      },
      "source": [
        "### <a name='9'></a> Ćwiczenie 109\n",
        "Zbuduj poniższy obiekt _DataFrame_ i przypisz do zmiennej _companies_:\n",
        "\n",
        "|    | company   |   price | ticker   |\n",
        "|---:|:----------|--------:|:---------|\n",
        "|  0 | Amazon    |  2375   | AMZN.US  |\n",
        "|  1 | Microsoft |   178.6 | MSFT.US  |\n",
        "|  2 | Facebook  |   179.2 | FB.US    |\n",
        "\n",
        "\n",
        "\n"
      ]
    },
    {
      "cell_type": "code",
      "metadata": {
        "id": "PjdpHMVMLRjb",
        "colab": {
          "base_uri": "https://localhost:8080/",
          "height": 143
        },
        "outputId": "102aa216-87fa-476f-cff5-c920a02f3acf"
      },
      "source": [
        "# tutaj wpisz rozwiązanie\n",
        "companies = pd.DataFrame({\n",
        "    'company': ['Amazon', 'Microsoft', 'Facebook'],\n",
        "    'price': [2375, 178.6, 179.2],\n",
        "    'ticker': ['AMZN.US', 'MSFT.US', 'FB.US']\n",
        "})\n",
        "companies"
      ],
      "execution_count": 36,
      "outputs": [
        {
          "output_type": "execute_result",
          "data": {
            "text/plain": [
              "     company   price   ticker\n",
              "0     Amazon  2375.0  AMZN.US\n",
              "1  Microsoft   178.6  MSFT.US\n",
              "2   Facebook   179.2    FB.US"
            ],
            "text/html": [
              "\n",
              "  <div id=\"df-61d01a95-28bf-40c9-bf67-3094141f1925\" class=\"colab-df-container\">\n",
              "    <div>\n",
              "<style scoped>\n",
              "    .dataframe tbody tr th:only-of-type {\n",
              "        vertical-align: middle;\n",
              "    }\n",
              "\n",
              "    .dataframe tbody tr th {\n",
              "        vertical-align: top;\n",
              "    }\n",
              "\n",
              "    .dataframe thead th {\n",
              "        text-align: right;\n",
              "    }\n",
              "</style>\n",
              "<table border=\"1\" class=\"dataframe\">\n",
              "  <thead>\n",
              "    <tr style=\"text-align: right;\">\n",
              "      <th></th>\n",
              "      <th>company</th>\n",
              "      <th>price</th>\n",
              "      <th>ticker</th>\n",
              "    </tr>\n",
              "  </thead>\n",
              "  <tbody>\n",
              "    <tr>\n",
              "      <th>0</th>\n",
              "      <td>Amazon</td>\n",
              "      <td>2375.0</td>\n",
              "      <td>AMZN.US</td>\n",
              "    </tr>\n",
              "    <tr>\n",
              "      <th>1</th>\n",
              "      <td>Microsoft</td>\n",
              "      <td>178.6</td>\n",
              "      <td>MSFT.US</td>\n",
              "    </tr>\n",
              "    <tr>\n",
              "      <th>2</th>\n",
              "      <td>Facebook</td>\n",
              "      <td>179.2</td>\n",
              "      <td>FB.US</td>\n",
              "    </tr>\n",
              "  </tbody>\n",
              "</table>\n",
              "</div>\n",
              "    <div class=\"colab-df-buttons\">\n",
              "\n",
              "  <div class=\"colab-df-container\">\n",
              "    <button class=\"colab-df-convert\" onclick=\"convertToInteractive('df-61d01a95-28bf-40c9-bf67-3094141f1925')\"\n",
              "            title=\"Convert this dataframe to an interactive table.\"\n",
              "            style=\"display:none;\">\n",
              "\n",
              "  <svg xmlns=\"http://www.w3.org/2000/svg\" height=\"24px\" viewBox=\"0 -960 960 960\">\n",
              "    <path d=\"M120-120v-720h720v720H120Zm60-500h600v-160H180v160Zm220 220h160v-160H400v160Zm0 220h160v-160H400v160ZM180-400h160v-160H180v160Zm440 0h160v-160H620v160ZM180-180h160v-160H180v160Zm440 0h160v-160H620v160Z\"/>\n",
              "  </svg>\n",
              "    </button>\n",
              "\n",
              "  <style>\n",
              "    .colab-df-container {\n",
              "      display:flex;\n",
              "      gap: 12px;\n",
              "    }\n",
              "\n",
              "    .colab-df-convert {\n",
              "      background-color: #E8F0FE;\n",
              "      border: none;\n",
              "      border-radius: 50%;\n",
              "      cursor: pointer;\n",
              "      display: none;\n",
              "      fill: #1967D2;\n",
              "      height: 32px;\n",
              "      padding: 0 0 0 0;\n",
              "      width: 32px;\n",
              "    }\n",
              "\n",
              "    .colab-df-convert:hover {\n",
              "      background-color: #E2EBFA;\n",
              "      box-shadow: 0px 1px 2px rgba(60, 64, 67, 0.3), 0px 1px 3px 1px rgba(60, 64, 67, 0.15);\n",
              "      fill: #174EA6;\n",
              "    }\n",
              "\n",
              "    .colab-df-buttons div {\n",
              "      margin-bottom: 4px;\n",
              "    }\n",
              "\n",
              "    [theme=dark] .colab-df-convert {\n",
              "      background-color: #3B4455;\n",
              "      fill: #D2E3FC;\n",
              "    }\n",
              "\n",
              "    [theme=dark] .colab-df-convert:hover {\n",
              "      background-color: #434B5C;\n",
              "      box-shadow: 0px 1px 3px 1px rgba(0, 0, 0, 0.15);\n",
              "      filter: drop-shadow(0px 1px 2px rgba(0, 0, 0, 0.3));\n",
              "      fill: #FFFFFF;\n",
              "    }\n",
              "  </style>\n",
              "\n",
              "    <script>\n",
              "      const buttonEl =\n",
              "        document.querySelector('#df-61d01a95-28bf-40c9-bf67-3094141f1925 button.colab-df-convert');\n",
              "      buttonEl.style.display =\n",
              "        google.colab.kernel.accessAllowed ? 'block' : 'none';\n",
              "\n",
              "      async function convertToInteractive(key) {\n",
              "        const element = document.querySelector('#df-61d01a95-28bf-40c9-bf67-3094141f1925');\n",
              "        const dataTable =\n",
              "          await google.colab.kernel.invokeFunction('convertToInteractive',\n",
              "                                                    [key], {});\n",
              "        if (!dataTable) return;\n",
              "\n",
              "        const docLinkHtml = 'Like what you see? Visit the ' +\n",
              "          '<a target=\"_blank\" href=https://colab.research.google.com/notebooks/data_table.ipynb>data table notebook</a>'\n",
              "          + ' to learn more about interactive tables.';\n",
              "        element.innerHTML = '';\n",
              "        dataTable['output_type'] = 'display_data';\n",
              "        await google.colab.output.renderOutput(dataTable, element);\n",
              "        const docLink = document.createElement('div');\n",
              "        docLink.innerHTML = docLinkHtml;\n",
              "        element.appendChild(docLink);\n",
              "      }\n",
              "    </script>\n",
              "  </div>\n",
              "\n",
              "\n",
              "<div id=\"df-b8c96860-a635-42e7-b64c-d1126230c9d8\">\n",
              "  <button class=\"colab-df-quickchart\" onclick=\"quickchart('df-b8c96860-a635-42e7-b64c-d1126230c9d8')\"\n",
              "            title=\"Suggest charts\"\n",
              "            style=\"display:none;\">\n",
              "\n",
              "<svg xmlns=\"http://www.w3.org/2000/svg\" height=\"24px\"viewBox=\"0 0 24 24\"\n",
              "     width=\"24px\">\n",
              "    <g>\n",
              "        <path d=\"M19 3H5c-1.1 0-2 .9-2 2v14c0 1.1.9 2 2 2h14c1.1 0 2-.9 2-2V5c0-1.1-.9-2-2-2zM9 17H7v-7h2v7zm4 0h-2V7h2v10zm4 0h-2v-4h2v4z\"/>\n",
              "    </g>\n",
              "</svg>\n",
              "  </button>\n",
              "\n",
              "<style>\n",
              "  .colab-df-quickchart {\n",
              "      --bg-color: #E8F0FE;\n",
              "      --fill-color: #1967D2;\n",
              "      --hover-bg-color: #E2EBFA;\n",
              "      --hover-fill-color: #174EA6;\n",
              "      --disabled-fill-color: #AAA;\n",
              "      --disabled-bg-color: #DDD;\n",
              "  }\n",
              "\n",
              "  [theme=dark] .colab-df-quickchart {\n",
              "      --bg-color: #3B4455;\n",
              "      --fill-color: #D2E3FC;\n",
              "      --hover-bg-color: #434B5C;\n",
              "      --hover-fill-color: #FFFFFF;\n",
              "      --disabled-bg-color: #3B4455;\n",
              "      --disabled-fill-color: #666;\n",
              "  }\n",
              "\n",
              "  .colab-df-quickchart {\n",
              "    background-color: var(--bg-color);\n",
              "    border: none;\n",
              "    border-radius: 50%;\n",
              "    cursor: pointer;\n",
              "    display: none;\n",
              "    fill: var(--fill-color);\n",
              "    height: 32px;\n",
              "    padding: 0;\n",
              "    width: 32px;\n",
              "  }\n",
              "\n",
              "  .colab-df-quickchart:hover {\n",
              "    background-color: var(--hover-bg-color);\n",
              "    box-shadow: 0 1px 2px rgba(60, 64, 67, 0.3), 0 1px 3px 1px rgba(60, 64, 67, 0.15);\n",
              "    fill: var(--button-hover-fill-color);\n",
              "  }\n",
              "\n",
              "  .colab-df-quickchart-complete:disabled,\n",
              "  .colab-df-quickchart-complete:disabled:hover {\n",
              "    background-color: var(--disabled-bg-color);\n",
              "    fill: var(--disabled-fill-color);\n",
              "    box-shadow: none;\n",
              "  }\n",
              "\n",
              "  .colab-df-spinner {\n",
              "    border: 2px solid var(--fill-color);\n",
              "    border-color: transparent;\n",
              "    border-bottom-color: var(--fill-color);\n",
              "    animation:\n",
              "      spin 1s steps(1) infinite;\n",
              "  }\n",
              "\n",
              "  @keyframes spin {\n",
              "    0% {\n",
              "      border-color: transparent;\n",
              "      border-bottom-color: var(--fill-color);\n",
              "      border-left-color: var(--fill-color);\n",
              "    }\n",
              "    20% {\n",
              "      border-color: transparent;\n",
              "      border-left-color: var(--fill-color);\n",
              "      border-top-color: var(--fill-color);\n",
              "    }\n",
              "    30% {\n",
              "      border-color: transparent;\n",
              "      border-left-color: var(--fill-color);\n",
              "      border-top-color: var(--fill-color);\n",
              "      border-right-color: var(--fill-color);\n",
              "    }\n",
              "    40% {\n",
              "      border-color: transparent;\n",
              "      border-right-color: var(--fill-color);\n",
              "      border-top-color: var(--fill-color);\n",
              "    }\n",
              "    60% {\n",
              "      border-color: transparent;\n",
              "      border-right-color: var(--fill-color);\n",
              "    }\n",
              "    80% {\n",
              "      border-color: transparent;\n",
              "      border-right-color: var(--fill-color);\n",
              "      border-bottom-color: var(--fill-color);\n",
              "    }\n",
              "    90% {\n",
              "      border-color: transparent;\n",
              "      border-bottom-color: var(--fill-color);\n",
              "    }\n",
              "  }\n",
              "</style>\n",
              "\n",
              "  <script>\n",
              "    async function quickchart(key) {\n",
              "      const quickchartButtonEl =\n",
              "        document.querySelector('#' + key + ' button');\n",
              "      quickchartButtonEl.disabled = true;  // To prevent multiple clicks.\n",
              "      quickchartButtonEl.classList.add('colab-df-spinner');\n",
              "      try {\n",
              "        const charts = await google.colab.kernel.invokeFunction(\n",
              "            'suggestCharts', [key], {});\n",
              "      } catch (error) {\n",
              "        console.error('Error during call to suggestCharts:', error);\n",
              "      }\n",
              "      quickchartButtonEl.classList.remove('colab-df-spinner');\n",
              "      quickchartButtonEl.classList.add('colab-df-quickchart-complete');\n",
              "    }\n",
              "    (() => {\n",
              "      let quickchartButtonEl =\n",
              "        document.querySelector('#df-b8c96860-a635-42e7-b64c-d1126230c9d8 button');\n",
              "      quickchartButtonEl.style.display =\n",
              "        google.colab.kernel.accessAllowed ? 'block' : 'none';\n",
              "    })();\n",
              "  </script>\n",
              "</div>\n",
              "\n",
              "  <div id=\"id_51bcad6d-9de1-4e69-9a94-bb23f52f89a2\">\n",
              "    <style>\n",
              "      .colab-df-generate {\n",
              "        background-color: #E8F0FE;\n",
              "        border: none;\n",
              "        border-radius: 50%;\n",
              "        cursor: pointer;\n",
              "        display: none;\n",
              "        fill: #1967D2;\n",
              "        height: 32px;\n",
              "        padding: 0 0 0 0;\n",
              "        width: 32px;\n",
              "      }\n",
              "\n",
              "      .colab-df-generate:hover {\n",
              "        background-color: #E2EBFA;\n",
              "        box-shadow: 0px 1px 2px rgba(60, 64, 67, 0.3), 0px 1px 3px 1px rgba(60, 64, 67, 0.15);\n",
              "        fill: #174EA6;\n",
              "      }\n",
              "\n",
              "      [theme=dark] .colab-df-generate {\n",
              "        background-color: #3B4455;\n",
              "        fill: #D2E3FC;\n",
              "      }\n",
              "\n",
              "      [theme=dark] .colab-df-generate:hover {\n",
              "        background-color: #434B5C;\n",
              "        box-shadow: 0px 1px 3px 1px rgba(0, 0, 0, 0.15);\n",
              "        filter: drop-shadow(0px 1px 2px rgba(0, 0, 0, 0.3));\n",
              "        fill: #FFFFFF;\n",
              "      }\n",
              "    </style>\n",
              "    <button class=\"colab-df-generate\" onclick=\"generateWithVariable('companies')\"\n",
              "            title=\"Generate code using this dataframe.\"\n",
              "            style=\"display:none;\">\n",
              "\n",
              "  <svg xmlns=\"http://www.w3.org/2000/svg\" height=\"24px\"viewBox=\"0 0 24 24\"\n",
              "       width=\"24px\">\n",
              "    <path d=\"M7,19H8.4L18.45,9,17,7.55,7,17.6ZM5,21V16.75L18.45,3.32a2,2,0,0,1,2.83,0l1.4,1.43a1.91,1.91,0,0,1,.58,1.4,1.91,1.91,0,0,1-.58,1.4L9.25,21ZM18.45,9,17,7.55Zm-12,3A5.31,5.31,0,0,0,4.9,8.1,5.31,5.31,0,0,0,1,6.5,5.31,5.31,0,0,0,4.9,4.9,5.31,5.31,0,0,0,6.5,1,5.31,5.31,0,0,0,8.1,4.9,5.31,5.31,0,0,0,12,6.5,5.46,5.46,0,0,0,6.5,12Z\"/>\n",
              "  </svg>\n",
              "    </button>\n",
              "    <script>\n",
              "      (() => {\n",
              "      const buttonEl =\n",
              "        document.querySelector('#id_51bcad6d-9de1-4e69-9a94-bb23f52f89a2 button.colab-df-generate');\n",
              "      buttonEl.style.display =\n",
              "        google.colab.kernel.accessAllowed ? 'block' : 'none';\n",
              "\n",
              "      buttonEl.onclick = () => {\n",
              "        google.colab.notebook.generateWithVariable('companies');\n",
              "      }\n",
              "      })();\n",
              "    </script>\n",
              "  </div>\n",
              "\n",
              "    </div>\n",
              "  </div>\n"
            ],
            "application/vnd.google.colaboratory.intrinsic+json": {
              "type": "dataframe",
              "variable_name": "companies",
              "summary": "{\n  \"name\": \"companies\",\n  \"rows\": 3,\n  \"fields\": [\n    {\n      \"column\": \"company\",\n      \"properties\": {\n        \"dtype\": \"string\",\n        \"num_unique_values\": 3,\n        \"samples\": [\n          \"Amazon\",\n          \"Microsoft\",\n          \"Facebook\"\n        ],\n        \"semantic_type\": \"\",\n        \"description\": \"\"\n      }\n    },\n    {\n      \"column\": \"price\",\n      \"properties\": {\n        \"dtype\": \"number\",\n        \"std\": 1267.9189616585647,\n        \"min\": 178.6,\n        \"max\": 2375.0,\n        \"num_unique_values\": 3,\n        \"samples\": [\n          2375.0,\n          178.6,\n          179.2\n        ],\n        \"semantic_type\": \"\",\n        \"description\": \"\"\n      }\n    },\n    {\n      \"column\": \"ticker\",\n      \"properties\": {\n        \"dtype\": \"string\",\n        \"num_unique_values\": 3,\n        \"samples\": [\n          \"AMZN.US\",\n          \"MSFT.US\",\n          \"FB.US\"\n        ],\n        \"semantic_type\": \"\",\n        \"description\": \"\"\n      }\n    }\n  ]\n}"
            }
          },
          "metadata": {},
          "execution_count": 36
        }
      ]
    },
    {
      "cell_type": "markdown",
      "metadata": {
        "id": "wxhpf-uq2B1I"
      },
      "source": [
        "### <a name='10'></a> Ćwiczenie 110\n",
        "Przekształć pierwszą kolumnę obiektu _companies_ w indeks."
      ]
    },
    {
      "cell_type": "code",
      "metadata": {
        "id": "YFc0KW6URsuc",
        "colab": {
          "base_uri": "https://localhost:8080/"
        },
        "outputId": "716e75ff-0cb2-4f44-a8f1-a7b8a3df537d"
      },
      "source": [
        "# tutaj wpisz rozwiązanie\n",
        "companies_set = companies.set_index('company')\n",
        "print(companies_set)"
      ],
      "execution_count": 37,
      "outputs": [
        {
          "output_type": "stream",
          "name": "stdout",
          "text": [
            "            price   ticker\n",
            "company                   \n",
            "Amazon     2375.0  AMZN.US\n",
            "Microsoft   178.6  MSFT.US\n",
            "Facebook    179.2    FB.US\n"
          ]
        }
      ]
    },
    {
      "cell_type": "markdown",
      "metadata": {
        "id": "HqlVvbOFNkOM"
      },
      "source": [
        "Wytnij wiersz dla spółki _Facebook_ z obiektu _companies_."
      ]
    },
    {
      "cell_type": "code",
      "metadata": {
        "id": "62A931aoNEDO",
        "colab": {
          "base_uri": "https://localhost:8080/"
        },
        "outputId": "eed84456-7112-4722-caba-8e6338c28daa"
      },
      "source": [
        "# tutaj wpisz rozwiązanie\n",
        "\n",
        "# na podstawie wartości z kolumny company bez ustawiania indeksu\n",
        "companies_delete = companies_set.drop('Facebook')\n",
        "print(companies_delete)\n",
        "\n",
        "# użycie drop() z parametrem index:\n",
        "companies_delete = companies.drop(companies[companies['company'] == 'Facebook'].index)\n",
        "print(\"\\n\", companies_delete)"
      ],
      "execution_count": 43,
      "outputs": [
        {
          "output_type": "stream",
          "name": "stdout",
          "text": [
            "            price   ticker\n",
            "company                   \n",
            "Amazon     2375.0  AMZN.US\n",
            "Microsoft   178.6  MSFT.US\n",
            "\n",
            "      company   price   ticker\n",
            "0     Amazon  2375.0  AMZN.US\n",
            "1  Microsoft   178.6  MSFT.US\n"
          ]
        }
      ]
    },
    {
      "cell_type": "markdown",
      "metadata": {
        "id": "mu_Kav5POAO0"
      },
      "source": [
        "Wytnij cenę dla spółki _Microsoft_"
      ]
    },
    {
      "cell_type": "code",
      "metadata": {
        "id": "m180ZDfuNjVN",
        "colab": {
          "base_uri": "https://localhost:8080/"
        },
        "outputId": "5e9cccdb-96fd-4a8a-9eff-8461ebe7f41b"
      },
      "source": [
        "# tutaj wpisz rozwiązanie\n",
        "price_Microsoft = companies_set.loc['Microsoft', 'price']\n",
        "price_Microsoft"
      ],
      "execution_count": 45,
      "outputs": [
        {
          "output_type": "execute_result",
          "data": {
            "text/plain": [
              "178.6"
            ]
          },
          "metadata": {},
          "execution_count": 45
        }
      ]
    }
  ]
}