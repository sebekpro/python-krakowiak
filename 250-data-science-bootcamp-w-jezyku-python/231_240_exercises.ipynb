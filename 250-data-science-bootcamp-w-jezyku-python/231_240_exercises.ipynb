{
  "nbformat": 4,
  "nbformat_minor": 0,
  "metadata": {
    "colab": {
      "provenance": [],
      "include_colab_link": true
    },
    "kernelspec": {
      "name": "python3",
      "display_name": "Python 3"
    }
  },
  "cells": [
    {
      "cell_type": "markdown",
      "metadata": {
        "id": "view-in-github",
        "colab_type": "text"
      },
      "source": [
        "<a href=\"https://colab.research.google.com/github/sebekpro/python-krakowiak/blob/main/250-data-science-bootcamp-w-jezyku-python/231_240_exercises.ipynb\" target=\"_parent\"><img src=\"https://colab.research.google.com/assets/colab-badge.svg\" alt=\"Open In Colab\"/></a>"
      ]
    },
    {
      "cell_type": "markdown",
      "metadata": {
        "id": "WLEgCW5F1hho"
      },
      "source": [
        "## Data Science Bootcamp\n",
        "\n",
        "### Spis treści:\n",
        "* [Import biblioteki](#0)\n",
        "* [Ćwiczenie 231](#1)\n",
        "* [Ćwiczenie 232](#2)\n",
        "* [Ćwiczenie 233](#3)\n",
        "* [Ćwiczenie 234](#4)\n",
        "* [Ćwiczenie 235](#5)\n",
        "* [Ćwiczenie 236](#6)\n",
        "* [Ćwiczenie 237](#7)\n",
        "* [Ćwiczenie 238](#8)\n",
        "* [Ćwiczenie 239](#9)\n",
        "* [Ćwiczenie 240](#10)"
      ]
    },
    {
      "cell_type": "markdown",
      "metadata": {
        "id": "zeLOLmTj1kBM"
      },
      "source": [
        "### <a name='0'></a>Import biblioteki"
      ]
    },
    {
      "cell_type": "code",
      "metadata": {
        "id": "HXMB7SMe1Wnz",
        "colab": {
          "base_uri": "https://localhost:8080/",
          "height": 35
        },
        "outputId": "101dd367-6a1f-48b0-ac48-dcc3115819cb"
      },
      "source": [
        "import numpy as np\n",
        "import pandas as pd\n",
        "\n",
        "np.__version__"
      ],
      "execution_count": 1,
      "outputs": [
        {
          "output_type": "execute_result",
          "data": {
            "text/plain": [
              "'2.0.2'"
            ],
            "application/vnd.google.colaboratory.intrinsic+json": {
              "type": "string"
            }
          },
          "metadata": {},
          "execution_count": 1
        }
      ]
    },
    {
      "cell_type": "markdown",
      "metadata": {
        "id": "cyc70pMe1oCg"
      },
      "source": [
        "### <a name='1'></a> Ćwiczenie 231\n",
        "Zaimportuj bibliotekę _tensorflow_ w wersji 2.x."
      ]
    },
    {
      "cell_type": "code",
      "metadata": {
        "id": "5c01I6SE9iMz",
        "colab": {
          "base_uri": "https://localhost:8080/",
          "height": 53
        },
        "outputId": "da16d7a6-c74e-4ccd-cefb-5faf12a4339d"
      },
      "source": [
        "%tensorflow_version 2.x\n",
        "import tensorflow as tf\n",
        "\n",
        "tf.__version__"
      ],
      "execution_count": 2,
      "outputs": [
        {
          "output_type": "stream",
          "name": "stdout",
          "text": [
            "Colab only includes TensorFlow 2.x; %tensorflow_version has no effect.\n"
          ]
        },
        {
          "output_type": "execute_result",
          "data": {
            "text/plain": [
              "'2.18.0'"
            ],
            "application/vnd.google.colaboratory.intrinsic+json": {
              "type": "string"
            }
          },
          "metadata": {},
          "execution_count": 2
        }
      ]
    },
    {
      "cell_type": "markdown",
      "metadata": {
        "id": "udKQYS8p947j"
      },
      "source": [
        "Załaduj dane Fashion MNIST wykorzystując bibliotekę _tensorflow_. Odpowiednio zbiór treningowy (_X\\_train_, _y\\_train_) oraz testowy (_X\\_test_, _y\\_test_)."
      ]
    },
    {
      "cell_type": "code",
      "metadata": {
        "id": "7ofBzT9D7OtR"
      },
      "source": [
        "# tutaj wpisz rozwiązanie\n",
        "#Załadowanie danych Fashion MINST\n",
        "(X_train, y_train), (X_test, y_test) = tf.keras.datasets.fashion_mnist.load_data()\n"
      ],
      "execution_count": 5,
      "outputs": []
    },
    {
      "cell_type": "markdown",
      "metadata": {
        "id": "_5k4LJvz-V41"
      },
      "source": [
        "Sprawdź rozmiar zbiorów treningowych i testowych."
      ]
    },
    {
      "cell_type": "code",
      "metadata": {
        "id": "ZVeMJ_aZ-CeF",
        "colab": {
          "base_uri": "https://localhost:8080/"
        },
        "outputId": "659f6d1b-c016-43ab-f993-7d82f5ad7d0b"
      },
      "source": [
        "# tutaj wpisz rozwiązanie\n",
        "# Sprawdzenie kształtó danych\n",
        "print(\"X_train shape\", X_train.shape)\n",
        "print(\"y_train shape\", y_train.shape)\n",
        "print(\"X_test shape\", X_test.shape)\n",
        "print(\"y_test shape\", y_test.shape)"
      ],
      "execution_count": 6,
      "outputs": [
        {
          "output_type": "stream",
          "name": "stdout",
          "text": [
            "X_train shape (60000, 28, 28)\n",
            "y_train shape (60000,)\n",
            "X_test shape (10000, 28, 28)\n",
            "y_test shape (10000,)\n"
          ]
        }
      ]
    },
    {
      "cell_type": "markdown",
      "source": [],
      "metadata": {
        "id": "v_YRgP8I5CHl"
      }
    },
    {
      "cell_type": "markdown",
      "metadata": {
        "id": "J9pY1rtr1sC0"
      },
      "source": [
        "### <a name='2'></a> Ćwiczenie 232\n",
        "Wykorzytując bibliotekę _matplotlib_ wyświetl obraz ze zbioru treningowego z indeksem 40."
      ]
    },
    {
      "cell_type": "code",
      "metadata": {
        "id": "BaHDWvBb-jJO",
        "colab": {
          "base_uri": "https://localhost:8080/",
          "height": 428
        },
        "outputId": "1f785551-2725-4c00-9e4e-b3c78ae14439"
      },
      "source": [
        "# tutaj wpisz rozwiązanie\n",
        "import matplotlib.pyplot as plt\n",
        "\n",
        "# Wyświetl obrazek o indeksie 40 ze zbioru treningowego\n",
        "plt.imshow(X_train[40], cmap='gray')\n",
        "plt.title(f'Etykieta {y_train[40]}')\n",
        "plt.axis('off')\n",
        "plt.show()"
      ],
      "execution_count": 16,
      "outputs": [
        {
          "output_type": "display_data",
          "data": {
            "text/plain": [
              "<Figure size 640x480 with 1 Axes>"
            ],
            "image/png": "[encoded data removed]"
          },
          "metadata": {}
        }
      ]
    },
    {
      "cell_type": "markdown",
      "metadata": {
        "id": "TkKoRL2s-1v9"
      },
      "source": [
        "Wyświetl numer klasy dla próbki ze zbioru treningowego z ineksem 40."
      ]
    },
    {
      "cell_type": "code",
      "metadata": {
        "id": "EbKo520c-9jy",
        "colab": {
          "base_uri": "https://localhost:8080/"
        },
        "outputId": "2075df4e-465a-491a-9db3-62b194e0b92f"
      },
      "source": [
        "# tutaj wpisz rozwiązanie\n",
        "print(\"Numer klasy dla próbki X_train[40]: \", y_train[40])"
      ],
      "execution_count": 17,
      "outputs": [
        {
          "output_type": "stream",
          "name": "stdout",
          "text": [
            "Numer klasy dla próbki X_train[40]:  6\n"
          ]
        }
      ]
    },
    {
      "cell_type": "markdown",
      "metadata": {
        "id": "XQLYT2m11wVG"
      },
      "source": [
        "### <a name='3'></a> Ćwiczenie 233\n",
        "Wystandaryzuj dane. Podziel wartości tablic _X\\_train_ oraz _X\\_test_ przez wartość 255.0."
      ]
    },
    {
      "cell_type": "code",
      "metadata": {
        "id": "xnWZFky_DKbU"
      },
      "source": [
        "# tutaj wpisz rozwiązanie\n",
        "X_train = X_train / 255.0\n",
        "X_test = X_test / 255.0"
      ],
      "execution_count": 18,
      "outputs": []
    },
    {
      "cell_type": "markdown",
      "metadata": {
        "id": "4xTKSUzg10MK"
      },
      "source": [
        "### <a name='4'></a> Ćwiczenie 234\n",
        "Zaimportuj klasę _Sequential_ z biblioteki _tensorflow_ wykorzystując pakiet _keras_."
      ]
    },
    {
      "cell_type": "code",
      "metadata": {
        "id": "kUOmpZA3DPS9"
      },
      "source": [
        "# tutaj wpisz rozwiązanie\n",
        "from tensorflow.keras.models import Sequential"
      ],
      "execution_count": 19,
      "outputs": []
    },
    {
      "cell_type": "markdown",
      "metadata": {
        "id": "iG9Y3gcOFK8u"
      },
      "source": [
        "Zaimportuj warstwy _Flatten_ oraz _Dense_ z biblioteki _tensorflow_ wykorzystując pakiet _keras_."
      ]
    },
    {
      "cell_type": "code",
      "metadata": {
        "id": "NatRczkHFMdl"
      },
      "source": [
        "# tutaj wpisz rozwiązanie\n",
        "from tensorflow.keras.layers import Input, Flatten, Dense"
      ],
      "execution_count": 26,
      "outputs": []
    },
    {
      "cell_type": "markdown",
      "metadata": {
        "id": "o3HKIKlP15Ro"
      },
      "source": [
        "### <a name='5'></a> Ćwiczenie 235\n",
        "Zbuduj model klasy _Sequential_."
      ]
    },
    {
      "cell_type": "code",
      "metadata": {
        "id": "Nxl6oimGDf53"
      },
      "source": [
        "# tutaj wpisz rozwiązanie\n",
        "model = Sequential()"
      ],
      "execution_count": 29,
      "outputs": []
    },
    {
      "cell_type": "markdown",
      "metadata": {
        "id": "eBtEdpmWFZ5U"
      },
      "source": [
        "Dodaj pierwszą warstwę typu _Flatten_ wraz z odpowiednio dobranym parametrem _input_shape_."
      ]
    },
    {
      "cell_type": "code",
      "metadata": {
        "id": "cFWTioPFFYXp"
      },
      "source": [
        "# tutaj wpisz rozwiązanie\n",
        "model.add(Input(shape=(28, 28)))\n",
        "model.add(Flatten())"
      ],
      "execution_count": 30,
      "outputs": []
    },
    {
      "cell_type": "markdown",
      "metadata": {
        "id": "PuwbCbWlFh8v"
      },
      "source": [
        "Dodaj kolejną warstwę typu _Dense_ z 128 neuronami i funkcją aktywacji _relu_."
      ]
    },
    {
      "cell_type": "code",
      "metadata": {
        "id": "VliQveubFr9z"
      },
      "source": [
        "# tutaj wpisz rozwiązanie\n",
        "model.add(Dense(128, activation='relu'))"
      ],
      "execution_count": 31,
      "outputs": []
    },
    {
      "cell_type": "markdown",
      "metadata": {
        "id": "iU5HfJfMFt7L"
      },
      "source": [
        "Dodaj ostatnią warstwę typu _Dense_ z 10 neuronami i funkcją aktywacji _softmax_."
      ]
    },
    {
      "cell_type": "code",
      "metadata": {
        "id": "cf6qF7uIFyrg"
      },
      "source": [
        "# tutaj wpisz rozwiązanie\n",
        "model.add(Dense(10, activation='softmax'))"
      ],
      "execution_count": 32,
      "outputs": []
    },
    {
      "cell_type": "markdown",
      "metadata": {
        "id": "slg5RaMuF0hu"
      },
      "source": [
        "Wyświetl podsumowanie modelu."
      ]
    },
    {
      "cell_type": "code",
      "metadata": {
        "id": "opGjZoakFz-P",
        "colab": {
          "base_uri": "https://localhost:8080/",
          "height": 238
        },
        "outputId": "6cf0d02d-b691-4ba7-cc37-96dbce153558"
      },
      "source": [
        "# tutaj wpisz rozwiązanie\n",
        "model.summary()"
      ],
      "execution_count": 33,
      "outputs": [
        {
          "output_type": "display_data",
          "data": {
            "text/plain": [
              "\u001b[1mModel: \"sequential_2\"\u001b[0m\n"
            ],
            "text/html": [
              "<pre style=\"white-space:pre;overflow-x:auto;line-height:normal;font-family:Menlo,'DejaVu Sans Mono',consolas,'Courier New',monospace\"><span style=\"font-weight: bold\">Model: \"sequential_2\"</span>\n",
              "</pre>\n"
            ]
          },
          "metadata": {}
        },
        {
          "output_type": "display_data",
          "data": {
            "text/plain": [
              "┏━━━━━━━━━━━━━━━━━━━━━━━━━━━━━━━━━┳━━━━━━━━━━━━━━━━━━━━━━━━┳━━━━━━━━━━━━━━━┓\n",
              "┃\u001b[1m \u001b[0m\u001b[1mLayer (type)                   \u001b[0m\u001b[1m \u001b[0m┃\u001b[1m \u001b[0m\u001b[1mOutput Shape          \u001b[0m\u001b[1m \u001b[0m┃\u001b[1m \u001b[0m\u001b[1m      Param #\u001b[0m\u001b[1m \u001b[0m┃\n",
              "┡━━━━━━━━━━━━━━━━━━━━━━━━━━━━━━━━━╇━━━━━━━━━━━━━━━━━━━━━━━━╇━━━━━━━━━━━━━━━┩\n",
              "│ flatten_2 (\u001b[38;5;33mFlatten\u001b[0m)             │ (\u001b[38;5;45mNone\u001b[0m, \u001b[38;5;34m784\u001b[0m)            │             \u001b[38;5;34m0\u001b[0m │\n",
              "├─────────────────────────────────┼────────────────────────┼───────────────┤\n",
              "│ dense (\u001b[38;5;33mDense\u001b[0m)                   │ (\u001b[38;5;45mNone\u001b[0m, \u001b[38;5;34m128\u001b[0m)            │       \u001b[38;5;34m100,480\u001b[0m │\n",
              "├─────────────────────────────────┼────────────────────────┼───────────────┤\n",
              "│ dense_1 (\u001b[38;5;33mDense\u001b[0m)                 │ (\u001b[38;5;45mNone\u001b[0m, \u001b[38;5;34m10\u001b[0m)             │         \u001b[38;5;34m1,290\u001b[0m │\n",
              "└─────────────────────────────────┴────────────────────────┴───────────────┘\n"
            ],
            "text/html": [
              "<pre style=\"white-space:pre;overflow-x:auto;line-height:normal;font-family:Menlo,'DejaVu Sans Mono',consolas,'Courier New',monospace\">┏━━━━━━━━━━━━━━━━━━━━━━━━━━━━━━━━━┳━━━━━━━━━━━━━━━━━━━━━━━━┳━━━━━━━━━━━━━━━┓\n",
              "┃<span style=\"font-weight: bold\"> Layer (type)                    </span>┃<span style=\"font-weight: bold\"> Output Shape           </span>┃<span style=\"font-weight: bold\">       Param # </span>┃\n",
              "┡━━━━━━━━━━━━━━━━━━━━━━━━━━━━━━━━━╇━━━━━━━━━━━━━━━━━━━━━━━━╇━━━━━━━━━━━━━━━┩\n",
              "│ flatten_2 (<span style=\"color: #0087ff; text-decoration-color: #0087ff\">Flatten</span>)             │ (<span style=\"color: #00d7ff; text-decoration-color: #00d7ff\">None</span>, <span style=\"color: #00af00; text-decoration-color: #00af00\">784</span>)            │             <span style=\"color: #00af00; text-decoration-color: #00af00\">0</span> │\n",
              "├─────────────────────────────────┼────────────────────────┼───────────────┤\n",
              "│ dense (<span style=\"color: #0087ff; text-decoration-color: #0087ff\">Dense</span>)                   │ (<span style=\"color: #00d7ff; text-decoration-color: #00d7ff\">None</span>, <span style=\"color: #00af00; text-decoration-color: #00af00\">128</span>)            │       <span style=\"color: #00af00; text-decoration-color: #00af00\">100,480</span> │\n",
              "├─────────────────────────────────┼────────────────────────┼───────────────┤\n",
              "│ dense_1 (<span style=\"color: #0087ff; text-decoration-color: #0087ff\">Dense</span>)                 │ (<span style=\"color: #00d7ff; text-decoration-color: #00d7ff\">None</span>, <span style=\"color: #00af00; text-decoration-color: #00af00\">10</span>)             │         <span style=\"color: #00af00; text-decoration-color: #00af00\">1,290</span> │\n",
              "└─────────────────────────────────┴────────────────────────┴───────────────┘\n",
              "</pre>\n"
            ]
          },
          "metadata": {}
        },
        {
          "output_type": "display_data",
          "data": {
            "text/plain": [
              "\u001b[1m Total params: \u001b[0m\u001b[38;5;34m101,770\u001b[0m (397.54 KB)\n"
            ],
            "text/html": [
              "<pre style=\"white-space:pre;overflow-x:auto;line-height:normal;font-family:Menlo,'DejaVu Sans Mono',consolas,'Courier New',monospace\"><span style=\"font-weight: bold\"> Total params: </span><span style=\"color: #00af00; text-decoration-color: #00af00\">101,770</span> (397.54 KB)\n",
              "</pre>\n"
            ]
          },
          "metadata": {}
        },
        {
          "output_type": "display_data",
          "data": {
            "text/plain": [
              "\u001b[1m Trainable params: \u001b[0m\u001b[38;5;34m101,770\u001b[0m (397.54 KB)\n"
            ],
            "text/html": [
              "<pre style=\"white-space:pre;overflow-x:auto;line-height:normal;font-family:Menlo,'DejaVu Sans Mono',consolas,'Courier New',monospace\"><span style=\"font-weight: bold\"> Trainable params: </span><span style=\"color: #00af00; text-decoration-color: #00af00\">101,770</span> (397.54 KB)\n",
              "</pre>\n"
            ]
          },
          "metadata": {}
        },
        {
          "output_type": "display_data",
          "data": {
            "text/plain": [
              "\u001b[1m Non-trainable params: \u001b[0m\u001b[38;5;34m0\u001b[0m (0.00 B)\n"
            ],
            "text/html": [
              "<pre style=\"white-space:pre;overflow-x:auto;line-height:normal;font-family:Menlo,'DejaVu Sans Mono',consolas,'Courier New',monospace\"><span style=\"font-weight: bold\"> Non-trainable params: </span><span style=\"color: #00af00; text-decoration-color: #00af00\">0</span> (0.00 B)\n",
              "</pre>\n"
            ]
          },
          "metadata": {}
        }
      ]
    },
    {
      "cell_type": "markdown",
      "metadata": {
        "id": "PunXd_Ey16so"
      },
      "source": [
        "### <a name='6'></a> Ćwiczenie 236\n",
        "Skompiluj model. Wykorzystaj optymalizator _rmsprop_, funkcję straty _sparse_categorical_crossentropy_ oraz metrykę _accuracy_."
      ]
    },
    {
      "cell_type": "code",
      "metadata": {
        "id": "jZ8kQ_kBDuoT"
      },
      "source": [
        "# tutaj wpisz rozwiązanie\n",
        "model.compile(\n",
        "    optimizer = 'rmsprop',\n",
        "    loss = 'sparse_categorical_crossentropy',\n",
        "    metrics=['accuracy']\n",
        ")"
      ],
      "execution_count": 34,
      "outputs": []
    },
    {
      "cell_type": "markdown",
      "metadata": {
        "id": "hOhqDRz618Tx"
      },
      "source": [
        "### <a name='7'></a> Ćwiczenie 237\n",
        "Dopasuj model do danych treningowych, ustawiając 10 epok oraz podział na zbiór walidacyjny wynoszący 0.2."
      ]
    },
    {
      "cell_type": "code",
      "metadata": {
        "id": "dfzLV2jKD30J",
        "colab": {
          "base_uri": "https://localhost:8080/"
        },
        "outputId": "cd665a78-96ac-400c-af05-643020426f17"
      },
      "source": [
        "# tutaj wpisz rozwiązanie\n",
        "history = model.fit(\n",
        "    X_train, y_train,\n",
        "    epochs = 10,\n",
        "    validation_split = 0.2\n",
        ")"
      ],
      "execution_count": 35,
      "outputs": [
        {
          "output_type": "stream",
          "name": "stdout",
          "text": [
            "Epoch 1/10\n",
            "\u001b[1m1500/1500\u001b[0m \u001b[32m━━━━━━━━━━━━━━━━━━━━\u001b[0m\u001b[37m\u001b[0m \u001b[1m9s\u001b[0m 5ms/step - accuracy: 0.7677 - loss: 0.6594 - val_accuracy: 0.8436 - val_loss: 0.4382\n",
            "Epoch 2/10\n",
            "\u001b[1m1500/1500\u001b[0m \u001b[32m━━━━━━━━━━━━━━━━━━━━\u001b[0m\u001b[37m\u001b[0m \u001b[1m9s\u001b[0m 6ms/step - accuracy: 0.8607 - loss: 0.3874 - val_accuracy: 0.8160 - val_loss: 0.4773\n",
            "Epoch 3/10\n",
            "\u001b[1m1500/1500\u001b[0m \u001b[32m━━━━━━━━━━━━━━━━━━━━\u001b[0m\u001b[37m\u001b[0m \u001b[1m10s\u001b[0m 6ms/step - accuracy: 0.8743 - loss: 0.3491 - val_accuracy: 0.8692 - val_loss: 0.3691\n",
            "Epoch 4/10\n",
            "\u001b[1m1500/1500\u001b[0m \u001b[32m━━━━━━━━━━━━━━━━━━━━\u001b[0m\u001b[37m\u001b[0m \u001b[1m7s\u001b[0m 5ms/step - accuracy: 0.8832 - loss: 0.3329 - val_accuracy: 0.8608 - val_loss: 0.3987\n",
            "Epoch 5/10\n",
            "\u001b[1m1500/1500\u001b[0m \u001b[32m━━━━━━━━━━━━━━━━━━━━\u001b[0m\u001b[37m\u001b[0m \u001b[1m8s\u001b[0m 5ms/step - accuracy: 0.8873 - loss: 0.3165 - val_accuracy: 0.8815 - val_loss: 0.3599\n",
            "Epoch 6/10\n",
            "\u001b[1m1500/1500\u001b[0m \u001b[32m━━━━━━━━━━━━━━━━━━━━\u001b[0m\u001b[37m\u001b[0m \u001b[1m9s\u001b[0m 6ms/step - accuracy: 0.8918 - loss: 0.2970 - val_accuracy: 0.8752 - val_loss: 0.3700\n",
            "Epoch 7/10\n",
            "\u001b[1m1500/1500\u001b[0m \u001b[32m━━━━━━━━━━━━━━━━━━━━\u001b[0m\u001b[37m\u001b[0m \u001b[1m9s\u001b[0m 5ms/step - accuracy: 0.8945 - loss: 0.2903 - val_accuracy: 0.8704 - val_loss: 0.3932\n",
            "Epoch 8/10\n",
            "\u001b[1m1500/1500\u001b[0m \u001b[32m━━━━━━━━━━━━━━━━━━━━\u001b[0m\u001b[37m\u001b[0m \u001b[1m10s\u001b[0m 5ms/step - accuracy: 0.8987 - loss: 0.2794 - val_accuracy: 0.8836 - val_loss: 0.3783\n",
            "Epoch 9/10\n",
            "\u001b[1m1500/1500\u001b[0m \u001b[32m━━━━━━━━━━━━━━━━━━━━\u001b[0m\u001b[37m\u001b[0m \u001b[1m8s\u001b[0m 5ms/step - accuracy: 0.9007 - loss: 0.2762 - val_accuracy: 0.8850 - val_loss: 0.3663\n",
            "Epoch 10/10\n",
            "\u001b[1m1500/1500\u001b[0m \u001b[32m━━━━━━━━━━━━━━━━━━━━\u001b[0m\u001b[37m\u001b[0m \u001b[1m11s\u001b[0m 6ms/step - accuracy: 0.9062 - loss: 0.2648 - val_accuracy: 0.8871 - val_loss: 0.3700\n"
          ]
        }
      ]
    },
    {
      "cell_type": "markdown",
      "metadata": {
        "id": "TXUd_4631-gw"
      },
      "source": [
        "### <a name='8'></a> Ćwiczenie 238\n",
        "Dokonaj predykcji modelu na podstawie danych testowych."
      ]
    },
    {
      "cell_type": "code",
      "metadata": {
        "id": "DTt5x9nWEHdk",
        "colab": {
          "base_uri": "https://localhost:8080/"
        },
        "outputId": "15bd7bc8-8f28-42f5-e2e6-e92794a1f571"
      },
      "source": [
        "# tutaj wpisz rozwiązanie\n",
        "y_pred_proba = model.predict(X_test) # Predykcje prawdopodobieństw\n",
        "y_pred = np.argmax(y_pred_proba, axis=1) # Predykcje numerów klas"
      ],
      "execution_count": 36,
      "outputs": [
        {
          "output_type": "stream",
          "name": "stdout",
          "text": [
            "\u001b[1m313/313\u001b[0m \u001b[32m━━━━━━━━━━━━━━━━━━━━\u001b[0m\u001b[37m\u001b[0m \u001b[1m1s\u001b[0m 3ms/step\n"
          ]
        }
      ]
    },
    {
      "cell_type": "markdown",
      "metadata": {
        "id": "PBx5KlxNGeKi"
      },
      "source": [
        "Zbuduj macierz konfuzji (macierz pomyłek)."
      ]
    },
    {
      "cell_type": "code",
      "metadata": {
        "id": "OMTUnA7pEUbY",
        "colab": {
          "base_uri": "https://localhost:8080/"
        },
        "outputId": "bf92056c-7a62-474d-d69b-42d25c2514da"
      },
      "source": [
        "# tutaj wpisz rozwiązanie\n",
        "from sklearn.metrics import confusion_matrix\n",
        "\n",
        "# y_test — rzeczywiste etykiety testowe\n",
        "# y_pred — przewidywane etykiety (numery klas) przez model\n",
        "\n",
        "cm = confusion_matrix(y_test, y_pred)\n",
        "print(\"Macierz konfuzji pomyłek: \\n\", cm)"
      ],
      "execution_count": 37,
      "outputs": [
        {
          "output_type": "stream",
          "name": "stdout",
          "text": [
            "Macierz konfuzji pomyłek: \n",
            " [[867   1  12  19   3   1  86   0  11   0]\n",
            " [  6 962   2  25   2   0   2   0   1   0]\n",
            " [ 21   0 799  14  89   0  71   0   6   0]\n",
            " [ 37   5  16 880  33   0  26   0   3   0]\n",
            " [  0   0 107  35 791   0  62   0   5   0]\n",
            " [  0   0   0   1   0 945   0  38   1  15]\n",
            " [158   1  78  23  81   0 644   0  15   0]\n",
            " [  0   0   0   0   0  10   0 976   1  13]\n",
            " [  5   0   3   3   3   2   6   6 972   0]\n",
            " [  0   0   0   0   0  10   1  59   0 930]]\n"
          ]
        }
      ]
    },
    {
      "cell_type": "markdown",
      "source": [
        "### **Opis:**\n",
        "\n",
        "* confusion_matrix(y_test, y_pred) tworzy macierz, w której:\n",
        "\n",
        " * wiersze odpowiadają rzeczywistym klasom,\n",
        "\n",
        " * kolumny przewidywanym klasom,\n",
        "\n",
        " * każda wartość to liczba próbek danego typu."
      ],
      "metadata": {
        "id": "Bv4Clz9NBn2K"
      }
    },
    {
      "cell_type": "markdown",
      "metadata": {
        "id": "tgI6xEn-2AQo"
      },
      "source": [
        "### <a name='9'></a> Ćwiczenie 239\n",
        "Zbuduj obiekt pandas _DataFrame_ zawierający predykcje modelu. Nadaj nazwę kolumny _prediction_ i przypisz do zmiennej _results_."
      ]
    },
    {
      "cell_type": "code",
      "metadata": {
        "id": "rgVtSSeLPj3Y",
        "colab": {
          "base_uri": "https://localhost:8080/"
        },
        "outputId": "516be66c-eaa3-45b0-b9b2-b3f6e75199e8"
      },
      "source": [
        "# tutaj wpisz rozwiązanie\n",
        "import pandas as pd\n",
        "\n",
        "results = pd.DataFrame({'prediction': y_pred})\n",
        "print(results.head())"
      ],
      "execution_count": 39,
      "outputs": [
        {
          "output_type": "stream",
          "name": "stdout",
          "text": [
            "   prediction\n",
            "0           9\n",
            "1           2\n",
            "2           1\n",
            "3           1\n",
            "4           6\n"
          ]
        }
      ]
    },
    {
      "cell_type": "markdown",
      "metadata": {
        "id": "K_Pox4jIRCvs"
      },
      "source": [
        "Przypisz nową kolumnę z wartościami ze zmiennej _y\\_test_ i nazwij ją _y\\_test_."
      ]
    },
    {
      "cell_type": "code",
      "metadata": {
        "id": "7__xhD69Q9uK",
        "colab": {
          "base_uri": "https://localhost:8080/"
        },
        "outputId": "44a8be91-a95a-4054-f459-701b95f42da4"
      },
      "source": [
        "# tutaj wpisz rozwiązanie\n",
        "results['y_test'] = y_test\n",
        "print(results.head())"
      ],
      "execution_count": 40,
      "outputs": [
        {
          "output_type": "stream",
          "name": "stdout",
          "text": [
            "   prediction  y_test\n",
            "0           9       9\n",
            "1           2       2\n",
            "2           1       1\n",
            "3           1       1\n",
            "4           6       6\n"
          ]
        }
      ]
    },
    {
      "cell_type": "markdown",
      "metadata": {
        "id": "fwZMFYpxRwfz"
      },
      "source": [
        "Przypisz nową kolumnę o nazwie _is_misclassified_, która zwróci 1, gdy próbki zostaną błędnie sklasyfikowane, w przeciwnym przypadku 0."
      ]
    },
    {
      "cell_type": "code",
      "metadata": {
        "id": "dTDauRDuRPAf",
        "colab": {
          "base_uri": "https://localhost:8080/"
        },
        "outputId": "0d0ac4c4-a383-496e-f9ce-94a62296506f"
      },
      "source": [
        "# tutaj wpisz rozwiązanie\n",
        "results['is_misclassified'] = (results['prediction'] != results['y_test']).astype(int)\n",
        "print(results.head())"
      ],
      "execution_count": 41,
      "outputs": [
        {
          "output_type": "stream",
          "name": "stdout",
          "text": [
            "   prediction  y_test  is_misclassified\n",
            "0           9       9                 0\n",
            "1           2       2                 0\n",
            "2           1       1                 0\n",
            "3           1       1                 0\n",
            "4           6       6                 0\n"
          ]
        }
      ]
    },
    {
      "cell_type": "markdown",
      "metadata": {
        "id": "wxhpf-uq2B1I"
      },
      "source": [
        "### <a name='10'></a> Ćwiczenie 240\n",
        "Zapisz obiekt _results_ do pliku _results.csv_."
      ]
    },
    {
      "cell_type": "code",
      "metadata": {
        "id": "YFc0KW6URsuc"
      },
      "source": [
        "# tutaj wpisz rozwiązanie\n",
        "results.to_csv('results.csv', index = False)"
      ],
      "execution_count": 42,
      "outputs": []
    },
    {
      "cell_type": "code",
      "metadata": {
        "id": "G8LCyqkdSK-3",
        "colab": {
          "base_uri": "https://localhost:8080/"
        },
        "outputId": "489bc654-167c-4c11-d629-004ce87fe5bd"
      },
      "source": [
        "!head results.csv"
      ],
      "execution_count": 43,
      "outputs": [
        {
          "output_type": "stream",
          "name": "stdout",
          "text": [
            "prediction,y_test,is_misclassified\n",
            "9,9,0\n",
            "2,2,0\n",
            "1,1,0\n",
            "1,1,0\n",
            "6,6,0\n",
            "1,1,0\n",
            "4,4,0\n",
            "6,6,0\n",
            "5,5,0\n"
          ]
        }
      ]
    }
  ]
}