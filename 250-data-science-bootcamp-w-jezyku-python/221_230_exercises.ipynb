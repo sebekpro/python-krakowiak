{
  "nbformat": 4,
  "nbformat_minor": 0,
  "metadata": {
    "colab": {
      "provenance": [],
      "include_colab_link": true
    },
    "kernelspec": {
      "name": "python3",
      "display_name": "Python 3"
    }
  },
  "cells": [
    {
      "cell_type": "markdown",
      "metadata": {
        "id": "view-in-github",
        "colab_type": "text"
      },
      "source": [
        "<a href=\"https://colab.research.google.com/github/sebekpro/python-krakowiak/blob/main/250-data-science-bootcamp-w-jezyku-python/221_230_exercises.ipynb\" target=\"_parent\"><img src=\"https://colab.research.google.com/assets/colab-badge.svg\" alt=\"Open In Colab\"/></a>"
      ]
    },
    {
      "cell_type": "markdown",
      "metadata": {
        "id": "WLEgCW5F1hho"
      },
      "source": [
        "## Data Science Bootcamp\n",
        "\n",
        "### Spis treści:\n",
        "* [Import biblioteki](#0)\n",
        "* [Ćwiczenie 221](#1)\n",
        "* [Ćwiczenie 222](#2)\n",
        "* [Ćwiczenie 223](#3)\n",
        "* [Ćwiczenie 224](#4)\n",
        "* [Ćwiczenie 225](#5)\n",
        "* [Ćwiczenie 226](#6)\n",
        "* [Ćwiczenie 227](#7)\n",
        "* [Ćwiczenie 228](#8)\n",
        "* [Ćwiczenie 229](#9)\n",
        "* [Ćwiczenie 230](#10)"
      ]
    },
    {
      "cell_type": "markdown",
      "metadata": {
        "id": "zeLOLmTj1kBM"
      },
      "source": [
        "### <a name='0'></a>Import biblioteki"
      ]
    },
    {
      "cell_type": "code",
      "metadata": {
        "id": "HXMB7SMe1Wnz",
        "colab": {
          "base_uri": "https://localhost:8080/",
          "height": 35
        },
        "outputId": "7a5a00ba-5d1f-4594-e965-dc1f3d8ddb05"
      },
      "source": [
        "import numpy as np\n",
        "np.random.seed(20)\n",
        "\n",
        "np.__version__"
      ],
      "execution_count": 3,
      "outputs": [
        {
          "output_type": "execute_result",
          "data": {
            "text/plain": [
              "'2.0.2'"
            ],
            "application/vnd.google.colaboratory.intrinsic+json": {
              "type": "string"
            }
          },
          "metadata": {},
          "execution_count": 3
        }
      ]
    },
    {
      "cell_type": "markdown",
      "metadata": {
        "id": "ooAbgODbViP4"
      },
      "source": [
        "### <a name='a11'></a> Rozwiązywanie układów równań\n",
        "Rozważmy układ równań $U$:  \n",
        "$${\\displaystyle \\mathrm {U} \\colon {\\begin{cases}{\\begin{matrix}a_{11}x_{1}&+&a_{12}x_{2}&+&\\dots &+&a_{1n}x_{n}&=b_{1},\\\\a_{21}x_{1}&+&a_{22}x_{2}&+&\\dots &+&a_{2n}x_{n}&=b_{2},\\\\\\vdots &&\\vdots &&\\ddots &&\\vdots &\\vdots \\\\a_{m1}x_{1}&+&a_{m2}x_{2}&+&\\dots &+&a_{mn}x_{n}&=b_{m}.\\end{matrix}}\\end{cases}}.}$$\n",
        "\n",
        "Wykorzystując macierze możemy to przedstawić następująco:\n",
        "\n",
        "$${\\begin{bmatrix}a_{11}&a_{12}&\\dots &a_{1n}\\\\a_{21}&a_{22}&\\dots &a_{2n}\\\\\\vdots &\\vdots &\\ddots &\\vdots \\\\a_{m1}&a_{m2}&\\dots &a_{mn}\\end{bmatrix}}{\\begin{bmatrix}x_{1}\\\\x_{2}\\\\\\vdots \\\\x_{n}\\end{bmatrix}}={\\begin{bmatrix}b_{1}\\\\b_{2}\\\\\\vdots \\\\b_{m}\\end{bmatrix}}$$\n",
        "I w zapisie skrótowym:\n",
        "$$\\mathbf {AX} =\\mathbf {B}$$\n",
        "\n",
        "Gdzie:  \n",
        "$A = {\\begin{bmatrix}a_{11}&a_{12}&\\dots &a_{1n}\\\\a_{21}&a_{22}&\\dots &a_{2n}\\\\\\vdots &\\vdots &\\ddots &\\vdots \\\\a_{m1}&a_{m2}&\\dots &a_{mn}\\end{bmatrix}}$ - macierz współczynników\n",
        "\n",
        "${\\displaystyle \\mathbf {B} =[b_{1},b_{2},\\dots ,b_{m}]} $ - wektor wyrazów wolnych  \n",
        "${\\mathbf  X}=[x_{1},x_{2},\\dots ,x_{n}] $ - wektor niewiadomych\n",
        "\n",
        "Jeśli macierz układu $A$ jest macierzą kwadratową, to oznaczoność układu jest równoważna jej odwracalności, tzn.\n",
        "$$\\mathbf {AX} =\\mathbf {B}$$\n",
        "$${\\displaystyle \\mathbf {A} ^{-1}\\mathbf {AX} =\\mathbf {A} ^{-1}\\mathbf {B}} $$\n",
        "$$\\mathbf {X} =\\mathbf {A} ^{-1}\\mathbf {B} .$$\n",
        "\n",
        "#### Przykład:\n",
        "Rozważmy układ równań:\n",
        "$$\\begin{cases}2x + 4y = 10 \\\\ x - y = -1 \\end{cases}$$  \n",
        "Rozwiązaniem jest para liczb:\n",
        "$$\\begin{cases}x = 1 \\\\ y = 2 \\end{cases}$$  \n"
      ]
    },
    {
      "cell_type": "markdown",
      "metadata": {
        "id": "cyc70pMe1oCg"
      },
      "source": [
        "### <a name='1'></a> Ćwiczenie 221\n",
        "Wykorzystując bibliotekę numpy rozwiąż poniższy układ równań:\n",
        "\n",
        "$$\\begin{cases}5x - 3y = 21 \\\\ x - 2y = 7 \\end{cases}$$"
      ]
    },
    {
      "cell_type": "code",
      "metadata": {
        "id": "gkffRbwLWITv",
        "colab": {
          "base_uri": "https://localhost:8080/"
        },
        "outputId": "42a6bbe2-96bd-42de-c509-d7095c1a72e8"
      },
      "source": [
        "# tutaj wpisz rozwiązanie\n",
        "# Tworzymy macierz współczynników\n",
        "A = np.array([[5, -3],\n",
        "              [1, -2]])\n",
        "\n",
        "# Tworzymy wektor wyrazów wolnych\n",
        "B = np.array([21, 7])\n",
        "\n",
        "# Rozwiązujemy układ równań\n",
        "X = np.linalg.solve(A, B)\n",
        "\n",
        "# Wyświetlamy rozwiązania\n",
        "print(\"x = \", X[0])\n",
        "print(\"y = \", X[1])"
      ],
      "execution_count": 4,
      "outputs": [
        {
          "output_type": "stream",
          "name": "stdout",
          "text": [
            "x =  3.0\n",
            "y =  -2.0\n"
          ]
        }
      ]
    },
    {
      "cell_type": "code",
      "source": [
        "# Rozwiązanie autora\n",
        "np.dot(np.linalg.inv(A), B)"
      ],
      "metadata": {
        "id": "iqhcfBNVqqtu",
        "outputId": "28478a63-885d-4266-eae7-cda6f2f14b00",
        "colab": {
          "base_uri": "https://localhost:8080/"
        }
      },
      "execution_count": 5,
      "outputs": [
        {
          "output_type": "execute_result",
          "data": {
            "text/plain": [
              "array([ 3., -2.])"
            ]
          },
          "metadata": {},
          "execution_count": 5
        }
      ]
    },
    {
      "cell_type": "markdown",
      "metadata": {
        "id": "A4xh1szhhZm_"
      },
      "source": [
        "Dokonaj sprawdzenia.\n",
        "\n",
        "__Wskazówka:__ Użyj funkcji _np.allclose()_."
      ]
    },
    {
      "cell_type": "code",
      "metadata": {
        "id": "Ar65MwdrYNRS",
        "colab": {
          "base_uri": "https://localhost:8080/"
        },
        "outputId": "a3e84ecb-78ae-45b0-efb9-3e4e971b59a4"
      },
      "source": [
        "# tutaj wpisz rozwiązanie\n",
        "# Sprawdzenie: podstawiamy X do AX i porównujemy z B\n",
        "is_correct = np.allclose(A @ X, B)\n",
        "print(\"Czy rozwiązanie jest poprawne? :\", is_correct)"
      ],
      "execution_count": null,
      "outputs": [
        {
          "output_type": "stream",
          "name": "stdout",
          "text": [
            "Czy rozwiązanie jest poprawne? : True\n"
          ]
        }
      ]
    },
    {
      "cell_type": "code",
      "source": [
        "# Rozwiązanie autora\n",
        "np.allclose(np.dot(A, X), B)"
      ],
      "metadata": {
        "id": "aE6FaGkhrKTR",
        "outputId": "8d3499c0-44f9-46f9-faf6-0ca6c6d727c8",
        "colab": {
          "base_uri": "https://localhost:8080/"
        }
      },
      "execution_count": 6,
      "outputs": [
        {
          "output_type": "execute_result",
          "data": {
            "text/plain": [
              "True"
            ]
          },
          "metadata": {},
          "execution_count": 6
        }
      ]
    },
    {
      "cell_type": "markdown",
      "metadata": {
        "id": "J9pY1rtr1sC0"
      },
      "source": [
        "### <a name='2'></a> Ćwiczenie 222\n",
        "Wykorzystując bibliotekę numpy rozwiąż poniższy układ równań:\n",
        "\n",
        "$$\\begin{cases}x + y + z = 1 \\\\ 2x + y + 5z = 0 \\\\ x - y = z \\end{cases}$$"
      ]
    },
    {
      "cell_type": "code",
      "metadata": {
        "id": "X-BSJv65XJ3U",
        "colab": {
          "base_uri": "https://localhost:8080/"
        },
        "outputId": "04743cb7-88a6-4791-c537-0f3ed4568548"
      },
      "source": [
        "# tutaj wpisz rozwiązanie\n",
        "\n",
        "# Macierz współczyński\n",
        "A = np.array([\n",
        "    [1, 1, 1],\n",
        "    [2, 1, 5],\n",
        "    [1, -1, -1]\n",
        "])\n",
        "\n",
        "# Wektor wyrazó wolnych\n",
        "B = np.array([1, 0, 0])\n",
        "\n",
        "# x + y + z = 1        ← tutaj **wyraz wolny to 1**\n",
        "# 2x + y + 5z = 0      ← tutaj **wyraz wolny to 0**\n",
        "# x - y = z            ← tę równość trzeba przekształcić -> x − y − z = 0\n",
        "\n",
        "\n",
        "# Rozwiązanie układu\n",
        "X = np.linalg.solve(A, B)\n",
        "\n",
        "print(\"x = \", X[0])\n",
        "print(\"y = \", X[1])\n",
        "print(\"z = \", X[2])\n",
        "\n"
      ],
      "execution_count": 14,
      "outputs": [
        {
          "output_type": "stream",
          "name": "stdout",
          "text": [
            "x =  0.5\n",
            "y =  0.875\n",
            "z =  -0.375\n"
          ]
        }
      ]
    },
    {
      "cell_type": "code",
      "source": [
        "# Rozwiązanie autora\n",
        "\n",
        "# Macierz współczyński\n",
        "A = np.array([\n",
        "    [1, 1, 1],\n",
        "    [2, 1, 5],\n",
        "    [1, -1, -1]\n",
        "])\n",
        "\n",
        "# Wektor wyrazó wolnych\n",
        "B = np.array([1, 0, 0])\n",
        "\n",
        "X1 = np.dot(np.linalg.inv(A), B)\n",
        "X1"
      ],
      "metadata": {
        "id": "PDaZfZRLr16T",
        "outputId": "186795fc-31ae-4415-f43e-d469908f3c2a",
        "colab": {
          "base_uri": "https://localhost:8080/"
        }
      },
      "execution_count": 12,
      "outputs": [
        {
          "output_type": "execute_result",
          "data": {
            "text/plain": [
              "array([ 0.5  ,  0.875, -0.375])"
            ]
          },
          "metadata": {},
          "execution_count": 12
        }
      ]
    },
    {
      "cell_type": "markdown",
      "metadata": {
        "id": "kUqnyHaOh1zz"
      },
      "source": [
        "Dokonaj sprawdzenia.\n",
        "\n",
        "__Wskazówka:__ Użyj funkcji _np.allclose()_."
      ]
    },
    {
      "cell_type": "code",
      "metadata": {
        "id": "XfjwJyaVYBZw",
        "colab": {
          "base_uri": "https://localhost:8080/"
        },
        "outputId": "63c9d410-ef88-405e-fd18-e98f8ea4a396"
      },
      "source": [
        "# tutaj wpisz rozwiązanie\n",
        "# Sprawdzenie poprawności rozwiązania\n",
        "print(\"Czy rozwiązanie jest poprawne? :\", np.allclose(A @ X, B))"
      ],
      "execution_count": 15,
      "outputs": [
        {
          "output_type": "stream",
          "name": "stdout",
          "text": [
            "Czy rozwiązanie jest poprawne? : True\n"
          ]
        }
      ]
    },
    {
      "cell_type": "code",
      "source": [
        "# Rozwiązanie autora\n",
        "np.allclose(np.dot(A, X), B)"
      ],
      "metadata": {
        "id": "AXOTawhwtK1S",
        "outputId": "cefa9abd-b30f-4e33-ffb8-a254c6012968",
        "colab": {
          "base_uri": "https://localhost:8080/"
        }
      },
      "execution_count": 17,
      "outputs": [
        {
          "output_type": "execute_result",
          "data": {
            "text/plain": [
              "True"
            ]
          },
          "metadata": {},
          "execution_count": 17
        }
      ]
    },
    {
      "cell_type": "markdown",
      "metadata": {
        "id": "XQLYT2m11wVG"
      },
      "source": [
        "### <a name='3'></a> Ćwiczenie 223\n",
        "Załaduj popularny zbiór danych IRIS do zmiennej _data_raw_ wykorzystując bibliotekę _scikit-learn_."
      ]
    },
    {
      "cell_type": "code",
      "metadata": {
        "id": "gshNLxTAYvdQ"
      },
      "source": [
        "# tutaj wpisz rozwiązanie\n",
        "from sklearn.datasets import load_iris\n",
        "\n",
        "data_raw = load_iris()"
      ],
      "execution_count": 19,
      "outputs": []
    },
    {
      "cell_type": "markdown",
      "metadata": {
        "id": "43j_BUe2ZgkH"
      },
      "source": [
        "Wyświetl opis zbioru IRIS"
      ]
    },
    {
      "cell_type": "code",
      "metadata": {
        "id": "WHeXfhvsZfxn",
        "colab": {
          "base_uri": "https://localhost:8080/"
        },
        "outputId": "3406cde6-275d-4ebb-dd29-09f529e20657"
      },
      "source": [
        "# tutaj wpisz rozwiązanie\n",
        "print(data_raw.DESCR)"
      ],
      "execution_count": 21,
      "outputs": [
        {
          "output_type": "stream",
          "name": "stdout",
          "text": [
            ".. _iris_dataset:\n",
            "\n",
            "Iris plants dataset\n",
            "--------------------\n",
            "\n",
            "**Data Set Characteristics:**\n",
            "\n",
            ":Number of Instances: 150 (50 in each of three classes)\n",
            ":Number of Attributes: 4 numeric, predictive attributes and the class\n",
            ":Attribute Information:\n",
            "    - sepal length in cm\n",
            "    - sepal width in cm\n",
            "    - petal length in cm\n",
            "    - petal width in cm\n",
            "    - class:\n",
            "            - Iris-Setosa\n",
            "            - Iris-Versicolour\n",
            "            - Iris-Virginica\n",
            "\n",
            ":Summary Statistics:\n",
            "\n",
            "============== ==== ==== ======= ===== ====================\n",
            "                Min  Max   Mean    SD   Class Correlation\n",
            "============== ==== ==== ======= ===== ====================\n",
            "sepal length:   4.3  7.9   5.84   0.83    0.7826\n",
            "sepal width:    2.0  4.4   3.05   0.43   -0.4194\n",
            "petal length:   1.0  6.9   3.76   1.76    0.9490  (high!)\n",
            "petal width:    0.1  2.5   1.20   0.76    0.9565  (high!)\n",
            "============== ==== ==== ======= ===== ====================\n",
            "\n",
            ":Missing Attribute Values: None\n",
            ":Class Distribution: 33.3% for each of 3 classes.\n",
            ":Creator: R.A. Fisher\n",
            ":Donor: Michael Marshall (MARSHALL%PLU@io.arc.nasa.gov)\n",
            ":Date: July, 1988\n",
            "\n",
            "The famous Iris database, first used by Sir R.A. Fisher. The dataset is taken\n",
            "from Fisher's paper. Note that it's the same as in R, but not as in the UCI\n",
            "Machine Learning Repository, which has two wrong data points.\n",
            "\n",
            "This is perhaps the best known database to be found in the\n",
            "pattern recognition literature.  Fisher's paper is a classic in the field and\n",
            "is referenced frequently to this day.  (See Duda & Hart, for example.)  The\n",
            "data set contains 3 classes of 50 instances each, where each class refers to a\n",
            "type of iris plant.  One class is linearly separable from the other 2; the\n",
            "latter are NOT linearly separable from each other.\n",
            "\n",
            ".. dropdown:: References\n",
            "\n",
            "  - Fisher, R.A. \"The use of multiple measurements in taxonomic problems\"\n",
            "    Annual Eugenics, 7, Part II, 179-188 (1936); also in \"Contributions to\n",
            "    Mathematical Statistics\" (John Wiley, NY, 1950).\n",
            "  - Duda, R.O., & Hart, P.E. (1973) Pattern Classification and Scene Analysis.\n",
            "    (Q327.D83) John Wiley & Sons.  ISBN 0-471-22361-1.  See page 218.\n",
            "  - Dasarathy, B.V. (1980) \"Nosing Around the Neighborhood: A New System\n",
            "    Structure and Classification Rule for Recognition in Partially Exposed\n",
            "    Environments\".  IEEE Transactions on Pattern Analysis and Machine\n",
            "    Intelligence, Vol. PAMI-2, No. 1, 67-71.\n",
            "  - Gates, G.W. (1972) \"The Reduced Nearest Neighbor Rule\".  IEEE Transactions\n",
            "    on Information Theory, May 1972, 431-433.\n",
            "  - See also: 1988 MLC Proceedings, 54-64.  Cheeseman et al\"s AUTOCLASS II\n",
            "    conceptual clustering system finds 3 classes in the data.\n",
            "  - Many, many more ...\n",
            "\n"
          ]
        }
      ]
    },
    {
      "cell_type": "markdown",
      "metadata": {
        "id": "35HLC1jCZq9x"
      },
      "source": [
        "Wyświetl nazwy zmiennych w zbiorze."
      ]
    },
    {
      "cell_type": "code",
      "source": [
        "data_raw.keys()"
      ],
      "metadata": {
        "id": "fIrdxxvBuUU4",
        "outputId": "6aaac127-32aa-425c-fe1f-f833aa5d80f9",
        "colab": {
          "base_uri": "https://localhost:8080/"
        }
      },
      "execution_count": 20,
      "outputs": [
        {
          "output_type": "execute_result",
          "data": {
            "text/plain": [
              "dict_keys(['data', 'target', 'frame', 'target_names', 'DESCR', 'feature_names', 'filename', 'data_module'])"
            ]
          },
          "metadata": {},
          "execution_count": 20
        }
      ]
    },
    {
      "cell_type": "code",
      "source": [
        "data_raw['feature_names']"
      ],
      "metadata": {
        "id": "n5SFuRyquqRs",
        "outputId": "98159d45-f5b8-41b9-a08a-4453a3dfdbb8",
        "colab": {
          "base_uri": "https://localhost:8080/"
        }
      },
      "execution_count": 22,
      "outputs": [
        {
          "output_type": "execute_result",
          "data": {
            "text/plain": [
              "['sepal length (cm)',\n",
              " 'sepal width (cm)',\n",
              " 'petal length (cm)',\n",
              " 'petal width (cm)']"
            ]
          },
          "metadata": {},
          "execution_count": 22
        }
      ]
    },
    {
      "cell_type": "code",
      "metadata": {
        "id": "9-ndsHwQZuK3",
        "colab": {
          "base_uri": "https://localhost:8080/"
        },
        "outputId": "a7262f26-fd66-4731-e2ac-bb41589f6405"
      },
      "source": [
        "# tutaj wpisz rozwiązanie\n",
        "print(data_raw.feature_names)"
      ],
      "execution_count": 23,
      "outputs": [
        {
          "output_type": "stream",
          "name": "stdout",
          "text": [
            "['sepal length (cm)', 'sepal width (cm)', 'petal length (cm)', 'petal width (cm)']\n"
          ]
        }
      ]
    },
    {
      "cell_type": "markdown",
      "metadata": {
        "id": "5JPv3pTxZzH_"
      },
      "source": [
        "Wyświetl nazwy klas w zbiorze."
      ]
    },
    {
      "cell_type": "code",
      "metadata": {
        "id": "fkE9V9lBZ1uH",
        "colab": {
          "base_uri": "https://localhost:8080/"
        },
        "outputId": "b19f4178-86e5-4258-e948-a66f4fc5c6ba"
      },
      "source": [
        "# tutaj wpisz rozwiązanie\n",
        "print(data_raw.target_names)"
      ],
      "execution_count": 25,
      "outputs": [
        {
          "output_type": "stream",
          "name": "stdout",
          "text": [
            "['setosa' 'versicolor' 'virginica']\n"
          ]
        }
      ]
    },
    {
      "cell_type": "markdown",
      "metadata": {
        "id": "4xTKSUzg10MK"
      },
      "source": [
        "### <a name='4'></a> Ćwiczenie 224\n",
        "Do zmiennej _data_ przypisz dane (tablica numpy) zbioru IRIS."
      ]
    },
    {
      "cell_type": "code",
      "metadata": {
        "id": "8Eaf0Ze6Z7U5"
      },
      "source": [
        "# tutaj wpisz rozwiązanie\n",
        "data = data_raw.data"
      ],
      "execution_count": 26,
      "outputs": []
    },
    {
      "cell_type": "markdown",
      "metadata": {
        "id": "ZFUjH3O4aE5p"
      },
      "source": [
        "Do zmiennej _target_ przypisz wartości zmiennej docelowej ze zbioru IRIS."
      ]
    },
    {
      "cell_type": "code",
      "metadata": {
        "id": "YqyXeVCTaGjM"
      },
      "source": [
        "# tutaj wpisz rozwiązanie\n",
        "target = data_raw.target"
      ],
      "execution_count": 27,
      "outputs": []
    },
    {
      "cell_type": "markdown",
      "metadata": {
        "id": "-kTAqyiYaVGV"
      },
      "source": [
        "Zbadaj kształt zmiennej _data_ oraz _target_."
      ]
    },
    {
      "cell_type": "code",
      "metadata": {
        "id": "QlSfawFNaYk1",
        "colab": {
          "base_uri": "https://localhost:8080/"
        },
        "outputId": "a1de919e-c0bd-4219-c0aa-4ab3c3210646"
      },
      "source": [
        "# tutaj wpisz rozwiązanie\n",
        "print(\"Shape of data:\", data.shape)\n",
        "print(\"Shape of target:\", target.shape)\n"
      ],
      "execution_count": 28,
      "outputs": [
        {
          "output_type": "stream",
          "name": "stdout",
          "text": [
            "Shape of data: (150, 4)\n",
            "Shape of target: (150,)\n"
          ]
        }
      ]
    },
    {
      "cell_type": "markdown",
      "metadata": {
        "id": "o3HKIKlP15Ro"
      },
      "source": [
        "### <a name='5'></a> Ćwiczenie 225\n",
        "Podziel dane na zbiór treningowy (_data_train_, _target_train_) i testowy (_data_test_, _target_test_). Rozmiar zbioru testowego to 30% próbek."
      ]
    },
    {
      "cell_type": "code",
      "metadata": {
        "id": "ninOmgfazd6v"
      },
      "source": [
        "# tutaj wpisz rozwiązanie\n",
        "from sklearn.model_selection import train_test_split\n",
        "\n",
        "data_train, data_test, target_train, target_test = train_test_split(data, target, test_size = 0.3, random_state = 20)"
      ],
      "execution_count": 29,
      "outputs": []
    },
    {
      "cell_type": "markdown",
      "metadata": {
        "id": "tkQQXkt009F_"
      },
      "source": [
        "Wyświetl rozmiar zbiorów:\n",
        "* _data_train_\n",
        "* _target_train_\n",
        "* _data_test_\n",
        "* _target_test_"
      ]
    },
    {
      "cell_type": "code",
      "metadata": {
        "id": "xtq2Z_-P1KF5",
        "colab": {
          "base_uri": "https://localhost:8080/"
        },
        "outputId": "04f6037c-ea89-45d3-b644-36ffb7dfaff7"
      },
      "source": [
        "# tutaj wpisz rozwiązanie\n",
        "print(\"Rozmiar data_train:\", len(data_train))\n",
        "print(\"Rozmiar target_train:\", len(target_train))\n",
        "print(\"Rozmiar data_test:\", len(data_test))\n",
        "print(\"Rozmiar target_test:\", len(target_test))\n"
      ],
      "execution_count": 30,
      "outputs": [
        {
          "output_type": "stream",
          "name": "stdout",
          "text": [
            "Rozmiar data_train: 105\n",
            "Rozmiar target_train: 105\n",
            "Rozmiar data_test: 45\n",
            "Rozmiar target_test: 45\n"
          ]
        }
      ]
    },
    {
      "cell_type": "code",
      "source": [
        "# Rozwiązanie autora\n",
        "print(f'Shape data_train: {data_train.shape}')\n",
        "print(f'Shape target_train: { target_train.shape}')\n",
        "print(f'Shape data_test: {data_test.shape}')\n",
        "print(f'Shape target_test: {target_test.shape}')"
      ],
      "metadata": {
        "id": "FBjQF6B6voKD",
        "outputId": "e8764408-3fe7-42fc-c366-9370a20d714b",
        "colab": {
          "base_uri": "https://localhost:8080/"
        }
      },
      "execution_count": 34,
      "outputs": [
        {
          "output_type": "stream",
          "name": "stdout",
          "text": [
            "Shape data_train: (105, 4)\n",
            "Shape target_train: (105,)\n",
            "Shape data_test: (45, 4)\n",
            "Shape target_test: (45,)\n"
          ]
        }
      ]
    },
    {
      "cell_type": "markdown",
      "metadata": {
        "id": "PunXd_Ey16so"
      },
      "source": [
        "### <a name='6'></a> Ćwiczenie 226\n",
        "Zbuduj model regresji logistcznej (ustaw domyślne wartości parametrów) wykorzystując bibliotekę scikit-learn oraz dane IRIS."
      ]
    },
    {
      "cell_type": "code",
      "metadata": {
        "id": "zxm23bKf1SG7"
      },
      "source": [
        "# tutaj wpisz rozwiązanie\n",
        "from sklearn.linear_model import LogisticRegression\n",
        "\n",
        "# 1. Zbuduj model regresji logistycznej z domyślnymi parametrami\n",
        "model = LogisticRegression()\n"
      ],
      "execution_count": 35,
      "outputs": []
    },
    {
      "cell_type": "markdown",
      "metadata": {
        "id": "FWRzSV8L1ZUU"
      },
      "source": [
        "Dopasuj dane treningowe do modelu."
      ]
    },
    {
      "cell_type": "code",
      "metadata": {
        "id": "L1VBQhUZ1ckh",
        "colab": {
          "base_uri": "https://localhost:8080/",
          "height": 80
        },
        "outputId": "51f22734-912e-4979-ec39-c8b8bb039a6e"
      },
      "source": [
        "# tutaj wpisz rozwiązanie\n",
        "# Dopasuj dane treningowe do modelu\n",
        "model.fit(data_train, target_train)"
      ],
      "execution_count": 36,
      "outputs": [
        {
          "output_type": "execute_result",
          "data": {
            "text/plain": [
              "LogisticRegression()"
            ],
            "text/html": [
              "<style>#sk-container-id-1 {\n",
              "  /* Definition of color scheme common for light and dark mode */\n",
              "  --sklearn-color-text: #000;\n",
              "  --sklearn-color-text-muted: #666;\n",
              "  --sklearn-color-line: gray;\n",
              "  /* Definition of color scheme for unfitted estimators */\n",
              "  --sklearn-color-unfitted-level-0: #fff5e6;\n",
              "  --sklearn-color-unfitted-level-1: #f6e4d2;\n",
              "  --sklearn-color-unfitted-level-2: #ffe0b3;\n",
              "  --sklearn-color-unfitted-level-3: chocolate;\n",
              "  /* Definition of color scheme for fitted estimators */\n",
              "  --sklearn-color-fitted-level-0: #f0f8ff;\n",
              "  --sklearn-color-fitted-level-1: #d4ebff;\n",
              "  --sklearn-color-fitted-level-2: #b3dbfd;\n",
              "  --sklearn-color-fitted-level-3: cornflowerblue;\n",
              "\n",
              "  /* Specific color for light theme */\n",
              "  --sklearn-color-text-on-default-background: var(--sg-text-color, var(--theme-code-foreground, var(--jp-content-font-color1, black)));\n",
              "  --sklearn-color-background: var(--sg-background-color, var(--theme-background, var(--jp-layout-color0, white)));\n",
              "  --sklearn-color-border-box: var(--sg-text-color, var(--theme-code-foreground, var(--jp-content-font-color1, black)));\n",
              "  --sklearn-color-icon: #696969;\n",
              "\n",
              "  @media (prefers-color-scheme: dark) {\n",
              "    /* Redefinition of color scheme for dark theme */\n",
              "    --sklearn-color-text-on-default-background: var(--sg-text-color, var(--theme-code-foreground, var(--jp-content-font-color1, white)));\n",
              "    --sklearn-color-background: var(--sg-background-color, var(--theme-background, var(--jp-layout-color0, #111)));\n",
              "    --sklearn-color-border-box: var(--sg-text-color, var(--theme-code-foreground, var(--jp-content-font-color1, white)));\n",
              "    --sklearn-color-icon: #878787;\n",
              "  }\n",
              "}\n",
              "\n",
              "#sk-container-id-1 {\n",
              "  color: var(--sklearn-color-text);\n",
              "}\n",
              "\n",
              "#sk-container-id-1 pre {\n",
              "  padding: 0;\n",
              "}\n",
              "\n",
              "#sk-container-id-1 input.sk-hidden--visually {\n",
              "  border: 0;\n",
              "  clip: rect(1px 1px 1px 1px);\n",
              "  clip: rect(1px, 1px, 1px, 1px);\n",
              "  height: 1px;\n",
              "  margin: -1px;\n",
              "  overflow: hidden;\n",
              "  padding: 0;\n",
              "  position: absolute;\n",
              "  width: 1px;\n",
              "}\n",
              "\n",
              "#sk-container-id-1 div.sk-dashed-wrapped {\n",
              "  border: 1px dashed var(--sklearn-color-line);\n",
              "  margin: 0 0.4em 0.5em 0.4em;\n",
              "  box-sizing: border-box;\n",
              "  padding-bottom: 0.4em;\n",
              "  background-color: var(--sklearn-color-background);\n",
              "}\n",
              "\n",
              "#sk-container-id-1 div.sk-container {\n",
              "  /* jupyter's `normalize.less` sets `[hidden] { display: none; }`\n",
              "     but bootstrap.min.css set `[hidden] { display: none !important; }`\n",
              "     so we also need the `!important` here to be able to override the\n",
              "     default hidden behavior on the sphinx rendered scikit-learn.org.\n",
              "     See: https://github.com/scikit-learn/scikit-learn/issues/21755 */\n",
              "  display: inline-block !important;\n",
              "  position: relative;\n",
              "}\n",
              "\n",
              "#sk-container-id-1 div.sk-text-repr-fallback {\n",
              "  display: none;\n",
              "}\n",
              "\n",
              "div.sk-parallel-item,\n",
              "div.sk-serial,\n",
              "div.sk-item {\n",
              "  /* draw centered vertical line to link estimators */\n",
              "  background-image: linear-gradient(var(--sklearn-color-text-on-default-background), var(--sklearn-color-text-on-default-background));\n",
              "  background-size: 2px 100%;\n",
              "  background-repeat: no-repeat;\n",
              "  background-position: center center;\n",
              "}\n",
              "\n",
              "/* Parallel-specific style estimator block */\n",
              "\n",
              "#sk-container-id-1 div.sk-parallel-item::after {\n",
              "  content: \"\";\n",
              "  width: 100%;\n",
              "  border-bottom: 2px solid var(--sklearn-color-text-on-default-background);\n",
              "  flex-grow: 1;\n",
              "}\n",
              "\n",
              "#sk-container-id-1 div.sk-parallel {\n",
              "  display: flex;\n",
              "  align-items: stretch;\n",
              "  justify-content: center;\n",
              "  background-color: var(--sklearn-color-background);\n",
              "  position: relative;\n",
              "}\n",
              "\n",
              "#sk-container-id-1 div.sk-parallel-item {\n",
              "  display: flex;\n",
              "  flex-direction: column;\n",
              "}\n",
              "\n",
              "#sk-container-id-1 div.sk-parallel-item:first-child::after {\n",
              "  align-self: flex-end;\n",
              "  width: 50%;\n",
              "}\n",
              "\n",
              "#sk-container-id-1 div.sk-parallel-item:last-child::after {\n",
              "  align-self: flex-start;\n",
              "  width: 50%;\n",
              "}\n",
              "\n",
              "#sk-container-id-1 div.sk-parallel-item:only-child::after {\n",
              "  width: 0;\n",
              "}\n",
              "\n",
              "/* Serial-specific style estimator block */\n",
              "\n",
              "#sk-container-id-1 div.sk-serial {\n",
              "  display: flex;\n",
              "  flex-direction: column;\n",
              "  align-items: center;\n",
              "  background-color: var(--sklearn-color-background);\n",
              "  padding-right: 1em;\n",
              "  padding-left: 1em;\n",
              "}\n",
              "\n",
              "\n",
              "/* Toggleable style: style used for estimator/Pipeline/ColumnTransformer box that is\n",
              "clickable and can be expanded/collapsed.\n",
              "- Pipeline and ColumnTransformer use this feature and define the default style\n",
              "- Estimators will overwrite some part of the style using the `sk-estimator` class\n",
              "*/\n",
              "\n",
              "/* Pipeline and ColumnTransformer style (default) */\n",
              "\n",
              "#sk-container-id-1 div.sk-toggleable {\n",
              "  /* Default theme specific background. It is overwritten whether we have a\n",
              "  specific estimator or a Pipeline/ColumnTransformer */\n",
              "  background-color: var(--sklearn-color-background);\n",
              "}\n",
              "\n",
              "/* Toggleable label */\n",
              "#sk-container-id-1 label.sk-toggleable__label {\n",
              "  cursor: pointer;\n",
              "  display: flex;\n",
              "  width: 100%;\n",
              "  margin-bottom: 0;\n",
              "  padding: 0.5em;\n",
              "  box-sizing: border-box;\n",
              "  text-align: center;\n",
              "  align-items: start;\n",
              "  justify-content: space-between;\n",
              "  gap: 0.5em;\n",
              "}\n",
              "\n",
              "#sk-container-id-1 label.sk-toggleable__label .caption {\n",
              "  font-size: 0.6rem;\n",
              "  font-weight: lighter;\n",
              "  color: var(--sklearn-color-text-muted);\n",
              "}\n",
              "\n",
              "#sk-container-id-1 label.sk-toggleable__label-arrow:before {\n",
              "  /* Arrow on the left of the label */\n",
              "  content: \"▸\";\n",
              "  float: left;\n",
              "  margin-right: 0.25em;\n",
              "  color: var(--sklearn-color-icon);\n",
              "}\n",
              "\n",
              "#sk-container-id-1 label.sk-toggleable__label-arrow:hover:before {\n",
              "  color: var(--sklearn-color-text);\n",
              "}\n",
              "\n",
              "/* Toggleable content - dropdown */\n",
              "\n",
              "#sk-container-id-1 div.sk-toggleable__content {\n",
              "  max-height: 0;\n",
              "  max-width: 0;\n",
              "  overflow: hidden;\n",
              "  text-align: left;\n",
              "  /* unfitted */\n",
              "  background-color: var(--sklearn-color-unfitted-level-0);\n",
              "}\n",
              "\n",
              "#sk-container-id-1 div.sk-toggleable__content.fitted {\n",
              "  /* fitted */\n",
              "  background-color: var(--sklearn-color-fitted-level-0);\n",
              "}\n",
              "\n",
              "#sk-container-id-1 div.sk-toggleable__content pre {\n",
              "  margin: 0.2em;\n",
              "  border-radius: 0.25em;\n",
              "  color: var(--sklearn-color-text);\n",
              "  /* unfitted */\n",
              "  background-color: var(--sklearn-color-unfitted-level-0);\n",
              "}\n",
              "\n",
              "#sk-container-id-1 div.sk-toggleable__content.fitted pre {\n",
              "  /* unfitted */\n",
              "  background-color: var(--sklearn-color-fitted-level-0);\n",
              "}\n",
              "\n",
              "#sk-container-id-1 input.sk-toggleable__control:checked~div.sk-toggleable__content {\n",
              "  /* Expand drop-down */\n",
              "  max-height: 200px;\n",
              "  max-width: 100%;\n",
              "  overflow: auto;\n",
              "}\n",
              "\n",
              "#sk-container-id-1 input.sk-toggleable__control:checked~label.sk-toggleable__label-arrow:before {\n",
              "  content: \"▾\";\n",
              "}\n",
              "\n",
              "/* Pipeline/ColumnTransformer-specific style */\n",
              "\n",
              "#sk-container-id-1 div.sk-label input.sk-toggleable__control:checked~label.sk-toggleable__label {\n",
              "  color: var(--sklearn-color-text);\n",
              "  background-color: var(--sklearn-color-unfitted-level-2);\n",
              "}\n",
              "\n",
              "#sk-container-id-1 div.sk-label.fitted input.sk-toggleable__control:checked~label.sk-toggleable__label {\n",
              "  background-color: var(--sklearn-color-fitted-level-2);\n",
              "}\n",
              "\n",
              "/* Estimator-specific style */\n",
              "\n",
              "/* Colorize estimator box */\n",
              "#sk-container-id-1 div.sk-estimator input.sk-toggleable__control:checked~label.sk-toggleable__label {\n",
              "  /* unfitted */\n",
              "  background-color: var(--sklearn-color-unfitted-level-2);\n",
              "}\n",
              "\n",
              "#sk-container-id-1 div.sk-estimator.fitted input.sk-toggleable__control:checked~label.sk-toggleable__label {\n",
              "  /* fitted */\n",
              "  background-color: var(--sklearn-color-fitted-level-2);\n",
              "}\n",
              "\n",
              "#sk-container-id-1 div.sk-label label.sk-toggleable__label,\n",
              "#sk-container-id-1 div.sk-label label {\n",
              "  /* The background is the default theme color */\n",
              "  color: var(--sklearn-color-text-on-default-background);\n",
              "}\n",
              "\n",
              "/* On hover, darken the color of the background */\n",
              "#sk-container-id-1 div.sk-label:hover label.sk-toggleable__label {\n",
              "  color: var(--sklearn-color-text);\n",
              "  background-color: var(--sklearn-color-unfitted-level-2);\n",
              "}\n",
              "\n",
              "/* Label box, darken color on hover, fitted */\n",
              "#sk-container-id-1 div.sk-label.fitted:hover label.sk-toggleable__label.fitted {\n",
              "  color: var(--sklearn-color-text);\n",
              "  background-color: var(--sklearn-color-fitted-level-2);\n",
              "}\n",
              "\n",
              "/* Estimator label */\n",
              "\n",
              "#sk-container-id-1 div.sk-label label {\n",
              "  font-family: monospace;\n",
              "  font-weight: bold;\n",
              "  display: inline-block;\n",
              "  line-height: 1.2em;\n",
              "}\n",
              "\n",
              "#sk-container-id-1 div.sk-label-container {\n",
              "  text-align: center;\n",
              "}\n",
              "\n",
              "/* Estimator-specific */\n",
              "#sk-container-id-1 div.sk-estimator {\n",
              "  font-family: monospace;\n",
              "  border: 1px dotted var(--sklearn-color-border-box);\n",
              "  border-radius: 0.25em;\n",
              "  box-sizing: border-box;\n",
              "  margin-bottom: 0.5em;\n",
              "  /* unfitted */\n",
              "  background-color: var(--sklearn-color-unfitted-level-0);\n",
              "}\n",
              "\n",
              "#sk-container-id-1 div.sk-estimator.fitted {\n",
              "  /* fitted */\n",
              "  background-color: var(--sklearn-color-fitted-level-0);\n",
              "}\n",
              "\n",
              "/* on hover */\n",
              "#sk-container-id-1 div.sk-estimator:hover {\n",
              "  /* unfitted */\n",
              "  background-color: var(--sklearn-color-unfitted-level-2);\n",
              "}\n",
              "\n",
              "#sk-container-id-1 div.sk-estimator.fitted:hover {\n",
              "  /* fitted */\n",
              "  background-color: var(--sklearn-color-fitted-level-2);\n",
              "}\n",
              "\n",
              "/* Specification for estimator info (e.g. \"i\" and \"?\") */\n",
              "\n",
              "/* Common style for \"i\" and \"?\" */\n",
              "\n",
              ".sk-estimator-doc-link,\n",
              "a:link.sk-estimator-doc-link,\n",
              "a:visited.sk-estimator-doc-link {\n",
              "  float: right;\n",
              "  font-size: smaller;\n",
              "  line-height: 1em;\n",
              "  font-family: monospace;\n",
              "  background-color: var(--sklearn-color-background);\n",
              "  border-radius: 1em;\n",
              "  height: 1em;\n",
              "  width: 1em;\n",
              "  text-decoration: none !important;\n",
              "  margin-left: 0.5em;\n",
              "  text-align: center;\n",
              "  /* unfitted */\n",
              "  border: var(--sklearn-color-unfitted-level-1) 1pt solid;\n",
              "  color: var(--sklearn-color-unfitted-level-1);\n",
              "}\n",
              "\n",
              ".sk-estimator-doc-link.fitted,\n",
              "a:link.sk-estimator-doc-link.fitted,\n",
              "a:visited.sk-estimator-doc-link.fitted {\n",
              "  /* fitted */\n",
              "  border: var(--sklearn-color-fitted-level-1) 1pt solid;\n",
              "  color: var(--sklearn-color-fitted-level-1);\n",
              "}\n",
              "\n",
              "/* On hover */\n",
              "div.sk-estimator:hover .sk-estimator-doc-link:hover,\n",
              ".sk-estimator-doc-link:hover,\n",
              "div.sk-label-container:hover .sk-estimator-doc-link:hover,\n",
              ".sk-estimator-doc-link:hover {\n",
              "  /* unfitted */\n",
              "  background-color: var(--sklearn-color-unfitted-level-3);\n",
              "  color: var(--sklearn-color-background);\n",
              "  text-decoration: none;\n",
              "}\n",
              "\n",
              "div.sk-estimator.fitted:hover .sk-estimator-doc-link.fitted:hover,\n",
              ".sk-estimator-doc-link.fitted:hover,\n",
              "div.sk-label-container:hover .sk-estimator-doc-link.fitted:hover,\n",
              ".sk-estimator-doc-link.fitted:hover {\n",
              "  /* fitted */\n",
              "  background-color: var(--sklearn-color-fitted-level-3);\n",
              "  color: var(--sklearn-color-background);\n",
              "  text-decoration: none;\n",
              "}\n",
              "\n",
              "/* Span, style for the box shown on hovering the info icon */\n",
              ".sk-estimator-doc-link span {\n",
              "  display: none;\n",
              "  z-index: 9999;\n",
              "  position: relative;\n",
              "  font-weight: normal;\n",
              "  right: .2ex;\n",
              "  padding: .5ex;\n",
              "  margin: .5ex;\n",
              "  width: min-content;\n",
              "  min-width: 20ex;\n",
              "  max-width: 50ex;\n",
              "  color: var(--sklearn-color-text);\n",
              "  box-shadow: 2pt 2pt 4pt #999;\n",
              "  /* unfitted */\n",
              "  background: var(--sklearn-color-unfitted-level-0);\n",
              "  border: .5pt solid var(--sklearn-color-unfitted-level-3);\n",
              "}\n",
              "\n",
              ".sk-estimator-doc-link.fitted span {\n",
              "  /* fitted */\n",
              "  background: var(--sklearn-color-fitted-level-0);\n",
              "  border: var(--sklearn-color-fitted-level-3);\n",
              "}\n",
              "\n",
              ".sk-estimator-doc-link:hover span {\n",
              "  display: block;\n",
              "}\n",
              "\n",
              "/* \"?\"-specific style due to the `<a>` HTML tag */\n",
              "\n",
              "#sk-container-id-1 a.estimator_doc_link {\n",
              "  float: right;\n",
              "  font-size: 1rem;\n",
              "  line-height: 1em;\n",
              "  font-family: monospace;\n",
              "  background-color: var(--sklearn-color-background);\n",
              "  border-radius: 1rem;\n",
              "  height: 1rem;\n",
              "  width: 1rem;\n",
              "  text-decoration: none;\n",
              "  /* unfitted */\n",
              "  color: var(--sklearn-color-unfitted-level-1);\n",
              "  border: var(--sklearn-color-unfitted-level-1) 1pt solid;\n",
              "}\n",
              "\n",
              "#sk-container-id-1 a.estimator_doc_link.fitted {\n",
              "  /* fitted */\n",
              "  border: var(--sklearn-color-fitted-level-1) 1pt solid;\n",
              "  color: var(--sklearn-color-fitted-level-1);\n",
              "}\n",
              "\n",
              "/* On hover */\n",
              "#sk-container-id-1 a.estimator_doc_link:hover {\n",
              "  /* unfitted */\n",
              "  background-color: var(--sklearn-color-unfitted-level-3);\n",
              "  color: var(--sklearn-color-background);\n",
              "  text-decoration: none;\n",
              "}\n",
              "\n",
              "#sk-container-id-1 a.estimator_doc_link.fitted:hover {\n",
              "  /* fitted */\n",
              "  background-color: var(--sklearn-color-fitted-level-3);\n",
              "}\n",
              "</style><div id=\"sk-container-id-1\" class=\"sk-top-container\"><div class=\"sk-text-repr-fallback\"><pre>LogisticRegression()</pre><b>In a Jupyter environment, please rerun this cell to show the HTML representation or trust the notebook. <br />On GitHub, the HTML representation is unable to render, please try loading this page with nbviewer.org.</b></div><div class=\"sk-container\" hidden><div class=\"sk-item\"><div class=\"sk-estimator fitted sk-toggleable\"><input class=\"sk-toggleable__control sk-hidden--visually\" id=\"sk-estimator-id-1\" type=\"checkbox\" checked><label for=\"sk-estimator-id-1\" class=\"sk-toggleable__label fitted sk-toggleable__label-arrow\"><div><div>LogisticRegression</div></div><div><a class=\"sk-estimator-doc-link fitted\" rel=\"noreferrer\" target=\"_blank\" href=\"https://scikit-learn.org/1.6/modules/generated/sklearn.linear_model.LogisticRegression.html\">?<span>Documentation for LogisticRegression</span></a><span class=\"sk-estimator-doc-link fitted\">i<span>Fitted</span></span></div></label><div class=\"sk-toggleable__content fitted\"><pre>LogisticRegression()</pre></div> </div></div></div></div>"
            ]
          },
          "metadata": {},
          "execution_count": 36
        }
      ]
    },
    {
      "cell_type": "markdown",
      "metadata": {
        "id": "hOhqDRz618Tx"
      },
      "source": [
        "### <a name='7'></a> Ćwiczenie 227\n",
        "Dokonaj oceny modelu na zbiorze treningowym."
      ]
    },
    {
      "cell_type": "code",
      "metadata": {
        "id": "5gZWLrht1-vl",
        "colab": {
          "base_uri": "https://localhost:8080/"
        },
        "outputId": "a2bb8c37-e177-463a-e81c-18b5acd4f582"
      },
      "source": [
        "# tutaj wpisz rozwiązanie\n",
        "accuracy_train = model.score(data_train, target_train)\n",
        "print(\"Accuracy na zbiorze treiningowym: \", accuracy_train)"
      ],
      "execution_count": 37,
      "outputs": [
        {
          "output_type": "stream",
          "name": "stdout",
          "text": [
            "Accuracy na zbiorze treiningowym:  0.9714285714285714\n"
          ]
        }
      ]
    },
    {
      "cell_type": "markdown",
      "source": [
        "**Wyjaśnienie:**\n",
        "\n",
        "* model.score(data_train, target_train) oblicza accuracy, czyli procent poprawnych przewidywań na treningowych danych.\n",
        "\n",
        "* Im bliżej 1.0 (lub 100%), tym model lepiej „nauczył się” rozróżniać klasy na tych danych."
      ],
      "metadata": {
        "id": "3V9RsZLt7-5V"
      }
    },
    {
      "cell_type": "markdown",
      "metadata": {
        "id": "YSg63Pcv2QJP"
      },
      "source": [
        "Dokonaj oceny modelu na zbiorze testowym."
      ]
    },
    {
      "cell_type": "code",
      "metadata": {
        "id": "spCcLOtX2TXQ",
        "colab": {
          "base_uri": "https://localhost:8080/"
        },
        "outputId": "d2b436de-fddc-4db9-a844-22bb81844130"
      },
      "source": [
        "# tutaj wpisz rozwiązanie\n",
        "accuracy_test = model.score(data_test, target_test)\n",
        "print(\"Accuracy na zbiorze testowym: \", accuracy_test)"
      ],
      "execution_count": 39,
      "outputs": [
        {
          "output_type": "stream",
          "name": "stdout",
          "text": [
            "Accuracy na zbiorze testowym:  0.9333333333333333\n"
          ]
        }
      ]
    },
    {
      "cell_type": "markdown",
      "metadata": {
        "id": "TXUd_4631-gw"
      },
      "source": [
        "### <a name='8'></a> Ćwiczenie 228\n",
        "Dokonaj predykcji na danych testowych na podstawie modelu i przypisz je do zmiennej _target\\_pred_."
      ]
    },
    {
      "cell_type": "code",
      "metadata": {
        "id": "AyjKyB5r2ZhQ"
      },
      "source": [
        "# tutaj wpisz rozwiązanie\n",
        "# Dokonaj predykcji na danych testowych\n",
        "target_pred = model.predict(data_test)\n"
      ],
      "execution_count": 40,
      "outputs": []
    },
    {
      "cell_type": "markdown",
      "metadata": {
        "id": "VDZq3lde2heB"
      },
      "source": [
        "Wyświetl zmienną _target\\_pred_."
      ]
    },
    {
      "cell_type": "code",
      "metadata": {
        "id": "KaooHHRt2tJB",
        "colab": {
          "base_uri": "https://localhost:8080/"
        },
        "outputId": "9e66ed75-7eeb-4fba-e7a1-07c9f587b30c"
      },
      "source": [
        "# tutaj wpisz rozwiązanie\n",
        "# Wyświetl kilka pierwszych przewidywanych wartości\n",
        "print(\"Predykcje danych testowych (pierwsze 10)\", target_pred[ :10])"
      ],
      "execution_count": 41,
      "outputs": [
        {
          "output_type": "stream",
          "name": "stdout",
          "text": [
            "Predykcje danych testowych (pierwsze 10) [0 1 1 2 1 1 2 0 2 0]\n"
          ]
        }
      ]
    },
    {
      "cell_type": "markdown",
      "metadata": {
        "id": "EYvlbXM82v34"
      },
      "source": [
        "Wyświetl zmienną _target\\_test_."
      ]
    },
    {
      "cell_type": "code",
      "metadata": {
        "id": "5RxQBgvK2yrR",
        "colab": {
          "base_uri": "https://localhost:8080/"
        },
        "outputId": "ac4867c4-23ab-413a-a8f5-2cae7ca5e2e6"
      },
      "source": [
        "# tutaj wpisz rozwiązanie\n",
        "print(\"Wartość przewidywaną (pierwsze 10)\", target_test[ :10])"
      ],
      "execution_count": 42,
      "outputs": [
        {
          "output_type": "stream",
          "name": "stdout",
          "text": [
            "Wartość przewidywaną (pierwsze 10) [0 1 1 2 1 1 2 0 2 0]\n"
          ]
        }
      ]
    },
    {
      "cell_type": "markdown",
      "metadata": {
        "id": "tgI6xEn-2AQo"
      },
      "source": [
        "### <a name='9'></a> Ćwiczenie 229\n",
        "Wyznacz macierz pomyłek (macierz konfuzji)"
      ]
    },
    {
      "cell_type": "code",
      "metadata": {
        "id": "r0mbpM943D2J",
        "colab": {
          "base_uri": "https://localhost:8080/"
        },
        "outputId": "2e5f15c0-a491-446c-8998-46af75dbbd89"
      },
      "source": [
        "# tutaj wpisz rozwiązanie\n",
        "from sklearn.metrics import confusion_matrix\n",
        "\n",
        "cm = confusion_matrix(target_test, target_pred)\n",
        "\n",
        "print(\"Macierz pomyłek: \", cm)"
      ],
      "execution_count": 43,
      "outputs": [
        {
          "output_type": "stream",
          "name": "stdout",
          "text": [
            "Macierz pomyłek:  [[13  0  0]\n",
            " [ 0 18  0]\n",
            " [ 0  3 11]]\n"
          ]
        }
      ]
    },
    {
      "cell_type": "markdown",
      "source": [
        "**Wyjaśnienie**:\n",
        "\n",
        "* **confusion_matrix(y_true, y_pred)** przyjmuje najpierw rzeczywiste etykiety, potem przewidywane.\n",
        "\n",
        "* Wynikowa macierz pokazuje, ile razy model dobrze lub źle zaklasyfikował próbki do poszczególnych klas."
      ],
      "metadata": {
        "id": "wKJ_cFEz9Wno"
      }
    },
    {
      "cell_type": "markdown",
      "source": [
        "Macierz pomyłek np: [\n",
        "  \n",
        "  [13  0  0]\n",
        "\n",
        " [ 0 18  0]\n",
        "\n",
        " [ 0  3 11]\n",
        "\n",
        " ]\n",
        "\n",
        "##Jak czytać macierz pomyłek?\n",
        "* **Wiersze**: Prawdziwe (rzeczywiste) klasy.\n",
        "* **Kolumny**: Przewidywane przez model klasy.\n",
        "* **Każdy element** [i, j] oznacza liczbę próbek, które należały do klasy i, a zostały zaklasyfikowane jako klasa j.\n",
        "\n",
        "Przyjmijmy, że klasy są nazwane:\n",
        "* **0** – Setosa\n",
        "* **1** – Versicolor\n",
        "* **2** – Virginica\n",
        "\n",
        "### Rozbijmy macierz:\n",
        "\n",
        "|                | Przewidziane: 0 | Przewidziane: 1 | Przewidziane: 2 |\n",
        "|----------------|:---------------:|:---------------:|:---------------:|\n",
        "| **Rzeczywista: 0** |      13        |        0        |        0        |\n",
        "| **Rzeczywista: 1** |      0         |       18        |        0        |\n",
        "| **Rzeczywista: 2** |      0         |        3        |       11        |\n",
        "\n",
        "---\n",
        "\n",
        "### Interpretacja:\n",
        "\n",
        "1. **Klasa 0 (Setosa):**\n",
        "   - **13** próbek klasy 0 zostało poprawnie sklasyfikowanych jako 0.\n",
        "   - **0** zostało błędnie sklasyfikowanych jako 1 lub 2.\n",
        "\n",
        "2. **Klasa 1 (Versicolor):**\n",
        "   - **18** próbek klasy 1 zostało poprawnie sklasyfikowanych jako 1.\n",
        "   - **0** zostało błędnie sklasyfikowanych jako 0 lub 2.\n",
        "\n",
        "3. **Klasa 2 (Virginica):**\n",
        "   - **11** próbek klasy 2 zostało poprawnie sklasyfikowanych jako 2.\n",
        "   - **3** próbki klasy 2 zostały błędnie sklasyfikowane jako 1.\n",
        "\n",
        "\n",
        "## Co to oznacza dla Twojego modelu?\n",
        "* Model **bardzo dobrze rozpoznaje klasy 0 i 1** – nie myli ich w ogóle z innymi.\n",
        "\n",
        "* **Klasa 2 (Virginica)** — model czasami myli ją z klasą 1 (Versicolor), zaklasyfikował 3 takie przypadki.\n",
        "\n",
        "* **Nie ma żadnych pomyłek z klasą 0.**\n",
        "\n",
        "## Wnioski:\n",
        "* Wysoka skuteczność modelu.\n",
        "\n",
        "* Jeśli zależy Ci na dokładnym rozpoznawaniu klasy 2 (Virginica), możesz pomyśleć o dalszej optymalizacji.\n",
        "\n",
        "* Często Virginica jest trudniejsza do odróżnienia od Versicolor (stąd 3 pomyłki).\n",
        "\n",
        "---\n",
        "\n",
        "\n",
        "**Macierz pomyłek pozwala szczegółowo zobaczyć, gdzie model się myli i jakie klasy są najtrudniejsze do rozpoznania.**\n",
        "\n",
        "W ten sposób można lepiej analizować skuteczność klasyfikatora niż tylko po samym accuracy!   "
      ],
      "metadata": {
        "id": "cKImsX6H9t_-"
      }
    },
    {
      "cell_type": "markdown",
      "metadata": {
        "id": "wxhpf-uq2B1I"
      },
      "source": [
        "### <a name='10'></a> Ćwiczenie 230\n",
        "Wyświetl raport klasyfikacji modelu."
      ]
    },
    {
      "cell_type": "code",
      "metadata": {
        "id": "YFc0KW6URsuc",
        "colab": {
          "base_uri": "https://localhost:8080/"
        },
        "outputId": "8c211247-70d8-4c5f-8dd2-f5729be00126"
      },
      "source": [
        "# tutaj wpisz rozwiązanie\n",
        "from sklearn.metrics import classification_report\n",
        "\n",
        "print(classification_report(target_test, target_pred))\n"
      ],
      "execution_count": 44,
      "outputs": [
        {
          "output_type": "stream",
          "name": "stdout",
          "text": [
            "              precision    recall  f1-score   support\n",
            "\n",
            "           0       1.00      1.00      1.00        13\n",
            "           1       0.86      1.00      0.92        18\n",
            "           2       1.00      0.79      0.88        14\n",
            "\n",
            "    accuracy                           0.93        45\n",
            "   macro avg       0.95      0.93      0.93        45\n",
            "weighted avg       0.94      0.93      0.93        45\n",
            "\n"
          ]
        }
      ]
    },
    {
      "cell_type": "markdown",
      "source": [
        "##Co zawiera raport?\n",
        "* precision – precyzja (ile z przewidzianych jako dana klasa jest rzeczywiście tej klasy)\n",
        "\n",
        "* recall – czułość (ile z rzeczywistych próbek danej klasy zostało poprawnie rozpoznanych)\n",
        "\n",
        "* f1-score – średnia harmoniczna precyzji i recall\n",
        "\n",
        "* support – liczba próbek danej klasy w zbiorze testowym"
      ],
      "metadata": {
        "id": "Vm90C3byClvX"
      }
    },
    {
      "cell_type": "markdown",
      "source": [
        "---\n",
        "\n",
        "#### **1. accuracy**\n",
        "\n",
        "- **accuracy** (dokładność, trafność) – to po prostu odsetek poprawnych klasyfikacji:\n",
        "  \n",
        "  \\[\n",
        "  \\text{accuracy} = \\frac{\\text{liczba poprawnie sklasyfikowanych próbek}}{\\text{wszystkie próbki}}\n",
        "  \\]\n",
        "- W powyższym przykładzie:  \n",
        "  `0.93` oznacza, że **93%** próbek zostało poprawnie sklasyfikowanych.\n",
        "- Liczba `45` oznacza, że w zbiorze testowym było **45 próbek**.\n",
        "\n",
        "---\n",
        "\n",
        "#### **2. macro avg (średnia makro)**\n",
        "\n",
        "- Najpierw liczona jest precision, recall i f1-score osobno dla każdej klasy,  \n",
        "  **potem wyciągana jest z nich średnia arytmetyczna** (po klasach).\n",
        "- Każda klasa jest **ważona tak samo**, niezależnie od liczby próbek danej klasy.\n",
        "- Dobra miara, jeśli zależy Ci, by wszystkie klasy traktować równo (ważne przy niezbalansowanych danych).\n",
        "\n",
        "---\n",
        "\n",
        "#### **3. weighted avg (średnia ważona)**\n",
        "\n",
        "- Najpierw liczysz precision, recall i f1-score dla każdej klasy,\n",
        "- Następnie każda wartość jest **ważona liczbą próbek w tej klasie (support)**.\n",
        "- Klasy z większą liczbą próbek mają większy wpływ na końcowy wynik.\n",
        "\n",
        "---\n",
        "\n",
        "#### **Porównanie macro avg vs weighted avg:**\n",
        "\n",
        "- Jeśli Twoje klasy są niezbalansowane (jedna klasa dominuje), **weighted avg** lepiej oddaje ogólną jakość predykcji.\n",
        "- **macro avg** jest czuła na to, czy któraś klasa jest szczególnie źle klasyfikowana, nawet jeśli takich próbek jest mało.\n",
        "\n",
        "---\n",
        "\n",
        "| Metryka       | Opis                                                                          |\n",
        "|---------------|-------------------------------------------------------------------------------|\n",
        "| accuracy      | Ogólna trafność klasyfikacji (proporcja poprawnych predykcji dla wszystkich). |\n",
        "| macro avg     | Średnia arytmetyczna metryk dla każdej klasy (wszystkie klasy równo ważone).  |\n",
        "| weighted avg  | Średnia ważona metryk, ważona liczbą próbek w każdej klasie (support).        |"
      ],
      "metadata": {
        "id": "_Xcr0eraGXoN"
      }
    }
  ]
}