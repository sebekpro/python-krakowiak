{
  "nbformat": 4,
  "nbformat_minor": 0,
  "metadata": {
    "colab": {
      "provenance": [],
      "include_colab_link": true
    },
    "kernelspec": {
      "name": "python3",
      "display_name": "Python 3"
    }
  },
  "cells": [
    {
      "cell_type": "markdown",
      "metadata": {
        "id": "view-in-github",
        "colab_type": "text"
      },
      "source": [
        "<a href=\"https://colab.research.google.com/github/sebekpro/python-krakowiak/blob/main/250-data-science-bootcamp-w-jezyku-python/221_230_exercises.ipynb\" target=\"_parent\"><img src=\"https://colab.research.google.com/assets/colab-badge.svg\" alt=\"Open In Colab\"/></a>"
      ]
    },
    {
      "cell_type": "markdown",
      "metadata": {
        "id": "WLEgCW5F1hho"
      },
      "source": [
        "## Data Science Bootcamp\n",
        "\n",
        "### Spis treści:\n",
        "* [Import biblioteki](#0)\n",
        "* [Ćwiczenie 221](#1)\n",
        "* [Ćwiczenie 222](#2)\n",
        "* [Ćwiczenie 223](#3)\n",
        "* [Ćwiczenie 224](#4)\n",
        "* [Ćwiczenie 225](#5)\n",
        "* [Ćwiczenie 226](#6)\n",
        "* [Ćwiczenie 227](#7)\n",
        "* [Ćwiczenie 228](#8)\n",
        "* [Ćwiczenie 229](#9)\n",
        "* [Ćwiczenie 230](#10)"
      ]
    },
    {
      "cell_type": "markdown",
      "metadata": {
        "id": "zeLOLmTj1kBM"
      },
      "source": [
        "### <a name='0'></a>Import biblioteki"
      ]
    },
    {
      "cell_type": "code",
      "metadata": {
        "id": "HXMB7SMe1Wnz",
        "colab": {
          "base_uri": "https://localhost:8080/",
          "height": 35
        },
        "outputId": "3857b57c-4015-488a-f825-d2401f70fc2e"
      },
      "source": [
        "import numpy as np\n",
        "np.random.seed(20)\n",
        "\n",
        "np.__version__"
      ],
      "execution_count": null,
      "outputs": [
        {
          "output_type": "execute_result",
          "data": {
            "text/plain": [
              "'2.0.2'"
            ],
            "application/vnd.google.colaboratory.intrinsic+json": {
              "type": "string"
            }
          },
          "metadata": {},
          "execution_count": 1
        }
      ]
    },
    {
      "cell_type": "markdown",
      "metadata": {
        "id": "ooAbgODbViP4"
      },
      "source": [
        "### <a name='a11'></a> Rozwiązywanie układów równań\n",
        "Rozważmy układ równań $U$:  \n",
        "$${\\displaystyle \\mathrm {U} \\colon {\\begin{cases}{\\begin{matrix}a_{11}x_{1}&+&a_{12}x_{2}&+&\\dots &+&a_{1n}x_{n}&=b_{1},\\\\a_{21}x_{1}&+&a_{22}x_{2}&+&\\dots &+&a_{2n}x_{n}&=b_{2},\\\\\\vdots &&\\vdots &&\\ddots &&\\vdots &\\vdots \\\\a_{m1}x_{1}&+&a_{m2}x_{2}&+&\\dots &+&a_{mn}x_{n}&=b_{m}.\\end{matrix}}\\end{cases}}.}$$\n",
        "\n",
        "Wykorzystując macierze możemy to przedstawić następująco:\n",
        "\n",
        "$${\\begin{bmatrix}a_{11}&a_{12}&\\dots &a_{1n}\\\\a_{21}&a_{22}&\\dots &a_{2n}\\\\\\vdots &\\vdots &\\ddots &\\vdots \\\\a_{m1}&a_{m2}&\\dots &a_{mn}\\end{bmatrix}}{\\begin{bmatrix}x_{1}\\\\x_{2}\\\\\\vdots \\\\x_{n}\\end{bmatrix}}={\\begin{bmatrix}b_{1}\\\\b_{2}\\\\\\vdots \\\\b_{m}\\end{bmatrix}}$$\n",
        "I w zapisie skrótowym:\n",
        "$$\\mathbf {AX} =\\mathbf {B}$$\n",
        "\n",
        "Gdzie:  \n",
        "$A = {\\begin{bmatrix}a_{11}&a_{12}&\\dots &a_{1n}\\\\a_{21}&a_{22}&\\dots &a_{2n}\\\\\\vdots &\\vdots &\\ddots &\\vdots \\\\a_{m1}&a_{m2}&\\dots &a_{mn}\\end{bmatrix}}$ - macierz współczynników\n",
        "\n",
        "${\\displaystyle \\mathbf {B} =[b_{1},b_{2},\\dots ,b_{m}]} $ - wektor wyrazów wolnych  \n",
        "${\\mathbf  X}=[x_{1},x_{2},\\dots ,x_{n}] $ - wektor niewiadomych\n",
        "\n",
        "Jeśli macierz układu $A$ jest macierzą kwadratową, to oznaczoność układu jest równoważna jej odwracalności, tzn.\n",
        "$$\\mathbf {AX} =\\mathbf {B}$$\n",
        "$${\\displaystyle \\mathbf {A} ^{-1}\\mathbf {AX} =\\mathbf {A} ^{-1}\\mathbf {B}} $$\n",
        "$$\\mathbf {X} =\\mathbf {A} ^{-1}\\mathbf {B} .$$\n",
        "\n",
        "#### Przykład:\n",
        "Rozważmy układ równań:\n",
        "$$\\begin{cases}2x + 4y = 10 \\\\ x - y = -1 \\end{cases}$$  \n",
        "Rozwiązaniem jest para liczb:\n",
        "$$\\begin{cases}x = 1 \\\\ y = 2 \\end{cases}$$  \n"
      ]
    },
    {
      "cell_type": "markdown",
      "metadata": {
        "id": "cyc70pMe1oCg"
      },
      "source": [
        "### <a name='1'></a> Ćwiczenie 221\n",
        "Wykorzystując bibliotekę numpy rozwiąż poniższy układ równań:\n",
        "\n",
        "$$\\begin{cases}5x - 3y = 21 \\\\ x - 2y = 7 \\end{cases}$$"
      ]
    },
    {
      "cell_type": "code",
      "metadata": {
        "id": "gkffRbwLWITv",
        "colab": {
          "base_uri": "https://localhost:8080/"
        },
        "outputId": "1b65ff60-0e47-4be3-c8d1-f9196b4031de"
      },
      "source": [
        "# tutaj wpisz rozwiązanie\n",
        "# Tworzymy macierz współczynników\n",
        "A = np.array([[5, -3],\n",
        "              [1, -2]])\n",
        "\n",
        "# Tworzymy wektor wyrazów wolnych\n",
        "B = np.array([21, 7])\n",
        "\n",
        "# Rozwiązujemy układ równań\n",
        "X = np.linalg.solve(A, B)\n",
        "\n",
        "# Wyświetlamy rozwiązania\n",
        "print(\"x = \", X[0])\n",
        "print(\"y = \", X[1])"
      ],
      "execution_count": null,
      "outputs": [
        {
          "output_type": "stream",
          "name": "stdout",
          "text": [
            "x =  3.0\n",
            "y =  -2.0\n"
          ]
        }
      ]
    },
    {
      "cell_type": "markdown",
      "metadata": {
        "id": "A4xh1szhhZm_"
      },
      "source": [
        "Dokonaj sprawdzenia.\n",
        "\n",
        "__Wskazówka:__ Użyj funkcji _np.allclose()_."
      ]
    },
    {
      "cell_type": "code",
      "metadata": {
        "id": "Ar65MwdrYNRS",
        "colab": {
          "base_uri": "https://localhost:8080/"
        },
        "outputId": "a3e84ecb-78ae-45b0-efb9-3e4e971b59a4"
      },
      "source": [
        "# tutaj wpisz rozwiązanie\n",
        "# Sprawdzenie: podstawiamy X do AX i porównujemy z B\n",
        "is_correct = np.allclose(A @ X, B)\n",
        "print(\"Czy rozwiązanie jest poprawne? :\", is_correct)"
      ],
      "execution_count": null,
      "outputs": [
        {
          "output_type": "stream",
          "name": "stdout",
          "text": [
            "Czy rozwiązanie jest poprawne? : True\n"
          ]
        }
      ]
    },
    {
      "cell_type": "markdown",
      "metadata": {
        "id": "J9pY1rtr1sC0"
      },
      "source": [
        "### <a name='2'></a> Ćwiczenie 222\n",
        "Wykorzystując bibliotekę numpy rozwiąż poniższy układ równań:\n",
        "\n",
        "$$\\begin{cases}x + y + z = 1 \\\\ 2x + y + 5z = 0 \\\\ x - y = z \\end{cases}$$"
      ]
    },
    {
      "cell_type": "code",
      "metadata": {
        "id": "X-BSJv65XJ3U",
        "colab": {
          "base_uri": "https://localhost:8080/"
        },
        "outputId": "3f0962f7-4785-4452-aa34-5d7943cf7d4a"
      },
      "source": [
        "# tutaj wpisz rozwiązanie\n",
        "\n",
        "# Macierz współczyński\n",
        "A = np.array([\n",
        "    [1, 1, 1],\n",
        "    [2, 1, 5],\n",
        "    [1, -1, -1]\n",
        "])\n",
        "\n",
        "# Wektor wyrazó wolnych\n",
        "B = np.array([1, 0, 0])\n",
        "\n",
        "# x + y + z = 1        ← tutaj **wyraz wolny to 1**\n",
        "# 2x + y + 5z = 0      ← tutaj **wyraz wolny to 0**\n",
        "# x - y = z            ← tę równość trzeba przekształcić -> x − y − z = 0\n",
        "\n",
        "\n",
        "# Rozwiązanie układu\n",
        "X = np.linalg.solve(A, B)\n",
        "\n",
        "print(\"x = \", X[0])\n",
        "print(\"y = \", X[1])\n",
        "print(\"z = \", X[2])\n",
        "\n"
      ],
      "execution_count": null,
      "outputs": [
        {
          "output_type": "stream",
          "name": "stdout",
          "text": [
            "x =  0.5\n",
            "y =  0.875\n",
            "z =  -0.375\n"
          ]
        }
      ]
    },
    {
      "cell_type": "markdown",
      "metadata": {
        "id": "kUqnyHaOh1zz"
      },
      "source": [
        "Dokonaj sprawdzenia.\n",
        "\n",
        "__Wskazówka:__ Użyj funkcji _np.allclose()_."
      ]
    },
    {
      "cell_type": "code",
      "metadata": {
        "id": "XfjwJyaVYBZw",
        "colab": {
          "base_uri": "https://localhost:8080/"
        },
        "outputId": "6b750e98-96f8-420b-c15d-16fcf89e87d4"
      },
      "source": [
        "# tutaj wpisz rozwiązanie\n",
        "# Sprawdzenie poprawności rozwiązania\n",
        "print(\"Czy rozwiązanie jest poprawne? :\", np.allclose(A @ X, B))"
      ],
      "execution_count": null,
      "outputs": [
        {
          "output_type": "stream",
          "name": "stdout",
          "text": [
            "Czy rozwiązanie jest poprawne? : True\n"
          ]
        }
      ]
    },
    {
      "cell_type": "markdown",
      "metadata": {
        "id": "XQLYT2m11wVG"
      },
      "source": [
        "### <a name='3'></a> Ćwiczenie 223\n",
        "Załaduj popularny zbiór danych IRIS do zmiennej _data_raw_ wykorzystując bibliotekę _scikit-learn_."
      ]
    },
    {
      "cell_type": "code",
      "metadata": {
        "id": "gshNLxTAYvdQ"
      },
      "source": [
        "# tutaj wpisz rozwiązanie\n",
        "from sklearn.datasets import load_iris\n",
        "\n",
        "data_raw = load_iris()"
      ],
      "execution_count": null,
      "outputs": []
    },
    {
      "cell_type": "markdown",
      "metadata": {
        "id": "43j_BUe2ZgkH"
      },
      "source": [
        "Wyświetl opis zbioru IRIS"
      ]
    },
    {
      "cell_type": "code",
      "metadata": {
        "id": "WHeXfhvsZfxn",
        "colab": {
          "base_uri": "https://localhost:8080/"
        },
        "outputId": "4559b800-6320-4a56-d97c-479866961b4f"
      },
      "source": [
        "# tutaj wpisz rozwiązanie\n",
        "print(data_raw.DESCR)"
      ],
      "execution_count": null,
      "outputs": [
        {
          "output_type": "stream",
          "name": "stdout",
          "text": [
            ".. _iris_dataset:\n",
            "\n",
            "Iris plants dataset\n",
            "--------------------\n",
            "\n",
            "**Data Set Characteristics:**\n",
            "\n",
            ":Number of Instances: 150 (50 in each of three classes)\n",
            ":Number of Attributes: 4 numeric, predictive attributes and the class\n",
            ":Attribute Information:\n",
            "    - sepal length in cm\n",
            "    - sepal width in cm\n",
            "    - petal length in cm\n",
            "    - petal width in cm\n",
            "    - class:\n",
            "            - Iris-Setosa\n",
            "            - Iris-Versicolour\n",
            "            - Iris-Virginica\n",
            "\n",
            ":Summary Statistics:\n",
            "\n",
            "============== ==== ==== ======= ===== ====================\n",
            "                Min  Max   Mean    SD   Class Correlation\n",
            "============== ==== ==== ======= ===== ====================\n",
            "sepal length:   4.3  7.9   5.84   0.83    0.7826\n",
            "sepal width:    2.0  4.4   3.05   0.43   -0.4194\n",
            "petal length:   1.0  6.9   3.76   1.76    0.9490  (high!)\n",
            "petal width:    0.1  2.5   1.20   0.76    0.9565  (high!)\n",
            "============== ==== ==== ======= ===== ====================\n",
            "\n",
            ":Missing Attribute Values: None\n",
            ":Class Distribution: 33.3% for each of 3 classes.\n",
            ":Creator: R.A. Fisher\n",
            ":Donor: Michael Marshall (MARSHALL%PLU@io.arc.nasa.gov)\n",
            ":Date: July, 1988\n",
            "\n",
            "The famous Iris database, first used by Sir R.A. Fisher. The dataset is taken\n",
            "from Fisher's paper. Note that it's the same as in R, but not as in the UCI\n",
            "Machine Learning Repository, which has two wrong data points.\n",
            "\n",
            "This is perhaps the best known database to be found in the\n",
            "pattern recognition literature.  Fisher's paper is a classic in the field and\n",
            "is referenced frequently to this day.  (See Duda & Hart, for example.)  The\n",
            "data set contains 3 classes of 50 instances each, where each class refers to a\n",
            "type of iris plant.  One class is linearly separable from the other 2; the\n",
            "latter are NOT linearly separable from each other.\n",
            "\n",
            ".. dropdown:: References\n",
            "\n",
            "  - Fisher, R.A. \"The use of multiple measurements in taxonomic problems\"\n",
            "    Annual Eugenics, 7, Part II, 179-188 (1936); also in \"Contributions to\n",
            "    Mathematical Statistics\" (John Wiley, NY, 1950).\n",
            "  - Duda, R.O., & Hart, P.E. (1973) Pattern Classification and Scene Analysis.\n",
            "    (Q327.D83) John Wiley & Sons.  ISBN 0-471-22361-1.  See page 218.\n",
            "  - Dasarathy, B.V. (1980) \"Nosing Around the Neighborhood: A New System\n",
            "    Structure and Classification Rule for Recognition in Partially Exposed\n",
            "    Environments\".  IEEE Transactions on Pattern Analysis and Machine\n",
            "    Intelligence, Vol. PAMI-2, No. 1, 67-71.\n",
            "  - Gates, G.W. (1972) \"The Reduced Nearest Neighbor Rule\".  IEEE Transactions\n",
            "    on Information Theory, May 1972, 431-433.\n",
            "  - See also: 1988 MLC Proceedings, 54-64.  Cheeseman et al\"s AUTOCLASS II\n",
            "    conceptual clustering system finds 3 classes in the data.\n",
            "  - Many, many more ...\n",
            "\n"
          ]
        }
      ]
    },
    {
      "cell_type": "markdown",
      "metadata": {
        "id": "35HLC1jCZq9x"
      },
      "source": [
        "Wyświetl nazwy zmiennych w zbiorze."
      ]
    },
    {
      "cell_type": "code",
      "metadata": {
        "id": "9-ndsHwQZuK3",
        "colab": {
          "base_uri": "https://localhost:8080/"
        },
        "outputId": "b086007f-a03f-4935-850f-6ba8b2fe2945"
      },
      "source": [
        "# tutaj wpisz rozwiązanie\n",
        "print(data_raw.feature_names)"
      ],
      "execution_count": null,
      "outputs": [
        {
          "output_type": "stream",
          "name": "stdout",
          "text": [
            "['sepal length (cm)', 'sepal width (cm)', 'petal length (cm)', 'petal width (cm)']\n"
          ]
        }
      ]
    },
    {
      "cell_type": "markdown",
      "metadata": {
        "id": "5JPv3pTxZzH_"
      },
      "source": [
        "Wyświetl nazwy klas w zbiorze."
      ]
    },
    {
      "cell_type": "code",
      "metadata": {
        "id": "fkE9V9lBZ1uH"
      },
      "source": [
        "# tutaj wpisz rozwiązanie\n",
        "print(data_raw.target_names)"
      ],
      "execution_count": null,
      "outputs": []
    },
    {
      "cell_type": "markdown",
      "metadata": {
        "id": "4xTKSUzg10MK"
      },
      "source": [
        "### <a name='4'></a> Ćwiczenie 224\n",
        "Do zmiennej _data_ przypisz dane (tablica numpy) zbioru IRIS."
      ]
    },
    {
      "cell_type": "code",
      "metadata": {
        "id": "8Eaf0Ze6Z7U5"
      },
      "source": [
        "# tutaj wpisz rozwiązanie\n",
        "data = data_raw.data"
      ],
      "execution_count": null,
      "outputs": []
    },
    {
      "cell_type": "markdown",
      "metadata": {
        "id": "ZFUjH3O4aE5p"
      },
      "source": [
        "Do zmiennej _target_ przypisz wartości zmiennej docelowej ze zbioru IRIS."
      ]
    },
    {
      "cell_type": "code",
      "metadata": {
        "id": "YqyXeVCTaGjM"
      },
      "source": [
        "# tutaj wpisz rozwiązanie\n",
        "target = data_raw.target"
      ],
      "execution_count": null,
      "outputs": []
    },
    {
      "cell_type": "markdown",
      "metadata": {
        "id": "-kTAqyiYaVGV"
      },
      "source": [
        "Zbadaj kształt zmiennej _data_ oraz _target_."
      ]
    },
    {
      "cell_type": "code",
      "metadata": {
        "id": "QlSfawFNaYk1",
        "colab": {
          "base_uri": "https://localhost:8080/"
        },
        "outputId": "ec916747-01e6-4f16-f319-b6c99169da90"
      },
      "source": [
        "# tutaj wpisz rozwiązanie\n",
        "print(\"Shape of data:\", data.shape)\n",
        "print(\"Shape of target:\", target.shape)\n"
      ],
      "execution_count": null,
      "outputs": [
        {
          "output_type": "stream",
          "name": "stdout",
          "text": [
            "Shape of data: (150, 4)\n",
            "Shape of target: (150,)\n"
          ]
        }
      ]
    },
    {
      "cell_type": "markdown",
      "metadata": {
        "id": "o3HKIKlP15Ro"
      },
      "source": [
        "### <a name='5'></a> Ćwiczenie 225\n",
        "Podziel dane na zbiór treningowy (_data_train_, _target_train_) i testowy (_data_test_, _target_test_). Rozmiar zbioru testowego to 30% próbek."
      ]
    },
    {
      "cell_type": "code",
      "metadata": {
        "id": "ninOmgfazd6v"
      },
      "source": [
        "# tutaj wpisz rozwiązanie\n",
        "from sklearn.model_selection import train_test_split\n",
        "\n",
        "data_train, data_test, target_train, target_test = train_test_split(data, target, test_size = 0.3, random_state = 20)"
      ],
      "execution_count": null,
      "outputs": []
    },
    {
      "cell_type": "markdown",
      "metadata": {
        "id": "tkQQXkt009F_"
      },
      "source": [
        "Wyświetl rozmiar zbiorów:\n",
        "* _data_train_\n",
        "* _target_train_\n",
        "* _data_test_\n",
        "* _target_test_"
      ]
    },
    {
      "cell_type": "code",
      "metadata": {
        "id": "xtq2Z_-P1KF5",
        "colab": {
          "base_uri": "https://localhost:8080/"
        },
        "outputId": "3f7f2a5d-45a0-42aa-ad3f-8d6526cacfe8"
      },
      "source": [
        "# tutaj wpisz rozwiązanie\n",
        "print(\"Rozmiar data_train:\", len(data_train))\n",
        "print(\"Rozmiar target_train:\", len(target_train))\n",
        "print(\"Rozmiar data_test:\", len(data_test))\n",
        "print(\"Rozmiar target_test:\", len(target_test))\n"
      ],
      "execution_count": null,
      "outputs": [
        {
          "output_type": "stream",
          "name": "stdout",
          "text": [
            "Rozmiar data_train: 105\n",
            "Rozmiar target_train: 105\n",
            "Rozmiar data_test: 45\n",
            "Rozmiar target_test: 45\n"
          ]
        }
      ]
    },
    {
      "cell_type": "markdown",
      "metadata": {
        "id": "PunXd_Ey16so"
      },
      "source": [
        "### <a name='6'></a> Ćwiczenie 226\n",
        "Zbuduj model regresji logistcznej (ustaw domyślne wartości parametrów) wykorzystując bibliotekę scikit-learn oraz dane IRIS."
      ]
    },
    {
      "cell_type": "code",
      "metadata": {
        "id": "zxm23bKf1SG7",
        "colab": {
          "base_uri": "https://localhost:8080/"
        },
        "outputId": "70a36281-0327-44fb-c63d-cef604d2436f"
      },
      "source": [
        "# tutaj wpisz rozwiązanie\n",
        "from sklearn.linear_model import LogisticRegression\n",
        "\n",
        "# 1. Załaduj dane IRIS\n",
        "iris = load_iris()\n",
        "data = iris.data\n",
        "target = iris.target\n",
        "\n",
        "# 2. Podziel dane (test_size=0.3 oznacza 30% do testu)\n",
        "data_train, data_test, target_train, target_test = train_test_split(data, target, test_size = 0.3, random_state = 20)\n",
        "\n",
        "# 3. Zbuduj model regresji logistycznej z domyślnymi parametrami i wytrenuj go\n",
        "model = LogisticRegression()\n",
        "\n",
        "# Dopasuj dane treningowe do modelu\n",
        "model.fit(data_train, target_train)\n",
        "\n",
        "# 4. Wyświetl ocenę modelu (accuracy) na zbiorze testowym\n",
        "accuracy = model.score(data_test, target_test)\n",
        "print(\"Accuracy na zbiorze testowym: \", accuracy)"
      ],
      "execution_count": null,
      "outputs": [
        {
          "output_type": "stream",
          "name": "stdout",
          "text": [
            "Accuracy na zbiorze testowym:  0.9333333333333333\n"
          ]
        }
      ]
    },
    {
      "cell_type": "markdown",
      "source": [
        "**Opis kroków:**\n",
        "\n",
        "**load_iris()** — wczytuje dane o kwiatach Iris (cechy + gatunki).\n",
        "\n",
        "**train_test_split** — dzieli dane na część treningową i testową.\n",
        "\n",
        "**LogisticRegression()** — tworzy model regresji logistycznej z domyślnymi parametrami.\n",
        "\n",
        "**model.fit(...)** — trenuje model na zbiorze treningowym.\n",
        "\n",
        "**model.score(...)** — zwraca accuracy (procent poprawnych klasyfikacji) na zbiorze testowym."
      ],
      "metadata": {
        "id": "d-d1mHBx581n"
      }
    },
    {
      "cell_type": "markdown",
      "metadata": {
        "id": "FWRzSV8L1ZUU"
      },
      "source": [
        "Dopasuj dane treningowe do modelu."
      ]
    },
    {
      "cell_type": "code",
      "metadata": {
        "id": "L1VBQhUZ1ckh"
      },
      "source": [
        "# tutaj wpisz rozwiązanie\n",
        "# Dopasuj dane treningowe do modelu\n",
        "model.fit(data_train, target_train)"
      ],
      "execution_count": null,
      "outputs": []
    },
    {
      "cell_type": "markdown",
      "metadata": {
        "id": "hOhqDRz618Tx"
      },
      "source": [
        "### <a name='7'></a> Ćwiczenie 227\n",
        "Dokonaj oceny modelu na zbiorze treningowym."
      ]
    },
    {
      "cell_type": "code",
      "metadata": {
        "id": "5gZWLrht1-vl",
        "colab": {
          "base_uri": "https://localhost:8080/"
        },
        "outputId": "118645b3-7862-465d-e30d-60c6589b1541"
      },
      "source": [
        "# tutaj wpisz rozwiązanie\n",
        "accuracy_train = model.score(data_train, target_train)\n",
        "print(\"Accuracy na zbiorze treiningowym: \", accuracy_train)"
      ],
      "execution_count": null,
      "outputs": [
        {
          "output_type": "stream",
          "name": "stdout",
          "text": [
            "Accuracy na zbiorze treiningowym 0.9714285714285714\n"
          ]
        }
      ]
    },
    {
      "cell_type": "markdown",
      "source": [
        "**Wyjaśnienie:**\n",
        "\n",
        "* model.score(data_train, target_train) oblicza accuracy, czyli procent poprawnych przewidywań na treningowych danych.\n",
        "\n",
        "* Im bliżej 1.0 (lub 100%), tym model lepiej „nauczył się” rozróżniać klasy na tych danych."
      ],
      "metadata": {
        "id": "3V9RsZLt7-5V"
      }
    },
    {
      "cell_type": "markdown",
      "metadata": {
        "id": "YSg63Pcv2QJP"
      },
      "source": [
        "Dokonaj oceny modelu na zbiorze testowym."
      ]
    },
    {
      "cell_type": "code",
      "metadata": {
        "id": "spCcLOtX2TXQ",
        "colab": {
          "base_uri": "https://localhost:8080/"
        },
        "outputId": "5e666e69-e203-4488-c8f5-8d7bb946fd6c"
      },
      "source": [
        "# tutaj wpisz rozwiązanie\n",
        "accuracy_test = model.score(data_test, target_test)\n",
        "print(\"Accuracy na zbiorze testowym: \", accuracy_test)"
      ],
      "execution_count": null,
      "outputs": [
        {
          "output_type": "stream",
          "name": "stdout",
          "text": [
            "Accuracy na zbiorze testowym:  0.9333333333333333\n"
          ]
        }
      ]
    },
    {
      "cell_type": "markdown",
      "metadata": {
        "id": "TXUd_4631-gw"
      },
      "source": [
        "### <a name='8'></a> Ćwiczenie 228\n",
        "Dokonaj predykcji na danych testowych na podstawie modelu i przypisz je do zmiennej _target\\_pred_."
      ]
    },
    {
      "cell_type": "code",
      "metadata": {
        "id": "AyjKyB5r2ZhQ"
      },
      "source": [
        "# tutaj wpisz rozwiązanie\n",
        "# Dokonaj predykcji na danych testowych\n",
        "target_pred = model.predict(data_test)\n"
      ],
      "execution_count": null,
      "outputs": []
    },
    {
      "cell_type": "markdown",
      "metadata": {
        "id": "VDZq3lde2heB"
      },
      "source": [
        "Wyświetl zmienną _target\\_pred_."
      ]
    },
    {
      "cell_type": "code",
      "metadata": {
        "id": "KaooHHRt2tJB",
        "colab": {
          "base_uri": "https://localhost:8080/"
        },
        "outputId": "3cc7ad25-ff3a-476a-8e39-2551b4a99a3a"
      },
      "source": [
        "# tutaj wpisz rozwiązanie\n",
        "# Wyświetl kilka pierwszych przewidywanych wartości\n",
        "print(\"Predykcje danych testowych (pierwsze 10)\", target_pred[ :10])"
      ],
      "execution_count": null,
      "outputs": [
        {
          "output_type": "stream",
          "name": "stdout",
          "text": [
            "Predykcje danych testowych (pierwsze 10) [0 1 1 2 1 1 2 0 2 0]\n"
          ]
        }
      ]
    },
    {
      "cell_type": "markdown",
      "metadata": {
        "id": "EYvlbXM82v34"
      },
      "source": [
        "Wyświetl zmienną _target\\_test_."
      ]
    },
    {
      "cell_type": "code",
      "metadata": {
        "id": "5RxQBgvK2yrR",
        "colab": {
          "base_uri": "https://localhost:8080/"
        },
        "outputId": "70fda94f-268e-437a-a5fb-9bf116160607"
      },
      "source": [
        "# tutaj wpisz rozwiązanie\n",
        "print(\"Wartość przewidywaną (pierwsze 10)\", target_test[ :10])"
      ],
      "execution_count": null,
      "outputs": [
        {
          "output_type": "stream",
          "name": "stdout",
          "text": [
            "Wartość przewidywaną (pierwsze 10) [0 1 1 2 1 1 2 0 2 0]\n"
          ]
        }
      ]
    },
    {
      "cell_type": "markdown",
      "metadata": {
        "id": "tgI6xEn-2AQo"
      },
      "source": [
        "### <a name='9'></a> Ćwiczenie 229\n",
        "Wyznacz macierz pomyłek (macierz konfuzji)"
      ]
    },
    {
      "cell_type": "code",
      "metadata": {
        "id": "r0mbpM943D2J",
        "colab": {
          "base_uri": "https://localhost:8080/"
        },
        "outputId": "d1343ed5-b9c5-4dad-e0ac-a7deeb18d981"
      },
      "source": [
        "# tutaj wpisz rozwiązanie\n",
        "from sklearn.metrics import confusion_matrix\n",
        "\n",
        "cm = confusion_matrix(target_test, target_pred)\n",
        "\n",
        "print(\"Macierz pomyłek: \", cm)"
      ],
      "execution_count": null,
      "outputs": [
        {
          "output_type": "stream",
          "name": "stdout",
          "text": [
            "Macierz pomyłek:  [[13  0  0]\n",
            " [ 0 18  0]\n",
            " [ 0  3 11]]\n"
          ]
        }
      ]
    },
    {
      "cell_type": "markdown",
      "source": [
        "**Wyjaśnienie**:\n",
        "\n",
        "* **confusion_matrix(y_true, y_pred)** przyjmuje najpierw rzeczywiste etykiety, potem przewidywane.\n",
        "\n",
        "* Wynikowa macierz pokazuje, ile razy model dobrze lub źle zaklasyfikował próbki do poszczególnych klas."
      ],
      "metadata": {
        "id": "wKJ_cFEz9Wno"
      }
    },
    {
      "cell_type": "markdown",
      "source": [
        "Macierz pomyłek np: [\n",
        "  \n",
        "  [13  0  0]\n",
        "\n",
        " [ 0 18  0]\n",
        "\n",
        " [ 0  3 11]\n",
        "\n",
        " ]\n",
        "\n",
        "##Jak czytać macierz pomyłek?\n",
        "* **Wiersze**: Prawdziwe (rzeczywiste) klasy.\n",
        "* **Kolumny**: Przewidywane przez model klasy.\n",
        "* **Każdy element** [i, j] oznacza liczbę próbek, które należały do klasy i, a zostały zaklasyfikowane jako klasa j.\n",
        "\n",
        "Przyjmijmy, że klasy są nazwane:\n",
        "* **0** – Setosa\n",
        "* **1** – Versicolor\n",
        "* **2** – Virginica\n",
        "\n",
        "### Rozbijmy macierz:\n",
        "\n",
        "|                | Przewidziane: 0 | Przewidziane: 1 | Przewidziane: 2 |\n",
        "|----------------|:---------------:|:---------------:|:---------------:|\n",
        "| **Rzeczywista: 0** |      13        |        0        |        0        |\n",
        "| **Rzeczywista: 1** |      0         |       18        |        0        |\n",
        "| **Rzeczywista: 2** |      0         |        3        |       11        |\n",
        "\n",
        "---\n",
        "\n",
        "### Interpretacja:\n",
        "\n",
        "1. **Klasa 0 (Setosa):**\n",
        "   - **13** próbek klasy 0 zostało poprawnie sklasyfikowanych jako 0.\n",
        "   - **0** zostało błędnie sklasyfikowanych jako 1 lub 2.\n",
        "\n",
        "2. **Klasa 1 (Versicolor):**\n",
        "   - **18** próbek klasy 1 zostało poprawnie sklasyfikowanych jako 1.\n",
        "   - **0** zostało błędnie sklasyfikowanych jako 0 lub 2.\n",
        "\n",
        "3. **Klasa 2 (Virginica):**\n",
        "   - **11** próbek klasy 2 zostało poprawnie sklasyfikowanych jako 2.\n",
        "   - **3** próbki klasy 2 zostały błędnie sklasyfikowane jako 1.\n",
        "\n",
        "\n",
        "## Co to oznacza dla Twojego modelu?\n",
        "* Model **bardzo dobrze rozpoznaje klasy 0 i 1** – nie myli ich w ogóle z innymi.\n",
        "\n",
        "* **Klasa 2 (Virginica)** — model czasami myli ją z klasą 1 (Versicolor), zaklasyfikował 3 takie przypadki.\n",
        "\n",
        "* **Nie ma żadnych pomyłek z klasą 0.**\n",
        "\n",
        "## Wnioski:\n",
        "* Wysoka skuteczność modelu.\n",
        "\n",
        "* Jeśli zależy Ci na dokładnym rozpoznawaniu klasy 2 (Virginica), możesz pomyśleć o dalszej optymalizacji.\n",
        "\n",
        "* Często Virginica jest trudniejsza do odróżnienia od Versicolor (stąd 3 pomyłki).\n",
        "\n",
        "---\n",
        "\n",
        "\n",
        "**Macierz pomyłek pozwala szczegółowo zobaczyć, gdzie model się myli i jakie klasy są najtrudniejsze do rozpoznania.**\n",
        "\n",
        "W ten sposób można lepiej analizować skuteczność klasyfikatora niż tylko po samym accuracy!   "
      ],
      "metadata": {
        "id": "cKImsX6H9t_-"
      }
    },
    {
      "cell_type": "markdown",
      "metadata": {
        "id": "wxhpf-uq2B1I"
      },
      "source": [
        "### <a name='10'></a> Ćwiczenie 230\n",
        "Wyświetl raport klasyfikacji modelu."
      ]
    },
    {
      "cell_type": "code",
      "metadata": {
        "id": "YFc0KW6URsuc",
        "colab": {
          "base_uri": "https://localhost:8080/"
        },
        "outputId": "0e7b3d23-2937-4091-c1cb-7d02a0ee884e"
      },
      "source": [
        "# tutaj wpisz rozwiązanie\n",
        "from sklearn.metrics import classification_report\n",
        "\n",
        "print(classification_report(target_test, target_pred))\n"
      ],
      "execution_count": null,
      "outputs": [
        {
          "output_type": "stream",
          "name": "stdout",
          "text": [
            "              precision    recall  f1-score   support\n",
            "\n",
            "           0       1.00      1.00      1.00        13\n",
            "           1       0.86      1.00      0.92        18\n",
            "           2       1.00      0.79      0.88        14\n",
            "\n",
            "    accuracy                           0.93        45\n",
            "   macro avg       0.95      0.93      0.93        45\n",
            "weighted avg       0.94      0.93      0.93        45\n",
            "\n"
          ]
        }
      ]
    },
    {
      "cell_type": "markdown",
      "source": [
        "##Co zawiera raport?\n",
        "* precision – precyzja (ile z przewidzianych jako dana klasa jest rzeczywiście tej klasy)\n",
        "\n",
        "* recall – czułość (ile z rzeczywistych próbek danej klasy zostało poprawnie rozpoznanych)\n",
        "\n",
        "* f1-score – średnia harmoniczna precyzji i recall\n",
        "\n",
        "* support – liczba próbek danej klasy w zbiorze testowym"
      ],
      "metadata": {
        "id": "Vm90C3byClvX"
      }
    },
    {
      "cell_type": "markdown",
      "source": [
        "---\n",
        "\n",
        "#### **1. accuracy**\n",
        "\n",
        "- **accuracy** (dokładność, trafność) – to po prostu odsetek poprawnych klasyfikacji:\n",
        "  \n",
        "  \\[\n",
        "  \\text{accuracy} = \\frac{\\text{liczba poprawnie sklasyfikowanych próbek}}{\\text{wszystkie próbki}}\n",
        "  \\]\n",
        "- W powyższym przykładzie:  \n",
        "  `0.93` oznacza, że **93%** próbek zostało poprawnie sklasyfikowanych.\n",
        "- Liczba `45` oznacza, że w zbiorze testowym było **45 próbek**.\n",
        "\n",
        "---\n",
        "\n",
        "#### **2. macro avg (średnia makro)**\n",
        "\n",
        "- Najpierw liczona jest precision, recall i f1-score osobno dla każdej klasy,  \n",
        "  **potem wyciągana jest z nich średnia arytmetyczna** (po klasach).\n",
        "- Każda klasa jest **ważona tak samo**, niezależnie od liczby próbek danej klasy.\n",
        "- Dobra miara, jeśli zależy Ci, by wszystkie klasy traktować równo (ważne przy niezbalansowanych danych).\n",
        "\n",
        "---\n",
        "\n",
        "#### **3. weighted avg (średnia ważona)**\n",
        "\n",
        "- Najpierw liczysz precision, recall i f1-score dla każdej klasy,\n",
        "- Następnie każda wartość jest **ważona liczbą próbek w tej klasie (support)**.\n",
        "- Klasy z większą liczbą próbek mają większy wpływ na końcowy wynik.\n",
        "\n",
        "---\n",
        "\n",
        "#### **Porównanie macro avg vs weighted avg:**\n",
        "\n",
        "- Jeśli Twoje klasy są niezbalansowane (jedna klasa dominuje), **weighted avg** lepiej oddaje ogólną jakość predykcji.\n",
        "- **macro avg** jest czuła na to, czy któraś klasa jest szczególnie źle klasyfikowana, nawet jeśli takich próbek jest mało.\n",
        "\n",
        "---\n",
        "\n",
        "| Metryka       | Opis                                                                          |\n",
        "|---------------|-------------------------------------------------------------------------------|\n",
        "| accuracy      | Ogólna trafność klasyfikacji (proporcja poprawnych predykcji dla wszystkich). |\n",
        "| macro avg     | Średnia arytmetyczna metryk dla każdej klasy (wszystkie klasy równo ważone).  |\n",
        "| weighted avg  | Średnia ważona metryk, ważona liczbą próbek w każdej klasie (support).        |"
      ],
      "metadata": {
        "id": "_Xcr0eraGXoN"
      }
    }
  ]
}