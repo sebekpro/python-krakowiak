{
  "nbformat": 4,
  "nbformat_minor": 0,
  "metadata": {
    "colab": {
      "provenance": [],
      "include_colab_link": true
    },
    "kernelspec": {
      "name": "python3",
      "display_name": "Python 3"
    }
  },
  "cells": [
    {
      "cell_type": "markdown",
      "metadata": {
        "id": "view-in-github",
        "colab_type": "text"
      },
      "source": [
        "<a href=\"https://colab.research.google.com/github/sebekpro/python-krakowiak/blob/main/250-data-science-bootcamp-w-jezyku-python/071_080_exercises.ipynb\" target=\"_parent\"><img src=\"https://colab.research.google.com/assets/colab-badge.svg\" alt=\"Open In Colab\"/></a>"
      ]
    },
    {
      "cell_type": "markdown",
      "metadata": {
        "id": "WLEgCW5F1hho"
      },
      "source": [
        "## Numpy\n",
        "\n",
        "### Spis treści:\n",
        "* [Import biblioteki](#0)\n",
        "* [Ćwiczenie 71](#1)\n",
        "* [Ćwiczenie 72](#2)\n",
        "* [Ćwiczenie 73](#3)\n",
        "* [Ćwiczenie 74](#4)\n",
        "* [Ćwiczenie 75](#5)\n",
        "* [Ćwiczenie 76](#6)\n",
        "* [Ćwiczenie 77](#7)\n",
        "* [Ćwiczenie 78](#8)\n",
        "* [Ćwiczenie 79](#9)\n",
        "* [Ćwiczenie 80](#10)"
      ]
    },
    {
      "cell_type": "markdown",
      "metadata": {
        "id": "zeLOLmTj1kBM"
      },
      "source": [
        "### <a name='0'></a>Import biblioteki"
      ]
    },
    {
      "cell_type": "code",
      "metadata": {
        "id": "HXMB7SMe1Wnz",
        "colab": {
          "base_uri": "https://localhost:8080/",
          "height": 35
        },
        "outputId": "eaebd480-95aa-4f87-ea0f-6baf380ad833"
      },
      "source": [
        "import numpy as np\n",
        "\n",
        "np.random.seed(42)\n",
        "np.__version__"
      ],
      "execution_count": 1,
      "outputs": [
        {
          "output_type": "execute_result",
          "data": {
            "text/plain": [
              "'1.26.4'"
            ],
            "application/vnd.google.colaboratory.intrinsic+json": {
              "type": "string"
            }
          },
          "metadata": {},
          "execution_count": 1
        }
      ]
    },
    {
      "cell_type": "markdown",
      "metadata": {
        "id": "cyc70pMe1oCg"
      },
      "source": [
        "### <a name='1'></a> Ćwiczenie 71\n",
        "Podana jest poniższa tablica $A$:\n",
        "\n",
        "```\n",
        "A = np.array([['id', 'price'],\n",
        "              ['001', 14.99],\n",
        "              ['002', 4.99],\n",
        "              ['003', 7.99],\n",
        "              ['004', 2.49],\n",
        "              ['005', 1.49]])\n",
        "```\n",
        "Od drugiego wiersza tablicy $A$ przestaw losowo wiersze w tablicy.\n",
        "\n",
        "__Wskazówka:__ Użyj funkcji _np.random.shuffle()_.\n"
      ]
    },
    {
      "cell_type": "code",
      "metadata": {
        "id": "RFIhGhiJtLW5",
        "colab": {
          "base_uri": "https://localhost:8080/"
        },
        "outputId": "7da1ffa2-be10-4cc6-bd97-fa1c977ccc15"
      },
      "source": [
        "# tutaj wpisz rozwiązanie\n",
        "A = np.array([['id', 'price'],\n",
        "              ['001', 14.99],\n",
        "              ['002', 4.99],\n",
        "              ['003', 7.99],\n",
        "              ['004', 2.49],\n",
        "              ['005', 1.49]])\n",
        "np.random.shuffle(A[1:])\n",
        "A"
      ],
      "execution_count": 2,
      "outputs": [
        {
          "output_type": "execute_result",
          "data": {
            "text/plain": [
              "array([['id', 'price'],\n",
              "       ['002', '4.99'],\n",
              "       ['005', '1.49'],\n",
              "       ['003', '7.99'],\n",
              "       ['001', '14.99'],\n",
              "       ['004', '2.49']], dtype='<U32')"
            ]
          },
          "metadata": {},
          "execution_count": 2
        }
      ]
    },
    {
      "cell_type": "markdown",
      "metadata": {
        "id": "J9pY1rtr1sC0"
      },
      "source": [
        "### <a name='2'></a> Ćwiczenie 72\n",
        "Podana jest poniższa tablica $A$:\n",
        "\n",
        "```\n",
        "A = np.array([0.2, 0.15, 0.1, 0.3, 0.2, 0.05])\n",
        "```\n",
        "Zwróć tablicę indeksów, które posortują tablicę $A$ rosnąco.\n",
        "\n",
        "__Oczekiwny wynik:__\n",
        "\n",
        "\n",
        "```\n",
        "array([5, 2, 1, 0, 4, 3])\n",
        "```\n",
        "__Wskazówka:__ Użyj funkcji _np.argsort()_.\n",
        "\n"
      ]
    },
    {
      "cell_type": "code",
      "metadata": {
        "id": "JXEkxNh_wAwB",
        "colab": {
          "base_uri": "https://localhost:8080/"
        },
        "outputId": "334c8ae7-0d9f-4fa9-a1f4-351708ad5eb1"
      },
      "source": [
        "# tutaj wpisz rozwiązanie\n",
        "A = np.array([0.2, 0.15, 0.1, 0.3, 0.2, 0.05])\n",
        "A_sort = np.argsort(A)\n",
        "A_sort"
      ],
      "execution_count": 3,
      "outputs": [
        {
          "output_type": "execute_result",
          "data": {
            "text/plain": [
              "array([5, 2, 1, 0, 4, 3])"
            ]
          },
          "metadata": {},
          "execution_count": 3
        }
      ]
    },
    {
      "cell_type": "markdown",
      "metadata": {
        "id": "XQLYT2m11wVG"
      },
      "source": [
        "### <a name='3'></a> Ćwiczenie 73\n",
        "Podana jest poniższa tablica $A$:\n",
        "\n",
        "```\n",
        "A = np.random.randn(10, 8)\n",
        "```\n",
        "\n",
        "Zaokrąglij wartości tej tablicy do trzeciego miejsca po przecinku.\n",
        "\n",
        "__Wskazówka:__ Użyj funkcji _np.round()_."
      ]
    },
    {
      "cell_type": "code",
      "metadata": {
        "id": "oh4E35mU0ikP",
        "colab": {
          "base_uri": "https://localhost:8080/"
        },
        "outputId": "045b52c5-1c1c-4354-99f3-b27576f42819"
      },
      "source": [
        "# tutaj wpisz rozwiązanie\n",
        "A = np.random.randn(10, 8)\n",
        "A = np.round(A,3)\n",
        "A"
      ],
      "execution_count": 5,
      "outputs": [
        {
          "output_type": "execute_result",
          "data": {
            "text/plain": [
              "array([[ 1.794,  0.581,  0.298, -1.028, -1.419,  0.19 ,  0.136,  0.608],\n",
              "       [ 0.705,  0.361, -1.467,  0.893, -0.105, -0.955, -0.415, -1.399],\n",
              "       [-0.344,  0.751, -0.328, -0.862, -0.258,  0.461, -1.349, -1.019],\n",
              "       [ 0.127, -1.249,  1.945, -0.153, -0.907, -0.817, -0.483, -0.57 ],\n",
              "       [-2.092,  1.264, -0.015, -0.027,  0.818, -1.055, -0.758,  0.457],\n",
              "       [-0.064,  0.345, -0.08 , -0.241,  1.434,  1.066, -2.499,  1.48 ],\n",
              "       [ 2.159,  1.232, -0.214, -0.689,  0.728, -0.619,  0.356, -0.022],\n",
              "       [ 1.218, -0.389, -0.443,  0.378,  1.934,  0.081, -0.416,  0.858],\n",
              "       [ 0.718, -0.951, -0.536,  1.097,  0.428, -2.47 ,  0.482,  0.926],\n",
              "       [-0.838,  0.677,  1.872,  0.396, -0.626, -0.522,  0.013,  0.378]])"
            ]
          },
          "metadata": {},
          "execution_count": 5
        }
      ]
    },
    {
      "cell_type": "markdown",
      "metadata": {
        "id": "4xTKSUzg10MK"
      },
      "source": [
        "### <a name='4'></a> Ćwiczenie 74\n",
        "Wyznacz pierwiastki wielomianu:\n",
        "* $W(x) = 4x^2 + 5x + 1$\n",
        "\n",
        "\n",
        "__Wskazówka:__ Użyj funkcji _np.roots()_ oraz _np.polyval()_."
      ]
    },
    {
      "cell_type": "code",
      "metadata": {
        "id": "RjwHkYO86qeM",
        "colab": {
          "base_uri": "https://localhost:8080/"
        },
        "outputId": "49b22ee6-f293-4fcb-c14a-48b393515d3a"
      },
      "source": [
        "# tutaj wpisz rozwiązanie\n",
        "polynomial = np.array([4, 5, 1])\n",
        "roots = np.roots(polynomial)\n",
        "\n",
        "print(f\"Pierwiastki wielomianu W(x) = 4x^2 + 5x + 1: {roots}\\n\")"
      ],
      "execution_count": 10,
      "outputs": [
        {
          "output_type": "stream",
          "name": "stdout",
          "text": [
            "Pierwiastki wielomianu W(x) = 4x^2 + 5x + 1: [-1.   -0.25]\n",
            "\n"
          ]
        }
      ]
    },
    {
      "cell_type": "markdown",
      "metadata": {
        "id": "YDKyTjl59GcT"
      },
      "source": [
        "Dokonaj sprawdzenia."
      ]
    },
    {
      "cell_type": "code",
      "metadata": {
        "id": "8ryP41w78rvf",
        "colab": {
          "base_uri": "https://localhost:8080/"
        },
        "outputId": "0dc76e9b-6041-423a-d12c-8df957cd5ee4"
      },
      "source": [
        "# tutaj wpisz rozwiązanie\n",
        "for r in roots:\n",
        "  v = np.polyval(polynomial, r)\n",
        "  print(f\"W({r}) = {v}\\n\")"
      ],
      "execution_count": 11,
      "outputs": [
        {
          "output_type": "stream",
          "name": "stdout",
          "text": [
            "W(-1.0) = 0.0\n",
            "\n",
            "W(-0.25) = 0.0\n",
            "\n"
          ]
        }
      ]
    },
    {
      "cell_type": "markdown",
      "metadata": {
        "id": "o3HKIKlP15Ro"
      },
      "source": [
        "### <a name='5'></a> Ćwiczenie 75\n",
        "Wyznacz pierwiastki wielomianów:\n",
        "* $Q(x) = 2x^3 + 4x^2 -5x + 1$\n",
        "* $R(x) = 2x^3 -5x + 1$\n",
        "\n",
        "__Wskazówka:__ Użyj funkcji _np.roots()_."
      ]
    },
    {
      "cell_type": "code",
      "metadata": {
        "id": "Kxjx96O57wTY",
        "colab": {
          "base_uri": "https://localhost:8080/"
        },
        "outputId": "b20b91de-4fd8-4f08-b268-48e9a26d0537"
      },
      "source": [
        "# tutaj wpisz rozwiązanie\n",
        "polynomial1 = np.array([2, 4, -5, 1])\n",
        "polynomial2 = np.array([2, -5, 1])\n",
        "roots1 = np.roots(polynomial1)\n",
        "roots2 = np.roots(polynomial2)\n",
        "\n",
        "print(f\"Pierwiastki wielomianu W(x) = 2x^3 + 4x^2 − 5x + 1: {roots1}\\n\")\n",
        "print(f\"Pierwiastki wielomianu W(x) = 2x^3 − 5x + 1: {roots2}\\n\")\n"
      ],
      "execution_count": 12,
      "outputs": [
        {
          "output_type": "stream",
          "name": "stdout",
          "text": [
            "Pierwiastki wielomianu W(x) = 2x^3 + 4x^2 − 5x + 1: [-2.91610583  0.65388685  0.26221898]\n",
            "\n",
            "Pierwiastki wielomianu W(x) = 2x^3 − 5x + 1: [2.28077641 0.21922359]\n",
            "\n"
          ]
        }
      ]
    },
    {
      "cell_type": "code",
      "source": [
        "for r in roots1:\n",
        "  v = np.polyval(polynomial, r)\n",
        "  print(f\"W({r}) = {v}\\n\")"
      ],
      "metadata": {
        "id": "XLINPUClQYPl",
        "outputId": "3a44fe3e-a04e-41ff-daa6-2507201a94e9",
        "colab": {
          "base_uri": "https://localhost:8080/"
        }
      },
      "execution_count": 16,
      "outputs": [
        {
          "output_type": "stream",
          "name": "stdout",
          "text": [
            "W(-2.916105827293624) = 20.43416364743521\n",
            "\n",
            "W(0.6538868491936156) = 5.979706292161495\n",
            "\n",
            "W(0.2622189781000103) = 2.586130060403306\n",
            "\n"
          ]
        }
      ]
    },
    {
      "cell_type": "markdown",
      "metadata": {
        "id": "PunXd_Ey16so"
      },
      "source": [
        "### <a name='6'></a> Ćwiczenie 76\n",
        "Podane są wielomiany:\n",
        "\n",
        "* $W(x) = 4x^2 + 5x + 1$\n",
        "* $Q(x) = 2x^3 + 4x^2 -5x + 1$\n"
      ]
    },
    {
      "cell_type": "code",
      "metadata": {
        "id": "D-XbUU9Nln5y"
      },
      "source": [
        "W = np.array([4, 5, 1])\n",
        "Q = np.array([2, 4, -5, 1])\n",
        "\n",
        "Wp = np.poly1d(W)\n",
        "Qp = np.poly1d(Q)"
      ],
      "execution_count": 26,
      "outputs": []
    },
    {
      "cell_type": "markdown",
      "metadata": {
        "id": "vYiT4ikklqaQ"
      },
      "source": [
        "Wykonaj działania:\n",
        "* $W(x) + Q(x)$"
      ]
    },
    {
      "cell_type": "code",
      "metadata": {
        "id": "9JKvun7C9raH",
        "colab": {
          "base_uri": "https://localhost:8080/"
        },
        "outputId": "cd3bb401-837f-475c-88a8-f1593e4e16b5"
      },
      "source": [
        "# tutaj wpisz rozwiązanie\n",
        "sum_poly = Wp + Qp\n",
        "sum_poly"
      ],
      "execution_count": 27,
      "outputs": [
        {
          "output_type": "execute_result",
          "data": {
            "text/plain": [
              "poly1d([2, 8, 0, 2])"
            ]
          },
          "metadata": {},
          "execution_count": 27
        }
      ]
    },
    {
      "cell_type": "markdown",
      "metadata": {
        "id": "f6qXMj30lhrn"
      },
      "source": [
        "* $W(x) - Q(x)$\n"
      ]
    },
    {
      "cell_type": "code",
      "metadata": {
        "id": "HFlLC37f94Lr",
        "colab": {
          "base_uri": "https://localhost:8080/"
        },
        "outputId": "4fcadcc5-7eaa-4579-a3b8-e862d203bf0e"
      },
      "source": [
        "# tutaj wpisz rozwiązanie\n",
        "diff_poly = Wp - Qp\n",
        "diff_poly"
      ],
      "execution_count": 28,
      "outputs": [
        {
          "output_type": "execute_result",
          "data": {
            "text/plain": [
              "poly1d([-2,  0, 10,  0])"
            ]
          },
          "metadata": {},
          "execution_count": 28
        }
      ]
    },
    {
      "cell_type": "markdown",
      "metadata": {
        "id": "o8xnmuwfljHU"
      },
      "source": [
        "* $W(x) * Q(x)$\n"
      ]
    },
    {
      "cell_type": "code",
      "metadata": {
        "id": "Z4B28oMe-p8J",
        "colab": {
          "base_uri": "https://localhost:8080/"
        },
        "outputId": "ef52ee89-e7c6-4ac4-84cc-1e2955ad9176"
      },
      "source": [
        "# tutaj wpisz rozwiązanie\n",
        "mul = Wp * Qp\n",
        "mul"
      ],
      "execution_count": 30,
      "outputs": [
        {
          "output_type": "execute_result",
          "data": {
            "text/plain": [
              "poly1d([  8,  26,   2, -17,   0,   1])"
            ]
          },
          "metadata": {},
          "execution_count": 30
        }
      ]
    },
    {
      "cell_type": "markdown",
      "metadata": {
        "id": "BIHBf0PllkXe"
      },
      "source": [
        "* $W(x) + 2Q(x)$"
      ]
    },
    {
      "cell_type": "code",
      "metadata": {
        "id": "UbaoDx6E-90V",
        "colab": {
          "base_uri": "https://localhost:8080/"
        },
        "outputId": "3674d7fc-16fe-4470-84de-fd7618915f29"
      },
      "source": [
        "# tutaj wpisz rozwiązanie\n",
        "sum_poly = Wp + 2 * Qp\n",
        "sum_poly"
      ],
      "execution_count": 32,
      "outputs": [
        {
          "output_type": "execute_result",
          "data": {
            "text/plain": [
              "poly1d([ 4, 12, -5,  3])"
            ]
          },
          "metadata": {},
          "execution_count": 32
        }
      ]
    },
    {
      "cell_type": "markdown",
      "metadata": {
        "id": "hOhqDRz618Tx"
      },
      "source": [
        "### <a name='7'></a> Ćwiczenie 77\n",
        "Podana jest poniższa tablica:\n",
        "\n",
        "```\n",
        "A = np.array([[-4, 3, 0, 1, -5],\n",
        "              [6, -4, -2, 1, 3]])\n",
        "```\n",
        "\n",
        "Użyj funkcji znaku (_sign function_) dla tablicy $A$. Dla przypomnienia funkcja działa nastpująco: dla wartości ujemnych zwraca -1, dla zera wartość zero, dla wartości dodatnich 1.\n",
        "\n",
        "__Oczekiwany wynik:__\n",
        "\n",
        "\n",
        "```\n",
        "array([[-1,  1,  0,  1, -1],\n",
        "       [ 1, -1, -1,  1,  1]])\n",
        "```\n",
        "__Wskazówka:__ Użyj funkcji _np.sign()_.\n"
      ]
    },
    {
      "cell_type": "code",
      "metadata": {
        "id": "bo-L_-_1AF0o",
        "colab": {
          "base_uri": "https://localhost:8080/"
        },
        "outputId": "d29da993-5281-4614-88a6-d32d20e92246"
      },
      "source": [
        "# tutaj wpisz rozwiązanie\n",
        "A = np.array([[-4, 3, 0, 1, -5],\n",
        "              [6, -4, -2, 1, 3]])\n",
        "signA = np.sign(A)\n",
        "signA"
      ],
      "execution_count": 34,
      "outputs": [
        {
          "output_type": "execute_result",
          "data": {
            "text/plain": [
              "array([[-1,  1,  0,  1, -1],\n",
              "       [ 1, -1, -1,  1,  1]])"
            ]
          },
          "metadata": {},
          "execution_count": 34
        }
      ]
    },
    {
      "cell_type": "markdown",
      "metadata": {
        "id": "TXUd_4631-gw"
      },
      "source": [
        "### <a name='8'></a> Ćwiczenie 78\n",
        "Wykorzystując funkcję _np.arange()_ wygeneruj poniższą tablicę:\n",
        "\n",
        "\n",
        "```\n",
        "array(['2021-01-01', '2021-01-02', '2021-01-03', '2021-01-04',\n",
        "       '2021-01-05', '2021-01-06', '2021-01-07', '2021-01-08',\n",
        "       '2021-01-09', '2021-01-10', '2021-01-11', '2021-01-12',\n",
        "       '2021-01-13', '2021-01-14', '2021-01-15', '2021-01-16',\n",
        "       '2021-01-17', '2021-01-18', '2021-01-19', '2021-01-20',\n",
        "       '2021-01-21', '2021-01-22', '2021-01-23', '2021-01-24',\n",
        "       '2021-01-25', '2021-01-26', '2021-01-27', '2021-01-28',\n",
        "       '2021-01-29', '2021-01-30', '2021-01-31'], dtype='datetime64[D]')\n",
        "```\n",
        "\n"
      ]
    },
    {
      "cell_type": "code",
      "metadata": {
        "id": "oAdYOzbJDFmv",
        "colab": {
          "base_uri": "https://localhost:8080/"
        },
        "outputId": "a9001162-6dd0-42ba-9ef3-773b8806de17"
      },
      "source": [
        "# tutaj wpisz rozwiązanie\n",
        "from datetime import datetime\n",
        "import locale\n",
        "\n",
        "dates = np.arange('2021-01-01', '2021-02-01', dtype=np.datetime64)\n",
        "print(f'dates: {dates}\\n')\n",
        "\n",
        "# dni i nazwy w danym zakresie\n",
        "try:\n",
        "    locale.setlocale(locale.LC_TIME, 'pl_PL.UTF-8')\n",
        "except locale.Error:\n",
        "    print(\"Lokalizacja polska nie jest dostępna, używana będzie domyślna (angielska).\")\n",
        "\n",
        "dates_family = np.arange('2025-03-01', '2025-04-01', dtype=np.datetime64)\n",
        "day_names = [datetime.strptime(str(d), '%Y-%m-%d').strftime('%A') for d in dates_family]\n",
        "combined = np.array(list(zip(dates_family, day_names)), dtype=object)\n",
        "print(combined)"
      ],
      "execution_count": 41,
      "outputs": [
        {
          "output_type": "stream",
          "name": "stdout",
          "text": [
            "dates: ['2021-01-01' '2021-01-02' '2021-01-03' '2021-01-04' '2021-01-05'\n",
            " '2021-01-06' '2021-01-07' '2021-01-08' '2021-01-09' '2021-01-10'\n",
            " '2021-01-11' '2021-01-12' '2021-01-13' '2021-01-14' '2021-01-15'\n",
            " '2021-01-16' '2021-01-17' '2021-01-18' '2021-01-19' '2021-01-20'\n",
            " '2021-01-21' '2021-01-22' '2021-01-23' '2021-01-24' '2021-01-25'\n",
            " '2021-01-26' '2021-01-27' '2021-01-28' '2021-01-29' '2021-01-30'\n",
            " '2021-01-31']\n",
            "\n",
            "Lokalizacja polska nie jest dostępna, używana będzie domyślna (angielska).\n",
            "[[numpy.datetime64('2025-03-01') 'Saturday']\n",
            " [numpy.datetime64('2025-03-02') 'Sunday']\n",
            " [numpy.datetime64('2025-03-03') 'Monday']\n",
            " [numpy.datetime64('2025-03-04') 'Tuesday']\n",
            " [numpy.datetime64('2025-03-05') 'Wednesday']\n",
            " [numpy.datetime64('2025-03-06') 'Thursday']\n",
            " [numpy.datetime64('2025-03-07') 'Friday']\n",
            " [numpy.datetime64('2025-03-08') 'Saturday']\n",
            " [numpy.datetime64('2025-03-09') 'Sunday']\n",
            " [numpy.datetime64('2025-03-10') 'Monday']\n",
            " [numpy.datetime64('2025-03-11') 'Tuesday']\n",
            " [numpy.datetime64('2025-03-12') 'Wednesday']\n",
            " [numpy.datetime64('2025-03-13') 'Thursday']\n",
            " [numpy.datetime64('2025-03-14') 'Friday']\n",
            " [numpy.datetime64('2025-03-15') 'Saturday']\n",
            " [numpy.datetime64('2025-03-16') 'Sunday']\n",
            " [numpy.datetime64('2025-03-17') 'Monday']\n",
            " [numpy.datetime64('2025-03-18') 'Tuesday']\n",
            " [numpy.datetime64('2025-03-19') 'Wednesday']\n",
            " [numpy.datetime64('2025-03-20') 'Thursday']\n",
            " [numpy.datetime64('2025-03-21') 'Friday']\n",
            " [numpy.datetime64('2025-03-22') 'Saturday']\n",
            " [numpy.datetime64('2025-03-23') 'Sunday']\n",
            " [numpy.datetime64('2025-03-24') 'Monday']\n",
            " [numpy.datetime64('2025-03-25') 'Tuesday']\n",
            " [numpy.datetime64('2025-03-26') 'Wednesday']\n",
            " [numpy.datetime64('2025-03-27') 'Thursday']\n",
            " [numpy.datetime64('2025-03-28') 'Friday']\n",
            " [numpy.datetime64('2025-03-29') 'Saturday']\n",
            " [numpy.datetime64('2025-03-30') 'Sunday']\n",
            " [numpy.datetime64('2025-03-31') 'Monday']]\n"
          ]
        }
      ]
    },
    {
      "cell_type": "markdown",
      "metadata": {
        "id": "tgI6xEn-2AQo"
      },
      "source": [
        "\n",
        "### <a name='9'></a> Ćwiczenie 79\n",
        "\n",
        "Wykorzystując funkcję _np.arange()_ wygeneruj poniższą tablicę:\n",
        "\n",
        "\n",
        "\n",
        "```\n",
        "array([['2021-01', '2021-02', '2021-03'],\n",
        "       ['2021-04', '2021-05', '2021-06'],\n",
        "       ['2021-07', '2021-08', '2021-09'],\n",
        "       ['2021-10', '2021-11', '2021-12']], dtype='datetime64[M]')\n",
        "```\n",
        "\n"
      ]
    },
    {
      "cell_type": "code",
      "metadata": {
        "id": "oJRlRIThDehG",
        "colab": {
          "base_uri": "https://localhost:8080/"
        },
        "outputId": "139a9bd1-53aa-4fb8-8aca-ab8e53e751ea"
      },
      "source": [
        "# tutaj wpisz rozwiązanie\n",
        "dates_2 = np.arange('2021-01', '2022-01', dtype=np.datetime64).reshape(4, 3)\n",
        "dates_2"
      ],
      "execution_count": 53,
      "outputs": [
        {
          "output_type": "execute_result",
          "data": {
            "text/plain": [
              "array([['2021-01', '2021-02', '2021-03'],\n",
              "       ['2021-04', '2021-05', '2021-06'],\n",
              "       ['2021-07', '2021-08', '2021-09'],\n",
              "       ['2021-10', '2021-11', '2021-12']], dtype='datetime64[M]')"
            ]
          },
          "metadata": {},
          "execution_count": 53
        }
      ]
    },
    {
      "cell_type": "markdown",
      "metadata": {
        "id": "wxhpf-uq2B1I"
      },
      "source": [
        "### <a name='10'></a> Ćwiczenie 80\n",
        "\n",
        "Wykorzystując funkcję _np.datetime64()_ wygeneruj dzisiejszą datę (datę w chwili robienia ćwiczenia)."
      ]
    },
    {
      "cell_type": "code",
      "metadata": {
        "id": "YFc0KW6URsuc",
        "colab": {
          "base_uri": "https://localhost:8080/"
        },
        "outputId": "e53e8d21-4048-4285-9783-45a41d0deb58"
      },
      "source": [
        "# tutaj wpisz rozwiązanie\n",
        "print(np.datetime64('today'))"
      ],
      "execution_count": 54,
      "outputs": [
        {
          "output_type": "stream",
          "name": "stdout",
          "text": [
            "2025-02-10\n"
          ]
        }
      ]
    }
  ]
}