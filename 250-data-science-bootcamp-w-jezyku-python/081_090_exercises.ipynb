{
  "nbformat": 4,
  "nbformat_minor": 0,
  "metadata": {
    "colab": {
      "provenance": [],
      "include_colab_link": true
    },
    "kernelspec": {
      "name": "python3",
      "display_name": "Python 3"
    }
  },
  "cells": [
    {
      "cell_type": "markdown",
      "metadata": {
        "id": "view-in-github",
        "colab_type": "text"
      },
      "source": [
        "<a href=\"https://colab.research.google.com/github/sebekpro/python-krakowiak/blob/main/250-data-science-bootcamp-w-jezyku-python/081_090_exercises.ipynb\" target=\"_parent\"><img src=\"https://colab.research.google.com/assets/colab-badge.svg\" alt=\"Open In Colab\"/></a>"
      ]
    },
    {
      "cell_type": "markdown",
      "metadata": {
        "id": "WLEgCW5F1hho"
      },
      "source": [
        "## Numpy\n",
        "\n",
        "### Spis treści:\n",
        "* [Import biblioteki](#0)\n",
        "* [Ćwiczenie 81](#1)\n",
        "* [Ćwiczenie 82](#2)\n",
        "* [Ćwiczenie 83](#3)\n",
        "* [Ćwiczenie 84](#4)\n",
        "* [Ćwiczenie 85](#5)\n",
        "* [Ćwiczenie 86](#6)\n",
        "* [Ćwiczenie 87](#7)\n",
        "* [Ćwiczenie 88](#8)\n",
        "* [Ćwiczenie 89](#9)\n",
        "* [Ćwiczenie 90](#10)"
      ]
    },
    {
      "cell_type": "markdown",
      "metadata": {
        "id": "zeLOLmTj1kBM"
      },
      "source": [
        "### <a name='0'></a>Import biblioteki"
      ]
    },
    {
      "cell_type": "code",
      "metadata": {
        "id": "HXMB7SMe1Wnz",
        "colab": {
          "base_uri": "https://localhost:8080/",
          "height": 35
        },
        "outputId": "bf06fad4-af91-4245-a8fa-85bc804800d7"
      },
      "source": [
        "import numpy as np\n",
        "\n",
        "np.set_printoptions(linewidth=100)\n",
        "np.__version__"
      ],
      "execution_count": 1,
      "outputs": [
        {
          "output_type": "execute_result",
          "data": {
            "text/plain": [
              "'1.26.4'"
            ],
            "application/vnd.google.colaboratory.intrinsic+json": {
              "type": "string"
            }
          },
          "metadata": {},
          "execution_count": 1
        }
      ]
    },
    {
      "cell_type": "markdown",
      "metadata": {
        "id": "cyc70pMe1oCg"
      },
      "source": [
        "### <a name='1'></a> Ćwiczenie 81\n",
        "Wygeneruj wyszstkie daty poniedziałków ze stycznia i lutego 2020 roku jako tablicę numpy.\n",
        "\n",
        "__Oczekiwany wynik:__\n",
        "\n",
        "\n",
        "```\n",
        "array(['2020-01-06', '2020-01-13', '2020-01-20', '2020-01-27', '2020-02-03', '2020-02-10',\n",
        "       '2020-02-17', '2020-02-24'], dtype='datetime64[D]')\n",
        "```\n",
        "\n"
      ]
    },
    {
      "cell_type": "code",
      "metadata": {
        "id": "wM7QarQ-PABK",
        "colab": {
          "base_uri": "https://localhost:8080/"
        },
        "outputId": "3ee8f554-d253-47fa-dc6f-89bee3c1d6d7"
      },
      "source": [
        "# tutaj wpisz rozwiązanie\n",
        "import datetime\n",
        "dates = np.arange('2020-01-01', '2020-03-01', dtype = 'datetime64[D]')\n",
        "mondays = np.array([d for d in dates if datetime.datetime.strptime(str(d), '%Y-%m-%d').weekday() == 0]).reshape(2,4)\n",
        "print(mondays)\n"
      ],
      "execution_count": 9,
      "outputs": [
        {
          "output_type": "stream",
          "name": "stdout",
          "text": [
            "[['2020-01-06' '2020-01-13' '2020-01-20' '2020-01-27']\n",
            " ['2020-02-03' '2020-02-10' '2020-02-17' '2020-02-24']]\n"
          ]
        }
      ]
    },
    {
      "cell_type": "markdown",
      "source": [
        "#### Dni śmierci moich rodziców w kolejnych latach\n",
        "Napisz kod, który wyszuka i wypisze wszystkie lata w postaci tabeli i utwórz datę w formacie dd-mm-YY, dla których 5 czerwiec przypada w poniedziałek i zrób to samo dla 16 października, który przypada w środę. Z tych dwu tabel wypisz lata wspólne w których 5 czerwiec przypada w poniedziałek a 16 października w środę. Wyszukaj w przedziale od roku 2023 do 2124 roku"
      ],
      "metadata": {
        "id": "leal1EZCepco"
      }
    },
    {
      "cell_type": "code",
      "source": [
        "import datetime\n",
        "\n",
        "# Przedział lat od 2023 do 2124 (2124 włącznie)\n",
        "years = range(2023, 2125)\n",
        "\n",
        "# Listy do przechowywania wyników\n",
        "monday_june5 = [] # Lata, w których 5 czerwiec przypada w poniedziałek\n",
        "wednesday_october16 = [] # Lata, w których 16 października przypada w środę\n",
        "\n",
        "# Przeglądamy każdy rok z przedziału\n",
        "for year in years:\n",
        "  d_june = datetime.date(year, 6, 5)\n",
        "  d_oct = datetime.date(year, 10, 16)\n",
        "\n",
        "  # Sprawdzamy warunki\n",
        "  if d_june.weekday() == 0: # 0 = poniedziałek\n",
        "    # Dodajemy krotkę (rok, sformatowana data)\n",
        "    monday_june5.append((year,d_june.strftime('%d-%m-%y')))\n",
        "  if d_oct.weekday() == 2: # 2 = środa\n",
        "      wednesday_october16.append((year, d_oct.strftime('%d-%m-%y')))\n",
        "\n",
        "# Wypisujemy wyniki dla 5 czerwca (poniedziałek)\n",
        "print('Lata, w których 5 czerwca przypada w poniedziałek:')\n",
        "for year, date_str in monday_june5:\n",
        "  print(f\"{year}: {date_str}\")\n",
        "\n",
        "print('Lata, w których 16 października przypada w środę:')\n",
        "for year, date_str in wednesday_october16:\n",
        "  print(f\"{year}: {date_str}\")\n",
        "\n",
        "# Wyznaczamy wspólne lata, czyli te, które spełniają oba warunki\n",
        "years_june = {year for year, _ in monday_june5}\n",
        "years_oct = (year for year, _ in wednesday_october16)\n",
        "common_years = sorted(years_june.intersection(years_oct))\n",
        "if_not_year_common = True;\n",
        "\n",
        "print(\"\\n Lata wspólne, w których 5 czerwca przypada w poniedziałek i 16 października w środę: \")\n",
        "for year in common_years:\n",
        "  d_june_str = datetime.date(year, 6, 5).strftime('%d-%m-%y')\n",
        "  d_oct_str = datetime.date(year, 10, 16).strftime('%d-%m-%y')\n",
        "  if_not_year_common = False\n",
        "\n",
        "  print(f\"{year}: 5 czerwca: {d_june_str}, 16 października: {d_oct_str}\")\n",
        "if if_not_year_common:\n",
        "  print(\"Brak wspólnych lat\")\n",
        ""
      ],
      "metadata": {
        "colab": {
          "base_uri": "https://localhost:8080/"
        },
        "id": "Zw7uEqR6e4yx",
        "outputId": "acba4670-e99a-476c-accf-9654edf3eefa"
      },
      "execution_count": 17,
      "outputs": [
        {
          "output_type": "stream",
          "name": "stdout",
          "text": [
            "Lata, w których 5 czerwca przypada w poniedziałek:\n",
            "2023: 05-06-23\n",
            "2028: 05-06-28\n",
            "2034: 05-06-34\n",
            "2045: 05-06-45\n",
            "2051: 05-06-51\n",
            "2056: 05-06-56\n",
            "2062: 05-06-62\n",
            "2073: 05-06-73\n",
            "2079: 05-06-79\n",
            "2084: 05-06-84\n",
            "2090: 05-06-90\n",
            "2102: 05-06-02\n",
            "2113: 05-06-13\n",
            "2119: 05-06-19\n",
            "2124: 05-06-24\n",
            "Lata, w których 16 października przypada w środę:\n",
            "2024: 16-10-24\n",
            "2030: 16-10-30\n",
            "2041: 16-10-41\n",
            "2047: 16-10-47\n",
            "2052: 16-10-52\n",
            "2058: 16-10-58\n",
            "2069: 16-10-69\n",
            "2075: 16-10-75\n",
            "2080: 16-10-80\n",
            "2086: 16-10-86\n",
            "2097: 16-10-97\n",
            "2109: 16-10-09\n",
            "2115: 16-10-15\n",
            "2120: 16-10-20\n",
            "\n",
            " Lata wspólne, w których 5 czerwca przypada w poniedziałek i 16 października w środę: \n",
            "Brak wspólnych lat\n"
          ]
        }
      ]
    },
    {
      "cell_type": "markdown",
      "metadata": {
        "id": "J9pY1rtr1sC0"
      },
      "source": [
        "### <a name='2'></a> Ćwiczenie 82\n",
        "Podane są dwie tablice $A$ i $B$:\n",
        "\n",
        "```\n",
        "A = np.array(['001', '002', '003'], dtype=np.str)\n",
        "B = np.array(['XC', 'YC', 'ZC'], dtype=np.str)\n",
        "```\n",
        "Sklej je w jedną tak jak pokazano poniżej:\n",
        "\n",
        "\n",
        "```\n",
        "array(['001XC', '002YC', '003ZC'], dtype='<U5')\n",
        "```\n",
        "\n",
        "__Wskazówka:__ Użyj funkcję _np.char.add()_.\n",
        "\n"
      ]
    },
    {
      "cell_type": "code",
      "metadata": {
        "id": "Bf0nC1iaYIOI",
        "colab": {
          "base_uri": "https://localhost:8080/"
        },
        "outputId": "bc62b2b3-e27e-4ab2-8ad5-1709a3fdb06f"
      },
      "source": [
        "# tutaj wpisz rozwiązanie\n",
        "A = np.array(['001', '002', '003'], dtype=np.str_)\n",
        "B = np.array(['XC', 'YC', 'ZC'], dtype=np.str_)\n",
        "C = np.char.add(A, B)\n",
        "C"
      ],
      "execution_count": 20,
      "outputs": [
        {
          "output_type": "execute_result",
          "data": {
            "text/plain": [
              "array(['001XC', '002YC', '003ZC'], dtype='<U5')"
            ]
          },
          "metadata": {},
          "execution_count": 20
        }
      ]
    },
    {
      "cell_type": "markdown",
      "metadata": {
        "id": "XQLYT2m11wVG"
      },
      "source": [
        "### <a name='3'></a> Ćwiczenie 83\n",
        "Podana jest poniższa tablica:\n",
        "\n",
        "\n",
        "```\n",
        "A = np.array(['1', '2', '3'], dtype=np.str)\n",
        "```\n",
        "Dodaj '000' (3 zera) na początku każdego elementu tablicy.\n",
        "\n",
        "__Wskazówka:__ Użyj funkcję _np.char.add()_ lub _np.char.rjust()_ lub _np.char.zfill()_.\n",
        "\n"
      ]
    },
    {
      "cell_type": "code",
      "metadata": {
        "id": "FmHs7GduY_vF",
        "colab": {
          "base_uri": "https://localhost:8080/"
        },
        "outputId": "89c789b1-8408-48f1-8bfe-dc8eeaf56835"
      },
      "source": [
        "from textwrap import fill\n",
        "# tutaj wpisz rozwiązanie\n",
        "A = np.array(['1', '2', '3'], dtype=np.str_)\n",
        "C1 = np.char.add('000', A)\n",
        "C2 = np.char.rjust(A, 4, fillchar = '0')\n",
        "C3 = np.char.zfill(A, 4)\n",
        "print(C1, \"\\n\")\n",
        "print(C2, \"\\n\")\n",
        "print(C3, \"\\n\")\n"
      ],
      "execution_count": 24,
      "outputs": [
        {
          "output_type": "stream",
          "name": "stdout",
          "text": [
            "['0001' '0002' '0003'] \n",
            "\n",
            "['0001' '0002' '0003'] \n",
            "\n",
            "['0001' '0002' '0003'] \n",
            "\n"
          ]
        }
      ]
    },
    {
      "cell_type": "markdown",
      "metadata": {
        "id": "4xTKSUzg10MK"
      },
      "source": [
        "### <a name='4'></a> Ćwiczenie 84\n",
        "Podana jest poniższa tablica:\n",
        "\n",
        "```\n",
        "A = np.array([['PLW CDR 11B TEN', 'AMC LPP'],\n",
        "              ['CDR PKO KGH', 'CCC QMK']], dtype=np.str)\n",
        "```\n",
        "Podziel każdy element powyższej tablicy względem spacji otrzymując listę wartości na każdym miejscu.\n",
        "\n",
        "__Oczekiwany wynik:__\n",
        "\n",
        "\n",
        "```\n",
        "array([[list(['PLW', 'CDR', '11B', 'TEN']), list(['AMC', 'LPP'])],\n",
        "       [list(['CDR', 'PKO', 'KGH']), list(['CCC', 'QMK'])]], dtype=object)\n",
        "```\n",
        "__Wskazówka:__ Użyj funkcji _np.char.split()_.\n",
        "\n",
        "\n"
      ]
    },
    {
      "cell_type": "code",
      "metadata": {
        "id": "x6iSU8O4b5N9",
        "colab": {
          "base_uri": "https://localhost:8080/"
        },
        "outputId": "4c11c120-aeea-484c-8d64-3fa42baaeb2e"
      },
      "source": [
        "# tutaj wpisz rozwiązanie\n",
        "A = np.array([['PLW CDR 11B TEN', 'AMC LPP'],\n",
        "              ['CDR PKO KGH', 'CCC QMK']], dtype=np.str_)\n",
        "C = np.char.split(A)\n",
        "C\n"
      ],
      "execution_count": 28,
      "outputs": [
        {
          "output_type": "execute_result",
          "data": {
            "text/plain": [
              "array([[list(['PLW', 'CDR', '11B', 'TEN']), list(['AMC', 'LPP'])],\n",
              "       [list(['CDR', 'PKO', 'KGH']), list(['CCC', 'QMK'])]], dtype=object)"
            ]
          },
          "metadata": {},
          "execution_count": 28
        }
      ]
    },
    {
      "cell_type": "markdown",
      "metadata": {
        "id": "o3HKIKlP15Ro"
      },
      "source": [
        "### <a name='5'></a> Ćwiczenie 85\n",
        "Podana jest poniższa tablica:\n",
        "\n",
        "```\n",
        "A = np.array([['#summer#time#mood'],\n",
        "              ['#sport#time']])\n",
        "```\n",
        "Zamień wszystkie znaki # na spacje i nastepnie usuń niepotrzebne spacje dookoła tekstu.\n",
        "\n",
        "__Oczekiwany wynik:__\n",
        "\n",
        "\n",
        "```\n",
        "array([['summer time mood'],\n",
        "       ['sport time']], dtype='<U17')\n",
        "```\n",
        "\n",
        "\n"
      ]
    },
    {
      "cell_type": "code",
      "metadata": {
        "id": "smSCIHNNdjWQ",
        "colab": {
          "base_uri": "https://localhost:8080/"
        },
        "outputId": "d02aa099-50b1-4af5-f024-9984e87d1ad6"
      },
      "source": [
        "# tutaj wpisz rozwiązanie\n",
        "A = np.array([['#summer#time#mood'],\n",
        "              ['#sport#time']])\n",
        "C = np.char.replace(A, '#', ' ')\n",
        "print(f' Replace #: {C}')\n",
        "\n",
        "C = np.char.strip(C)\n",
        "print(f' Replace spaces: {C}')\n"
      ],
      "execution_count": 34,
      "outputs": [
        {
          "output_type": "stream",
          "name": "stdout",
          "text": [
            " Replace #: [[' summer time mood']\n",
            " [' sport time']]\n",
            " Replace spaces: [['summer time mood']\n",
            " ['sport time']]\n"
          ]
        }
      ]
    },
    {
      "cell_type": "markdown",
      "metadata": {
        "id": "PunXd_Ey16so"
      },
      "source": [
        "### <a name='6'></a> Ćwiczenie 86\n",
        "Podana jest poniższa tabilca:\n",
        "\n",
        "```\n",
        "A = np.array([['#summer#time#mood', '#vibe'],\n",
        "              ['#sport#time', '#good#time'],\n",
        "              ['#event#summer', '#fast#move']])\n",
        "```\n",
        "Policz liczbę wystąpień słowa 'time' w każdym elemencie tablicy $A$.\n",
        "\n",
        "__Wskazówka:__ Użyj funkcji _np.char.count()_.\n"
      ]
    },
    {
      "cell_type": "code",
      "metadata": {
        "id": "RuiJp618fXZE",
        "colab": {
          "base_uri": "https://localhost:8080/"
        },
        "outputId": "a2959950-6506-4a84-e83c-a232e6633300"
      },
      "source": [
        "# tutaj wpisz rozwiązanie\n",
        "A = np.array([['#summer#time#mood', '#vibe'],\n",
        "              ['#sport#time', '#good#time'],\n",
        "              ['#event#summer', '#fast#move']])\n",
        "array_len = np.char.count(A, 'time')\n",
        "array_len"
      ],
      "execution_count": 37,
      "outputs": [
        {
          "output_type": "execute_result",
          "data": {
            "text/plain": [
              "array([[1, 0],\n",
              "       [1, 1],\n",
              "       [0, 0]])"
            ]
          },
          "metadata": {},
          "execution_count": 37
        }
      ]
    },
    {
      "cell_type": "markdown",
      "metadata": {
        "id": "hOhqDRz618Tx"
      },
      "source": [
        "### <a name='7'></a> Ćwiczenie 87\n",
        "Podany jest poniższy tekst zawierający dane dotyczące spółek z indeksu WIG20:\n",
        "\n",
        "\n",
        "```\n",
        "text = \"\"\"ALIOR\tPLALIOR00045\t88 860 000\t1 386 216 000\t0,891\t2,16\t14\n",
        "CCC\tPLCCC0000016\t27 918 000\t1 292 603 400\t0,831\t5,28\t42\n",
        "CDPROJEKT\tPLOPTTC00011\t67 348 000\t22 864 646 000\t14,702\t7,39\t7\n",
        "CYFRPLSAT\tPLCFRPT00013\t275 301 000\t6 854 994 900\t4,408\t1,17\t14\n",
        "DINOPL\tPLDINPL00011\t47 937 000\t8 916 282 000\t5,733\t9,13\t12\n",
        "JSW\tPLJSW0000015\t52 636 000\t716 902 320\t0,461\t1,51\t24\n",
        "KGHM\tPLKGHM000017\t136 410 000\t9 881 540 400\t6,354\t4,78\t8\n",
        "LOTOS\tPLLOTOS00025\t86 543 000\t5 609 717 260\t3,607\t2,91\t16\n",
        "LPP\tPLLPP0000011\t1 306 000\t7 444 200 000\t4,787\t1,43\t19\n",
        "MBANK\tPLBRE0000012\t12 997 000\t2 830 746 600\t1,820\t0,42\t24\n",
        "ORANGEPL\tPLTLKPL00017\t647 357 000\t4 285 503 340\t2,756\t1,16\t13\n",
        "PEKAO\tPLPEKAO00016\t176 379 000\t9 619 710 660\t6,185\t5,27\t9\n",
        "PGE\tPLPGER000010\t796 776 000\t3 561 588 720\t2,290\t2,88\t18\n",
        "PGNIG\tPLPGNIG00014\t1 624 608 000\t6 072 784 704\t3,905\t1,56\t12\n",
        "PKNORLEN\tPLPKN0000018\t289 049 000\t17 701 360 760\t11,382\t12,44\t8\n",
        "PKOBP\tPLPKO0000016\t857 593 000\t18 807 014 490\t12,093\t10,49\t9\n",
        "PLAY\tLU1642887738\t114 151 000\t3 696 209 380\t2,377\t1,47\t16\n",
        "PZU\tPLPZU0000011\t568 305 000\t17 515 160 100\t11,262\t6,64\t6\n",
        "SANPL\tPLBZ00000044\t33 207 000\t5 213 499 000\t3,352\t1,91\t18\n",
        "TAURONPE\tPLTAURN00011\t1 043 590 000\t1 252 308 000\t0,805\t1,21\t33\"\"\"\n",
        "```\n",
        "\n",
        "\n",
        "__Kolumny oznaczają odpowiednio:__\n",
        "\n",
        "Instrument | Kod ISIN | Pakiet | Pakiet (PLN) | Udział w portfelu(%) | Udział w obrotach akcjami i PDA na sesji (%) | Średni spread na sesji\n",
        "\n",
        "Podziel tekst na linie. Nastepnie każdą linię podziel względem znaku tabulacji '\\t' i zbuduj tablicę numpy (bez nagłówków) zawierajacą poniższe dane. Przypisz wynikową tablicę do zmiennej _result_.\n",
        "\n",
        "__Oczekiwany wynik:__\n",
        "\n",
        "\n",
        "```\n",
        "array([['ALIOR', 'PLALIOR00045', '88 860 000', '1 386 216 000', '0,891', '2,16', '14'],\n",
        "       ['CCC', 'PLCCC0000016', '27 918 000', '1 292 603 400', '0,831', '5,28', '42'],\n",
        "       ['CDPROJEKT', 'PLOPTTC00011', '67 348 000', '22 864 646 000', '14,702', '7,39', '7'],\n",
        "       ['CYFRPLSAT', 'PLCFRPT00013', '275 301 000', '6 854 994 900', '4,408', '1,17', '14'],\n",
        "       ['DINOPL', 'PLDINPL00011', '47 937 000', '8 916 282 000', '5,733', '9,13', '12'],\n",
        "       ['JSW', 'PLJSW0000015', '52 636 000', '716 902 320', '0,461', '1,51', '24'],\n",
        "       ['KGHM', 'PLKGHM000017', '136 410 000', '9 881 540 400', '6,354', '4,78', '8'],\n",
        "       ['LOTOS', 'PLLOTOS00025', '86 543 000', '5 609 717 260', '3,607', '2,91', '16'],\n",
        "       ['LPP', 'PLLPP0000011', '1 306 000', '7 444 200 000', '4,787', '1,43', '19'],\n",
        "       ['MBANK', 'PLBRE0000012', '12 997 000', '2 830 746 600', '1,820', '0,42', '24'],\n",
        "       ['ORANGEPL', 'PLTLKPL00017', '647 357 000', '4 285 503 340', '2,756', '1,16', '13'],\n",
        "       ['PEKAO', 'PLPEKAO00016', '176 379 000', '9 619 710 660', '6,185', '5,27', '9'],\n",
        "       ['PGE', 'PLPGER000010', '796 776 000', '3 561 588 720', '2,290', '2,88', '18'],\n",
        "       ['PGNIG', 'PLPGNIG00014', '1 624 608 000', '6 072 784 704', '3,905', '1,56', '12'],\n",
        "       ['PKNORLEN', 'PLPKN0000018', '289 049 000', '17 701 360 760', '11,382', '12,44', '8'],\n",
        "       ['PKOBP', 'PLPKO0000016', '857 593 000', '18 807 014 490', '12,093', '10,49', '9'],\n",
        "       ['PLAY', 'LU1642887738', '114 151 000', '3 696 209 380', '2,377', '1,47', '16'],\n",
        "       ['PZU', 'PLPZU0000011', '568 305 000', '17 515 160 100', '11,262', '6,64', '6'],\n",
        "       ['SANPL', 'PLBZ00000044', '33 207 000', '5 213 499 000', '3,352', '1,91', '18'],\n",
        "       ['TAURONPE', 'PLTAURN00011', '1 043 590 000', '1 252 308 000', '0,805', '1,21', '33']],\n",
        "      dtype='<U14')\n",
        "```\n",
        "\n",
        "\n"
      ]
    },
    {
      "cell_type": "code",
      "metadata": {
        "id": "IDcWy3WaPQGd",
        "colab": {
          "base_uri": "https://localhost:8080/"
        },
        "outputId": "7299c82d-fb6c-4ac6-faa8-2ff11d9fabe7"
      },
      "source": [
        "# tutaj wpisz rozwiązanie\n",
        "text = \"\"\"ALIOR\tPLALIOR00045\t88 860 000\t1 386 216 000\t0,891\t2,16\t14\n",
        "CCC\tPLCCC0000016\t27 918 000\t1 292 603 400\t0,831\t5,28\t42\n",
        "CDPROJEKT\tPLOPTTC00011\t67 348 000\t22 864 646 000\t14,702\t7,39\t7\n",
        "CYFRPLSAT\tPLCFRPT00013\t275 301 000\t6 854 994 900\t4,408\t1,17\t14\n",
        "DINOPL\tPLDINPL00011\t47 937 000\t8 916 282 000\t5,733\t9,13\t12\n",
        "JSW\tPLJSW0000015\t52 636 000\t716 902 320\t0,461\t1,51\t24\n",
        "KGHM\tPLKGHM000017\t136 410 000\t9 881 540 400\t6,354\t4,78\t8\n",
        "LOTOS\tPLLOTOS00025\t86 543 000\t5 609 717 260\t3,607\t2,91\t16\n",
        "LPP\tPLLPP0000011\t1 306 000\t7 444 200 000\t4,787\t1,43\t19\n",
        "MBANK\tPLBRE0000012\t12 997 000\t2 830 746 600\t1,820\t0,42\t24\n",
        "ORANGEPL\tPLTLKPL00017\t647 357 000\t4 285 503 340\t2,756\t1,16\t13\n",
        "PEKAO\tPLPEKAO00016\t176 379 000\t9 619 710 660\t6,185\t5,27\t9\n",
        "PGE\tPLPGER000010\t796 776 000\t3 561 588 720\t2,290\t2,88\t18\n",
        "PGNIG\tPLPGNIG00014\t1 624 608 000\t6 072 784 704\t3,905\t1,56\t12\n",
        "PKNORLEN\tPLPKN0000018\t289 049 000\t17 701 360 760\t11,382\t12,44\t8\n",
        "PKOBP\tPLPKO0000016\t857 593 000\t18 807 014 490\t12,093\t10,49\t9\n",
        "PLAY\tLU1642887738\t114 151 000\t3 696 209 380\t2,377\t1,47\t16\n",
        "PZU\tPLPZU0000011\t568 305 000\t17 515 160 100\t11,262\t6,64\t6\n",
        "SANPL\tPLBZ00000044\t33 207 000\t5 213 499 000\t3,352\t1,91\t18\n",
        "TAURONPE\tPLTAURN00011\t1 043 590 000\t1 252 308 000\t0,805\t1,21\t33\"\"\"\n",
        "\n",
        "# Dzielimy tekst na linie\n",
        "lines = text.strip().splitlines()\n",
        "\n",
        "data = [line.split('\\t') for line in lines]\n",
        "\n",
        "result = np.array(data)\n",
        "result"
      ],
      "execution_count": 43,
      "outputs": [
        {
          "output_type": "execute_result",
          "data": {
            "text/plain": [
              "array([['ALIOR', 'PLALIOR00045', '88 860 000', '1 386 216 000', '0,891', '2,16', '14'],\n",
              "       ['CCC', 'PLCCC0000016', '27 918 000', '1 292 603 400', '0,831', '5,28', '42'],\n",
              "       ['CDPROJEKT', 'PLOPTTC00011', '67 348 000', '22 864 646 000', '14,702', '7,39', '7'],\n",
              "       ['CYFRPLSAT', 'PLCFRPT00013', '275 301 000', '6 854 994 900', '4,408', '1,17', '14'],\n",
              "       ['DINOPL', 'PLDINPL00011', '47 937 000', '8 916 282 000', '5,733', '9,13', '12'],\n",
              "       ['JSW', 'PLJSW0000015', '52 636 000', '716 902 320', '0,461', '1,51', '24'],\n",
              "       ['KGHM', 'PLKGHM000017', '136 410 000', '9 881 540 400', '6,354', '4,78', '8'],\n",
              "       ['LOTOS', 'PLLOTOS00025', '86 543 000', '5 609 717 260', '3,607', '2,91', '16'],\n",
              "       ['LPP', 'PLLPP0000011', '1 306 000', '7 444 200 000', '4,787', '1,43', '19'],\n",
              "       ['MBANK', 'PLBRE0000012', '12 997 000', '2 830 746 600', '1,820', '0,42', '24'],\n",
              "       ['ORANGEPL', 'PLTLKPL00017', '647 357 000', '4 285 503 340', '2,756', '1,16', '13'],\n",
              "       ['PEKAO', 'PLPEKAO00016', '176 379 000', '9 619 710 660', '6,185', '5,27', '9'],\n",
              "       ['PGE', 'PLPGER000010', '796 776 000', '3 561 588 720', '2,290', '2,88', '18'],\n",
              "       ['PGNIG', 'PLPGNIG00014', '1 624 608 000', '6 072 784 704', '3,905', '1,56', '12'],\n",
              "       ['PKNORLEN', 'PLPKN0000018', '289 049 000', '17 701 360 760', '11,382', '12,44', '8'],\n",
              "       ['PKOBP', 'PLPKO0000016', '857 593 000', '18 807 014 490', '12,093', '10,49', '9'],\n",
              "       ['PLAY', 'LU1642887738', '114 151 000', '3 696 209 380', '2,377', '1,47', '16'],\n",
              "       ['PZU', 'PLPZU0000011', '568 305 000', '17 515 160 100', '11,262', '6,64', '6'],\n",
              "       ['SANPL', 'PLBZ00000044', '33 207 000', '5 213 499 000', '3,352', '1,91', '18'],\n",
              "       ['TAURONPE', 'PLTAURN00011', '1 043 590 000', '1 252 308 000', '0,805', '1,21', '33']],\n",
              "      dtype='<U14')"
            ]
          },
          "metadata": {},
          "execution_count": 43
        }
      ]
    },
    {
      "cell_type": "markdown",
      "metadata": {
        "id": "TXUd_4631-gw"
      },
      "source": [
        "### <a name='8'></a> Ćwiczenie 88\n",
        "Z tabilcy _result_ z poprzedniego zadania usuń wszystkie spacje w tekście oraz zamień wszystkie przecinki na kropki."
      ]
    },
    {
      "cell_type": "code",
      "metadata": {
        "id": "UBLHFX5WR-oC",
        "colab": {
          "base_uri": "https://localhost:8080/"
        },
        "outputId": "f36c2050-d6f2-4bdf-9ae6-d5174d40ad8f"
      },
      "source": [
        "# tutaj wpisz rozwiązanie\n",
        "res1 = np.char.replace(result, ' ', '')\n",
        "res1 = np.char.replace(res1, ',', '.')\n",
        "res1"
      ],
      "execution_count": 47,
      "outputs": [
        {
          "output_type": "execute_result",
          "data": {
            "text/plain": [
              "array([['ALIOR', 'PLALIOR00045', '88860000', '1386216000', '0.891', '2.16', '14'],\n",
              "       ['CCC', 'PLCCC0000016', '27918000', '1292603400', '0.831', '5.28', '42'],\n",
              "       ['CDPROJEKT', 'PLOPTTC00011', '67348000', '22864646000', '14.702', '7.39', '7'],\n",
              "       ['CYFRPLSAT', 'PLCFRPT00013', '275301000', '6854994900', '4.408', '1.17', '14'],\n",
              "       ['DINOPL', 'PLDINPL00011', '47937000', '8916282000', '5.733', '9.13', '12'],\n",
              "       ['JSW', 'PLJSW0000015', '52636000', '716902320', '0.461', '1.51', '24'],\n",
              "       ['KGHM', 'PLKGHM000017', '136410000', '9881540400', '6.354', '4.78', '8'],\n",
              "       ['LOTOS', 'PLLOTOS00025', '86543000', '5609717260', '3.607', '2.91', '16'],\n",
              "       ['LPP', 'PLLPP0000011', '1306000', '7444200000', '4.787', '1.43', '19'],\n",
              "       ['MBANK', 'PLBRE0000012', '12997000', '2830746600', '1.820', '0.42', '24'],\n",
              "       ['ORANGEPL', 'PLTLKPL00017', '647357000', '4285503340', '2.756', '1.16', '13'],\n",
              "       ['PEKAO', 'PLPEKAO00016', '176379000', '9619710660', '6.185', '5.27', '9'],\n",
              "       ['PGE', 'PLPGER000010', '796776000', '3561588720', '2.290', '2.88', '18'],\n",
              "       ['PGNIG', 'PLPGNIG00014', '1624608000', '6072784704', '3.905', '1.56', '12'],\n",
              "       ['PKNORLEN', 'PLPKN0000018', '289049000', '17701360760', '11.382', '12.44', '8'],\n",
              "       ['PKOBP', 'PLPKO0000016', '857593000', '18807014490', '12.093', '10.49', '9'],\n",
              "       ['PLAY', 'LU1642887738', '114151000', '3696209380', '2.377', '1.47', '16'],\n",
              "       ['PZU', 'PLPZU0000011', '568305000', '17515160100', '11.262', '6.64', '6'],\n",
              "       ['SANPL', 'PLBZ00000044', '33207000', '5213499000', '3.352', '1.91', '18'],\n",
              "       ['TAURONPE', 'PLTAURN00011', '1043590000', '1252308000', '0.805', '1.21', '33']],\n",
              "      dtype='<U12')"
            ]
          },
          "metadata": {},
          "execution_count": 47
        }
      ]
    },
    {
      "cell_type": "markdown",
      "metadata": {
        "id": "8aBDi6nKIkBN"
      },
      "source": [
        "Następnie wytnij 5 kolumnę 'Udział w portfelu(%)' zamień jej typ na _float_ i policz sumę dla tej kolumny. Sprawdź czy wynosi 100%."
      ]
    },
    {
      "cell_type": "code",
      "metadata": {
        "id": "TfwPahysSAeI",
        "colab": {
          "base_uri": "https://localhost:8080/"
        },
        "outputId": "19ea686b-3def-462e-be87-064c4bef270f"
      },
      "source": [
        "# tutaj wpisz rozwiązanie\n",
        "res2 = res1[:, 4].astype(float)\n",
        "print(f\"kolumna Udział w portfelu(%) = {res2}\")\n",
        "print(f\"Suma w kolumnie Udział w portfelu(%) = {res2.sum()}\")\n"
      ],
      "execution_count": 51,
      "outputs": [
        {
          "output_type": "stream",
          "name": "stdout",
          "text": [
            "kolumna Udział w portfelu(%) = [ 0.891  0.831 14.702  4.408  5.733  0.461  6.354  3.607  4.787  1.82   2.756  6.185  2.29   3.905\n",
            " 11.382 12.093  2.377 11.262  3.352  0.805]\n",
            "Suma w kolumnie Udział w portfelu(%) = 100.001\n"
          ]
        }
      ]
    },
    {
      "cell_type": "markdown",
      "metadata": {
        "id": "tgI6xEn-2AQo"
      },
      "source": [
        "### <a name='9'></a> Ćwiczenie 89\n",
        "Z tablicy _result_ wytnij wszystkie wiersze o nazwie spółki zaczynającej się literą P i przypisz do zmiennej _stocks_startswith_P_.\n",
        "\n",
        "__Oczekiwany wynik:__\n",
        "\n",
        "\n",
        "```\n",
        "array([['PEKAO', 'PLPEKAO00016', '176379000', '9619710660', '6.185', '5.27', '9'],\n",
        "       ['PGE', 'PLPGER000010', '796776000', '3561588720', '2.290', '2.88', '18'],\n",
        "       ['PGNIG', 'PLPGNIG00014', '1624608000', '6072784704', '3.905', '1.56', '12'],\n",
        "       ['PKNORLEN', 'PLPKN0000018', '289049000', '17701360760', '11.382', '12.44', '8'],\n",
        "       ['PKOBP', 'PLPKO0000016', '857593000', '18807014490', '12.093', '10.49', '9'],\n",
        "       ['PLAY', 'LU1642887738', '114151000', '3696209380', '2.377', '1.47', '16'],\n",
        "       ['PZU', 'PLPZU0000011', '568305000', '17515160100', '11.262', '6.64', '6']], dtype='<U12')\n",
        "```\n",
        "\n"
      ]
    },
    {
      "cell_type": "code",
      "metadata": {
        "id": "ckdZrbDhT_RP",
        "colab": {
          "base_uri": "https://localhost:8080/"
        },
        "outputId": "3cd1640e-1d9e-4cbd-b239-477f0cdffb44"
      },
      "source": [
        "# tutaj wpisz rozwiązanie\n",
        "\n",
        "stocks_startswith_P = res1[np.char.startswith(res1[:, 0], 'P')]\n",
        "stocks_startswith_P"
      ],
      "execution_count": 54,
      "outputs": [
        {
          "output_type": "execute_result",
          "data": {
            "text/plain": [
              "array([['PEKAO', 'PLPEKAO00016', '176379000', '9619710660', '6.185', '5.27', '9'],\n",
              "       ['PGE', 'PLPGER000010', '796776000', '3561588720', '2.290', '2.88', '18'],\n",
              "       ['PGNIG', 'PLPGNIG00014', '1624608000', '6072784704', '3.905', '1.56', '12'],\n",
              "       ['PKNORLEN', 'PLPKN0000018', '289049000', '17701360760', '11.382', '12.44', '8'],\n",
              "       ['PKOBP', 'PLPKO0000016', '857593000', '18807014490', '12.093', '10.49', '9'],\n",
              "       ['PLAY', 'LU1642887738', '114151000', '3696209380', '2.377', '1.47', '16'],\n",
              "       ['PZU', 'PLPZU0000011', '568305000', '17515160100', '11.262', '6.64', '6']], dtype='<U12')"
            ]
          },
          "metadata": {},
          "execution_count": 54
        }
      ]
    },
    {
      "cell_type": "markdown",
      "metadata": {
        "id": "wxhpf-uq2B1I"
      },
      "source": [
        "### <a name='10'></a> Ćwiczenie 90\n",
        "Wykorzystując zmienną _stocks_startswith_P_ policz łączny udział spółek, których nazwa rozpoczyna się literą P. Wynik zaokrąglij do dwóch miejsc po przecinku."
      ]
    },
    {
      "cell_type": "code",
      "metadata": {
        "id": "YFc0KW6URsuc",
        "colab": {
          "base_uri": "https://localhost:8080/"
        },
        "outputId": "558f9bb7-56f0-4884-a629-abe94daa68f6"
      },
      "source": [
        "# tutaj wpisz rozwiązanie\n",
        "stocks_startswith_P_to_sum = stocks_startswith_P[:,5].astype(float)\n",
        "stocks_startswith_P_to_sum.sum()\n",
        "\n",
        "print(f\"Kolumna łączny udział spółek: {stocks_startswith_P_to_sum}\")\n",
        "print(f\"Łączny udział spółek: {stocks_startswith_P_to_sum.sum()}\")\n"
      ],
      "execution_count": 63,
      "outputs": [
        {
          "output_type": "stream",
          "name": "stdout",
          "text": [
            "Kolumna łączny udział spółek: [ 5.27  2.88  1.56 12.44 10.49  1.47  6.64]\n",
            "Łączny udział spółek: 40.75\n"
          ]
        }
      ]
    }
  ]
}