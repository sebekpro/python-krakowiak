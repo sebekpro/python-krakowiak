{
  "nbformat": 4,
  "nbformat_minor": 0,
  "metadata": {
    "colab": {
      "provenance": [],
      "include_colab_link": true
    },
    "kernelspec": {
      "name": "python3",
      "display_name": "Python 3"
    }
  },
  "cells": [
    {
      "cell_type": "markdown",
      "metadata": {
        "id": "view-in-github",
        "colab_type": "text"
      },
      "source": [
        "<a href=\"https://colab.research.google.com/github/sebekpro/python-krakowiak/blob/main/250-data-science-bootcamp-w-jezyku-python/111_120_exercises.ipynb\" target=\"_parent\"><img src=\"https://colab.research.google.com/assets/colab-badge.svg\" alt=\"Open In Colab\"/></a>"
      ]
    },
    {
      "cell_type": "markdown",
      "metadata": {
        "id": "WLEgCW5F1hho"
      },
      "source": [
        "## Pandas\n",
        "\n",
        "### Spis treści:\n",
        "* [Import biblioteki](#0)\n",
        "* [Ćwiczenie 111](#1)\n",
        "* [Ćwiczenie 112](#2)\n",
        "* [Ćwiczenie 113](#3)\n",
        "* [Ćwiczenie 114](#4)\n",
        "* [Ćwiczenie 115](#5)\n",
        "* [Ćwiczenie 116](#6)\n",
        "* [Ćwiczenie 117](#7)\n",
        "* [Ćwiczenie 118](#8)\n",
        "* [Ćwiczenie 119](#9)\n",
        "* [Ćwiczenie 120](#10)"
      ]
    },
    {
      "cell_type": "markdown",
      "metadata": {
        "id": "zeLOLmTj1kBM"
      },
      "source": [
        "### <a name='0'></a>Import biblioteki"
      ]
    },
    {
      "cell_type": "code",
      "metadata": {
        "id": "HXMB7SMe1Wnz",
        "colab": {
          "base_uri": "https://localhost:8080/",
          "height": 35
        },
        "outputId": "76567551-f034-4b30-be6f-2bd1ffba6a8c"
      },
      "source": [
        "import numpy as np\n",
        "import pandas as pd\n",
        "\n",
        "np.random.seed(42)\n",
        "pd.__version__"
      ],
      "execution_count": null,
      "outputs": [
        {
          "output_type": "execute_result",
          "data": {
            "text/plain": [
              "'2.2.2'"
            ],
            "application/vnd.google.colaboratory.intrinsic+json": {
              "type": "string"
            }
          },
          "metadata": {},
          "execution_count": 4
        }
      ]
    },
    {
      "cell_type": "markdown",
      "metadata": {
        "id": "cyc70pMe1oCg"
      },
      "source": [
        "### <a name='1'></a> Ćwiczenie 111\n",
        "Zbuduj obiekt _DatetimeIndex_ zawierający daty w formacie 'yyyy-mm-dd' dla wszystkich dni ze stycznia 2020 roku i przypisz do zmiennej _date_range_.\n",
        "\n",
        "__Oczekiwany wynik:__\n",
        "\n",
        "\n",
        "```\n",
        "DatetimeIndex(['2020-01-01', '2020-01-02', '2020-01-03', '2020-01-04',\n",
        "               '2020-01-05', '2020-01-06', '2020-01-07', '2020-01-08',\n",
        "               '2020-01-09', '2020-01-10', '2020-01-11', '2020-01-12',\n",
        "               '2020-01-13', '2020-01-14', '2020-01-15', '2020-01-16',\n",
        "               '2020-01-17', '2020-01-18', '2020-01-19', '2020-01-20',\n",
        "               '2020-01-21', '2020-01-22', '2020-01-23', '2020-01-24',\n",
        "               '2020-01-25', '2020-01-26', '2020-01-27', '2020-01-28',\n",
        "               '2020-01-29', '2020-01-30', '2020-01-31'],\n",
        "              dtype='datetime64[ns]', freq='D')\n",
        "```\n",
        "\n"
      ]
    },
    {
      "cell_type": "code",
      "metadata": {
        "id": "-Fktzi-m6jA8",
        "colab": {
          "base_uri": "https://localhost:8080/"
        },
        "outputId": "ac9a202c-3471-49b5-b2d4-9f70100caf1c"
      },
      "source": [
        "# tutaj wpisz rozwiązanie\n",
        "date_range = pd.date_range(start='2020-01-01', end='2020-01-31')\n",
        "date_range"
      ],
      "execution_count": null,
      "outputs": [
        {
          "output_type": "execute_result",
          "data": {
            "text/plain": [
              "DatetimeIndex(['2020-01-01', '2020-01-02', '2020-01-03', '2020-01-04',\n",
              "               '2020-01-05', '2020-01-06', '2020-01-07', '2020-01-08',\n",
              "               '2020-01-09', '2020-01-10', '2020-01-11', '2020-01-12',\n",
              "               '2020-01-13', '2020-01-14', '2020-01-15', '2020-01-16',\n",
              "               '2020-01-17', '2020-01-18', '2020-01-19', '2020-01-20',\n",
              "               '2020-01-21', '2020-01-22', '2020-01-23', '2020-01-24',\n",
              "               '2020-01-25', '2020-01-26', '2020-01-27', '2020-01-28',\n",
              "               '2020-01-29', '2020-01-30', '2020-01-31'],\n",
              "              dtype='datetime64[ns]', freq='D')"
            ]
          },
          "metadata": {},
          "execution_count": 5
        }
      ]
    },
    {
      "cell_type": "markdown",
      "metadata": {
        "id": "-b7YtggN7yNA"
      },
      "source": [
        "Ze zmiennej _date_range_ zbuduj obiekt typu _Series_."
      ]
    },
    {
      "cell_type": "code",
      "metadata": {
        "id": "o8Gx9s5m7imi",
        "colab": {
          "base_uri": "https://localhost:8080/",
          "height": 1000
        },
        "outputId": "237d246a-ecfb-44f5-c864-720b01b32e6f"
      },
      "source": [
        "# tutaj wpisz rozwiązanie\n",
        "date_range_series = pd.Series(date_range)\n",
        "date_range_series"
      ],
      "execution_count": null,
      "outputs": [
        {
          "output_type": "execute_result",
          "data": {
            "text/plain": [
              "0    2020-01-01\n",
              "1    2020-01-02\n",
              "2    2020-01-03\n",
              "3    2020-01-04\n",
              "4    2020-01-05\n",
              "5    2020-01-06\n",
              "6    2020-01-07\n",
              "7    2020-01-08\n",
              "8    2020-01-09\n",
              "9    2020-01-10\n",
              "10   2020-01-11\n",
              "11   2020-01-12\n",
              "12   2020-01-13\n",
              "13   2020-01-14\n",
              "14   2020-01-15\n",
              "15   2020-01-16\n",
              "16   2020-01-17\n",
              "17   2020-01-18\n",
              "18   2020-01-19\n",
              "19   2020-01-20\n",
              "20   2020-01-21\n",
              "21   2020-01-22\n",
              "22   2020-01-23\n",
              "23   2020-01-24\n",
              "24   2020-01-25\n",
              "25   2020-01-26\n",
              "26   2020-01-27\n",
              "27   2020-01-28\n",
              "28   2020-01-29\n",
              "29   2020-01-30\n",
              "30   2020-01-31\n",
              "dtype: datetime64[ns]"
            ],
            "text/html": [
              "<div>\n",
              "<style scoped>\n",
              "    .dataframe tbody tr th:only-of-type {\n",
              "        vertical-align: middle;\n",
              "    }\n",
              "\n",
              "    .dataframe tbody tr th {\n",
              "        vertical-align: top;\n",
              "    }\n",
              "\n",
              "    .dataframe thead th {\n",
              "        text-align: right;\n",
              "    }\n",
              "</style>\n",
              "<table border=\"1\" class=\"dataframe\">\n",
              "  <thead>\n",
              "    <tr style=\"text-align: right;\">\n",
              "      <th></th>\n",
              "      <th>0</th>\n",
              "    </tr>\n",
              "  </thead>\n",
              "  <tbody>\n",
              "    <tr>\n",
              "      <th>0</th>\n",
              "      <td>2020-01-01</td>\n",
              "    </tr>\n",
              "    <tr>\n",
              "      <th>1</th>\n",
              "      <td>2020-01-02</td>\n",
              "    </tr>\n",
              "    <tr>\n",
              "      <th>2</th>\n",
              "      <td>2020-01-03</td>\n",
              "    </tr>\n",
              "    <tr>\n",
              "      <th>3</th>\n",
              "      <td>2020-01-04</td>\n",
              "    </tr>\n",
              "    <tr>\n",
              "      <th>4</th>\n",
              "      <td>2020-01-05</td>\n",
              "    </tr>\n",
              "    <tr>\n",
              "      <th>5</th>\n",
              "      <td>2020-01-06</td>\n",
              "    </tr>\n",
              "    <tr>\n",
              "      <th>6</th>\n",
              "      <td>2020-01-07</td>\n",
              "    </tr>\n",
              "    <tr>\n",
              "      <th>7</th>\n",
              "      <td>2020-01-08</td>\n",
              "    </tr>\n",
              "    <tr>\n",
              "      <th>8</th>\n",
              "      <td>2020-01-09</td>\n",
              "    </tr>\n",
              "    <tr>\n",
              "      <th>9</th>\n",
              "      <td>2020-01-10</td>\n",
              "    </tr>\n",
              "    <tr>\n",
              "      <th>10</th>\n",
              "      <td>2020-01-11</td>\n",
              "    </tr>\n",
              "    <tr>\n",
              "      <th>11</th>\n",
              "      <td>2020-01-12</td>\n",
              "    </tr>\n",
              "    <tr>\n",
              "      <th>12</th>\n",
              "      <td>2020-01-13</td>\n",
              "    </tr>\n",
              "    <tr>\n",
              "      <th>13</th>\n",
              "      <td>2020-01-14</td>\n",
              "    </tr>\n",
              "    <tr>\n",
              "      <th>14</th>\n",
              "      <td>2020-01-15</td>\n",
              "    </tr>\n",
              "    <tr>\n",
              "      <th>15</th>\n",
              "      <td>2020-01-16</td>\n",
              "    </tr>\n",
              "    <tr>\n",
              "      <th>16</th>\n",
              "      <td>2020-01-17</td>\n",
              "    </tr>\n",
              "    <tr>\n",
              "      <th>17</th>\n",
              "      <td>2020-01-18</td>\n",
              "    </tr>\n",
              "    <tr>\n",
              "      <th>18</th>\n",
              "      <td>2020-01-19</td>\n",
              "    </tr>\n",
              "    <tr>\n",
              "      <th>19</th>\n",
              "      <td>2020-01-20</td>\n",
              "    </tr>\n",
              "    <tr>\n",
              "      <th>20</th>\n",
              "      <td>2020-01-21</td>\n",
              "    </tr>\n",
              "    <tr>\n",
              "      <th>21</th>\n",
              "      <td>2020-01-22</td>\n",
              "    </tr>\n",
              "    <tr>\n",
              "      <th>22</th>\n",
              "      <td>2020-01-23</td>\n",
              "    </tr>\n",
              "    <tr>\n",
              "      <th>23</th>\n",
              "      <td>2020-01-24</td>\n",
              "    </tr>\n",
              "    <tr>\n",
              "      <th>24</th>\n",
              "      <td>2020-01-25</td>\n",
              "    </tr>\n",
              "    <tr>\n",
              "      <th>25</th>\n",
              "      <td>2020-01-26</td>\n",
              "    </tr>\n",
              "    <tr>\n",
              "      <th>26</th>\n",
              "      <td>2020-01-27</td>\n",
              "    </tr>\n",
              "    <tr>\n",
              "      <th>27</th>\n",
              "      <td>2020-01-28</td>\n",
              "    </tr>\n",
              "    <tr>\n",
              "      <th>28</th>\n",
              "      <td>2020-01-29</td>\n",
              "    </tr>\n",
              "    <tr>\n",
              "      <th>29</th>\n",
              "      <td>2020-01-30</td>\n",
              "    </tr>\n",
              "    <tr>\n",
              "      <th>30</th>\n",
              "      <td>2020-01-31</td>\n",
              "    </tr>\n",
              "  </tbody>\n",
              "</table>\n",
              "</div><br><label><b>dtype:</b> datetime64[ns]</label>"
            ]
          },
          "metadata": {},
          "execution_count": 6
        }
      ]
    },
    {
      "cell_type": "markdown",
      "metadata": {
        "id": "J9pY1rtr1sC0"
      },
      "source": [
        "### <a name='2'></a> Ćwiczenie 112\n",
        "Zbuduj obiekt _DatetimeIndex_ zawierający daty w formacie 'yyyy-mm-dd' dla wszystkich poniedziałków z 2020 roku i przypisz do zmiennej _date_range_."
      ]
    },
    {
      "cell_type": "code",
      "metadata": {
        "id": "9pgIpf0M5L9S",
        "colab": {
          "base_uri": "https://localhost:8080/"
        },
        "outputId": "f21818af-73a9-4760-b506-c1895338f811"
      },
      "source": [
        "# tutaj wpisz rozwiązanie\n",
        "date_range = pd.date_range(start = '2025-01-01', end='2025-12-31', freq='W-MON')\n",
        "print(date_range)"
      ],
      "execution_count": null,
      "outputs": [
        {
          "output_type": "stream",
          "name": "stdout",
          "text": [
            "DatetimeIndex(['2025-01-06', '2025-01-13', '2025-01-20', '2025-01-27',\n",
            "               '2025-02-03', '2025-02-10', '2025-02-17', '2025-02-24',\n",
            "               '2025-03-03', '2025-03-10', '2025-03-17', '2025-03-24',\n",
            "               '2025-03-31', '2025-04-07', '2025-04-14', '2025-04-21',\n",
            "               '2025-04-28', '2025-05-05', '2025-05-12', '2025-05-19',\n",
            "               '2025-05-26', '2025-06-02', '2025-06-09', '2025-06-16',\n",
            "               '2025-06-23', '2025-06-30', '2025-07-07', '2025-07-14',\n",
            "               '2025-07-21', '2025-07-28', '2025-08-04', '2025-08-11',\n",
            "               '2025-08-18', '2025-08-25', '2025-09-01', '2025-09-08',\n",
            "               '2025-09-15', '2025-09-22', '2025-09-29', '2025-10-06',\n",
            "               '2025-10-13', '2025-10-20', '2025-10-27', '2025-11-03',\n",
            "               '2025-11-10', '2025-11-17', '2025-11-24', '2025-12-01',\n",
            "               '2025-12-08', '2025-12-15', '2025-12-22', '2025-12-29'],\n",
            "              dtype='datetime64[ns]', freq='W-MON')\n"
          ]
        }
      ]
    },
    {
      "cell_type": "markdown",
      "metadata": {
        "id": "XQLYT2m11wVG"
      },
      "source": [
        "### <a name='3'></a> Ćwiczenie 113\n",
        "Zbuduj obiekt _DatetimeIndex_ zawierający daty w formacie 'yyyy-mm-dd hh:mm:ss' dla 1 stycznia 2021 roku z odstępem czasowym 1h i przypisz do zmiennej _date_range_.\n",
        "\n",
        "__Oczekiwany wynik:__\n",
        "\n",
        "\n",
        "```\n",
        "DatetimeIndex(['2021-01-01 00:00:00', '2021-01-01 01:00:00',\n",
        "               '2021-01-01 02:00:00', '2021-01-01 03:00:00',\n",
        "               '2021-01-01 04:00:00', '2021-01-01 05:00:00',\n",
        "               '2021-01-01 06:00:00', '2021-01-01 07:00:00',\n",
        "               '2021-01-01 08:00:00', '2021-01-01 09:00:00',\n",
        "               '2021-01-01 10:00:00', '2021-01-01 11:00:00',\n",
        "               '2021-01-01 12:00:00', '2021-01-01 13:00:00',\n",
        "               '2021-01-01 14:00:00', '2021-01-01 15:00:00',\n",
        "               '2021-01-01 16:00:00', '2021-01-01 17:00:00',\n",
        "               '2021-01-01 18:00:00', '2021-01-01 19:00:00',\n",
        "               '2021-01-01 20:00:00', '2021-01-01 21:00:00',\n",
        "               '2021-01-01 22:00:00', '2021-01-01 23:00:00'],\n",
        "              dtype='datetime64[ns]', freq='H')\n",
        "```\n",
        "\n"
      ]
    },
    {
      "cell_type": "code",
      "metadata": {
        "id": "yZyozL_o84dD",
        "colab": {
          "base_uri": "https://localhost:8080/"
        },
        "outputId": "3c3f3520-0002-4b79-a241-2729e1bb590b"
      },
      "source": [
        "# tutaj wpisz rozwiązanie\n",
        "date_range = pd.date_range(start = '2020-01-01', end = '2020-01-02', freq = 'h')\n",
        "print(date_range)"
      ],
      "execution_count": null,
      "outputs": [
        {
          "output_type": "stream",
          "name": "stdout",
          "text": [
            "DatetimeIndex(['2020-01-01 00:00:00', '2020-01-01 01:00:00',\n",
            "               '2020-01-01 02:00:00', '2020-01-01 03:00:00',\n",
            "               '2020-01-01 04:00:00', '2020-01-01 05:00:00',\n",
            "               '2020-01-01 06:00:00', '2020-01-01 07:00:00',\n",
            "               '2020-01-01 08:00:00', '2020-01-01 09:00:00',\n",
            "               '2020-01-01 10:00:00', '2020-01-01 11:00:00',\n",
            "               '2020-01-01 12:00:00', '2020-01-01 13:00:00',\n",
            "               '2020-01-01 14:00:00', '2020-01-01 15:00:00',\n",
            "               '2020-01-01 16:00:00', '2020-01-01 17:00:00',\n",
            "               '2020-01-01 18:00:00', '2020-01-01 19:00:00',\n",
            "               '2020-01-01 20:00:00', '2020-01-01 21:00:00',\n",
            "               '2020-01-01 22:00:00', '2020-01-01 23:00:00',\n",
            "               '2020-01-02 00:00:00'],\n",
            "              dtype='datetime64[ns]', freq='h')\n"
          ]
        }
      ]
    },
    {
      "cell_type": "markdown",
      "metadata": {
        "id": "4xTKSUzg10MK"
      },
      "source": [
        "### <a name='4'></a> Ćwiczenie 114\n",
        "Zbuduj poniższy obiekt _DataFrame_.\n",
        "\n",
        "__Wskazówki:__ Kolumna _day_ zawiera daty od 01 marca 2021 do 31 marca 2021. Kolumna _day_of_year_ to numer dnia w całym roku.\n",
        "\n",
        "\n",
        "```\n",
        "      day\t       day_of_year\n",
        " 0\t2021-03-01\t60\n",
        " 1\t2021-03-02\t61\n",
        " 2\t2021-03-03\t62\n",
        " 3\t2021-03-04\t63\n",
        " 4\t2021-03-05\t64\n",
        " 5\t2021-03-06\t65\n",
        " 6\t2021-03-07\t66\n",
        " 7\t2021-03-08\t67\n",
        " 8\t2021-03-09\t68\n",
        " 9\t2021-03-10\t69\n",
        "10\t2021-03-11\t70\n",
        "11\t2021-03-12\t71\n",
        "12\t2021-03-13\t72\n",
        "13\t2021-03-14\t73\n",
        "14\t2021-03-15\t74\n",
        "15\t2021-03-16\t75\n",
        "16\t2021-03-17\t76\n",
        "17\t2021-03-18\t77\n",
        "18\t2021-03-19\t78\n",
        "19\t2021-03-20\t79\n",
        "20\t2021-03-21\t80\n",
        "21\t2021-03-22\t81\n",
        "22\t2021-03-23\t82\n",
        "23\t2021-03-24\t83\n",
        "24\t2021-03-25\t84\n",
        "25\t2021-03-26\t85\n",
        "26\t2021-03-27\t86\n",
        "27\t2021-03-28\t87\n",
        "28\t2021-03-29\t88\n",
        "29\t2021-03-30\t89\n",
        "30\t2021-03-31\t90\n",
        "```\n",
        "\n"
      ]
    },
    {
      "cell_type": "code",
      "metadata": {
        "id": "YIWI3YTN_J5E",
        "colab": {
          "base_uri": "https://localhost:8080/"
        },
        "outputId": "95618a52-df98-42c9-cccc-577054003245"
      },
      "source": [
        "# tutaj wpisz rozwiązanie\n",
        "date_range = pd.date_range(start = '2025-03-01', end = '2025-03-31', freq = 'd')\n",
        "data = {\n",
        "    'day': date_range,\n",
        "    'day_of_year': date_range.dayofyear\n",
        "}\n",
        "df = pd.DataFrame(data)\n",
        "print(df)"
      ],
      "execution_count": null,
      "outputs": [
        {
          "output_type": "stream",
          "name": "stdout",
          "text": [
            "          day  day_of_year\n",
            "0  2025-03-01           60\n",
            "1  2025-03-02           61\n",
            "2  2025-03-03           62\n",
            "3  2025-03-04           63\n",
            "4  2025-03-05           64\n",
            "5  2025-03-06           65\n",
            "6  2025-03-07           66\n",
            "7  2025-03-08           67\n",
            "8  2025-03-09           68\n",
            "9  2025-03-10           69\n",
            "10 2025-03-11           70\n",
            "11 2025-03-12           71\n",
            "12 2025-03-13           72\n",
            "13 2025-03-14           73\n",
            "14 2025-03-15           74\n",
            "15 2025-03-16           75\n",
            "16 2025-03-17           76\n",
            "17 2025-03-18           77\n",
            "18 2025-03-19           78\n",
            "19 2025-03-20           79\n",
            "20 2025-03-21           80\n",
            "21 2025-03-22           81\n",
            "22 2025-03-23           82\n",
            "23 2025-03-24           83\n",
            "24 2025-03-25           84\n",
            "25 2025-03-26           85\n",
            "26 2025-03-27           86\n",
            "27 2025-03-28           87\n",
            "28 2025-03-29           88\n",
            "29 2025-03-30           89\n",
            "30 2025-03-31           90\n"
          ]
        }
      ]
    },
    {
      "cell_type": "markdown",
      "metadata": {
        "id": "o3HKIKlP15Ro"
      },
      "source": [
        "### <a name='5'></a> Ćwiczenie 115\n",
        "\n",
        "Podany jest poniższy słownik _data_dict_.\n",
        "\n",
        "```\n",
        "data_dict = {\n",
        "    'normal': np.random.normal(loc=0, scale=1, size=1000),\n",
        "    'uniform': np.random.uniform(low=0, high=1, size=1000),\n",
        "    'binomial': np.random.binomial(n=1, p=0.2, size=1000)\n",
        "}\n",
        "```\n",
        "\n",
        "Zbuduj z tego słownika obiekt _DateFrame_. Dodatkowo jako indeks dodaj datę od 2020-01-01 i przypisz do zmiennej _df_."
      ]
    },
    {
      "cell_type": "code",
      "metadata": {
        "id": "Wht-9DRbCzGR",
        "colab": {
          "base_uri": "https://localhost:8080/"
        },
        "outputId": "a941dec8-5c26-49e1-ab65-f00640d59138"
      },
      "source": [
        "# tutaj wpisz rozwiązanie\n",
        "data_dict = {\n",
        "    'normal': np.random.normal(loc=0, scale=1, size=1000),\n",
        "    'uniform': np.random.uniform(low=0, high=1, size=1000),\n",
        "    'binomial': np.random.binomial(n=1, p=0.2, size=1000)\n",
        "}\n",
        "df = pd.DataFrame(data_dict)\n",
        "df.index = pd.date_range(start = '2020-01-01', periods = 1000)\n",
        "print(df.head(20))"
      ],
      "execution_count": null,
      "outputs": [
        {
          "output_type": "stream",
          "name": "stdout",
          "text": [
            "              normal   uniform  binomial\n",
            "2020-01-01  2.598823  0.569512         1\n",
            "2020-01-02 -1.724062  0.876605         0\n",
            "2020-01-03  0.693823  0.928217         0\n",
            "2020-01-04  1.166528  0.528805         1\n",
            "2020-01-05  0.891344  0.753803         0\n",
            "2020-01-06 -0.204356  0.439303         0\n",
            "2020-01-07 -0.290441  0.746082         0\n",
            "2020-01-08  0.444145  0.204802         0\n",
            "2020-01-09  0.815754  0.371065         0\n",
            "2020-01-10  0.602473  0.634228         1\n",
            "2020-01-11  1.040058  0.018158         0\n",
            "2020-01-12 -1.018870  0.722461         1\n",
            "2020-01-13 -0.227771  0.835536         0\n",
            "2020-01-14 -0.940016  0.399142         1\n",
            "2020-01-15 -0.386113  0.447942         0\n",
            "2020-01-16  1.015221  0.851282         0\n",
            "2020-01-17  0.107984  0.775655         0\n",
            "2020-01-18  2.606859  0.288149         0\n",
            "2020-01-19  0.193406  0.323976         0\n",
            "2020-01-20  0.059692  0.678878         0\n"
          ]
        }
      ]
    },
    {
      "cell_type": "markdown",
      "metadata": {
        "id": "PunXd_Ey16so"
      },
      "source": [
        "### <a name='6'></a> Ćwiczenie 116\n",
        "Wyświetl 10 pierwszych wierszy obiektu _df_ z poprzedniego ćwiczenia."
      ]
    },
    {
      "cell_type": "code",
      "metadata": {
        "id": "PzsTK_wpFmD-",
        "colab": {
          "base_uri": "https://localhost:8080/"
        },
        "outputId": "93441bbb-75b0-497d-f500-fc42ddb93e3b"
      },
      "source": [
        "# tutaj wpisz rozwiązanie\n",
        "print(df.head(10))"
      ],
      "execution_count": null,
      "outputs": [
        {
          "output_type": "stream",
          "name": "stdout",
          "text": [
            "              normal   uniform  binomial\n",
            "2020-01-01 -0.766121  0.944095         0\n",
            "2020-01-02 -1.128063  0.335946         0\n",
            "2020-01-03  0.309895  0.560694         0\n",
            "2020-01-04 -1.273586  0.095057         0\n",
            "2020-01-05 -0.414627  0.200469         0\n",
            "2020-01-06 -0.995174  0.413466         0\n",
            "2020-01-07  0.549683  0.206203         0\n",
            "2020-01-08  1.801430  0.876560         0\n",
            "2020-01-09 -1.301588  0.158286         1\n",
            "2020-01-10 -1.853018  0.455661         0\n"
          ]
        }
      ]
    },
    {
      "cell_type": "markdown",
      "metadata": {
        "id": "o3v76FW0FvkQ"
      },
      "source": [
        "Wyświetl 8 ostatnich wierszy obiektu df z poprzedniego ćwiczenia."
      ]
    },
    {
      "cell_type": "code",
      "metadata": {
        "id": "l3gwfUBWFxyR",
        "colab": {
          "base_uri": "https://localhost:8080/"
        },
        "outputId": "50d2c86e-d21c-4fb9-a721-bb8b52dcd11c"
      },
      "source": [
        "# tutaj wpisz rozwiązanie\n",
        "print(df.tail(8))"
      ],
      "execution_count": null,
      "outputs": [
        {
          "output_type": "stream",
          "name": "stdout",
          "text": [
            "              normal   uniform  binomial\n",
            "2022-09-19  0.163335  0.758932         0\n",
            "2022-09-20  1.461717  0.297081         1\n",
            "2022-09-21  0.971412  0.426553         1\n",
            "2022-09-22 -1.295259  0.185953         0\n",
            "2022-09-23 -1.187553  0.111052         0\n",
            "2022-09-24  0.578910  0.722762         0\n",
            "2022-09-25 -0.064338  0.267512         0\n",
            "2022-09-26 -0.455172  0.820059         0\n"
          ]
        }
      ]
    },
    {
      "cell_type": "markdown",
      "metadata": {
        "id": "hOhqDRz618Tx"
      },
      "source": [
        "### <a name='7'></a> Ćwiczenie 117\n",
        "Wyświetl podstawowe informacje o obiekcie _df_ (liczba wierszy, liczba kolumn, typ zmiennych)."
      ]
    },
    {
      "cell_type": "code",
      "metadata": {
        "id": "e18yLk_VF2EJ",
        "colab": {
          "base_uri": "https://localhost:8080/"
        },
        "outputId": "5109d262-f313-43e8-a5cb-d3f548304317"
      },
      "source": [
        "# tutaj wpisz rozwiązanie\n",
        "df.info()"
      ],
      "execution_count": null,
      "outputs": [
        {
          "output_type": "stream",
          "name": "stdout",
          "text": [
            "<class 'pandas.core.frame.DataFrame'>\n",
            "DatetimeIndex: 1000 entries, 2020-01-01 to 2022-09-26\n",
            "Freq: D\n",
            "Data columns (total 3 columns):\n",
            " #   Column    Non-Null Count  Dtype  \n",
            "---  ------    --------------  -----  \n",
            " 0   normal    1000 non-null   float64\n",
            " 1   uniform   1000 non-null   float64\n",
            " 2   binomial  1000 non-null   int64  \n",
            "dtypes: float64(2), int64(1)\n",
            "memory usage: 31.2 KB\n"
          ]
        }
      ]
    },
    {
      "cell_type": "markdown",
      "metadata": {
        "id": "6tvw_gIWG9zf"
      },
      "source": [
        "Wyświetl podstawowe statystyki obiektu _df_ (wartość średnia, odchylenie, min, max, mediana)."
      ]
    },
    {
      "cell_type": "code",
      "metadata": {
        "id": "tJIGXaAzF30k",
        "colab": {
          "base_uri": "https://localhost:8080/",
          "height": 300
        },
        "outputId": "79c2fbf1-8007-4a83-84d1-4602f4f2d587"
      },
      "source": [
        "# tutaj wpisz rozwiązanie\n",
        "df.describe()"
      ],
      "execution_count": null,
      "outputs": [
        {
          "output_type": "execute_result",
          "data": {
            "text/plain": [
              "            normal      uniform     binomial\n",
              "count  1000.000000  1000.000000  1000.000000\n",
              "mean      0.043946     0.505428     0.195000\n",
              "std       1.035550     0.294486     0.396399\n",
              "min      -3.836656     0.000158     0.000000\n",
              "25%      -0.629428     0.250235     0.000000\n",
              "50%       0.038115     0.494452     0.000000\n",
              "75%       0.732896     0.773398     0.000000\n",
              "max       3.377383     0.999335     1.000000"
            ],
            "text/html": [
              "\n",
              "  <div id=\"df-9fe6bf1a-cede-44ee-a997-039fd67ff65c\" class=\"colab-df-container\">\n",
              "    <div>\n",
              "<style scoped>\n",
              "    .dataframe tbody tr th:only-of-type {\n",
              "        vertical-align: middle;\n",
              "    }\n",
              "\n",
              "    .dataframe tbody tr th {\n",
              "        vertical-align: top;\n",
              "    }\n",
              "\n",
              "    .dataframe thead th {\n",
              "        text-align: right;\n",
              "    }\n",
              "</style>\n",
              "<table border=\"1\" class=\"dataframe\">\n",
              "  <thead>\n",
              "    <tr style=\"text-align: right;\">\n",
              "      <th></th>\n",
              "      <th>normal</th>\n",
              "      <th>uniform</th>\n",
              "      <th>binomial</th>\n",
              "    </tr>\n",
              "  </thead>\n",
              "  <tbody>\n",
              "    <tr>\n",
              "      <th>count</th>\n",
              "      <td>1000.000000</td>\n",
              "      <td>1000.000000</td>\n",
              "      <td>1000.000000</td>\n",
              "    </tr>\n",
              "    <tr>\n",
              "      <th>mean</th>\n",
              "      <td>0.043946</td>\n",
              "      <td>0.505428</td>\n",
              "      <td>0.195000</td>\n",
              "    </tr>\n",
              "    <tr>\n",
              "      <th>std</th>\n",
              "      <td>1.035550</td>\n",
              "      <td>0.294486</td>\n",
              "      <td>0.396399</td>\n",
              "    </tr>\n",
              "    <tr>\n",
              "      <th>min</th>\n",
              "      <td>-3.836656</td>\n",
              "      <td>0.000158</td>\n",
              "      <td>0.000000</td>\n",
              "    </tr>\n",
              "    <tr>\n",
              "      <th>25%</th>\n",
              "      <td>-0.629428</td>\n",
              "      <td>0.250235</td>\n",
              "      <td>0.000000</td>\n",
              "    </tr>\n",
              "    <tr>\n",
              "      <th>50%</th>\n",
              "      <td>0.038115</td>\n",
              "      <td>0.494452</td>\n",
              "      <td>0.000000</td>\n",
              "    </tr>\n",
              "    <tr>\n",
              "      <th>75%</th>\n",
              "      <td>0.732896</td>\n",
              "      <td>0.773398</td>\n",
              "      <td>0.000000</td>\n",
              "    </tr>\n",
              "    <tr>\n",
              "      <th>max</th>\n",
              "      <td>3.377383</td>\n",
              "      <td>0.999335</td>\n",
              "      <td>1.000000</td>\n",
              "    </tr>\n",
              "  </tbody>\n",
              "</table>\n",
              "</div>\n",
              "    <div class=\"colab-df-buttons\">\n",
              "\n",
              "  <div class=\"colab-df-container\">\n",
              "    <button class=\"colab-df-convert\" onclick=\"convertToInteractive('df-9fe6bf1a-cede-44ee-a997-039fd67ff65c')\"\n",
              "            title=\"Convert this dataframe to an interactive table.\"\n",
              "            style=\"display:none;\">\n",
              "\n",
              "  <svg xmlns=\"http://www.w3.org/2000/svg\" height=\"24px\" viewBox=\"0 -960 960 960\">\n",
              "    <path d=\"M120-120v-720h720v720H120Zm60-500h600v-160H180v160Zm220 220h160v-160H400v160Zm0 220h160v-160H400v160ZM180-400h160v-160H180v160Zm440 0h160v-160H620v160ZM180-180h160v-160H180v160Zm440 0h160v-160H620v160Z\"/>\n",
              "  </svg>\n",
              "    </button>\n",
              "\n",
              "  <style>\n",
              "    .colab-df-container {\n",
              "      display:flex;\n",
              "      gap: 12px;\n",
              "    }\n",
              "\n",
              "    .colab-df-convert {\n",
              "      background-color: #E8F0FE;\n",
              "      border: none;\n",
              "      border-radius: 50%;\n",
              "      cursor: pointer;\n",
              "      display: none;\n",
              "      fill: #1967D2;\n",
              "      height: 32px;\n",
              "      padding: 0 0 0 0;\n",
              "      width: 32px;\n",
              "    }\n",
              "\n",
              "    .colab-df-convert:hover {\n",
              "      background-color: #E2EBFA;\n",
              "      box-shadow: 0px 1px 2px rgba(60, 64, 67, 0.3), 0px 1px 3px 1px rgba(60, 64, 67, 0.15);\n",
              "      fill: #174EA6;\n",
              "    }\n",
              "\n",
              "    .colab-df-buttons div {\n",
              "      margin-bottom: 4px;\n",
              "    }\n",
              "\n",
              "    [theme=dark] .colab-df-convert {\n",
              "      background-color: #3B4455;\n",
              "      fill: #D2E3FC;\n",
              "    }\n",
              "\n",
              "    [theme=dark] .colab-df-convert:hover {\n",
              "      background-color: #434B5C;\n",
              "      box-shadow: 0px 1px 3px 1px rgba(0, 0, 0, 0.15);\n",
              "      filter: drop-shadow(0px 1px 2px rgba(0, 0, 0, 0.3));\n",
              "      fill: #FFFFFF;\n",
              "    }\n",
              "  </style>\n",
              "\n",
              "    <script>\n",
              "      const buttonEl =\n",
              "        document.querySelector('#df-9fe6bf1a-cede-44ee-a997-039fd67ff65c button.colab-df-convert');\n",
              "      buttonEl.style.display =\n",
              "        google.colab.kernel.accessAllowed ? 'block' : 'none';\n",
              "\n",
              "      async function convertToInteractive(key) {\n",
              "        const element = document.querySelector('#df-9fe6bf1a-cede-44ee-a997-039fd67ff65c');\n",
              "        const dataTable =\n",
              "          await google.colab.kernel.invokeFunction('convertToInteractive',\n",
              "                                                    [key], {});\n",
              "        if (!dataTable) return;\n",
              "\n",
              "        const docLinkHtml = 'Like what you see? Visit the ' +\n",
              "          '<a target=\"_blank\" href=https://colab.research.google.com/notebooks/data_table.ipynb>data table notebook</a>'\n",
              "          + ' to learn more about interactive tables.';\n",
              "        element.innerHTML = '';\n",
              "        dataTable['output_type'] = 'display_data';\n",
              "        await google.colab.output.renderOutput(dataTable, element);\n",
              "        const docLink = document.createElement('div');\n",
              "        docLink.innerHTML = docLinkHtml;\n",
              "        element.appendChild(docLink);\n",
              "      }\n",
              "    </script>\n",
              "  </div>\n",
              "\n",
              "\n",
              "<div id=\"df-c10a7566-b4ae-4d15-99c3-7edf7d9771c6\">\n",
              "  <button class=\"colab-df-quickchart\" onclick=\"quickchart('df-c10a7566-b4ae-4d15-99c3-7edf7d9771c6')\"\n",
              "            title=\"Suggest charts\"\n",
              "            style=\"display:none;\">\n",
              "\n",
              "<svg xmlns=\"http://www.w3.org/2000/svg\" height=\"24px\"viewBox=\"0 0 24 24\"\n",
              "     width=\"24px\">\n",
              "    <g>\n",
              "        <path d=\"M19 3H5c-1.1 0-2 .9-2 2v14c0 1.1.9 2 2 2h14c1.1 0 2-.9 2-2V5c0-1.1-.9-2-2-2zM9 17H7v-7h2v7zm4 0h-2V7h2v10zm4 0h-2v-4h2v4z\"/>\n",
              "    </g>\n",
              "</svg>\n",
              "  </button>\n",
              "\n",
              "<style>\n",
              "  .colab-df-quickchart {\n",
              "      --bg-color: #E8F0FE;\n",
              "      --fill-color: #1967D2;\n",
              "      --hover-bg-color: #E2EBFA;\n",
              "      --hover-fill-color: #174EA6;\n",
              "      --disabled-fill-color: #AAA;\n",
              "      --disabled-bg-color: #DDD;\n",
              "  }\n",
              "\n",
              "  [theme=dark] .colab-df-quickchart {\n",
              "      --bg-color: #3B4455;\n",
              "      --fill-color: #D2E3FC;\n",
              "      --hover-bg-color: #434B5C;\n",
              "      --hover-fill-color: #FFFFFF;\n",
              "      --disabled-bg-color: #3B4455;\n",
              "      --disabled-fill-color: #666;\n",
              "  }\n",
              "\n",
              "  .colab-df-quickchart {\n",
              "    background-color: var(--bg-color);\n",
              "    border: none;\n",
              "    border-radius: 50%;\n",
              "    cursor: pointer;\n",
              "    display: none;\n",
              "    fill: var(--fill-color);\n",
              "    height: 32px;\n",
              "    padding: 0;\n",
              "    width: 32px;\n",
              "  }\n",
              "\n",
              "  .colab-df-quickchart:hover {\n",
              "    background-color: var(--hover-bg-color);\n",
              "    box-shadow: 0 1px 2px rgba(60, 64, 67, 0.3), 0 1px 3px 1px rgba(60, 64, 67, 0.15);\n",
              "    fill: var(--button-hover-fill-color);\n",
              "  }\n",
              "\n",
              "  .colab-df-quickchart-complete:disabled,\n",
              "  .colab-df-quickchart-complete:disabled:hover {\n",
              "    background-color: var(--disabled-bg-color);\n",
              "    fill: var(--disabled-fill-color);\n",
              "    box-shadow: none;\n",
              "  }\n",
              "\n",
              "  .colab-df-spinner {\n",
              "    border: 2px solid var(--fill-color);\n",
              "    border-color: transparent;\n",
              "    border-bottom-color: var(--fill-color);\n",
              "    animation:\n",
              "      spin 1s steps(1) infinite;\n",
              "  }\n",
              "\n",
              "  @keyframes spin {\n",
              "    0% {\n",
              "      border-color: transparent;\n",
              "      border-bottom-color: var(--fill-color);\n",
              "      border-left-color: var(--fill-color);\n",
              "    }\n",
              "    20% {\n",
              "      border-color: transparent;\n",
              "      border-left-color: var(--fill-color);\n",
              "      border-top-color: var(--fill-color);\n",
              "    }\n",
              "    30% {\n",
              "      border-color: transparent;\n",
              "      border-left-color: var(--fill-color);\n",
              "      border-top-color: var(--fill-color);\n",
              "      border-right-color: var(--fill-color);\n",
              "    }\n",
              "    40% {\n",
              "      border-color: transparent;\n",
              "      border-right-color: var(--fill-color);\n",
              "      border-top-color: var(--fill-color);\n",
              "    }\n",
              "    60% {\n",
              "      border-color: transparent;\n",
              "      border-right-color: var(--fill-color);\n",
              "    }\n",
              "    80% {\n",
              "      border-color: transparent;\n",
              "      border-right-color: var(--fill-color);\n",
              "      border-bottom-color: var(--fill-color);\n",
              "    }\n",
              "    90% {\n",
              "      border-color: transparent;\n",
              "      border-bottom-color: var(--fill-color);\n",
              "    }\n",
              "  }\n",
              "</style>\n",
              "\n",
              "  <script>\n",
              "    async function quickchart(key) {\n",
              "      const quickchartButtonEl =\n",
              "        document.querySelector('#' + key + ' button');\n",
              "      quickchartButtonEl.disabled = true;  // To prevent multiple clicks.\n",
              "      quickchartButtonEl.classList.add('colab-df-spinner');\n",
              "      try {\n",
              "        const charts = await google.colab.kernel.invokeFunction(\n",
              "            'suggestCharts', [key], {});\n",
              "      } catch (error) {\n",
              "        console.error('Error during call to suggestCharts:', error);\n",
              "      }\n",
              "      quickchartButtonEl.classList.remove('colab-df-spinner');\n",
              "      quickchartButtonEl.classList.add('colab-df-quickchart-complete');\n",
              "    }\n",
              "    (() => {\n",
              "      let quickchartButtonEl =\n",
              "        document.querySelector('#df-c10a7566-b4ae-4d15-99c3-7edf7d9771c6 button');\n",
              "      quickchartButtonEl.style.display =\n",
              "        google.colab.kernel.accessAllowed ? 'block' : 'none';\n",
              "    })();\n",
              "  </script>\n",
              "</div>\n",
              "\n",
              "    </div>\n",
              "  </div>\n"
            ],
            "application/vnd.google.colaboratory.intrinsic+json": {
              "type": "dataframe",
              "summary": "{\n  \"name\": \"df\",\n  \"rows\": 8,\n  \"fields\": [\n    {\n      \"column\": \"normal\",\n      \"properties\": {\n        \"dtype\": \"number\",\n        \"std\": 353.5205816216863,\n        \"min\": -3.8366555484593694,\n        \"max\": 1000.0,\n        \"num_unique_values\": 8,\n        \"samples\": [\n          0.04394639188321713,\n          0.03811465486155598,\n          1000.0\n        ],\n        \"semantic_type\": \"\",\n        \"description\": \"\"\n      }\n    },\n    {\n      \"column\": \"uniform\",\n      \"properties\": {\n        \"dtype\": \"number\",\n        \"std\": 353.3859681808903,\n        \"min\": 0.0001577445780567288,\n        \"max\": 1000.0,\n        \"num_unique_values\": 8,\n        \"samples\": [\n          0.505428169765426,\n          0.4944517360928415,\n          1000.0\n        ],\n        \"semantic_type\": \"\",\n        \"description\": \"\"\n      }\n    },\n    {\n      \"column\": \"binomial\",\n      \"properties\": {\n        \"dtype\": \"number\",\n        \"std\": 353.47318121128086,\n        \"min\": 0.0,\n        \"max\": 1000.0,\n        \"num_unique_values\": 5,\n        \"samples\": [\n          0.195,\n          1.0,\n          0.39639895576569534\n        ],\n        \"semantic_type\": \"\",\n        \"description\": \"\"\n      }\n    }\n  ]\n}"
            }
          },
          "metadata": {},
          "execution_count": 36
        }
      ]
    },
    {
      "cell_type": "markdown",
      "metadata": {
        "id": "TXUd_4631-gw"
      },
      "source": [
        "### <a name='8'></a> Ćwiczenie 118\n",
        "Zaimportuj bibliotekę _seaborn_ do wizualizacji danych."
      ]
    },
    {
      "cell_type": "code",
      "metadata": {
        "id": "TPmoKddoI0mG"
      },
      "source": [
        "import seaborn as sns\n",
        "\n",
        "sns.set()"
      ],
      "execution_count": null,
      "outputs": []
    },
    {
      "cell_type": "markdown",
      "metadata": {
        "id": "HvUH5nvAI9BT"
      },
      "source": [
        "Używając meteody _pd.DataFrame.plot_ zbuduj histogramy dla kolejnych trzech zmiennych.\n",
        "* normal (20 słupków)"
      ]
    },
    {
      "cell_type": "code",
      "metadata": {
        "id": "c2DBtW_hHLu5",
        "colab": {
          "base_uri": "https://localhost:8080/",
          "height": 475
        },
        "outputId": "24de48c1-f585-448e-e066-99d94e429ee5"
      },
      "source": [
        "# tutaj wpisz rozwiązanie\n",
        "sns.histplot(data = df, x = 'normal', bins = 20)"
      ],
      "execution_count": null,
      "outputs": [
        {
          "output_type": "execute_result",
          "data": {
            "text/plain": [
              "<Axes: xlabel='normal', ylabel='Count'>"
            ]
          },
          "metadata": {},
          "execution_count": 42
        },
        {
          "output_type": "display_data",
          "data": {
            "text/plain": [
              "<Figure size 640x480 with 1 Axes>"
            ],
            "image/png": "[encoded data removed]"
          },
          "metadata": {}
        }
      ]
    },
    {
      "cell_type": "markdown",
      "metadata": {
        "id": "gac76vK9IkMn"
      },
      "source": [
        "* uniform (30 słupków)"
      ]
    },
    {
      "cell_type": "code",
      "metadata": {
        "id": "qDcrUndYHb23",
        "colab": {
          "base_uri": "https://localhost:8080/",
          "height": 475
        },
        "outputId": "00ece7f9-acd2-4713-f97d-8e9de9b20f14"
      },
      "source": [
        "# tutaj wpisz rozwiązanie\n",
        "sns.histplot(data = df, x = 'uniform', bins = 30)"
      ],
      "execution_count": null,
      "outputs": [
        {
          "output_type": "execute_result",
          "data": {
            "text/plain": [
              "<Axes: xlabel='uniform', ylabel='Count'>"
            ]
          },
          "metadata": {},
          "execution_count": 45
        },
        {
          "output_type": "display_data",
          "data": {
            "text/plain": [
              "<Figure size 640x480 with 1 Axes>"
            ],
            "image/png": "[encoded data removed]"
          },
          "metadata": {}
        }
      ]
    },
    {
      "cell_type": "markdown",
      "metadata": {
        "id": "HPugPFLQIlft"
      },
      "source": [
        "* binomial"
      ]
    },
    {
      "cell_type": "code",
      "metadata": {
        "id": "xJ4t0FRcHfgn",
        "colab": {
          "base_uri": "https://localhost:8080/",
          "height": 475
        },
        "outputId": "53f1ef3d-1b69-41e3-e730-9c6156588b3e"
      },
      "source": [
        "# tutaj wpisz rozwiązanie\n",
        "sns.histplot(data = df, x = 'binomial')"
      ],
      "execution_count": null,
      "outputs": [
        {
          "output_type": "execute_result",
          "data": {
            "text/plain": [
              "<Axes: xlabel='binomial', ylabel='Count'>"
            ]
          },
          "metadata": {},
          "execution_count": 48
        },
        {
          "output_type": "display_data",
          "data": {
            "text/plain": [
              "<Figure size 640x480 with 1 Axes>"
            ],
            "image/png": "[encoded data removed]"
          },
          "metadata": {}
        }
      ]
    },
    {
      "cell_type": "markdown",
      "metadata": {
        "id": "tgI6xEn-2AQo"
      },
      "source": [
        "### <a name='9'></a> Ćwiczenie 119\n",
        "Zapisz obiekt _df_ do pliku _'dataframe.csv'_."
      ]
    },
    {
      "cell_type": "code",
      "metadata": {
        "id": "qt3ZR1H-JHyg"
      },
      "source": [
        "# tutaj wpisz rozwiązanie\n",
        "df.to_csv('dataframe.csv')"
      ],
      "execution_count": null,
      "outputs": []
    },
    {
      "cell_type": "markdown",
      "metadata": {
        "id": "n_sqLBSCMESQ"
      },
      "source": [
        "__Sprawdzenie:__\n",
        "Wyświetlenie 5 pierwszych linijek pliku _dataframe.csv_"
      ]
    },
    {
      "cell_type": "code",
      "metadata": {
        "id": "gZrRVcqULzVq",
        "colab": {
          "base_uri": "https://localhost:8080/"
        },
        "outputId": "ad42fe4b-693d-47e6-bc58-04dd05f247df"
      },
      "source": [
        "!head -5 dataframe.csv"
      ],
      "execution_count": null,
      "outputs": [
        {
          "output_type": "stream",
          "name": "stdout",
          "text": [
            ",normal,uniform,binomial\n",
            "2020-01-01,2.598822900074582,0.5695118693444212,1\n",
            "2020-01-02,-1.7240618108680354,0.8766052783705984,0\n",
            "2020-01-03,0.6938234538591022,0.9282167956475944,0\n",
            "2020-01-04,1.1665283362210033,0.5288052181567664,1\n"
          ]
        }
      ]
    },
    {
      "cell_type": "markdown",
      "metadata": {
        "id": "wxhpf-uq2B1I"
      },
      "source": [
        "### <a name='10'></a> Ćwiczenie 110\n",
        "Wczytaj do zmiennej _df_new_ plik _dataframe.csv_ (pamiętaj o poprawnym wczytaniu indeksu)."
      ]
    },
    {
      "cell_type": "code",
      "metadata": {
        "id": "YFc0KW6URsuc",
        "colab": {
          "base_uri": "https://localhost:8080/",
          "height": 424
        },
        "outputId": "2206848a-0c62-4f1d-84c1-d73f1fbcaef3"
      },
      "source": [
        "# tutaj wpisz rozwiązanie\n",
        "df_new = pd.read_csv('dataframe.csv')\n",
        "df_new"
      ],
      "execution_count": null,
      "outputs": [
        {
          "output_type": "execute_result",
          "data": {
            "text/plain": [
              "     Unnamed: 0    normal   uniform  binomial\n",
              "0    2020-01-01  2.598823  0.569512         1\n",
              "1    2020-01-02 -1.724062  0.876605         0\n",
              "2    2020-01-03  0.693823  0.928217         0\n",
              "3    2020-01-04  1.166528  0.528805         1\n",
              "4    2020-01-05  0.891344  0.753803         0\n",
              "..          ...       ...       ...       ...\n",
              "995  2022-09-22 -1.295259  0.185953         0\n",
              "996  2022-09-23 -1.187553  0.111052         0\n",
              "997  2022-09-24  0.578910  0.722762         0\n",
              "998  2022-09-25 -0.064338  0.267512         0\n",
              "999  2022-09-26 -0.455172  0.820059         0\n",
              "\n",
              "[1000 rows x 4 columns]"
            ],
            "text/html": [
              "\n",
              "  <div id=\"df-19e94cf8-409d-4bf3-a2ed-164dea50ae83\" class=\"colab-df-container\">\n",
              "    <div>\n",
              "<style scoped>\n",
              "    .dataframe tbody tr th:only-of-type {\n",
              "        vertical-align: middle;\n",
              "    }\n",
              "\n",
              "    .dataframe tbody tr th {\n",
              "        vertical-align: top;\n",
              "    }\n",
              "\n",
              "    .dataframe thead th {\n",
              "        text-align: right;\n",
              "    }\n",
              "</style>\n",
              "<table border=\"1\" class=\"dataframe\">\n",
              "  <thead>\n",
              "    <tr style=\"text-align: right;\">\n",
              "      <th></th>\n",
              "      <th>Unnamed: 0</th>\n",
              "      <th>normal</th>\n",
              "      <th>uniform</th>\n",
              "      <th>binomial</th>\n",
              "    </tr>\n",
              "  </thead>\n",
              "  <tbody>\n",
              "    <tr>\n",
              "      <th>0</th>\n",
              "      <td>2020-01-01</td>\n",
              "      <td>2.598823</td>\n",
              "      <td>0.569512</td>\n",
              "      <td>1</td>\n",
              "    </tr>\n",
              "    <tr>\n",
              "      <th>1</th>\n",
              "      <td>2020-01-02</td>\n",
              "      <td>-1.724062</td>\n",
              "      <td>0.876605</td>\n",
              "      <td>0</td>\n",
              "    </tr>\n",
              "    <tr>\n",
              "      <th>2</th>\n",
              "      <td>2020-01-03</td>\n",
              "      <td>0.693823</td>\n",
              "      <td>0.928217</td>\n",
              "      <td>0</td>\n",
              "    </tr>\n",
              "    <tr>\n",
              "      <th>3</th>\n",
              "      <td>2020-01-04</td>\n",
              "      <td>1.166528</td>\n",
              "      <td>0.528805</td>\n",
              "      <td>1</td>\n",
              "    </tr>\n",
              "    <tr>\n",
              "      <th>4</th>\n",
              "      <td>2020-01-05</td>\n",
              "      <td>0.891344</td>\n",
              "      <td>0.753803</td>\n",
              "      <td>0</td>\n",
              "    </tr>\n",
              "    <tr>\n",
              "      <th>...</th>\n",
              "      <td>...</td>\n",
              "      <td>...</td>\n",
              "      <td>...</td>\n",
              "      <td>...</td>\n",
              "    </tr>\n",
              "    <tr>\n",
              "      <th>995</th>\n",
              "      <td>2022-09-22</td>\n",
              "      <td>-1.295259</td>\n",
              "      <td>0.185953</td>\n",
              "      <td>0</td>\n",
              "    </tr>\n",
              "    <tr>\n",
              "      <th>996</th>\n",
              "      <td>2022-09-23</td>\n",
              "      <td>-1.187553</td>\n",
              "      <td>0.111052</td>\n",
              "      <td>0</td>\n",
              "    </tr>\n",
              "    <tr>\n",
              "      <th>997</th>\n",
              "      <td>2022-09-24</td>\n",
              "      <td>0.578910</td>\n",
              "      <td>0.722762</td>\n",
              "      <td>0</td>\n",
              "    </tr>\n",
              "    <tr>\n",
              "      <th>998</th>\n",
              "      <td>2022-09-25</td>\n",
              "      <td>-0.064338</td>\n",
              "      <td>0.267512</td>\n",
              "      <td>0</td>\n",
              "    </tr>\n",
              "    <tr>\n",
              "      <th>999</th>\n",
              "      <td>2022-09-26</td>\n",
              "      <td>-0.455172</td>\n",
              "      <td>0.820059</td>\n",
              "      <td>0</td>\n",
              "    </tr>\n",
              "  </tbody>\n",
              "</table>\n",
              "<p>1000 rows × 4 columns</p>\n",
              "</div>\n",
              "    <div class=\"colab-df-buttons\">\n",
              "\n",
              "  <div class=\"colab-df-container\">\n",
              "    <button class=\"colab-df-convert\" onclick=\"convertToInteractive('df-19e94cf8-409d-4bf3-a2ed-164dea50ae83')\"\n",
              "            title=\"Convert this dataframe to an interactive table.\"\n",
              "            style=\"display:none;\">\n",
              "\n",
              "  <svg xmlns=\"http://www.w3.org/2000/svg\" height=\"24px\" viewBox=\"0 -960 960 960\">\n",
              "    <path d=\"M120-120v-720h720v720H120Zm60-500h600v-160H180v160Zm220 220h160v-160H400v160Zm0 220h160v-160H400v160ZM180-400h160v-160H180v160Zm440 0h160v-160H620v160ZM180-180h160v-160H180v160Zm440 0h160v-160H620v160Z\"/>\n",
              "  </svg>\n",
              "    </button>\n",
              "\n",
              "  <style>\n",
              "    .colab-df-container {\n",
              "      display:flex;\n",
              "      gap: 12px;\n",
              "    }\n",
              "\n",
              "    .colab-df-convert {\n",
              "      background-color: #E8F0FE;\n",
              "      border: none;\n",
              "      border-radius: 50%;\n",
              "      cursor: pointer;\n",
              "      display: none;\n",
              "      fill: #1967D2;\n",
              "      height: 32px;\n",
              "      padding: 0 0 0 0;\n",
              "      width: 32px;\n",
              "    }\n",
              "\n",
              "    .colab-df-convert:hover {\n",
              "      background-color: #E2EBFA;\n",
              "      box-shadow: 0px 1px 2px rgba(60, 64, 67, 0.3), 0px 1px 3px 1px rgba(60, 64, 67, 0.15);\n",
              "      fill: #174EA6;\n",
              "    }\n",
              "\n",
              "    .colab-df-buttons div {\n",
              "      margin-bottom: 4px;\n",
              "    }\n",
              "\n",
              "    [theme=dark] .colab-df-convert {\n",
              "      background-color: #3B4455;\n",
              "      fill: #D2E3FC;\n",
              "    }\n",
              "\n",
              "    [theme=dark] .colab-df-convert:hover {\n",
              "      background-color: #434B5C;\n",
              "      box-shadow: 0px 1px 3px 1px rgba(0, 0, 0, 0.15);\n",
              "      filter: drop-shadow(0px 1px 2px rgba(0, 0, 0, 0.3));\n",
              "      fill: #FFFFFF;\n",
              "    }\n",
              "  </style>\n",
              "\n",
              "    <script>\n",
              "      const buttonEl =\n",
              "        document.querySelector('#df-19e94cf8-409d-4bf3-a2ed-164dea50ae83 button.colab-df-convert');\n",
              "      buttonEl.style.display =\n",
              "        google.colab.kernel.accessAllowed ? 'block' : 'none';\n",
              "\n",
              "      async function convertToInteractive(key) {\n",
              "        const element = document.querySelector('#df-19e94cf8-409d-4bf3-a2ed-164dea50ae83');\n",
              "        const dataTable =\n",
              "          await google.colab.kernel.invokeFunction('convertToInteractive',\n",
              "                                                    [key], {});\n",
              "        if (!dataTable) return;\n",
              "\n",
              "        const docLinkHtml = 'Like what you see? Visit the ' +\n",
              "          '<a target=\"_blank\" href=https://colab.research.google.com/notebooks/data_table.ipynb>data table notebook</a>'\n",
              "          + ' to learn more about interactive tables.';\n",
              "        element.innerHTML = '';\n",
              "        dataTable['output_type'] = 'display_data';\n",
              "        await google.colab.output.renderOutput(dataTable, element);\n",
              "        const docLink = document.createElement('div');\n",
              "        docLink.innerHTML = docLinkHtml;\n",
              "        element.appendChild(docLink);\n",
              "      }\n",
              "    </script>\n",
              "  </div>\n",
              "\n",
              "\n",
              "<div id=\"df-a79e73bf-4b87-4e48-9594-0e541f8639de\">\n",
              "  <button class=\"colab-df-quickchart\" onclick=\"quickchart('df-a79e73bf-4b87-4e48-9594-0e541f8639de')\"\n",
              "            title=\"Suggest charts\"\n",
              "            style=\"display:none;\">\n",
              "\n",
              "<svg xmlns=\"http://www.w3.org/2000/svg\" height=\"24px\"viewBox=\"0 0 24 24\"\n",
              "     width=\"24px\">\n",
              "    <g>\n",
              "        <path d=\"M19 3H5c-1.1 0-2 .9-2 2v14c0 1.1.9 2 2 2h14c1.1 0 2-.9 2-2V5c0-1.1-.9-2-2-2zM9 17H7v-7h2v7zm4 0h-2V7h2v10zm4 0h-2v-4h2v4z\"/>\n",
              "    </g>\n",
              "</svg>\n",
              "  </button>\n",
              "\n",
              "<style>\n",
              "  .colab-df-quickchart {\n",
              "      --bg-color: #E8F0FE;\n",
              "      --fill-color: #1967D2;\n",
              "      --hover-bg-color: #E2EBFA;\n",
              "      --hover-fill-color: #174EA6;\n",
              "      --disabled-fill-color: #AAA;\n",
              "      --disabled-bg-color: #DDD;\n",
              "  }\n",
              "\n",
              "  [theme=dark] .colab-df-quickchart {\n",
              "      --bg-color: #3B4455;\n",
              "      --fill-color: #D2E3FC;\n",
              "      --hover-bg-color: #434B5C;\n",
              "      --hover-fill-color: #FFFFFF;\n",
              "      --disabled-bg-color: #3B4455;\n",
              "      --disabled-fill-color: #666;\n",
              "  }\n",
              "\n",
              "  .colab-df-quickchart {\n",
              "    background-color: var(--bg-color);\n",
              "    border: none;\n",
              "    border-radius: 50%;\n",
              "    cursor: pointer;\n",
              "    display: none;\n",
              "    fill: var(--fill-color);\n",
              "    height: 32px;\n",
              "    padding: 0;\n",
              "    width: 32px;\n",
              "  }\n",
              "\n",
              "  .colab-df-quickchart:hover {\n",
              "    background-color: var(--hover-bg-color);\n",
              "    box-shadow: 0 1px 2px rgba(60, 64, 67, 0.3), 0 1px 3px 1px rgba(60, 64, 67, 0.15);\n",
              "    fill: var(--button-hover-fill-color);\n",
              "  }\n",
              "\n",
              "  .colab-df-quickchart-complete:disabled,\n",
              "  .colab-df-quickchart-complete:disabled:hover {\n",
              "    background-color: var(--disabled-bg-color);\n",
              "    fill: var(--disabled-fill-color);\n",
              "    box-shadow: none;\n",
              "  }\n",
              "\n",
              "  .colab-df-spinner {\n",
              "    border: 2px solid var(--fill-color);\n",
              "    border-color: transparent;\n",
              "    border-bottom-color: var(--fill-color);\n",
              "    animation:\n",
              "      spin 1s steps(1) infinite;\n",
              "  }\n",
              "\n",
              "  @keyframes spin {\n",
              "    0% {\n",
              "      border-color: transparent;\n",
              "      border-bottom-color: var(--fill-color);\n",
              "      border-left-color: var(--fill-color);\n",
              "    }\n",
              "    20% {\n",
              "      border-color: transparent;\n",
              "      border-left-color: var(--fill-color);\n",
              "      border-top-color: var(--fill-color);\n",
              "    }\n",
              "    30% {\n",
              "      border-color: transparent;\n",
              "      border-left-color: var(--fill-color);\n",
              "      border-top-color: var(--fill-color);\n",
              "      border-right-color: var(--fill-color);\n",
              "    }\n",
              "    40% {\n",
              "      border-color: transparent;\n",
              "      border-right-color: var(--fill-color);\n",
              "      border-top-color: var(--fill-color);\n",
              "    }\n",
              "    60% {\n",
              "      border-color: transparent;\n",
              "      border-right-color: var(--fill-color);\n",
              "    }\n",
              "    80% {\n",
              "      border-color: transparent;\n",
              "      border-right-color: var(--fill-color);\n",
              "      border-bottom-color: var(--fill-color);\n",
              "    }\n",
              "    90% {\n",
              "      border-color: transparent;\n",
              "      border-bottom-color: var(--fill-color);\n",
              "    }\n",
              "  }\n",
              "</style>\n",
              "\n",
              "  <script>\n",
              "    async function quickchart(key) {\n",
              "      const quickchartButtonEl =\n",
              "        document.querySelector('#' + key + ' button');\n",
              "      quickchartButtonEl.disabled = true;  // To prevent multiple clicks.\n",
              "      quickchartButtonEl.classList.add('colab-df-spinner');\n",
              "      try {\n",
              "        const charts = await google.colab.kernel.invokeFunction(\n",
              "            'suggestCharts', [key], {});\n",
              "      } catch (error) {\n",
              "        console.error('Error during call to suggestCharts:', error);\n",
              "      }\n",
              "      quickchartButtonEl.classList.remove('colab-df-spinner');\n",
              "      quickchartButtonEl.classList.add('colab-df-quickchart-complete');\n",
              "    }\n",
              "    (() => {\n",
              "      let quickchartButtonEl =\n",
              "        document.querySelector('#df-a79e73bf-4b87-4e48-9594-0e541f8639de button');\n",
              "      quickchartButtonEl.style.display =\n",
              "        google.colab.kernel.accessAllowed ? 'block' : 'none';\n",
              "    })();\n",
              "  </script>\n",
              "</div>\n",
              "\n",
              "  <div id=\"id_1cca292a-581a-4a5e-bd3c-a49c10811fa8\">\n",
              "    <style>\n",
              "      .colab-df-generate {\n",
              "        background-color: #E8F0FE;\n",
              "        border: none;\n",
              "        border-radius: 50%;\n",
              "        cursor: pointer;\n",
              "        display: none;\n",
              "        fill: #1967D2;\n",
              "        height: 32px;\n",
              "        padding: 0 0 0 0;\n",
              "        width: 32px;\n",
              "      }\n",
              "\n",
              "      .colab-df-generate:hover {\n",
              "        background-color: #E2EBFA;\n",
              "        box-shadow: 0px 1px 2px rgba(60, 64, 67, 0.3), 0px 1px 3px 1px rgba(60, 64, 67, 0.15);\n",
              "        fill: #174EA6;\n",
              "      }\n",
              "\n",
              "      [theme=dark] .colab-df-generate {\n",
              "        background-color: #3B4455;\n",
              "        fill: #D2E3FC;\n",
              "      }\n",
              "\n",
              "      [theme=dark] .colab-df-generate:hover {\n",
              "        background-color: #434B5C;\n",
              "        box-shadow: 0px 1px 3px 1px rgba(0, 0, 0, 0.15);\n",
              "        filter: drop-shadow(0px 1px 2px rgba(0, 0, 0, 0.3));\n",
              "        fill: #FFFFFF;\n",
              "      }\n",
              "    </style>\n",
              "    <button class=\"colab-df-generate\" onclick=\"generateWithVariable('df_new')\"\n",
              "            title=\"Generate code using this dataframe.\"\n",
              "            style=\"display:none;\">\n",
              "\n",
              "  <svg xmlns=\"http://www.w3.org/2000/svg\" height=\"24px\"viewBox=\"0 0 24 24\"\n",
              "       width=\"24px\">\n",
              "    <path d=\"M7,19H8.4L18.45,9,17,7.55,7,17.6ZM5,21V16.75L18.45,3.32a2,2,0,0,1,2.83,0l1.4,1.43a1.91,1.91,0,0,1,.58,1.4,1.91,1.91,0,0,1-.58,1.4L9.25,21ZM18.45,9,17,7.55Zm-12,3A5.31,5.31,0,0,0,4.9,8.1,5.31,5.31,0,0,0,1,6.5,5.31,5.31,0,0,0,4.9,4.9,5.31,5.31,0,0,0,6.5,1,5.31,5.31,0,0,0,8.1,4.9,5.31,5.31,0,0,0,12,6.5,5.46,5.46,0,0,0,6.5,12Z\"/>\n",
              "  </svg>\n",
              "    </button>\n",
              "    <script>\n",
              "      (() => {\n",
              "      const buttonEl =\n",
              "        document.querySelector('#id_1cca292a-581a-4a5e-bd3c-a49c10811fa8 button.colab-df-generate');\n",
              "      buttonEl.style.display =\n",
              "        google.colab.kernel.accessAllowed ? 'block' : 'none';\n",
              "\n",
              "      buttonEl.onclick = () => {\n",
              "        google.colab.notebook.generateWithVariable('df_new');\n",
              "      }\n",
              "      })();\n",
              "    </script>\n",
              "  </div>\n",
              "\n",
              "    </div>\n",
              "  </div>\n"
            ],
            "application/vnd.google.colaboratory.intrinsic+json": {
              "type": "dataframe",
              "variable_name": "df_new",
              "summary": "{\n  \"name\": \"df_new\",\n  \"rows\": 1000,\n  \"fields\": [\n    {\n      \"column\": \"Unnamed: 0\",\n      \"properties\": {\n        \"dtype\": \"object\",\n        \"num_unique_values\": 1000,\n        \"samples\": [\n          \"2021-06-05\",\n          \"2022-01-07\",\n          \"2022-01-10\"\n        ],\n        \"semantic_type\": \"\",\n        \"description\": \"\"\n      }\n    },\n    {\n      \"column\": \"normal\",\n      \"properties\": {\n        \"dtype\": \"number\",\n        \"std\": 1.0355497477337736,\n        \"min\": -3.8366555484593694,\n        \"max\": 3.377382919082646,\n        \"num_unique_values\": 1000,\n        \"samples\": [\n          -1.0237559477078506,\n          -0.2631612720598266,\n          1.048203967675276\n        ],\n        \"semantic_type\": \"\",\n        \"description\": \"\"\n      }\n    },\n    {\n      \"column\": \"uniform\",\n      \"properties\": {\n        \"dtype\": \"number\",\n        \"std\": 0.29448597767517226,\n        \"min\": 0.0001577445780567,\n        \"max\": 0.9993351228311154,\n        \"num_unique_values\": 1000,\n        \"samples\": [\n          0.3811093260082828,\n          0.8893047238282185,\n          0.5634704738128519\n        ],\n        \"semantic_type\": \"\",\n        \"description\": \"\"\n      }\n    },\n    {\n      \"column\": \"binomial\",\n      \"properties\": {\n        \"dtype\": \"number\",\n        \"std\": 0,\n        \"min\": 0,\n        \"max\": 1,\n        \"num_unique_values\": 2,\n        \"samples\": [\n          0,\n          1\n        ],\n        \"semantic_type\": \"\",\n        \"description\": \"\"\n      }\n    }\n  ]\n}"
            }
          },
          "metadata": {},
          "execution_count": 51
        }
      ]
    }
  ]
}