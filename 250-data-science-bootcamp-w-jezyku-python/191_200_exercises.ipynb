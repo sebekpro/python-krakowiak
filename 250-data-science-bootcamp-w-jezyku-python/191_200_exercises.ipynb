{
  "nbformat": 4,
  "nbformat_minor": 0,
  "metadata": {
    "colab": {
      "provenance": [],
      "include_colab_link": true
    },
    "kernelspec": {
      "name": "python3",
      "display_name": "Python 3"
    }
  },
  "cells": [
    {
      "cell_type": "markdown",
      "metadata": {
        "id": "view-in-github",
        "colab_type": "text"
      },
      "source": [
        "<a href=\"https://colab.research.google.com/github/sebekpro/python-krakowiak/blob/main/250-data-science-bootcamp-w-jezyku-python/191_200_exercises.ipynb\" target=\"_parent\"><img src=\"https://colab.research.google.com/assets/colab-badge.svg\" alt=\"Open In Colab\"/></a>"
      ]
    },
    {
      "cell_type": "markdown",
      "metadata": {
        "id": "WLEgCW5F1hho"
      },
      "source": [
        "## Pandas\n",
        "\n",
        "### Spis treści:\n",
        "* [Import biblioteki](#0)\n",
        "* [Ćwiczenie 191](#1)\n",
        "* [Ćwiczenie 192](#2)\n",
        "* [Ćwiczenie 193](#3)\n",
        "* [Ćwiczenie 194](#4)\n",
        "* [Ćwiczenie 195](#5)\n",
        "* [Ćwiczenie 196](#6)\n",
        "* [Ćwiczenie 197](#7)\n",
        "* [Ćwiczenie 198](#8)\n",
        "* [Ćwiczenie 199](#9)\n",
        "* [Ćwiczenie 200](#10)"
      ]
    },
    {
      "cell_type": "markdown",
      "metadata": {
        "id": "zeLOLmTj1kBM"
      },
      "source": [
        "### <a name='0'></a>Import biblioteki"
      ]
    },
    {
      "cell_type": "code",
      "metadata": {
        "id": "HXMB7SMe1Wnz",
        "colab": {
          "base_uri": "https://localhost:8080/",
          "height": 35
        },
        "outputId": "9f4ab6ad-bdd5-4d6a-8615-8ad0e1a660b7"
      },
      "source": [
        "import numpy as np\n",
        "import pandas as pd\n",
        "\n",
        "np.__version__"
      ],
      "execution_count": null,
      "outputs": [
        {
          "output_type": "execute_result",
          "data": {
            "text/plain": [
              "'1.26.4'"
            ],
            "application/vnd.google.colaboratory.intrinsic+json": {
              "type": "string"
            }
          },
          "metadata": {},
          "execution_count": 1
        }
      ]
    },
    {
      "cell_type": "markdown",
      "source": [],
      "metadata": {
        "id": "8b4PMl59WzTe"
      }
    },
    {
      "cell_type": "markdown",
      "metadata": {
        "id": "cyc70pMe1oCg"
      },
      "source": [
        "### <a name='1'></a> Ćwiczenie 191\n",
        "Z poniższego słownika _data_ utwórz obiekt _DataFrame_ i przypisz do zmiennej _df_.\n",
        "\n",
        "\n",
        "```\n",
        "data = {\n",
        "    'size': ['XL', 'L', 'M', 'L', 'M'],\n",
        "    'color': ['red', 'green', 'blue', 'green', 'red'],\n",
        "    'gender': ['female', 'male', 'male', 'female', 'female'],\n",
        "    'price': [199.0, 89.0, 99.0, 129.0, 79.0],\n",
        "    'weight': [500, 450, 300, 380, 410],\n",
        "    'bought': ['yes', 'no', 'yes', 'no', 'yes']\n",
        "}\n",
        "```\n",
        "\n"
      ]
    },
    {
      "cell_type": "code",
      "metadata": {
        "id": "i8TGz_jSK3CY",
        "colab": {
          "base_uri": "https://localhost:8080/",
          "height": 206
        },
        "outputId": "478d640e-e721-43b7-f1e6-c7fa75928433"
      },
      "source": [
        "# tutaj wpisz rozwiązanie\n",
        "data = {\n",
        "    'size': ['XL', 'L', 'M', 'L', 'M'],\n",
        "    'color': ['red', 'green', 'blue', 'green', 'red'],\n",
        "    'gender': ['female', 'male', 'male', 'female', 'female'],\n",
        "    'price': [199.0, 89.0, 99.0, 129.0, 79.0],\n",
        "    'weight': [500, 450, 300, 380, 410],\n",
        "    'bought': ['yes', 'no', 'yes', 'no', 'yes']\n",
        "}\n",
        "df = pd.DataFrame(data)\n",
        "df.head()"
      ],
      "execution_count": null,
      "outputs": [
        {
          "output_type": "execute_result",
          "data": {
            "text/plain": [
              "  size  color  gender  price  weight bought\n",
              "0   XL    red  female  199.0     500    yes\n",
              "1    L  green    male   89.0     450     no\n",
              "2    M   blue    male   99.0     300    yes\n",
              "3    L  green  female  129.0     380     no\n",
              "4    M    red  female   79.0     410    yes"
            ],
            "text/html": [
              "\n",
              "  <div id=\"df-d186fef7-03ae-4e59-a98c-2ff5d8d97f7d\" class=\"colab-df-container\">\n",
              "    <div>\n",
              "<style scoped>\n",
              "    .dataframe tbody tr th:only-of-type {\n",
              "        vertical-align: middle;\n",
              "    }\n",
              "\n",
              "    .dataframe tbody tr th {\n",
              "        vertical-align: top;\n",
              "    }\n",
              "\n",
              "    .dataframe thead th {\n",
              "        text-align: right;\n",
              "    }\n",
              "</style>\n",
              "<table border=\"1\" class=\"dataframe\">\n",
              "  <thead>\n",
              "    <tr style=\"text-align: right;\">\n",
              "      <th></th>\n",
              "      <th>size</th>\n",
              "      <th>color</th>\n",
              "      <th>gender</th>\n",
              "      <th>price</th>\n",
              "      <th>weight</th>\n",
              "      <th>bought</th>\n",
              "    </tr>\n",
              "  </thead>\n",
              "  <tbody>\n",
              "    <tr>\n",
              "      <th>0</th>\n",
              "      <td>XL</td>\n",
              "      <td>red</td>\n",
              "      <td>female</td>\n",
              "      <td>199.0</td>\n",
              "      <td>500</td>\n",
              "      <td>yes</td>\n",
              "    </tr>\n",
              "    <tr>\n",
              "      <th>1</th>\n",
              "      <td>L</td>\n",
              "      <td>green</td>\n",
              "      <td>male</td>\n",
              "      <td>89.0</td>\n",
              "      <td>450</td>\n",
              "      <td>no</td>\n",
              "    </tr>\n",
              "    <tr>\n",
              "      <th>2</th>\n",
              "      <td>M</td>\n",
              "      <td>blue</td>\n",
              "      <td>male</td>\n",
              "      <td>99.0</td>\n",
              "      <td>300</td>\n",
              "      <td>yes</td>\n",
              "    </tr>\n",
              "    <tr>\n",
              "      <th>3</th>\n",
              "      <td>L</td>\n",
              "      <td>green</td>\n",
              "      <td>female</td>\n",
              "      <td>129.0</td>\n",
              "      <td>380</td>\n",
              "      <td>no</td>\n",
              "    </tr>\n",
              "    <tr>\n",
              "      <th>4</th>\n",
              "      <td>M</td>\n",
              "      <td>red</td>\n",
              "      <td>female</td>\n",
              "      <td>79.0</td>\n",
              "      <td>410</td>\n",
              "      <td>yes</td>\n",
              "    </tr>\n",
              "  </tbody>\n",
              "</table>\n",
              "</div>\n",
              "    <div class=\"colab-df-buttons\">\n",
              "\n",
              "  <div class=\"colab-df-container\">\n",
              "    <button class=\"colab-df-convert\" onclick=\"convertToInteractive('df-d186fef7-03ae-4e59-a98c-2ff5d8d97f7d')\"\n",
              "            title=\"Convert this dataframe to an interactive table.\"\n",
              "            style=\"display:none;\">\n",
              "\n",
              "  <svg xmlns=\"http://www.w3.org/2000/svg\" height=\"24px\" viewBox=\"0 -960 960 960\">\n",
              "    <path d=\"M120-120v-720h720v720H120Zm60-500h600v-160H180v160Zm220 220h160v-160H400v160Zm0 220h160v-160H400v160ZM180-400h160v-160H180v160Zm440 0h160v-160H620v160ZM180-180h160v-160H180v160Zm440 0h160v-160H620v160Z\"/>\n",
              "  </svg>\n",
              "    </button>\n",
              "\n",
              "  <style>\n",
              "    .colab-df-container {\n",
              "      display:flex;\n",
              "      gap: 12px;\n",
              "    }\n",
              "\n",
              "    .colab-df-convert {\n",
              "      background-color: #E8F0FE;\n",
              "      border: none;\n",
              "      border-radius: 50%;\n",
              "      cursor: pointer;\n",
              "      display: none;\n",
              "      fill: #1967D2;\n",
              "      height: 32px;\n",
              "      padding: 0 0 0 0;\n",
              "      width: 32px;\n",
              "    }\n",
              "\n",
              "    .colab-df-convert:hover {\n",
              "      background-color: #E2EBFA;\n",
              "      box-shadow: 0px 1px 2px rgba(60, 64, 67, 0.3), 0px 1px 3px 1px rgba(60, 64, 67, 0.15);\n",
              "      fill: #174EA6;\n",
              "    }\n",
              "\n",
              "    .colab-df-buttons div {\n",
              "      margin-bottom: 4px;\n",
              "    }\n",
              "\n",
              "    [theme=dark] .colab-df-convert {\n",
              "      background-color: #3B4455;\n",
              "      fill: #D2E3FC;\n",
              "    }\n",
              "\n",
              "    [theme=dark] .colab-df-convert:hover {\n",
              "      background-color: #434B5C;\n",
              "      box-shadow: 0px 1px 3px 1px rgba(0, 0, 0, 0.15);\n",
              "      filter: drop-shadow(0px 1px 2px rgba(0, 0, 0, 0.3));\n",
              "      fill: #FFFFFF;\n",
              "    }\n",
              "  </style>\n",
              "\n",
              "    <script>\n",
              "      const buttonEl =\n",
              "        document.querySelector('#df-d186fef7-03ae-4e59-a98c-2ff5d8d97f7d button.colab-df-convert');\n",
              "      buttonEl.style.display =\n",
              "        google.colab.kernel.accessAllowed ? 'block' : 'none';\n",
              "\n",
              "      async function convertToInteractive(key) {\n",
              "        const element = document.querySelector('#df-d186fef7-03ae-4e59-a98c-2ff5d8d97f7d');\n",
              "        const dataTable =\n",
              "          await google.colab.kernel.invokeFunction('convertToInteractive',\n",
              "                                                    [key], {});\n",
              "        if (!dataTable) return;\n",
              "\n",
              "        const docLinkHtml = 'Like what you see? Visit the ' +\n",
              "          '<a target=\"_blank\" href=https://colab.research.google.com/notebooks/data_table.ipynb>data table notebook</a>'\n",
              "          + ' to learn more about interactive tables.';\n",
              "        element.innerHTML = '';\n",
              "        dataTable['output_type'] = 'display_data';\n",
              "        await google.colab.output.renderOutput(dataTable, element);\n",
              "        const docLink = document.createElement('div');\n",
              "        docLink.innerHTML = docLinkHtml;\n",
              "        element.appendChild(docLink);\n",
              "      }\n",
              "    </script>\n",
              "  </div>\n",
              "\n",
              "\n",
              "<div id=\"df-2a9a8c45-eccc-431b-ac09-c75c62d677cb\">\n",
              "  <button class=\"colab-df-quickchart\" onclick=\"quickchart('df-2a9a8c45-eccc-431b-ac09-c75c62d677cb')\"\n",
              "            title=\"Suggest charts\"\n",
              "            style=\"display:none;\">\n",
              "\n",
              "<svg xmlns=\"http://www.w3.org/2000/svg\" height=\"24px\"viewBox=\"0 0 24 24\"\n",
              "     width=\"24px\">\n",
              "    <g>\n",
              "        <path d=\"M19 3H5c-1.1 0-2 .9-2 2v14c0 1.1.9 2 2 2h14c1.1 0 2-.9 2-2V5c0-1.1-.9-2-2-2zM9 17H7v-7h2v7zm4 0h-2V7h2v10zm4 0h-2v-4h2v4z\"/>\n",
              "    </g>\n",
              "</svg>\n",
              "  </button>\n",
              "\n",
              "<style>\n",
              "  .colab-df-quickchart {\n",
              "      --bg-color: #E8F0FE;\n",
              "      --fill-color: #1967D2;\n",
              "      --hover-bg-color: #E2EBFA;\n",
              "      --hover-fill-color: #174EA6;\n",
              "      --disabled-fill-color: #AAA;\n",
              "      --disabled-bg-color: #DDD;\n",
              "  }\n",
              "\n",
              "  [theme=dark] .colab-df-quickchart {\n",
              "      --bg-color: #3B4455;\n",
              "      --fill-color: #D2E3FC;\n",
              "      --hover-bg-color: #434B5C;\n",
              "      --hover-fill-color: #FFFFFF;\n",
              "      --disabled-bg-color: #3B4455;\n",
              "      --disabled-fill-color: #666;\n",
              "  }\n",
              "\n",
              "  .colab-df-quickchart {\n",
              "    background-color: var(--bg-color);\n",
              "    border: none;\n",
              "    border-radius: 50%;\n",
              "    cursor: pointer;\n",
              "    display: none;\n",
              "    fill: var(--fill-color);\n",
              "    height: 32px;\n",
              "    padding: 0;\n",
              "    width: 32px;\n",
              "  }\n",
              "\n",
              "  .colab-df-quickchart:hover {\n",
              "    background-color: var(--hover-bg-color);\n",
              "    box-shadow: 0 1px 2px rgba(60, 64, 67, 0.3), 0 1px 3px 1px rgba(60, 64, 67, 0.15);\n",
              "    fill: var(--button-hover-fill-color);\n",
              "  }\n",
              "\n",
              "  .colab-df-quickchart-complete:disabled,\n",
              "  .colab-df-quickchart-complete:disabled:hover {\n",
              "    background-color: var(--disabled-bg-color);\n",
              "    fill: var(--disabled-fill-color);\n",
              "    box-shadow: none;\n",
              "  }\n",
              "\n",
              "  .colab-df-spinner {\n",
              "    border: 2px solid var(--fill-color);\n",
              "    border-color: transparent;\n",
              "    border-bottom-color: var(--fill-color);\n",
              "    animation:\n",
              "      spin 1s steps(1) infinite;\n",
              "  }\n",
              "\n",
              "  @keyframes spin {\n",
              "    0% {\n",
              "      border-color: transparent;\n",
              "      border-bottom-color: var(--fill-color);\n",
              "      border-left-color: var(--fill-color);\n",
              "    }\n",
              "    20% {\n",
              "      border-color: transparent;\n",
              "      border-left-color: var(--fill-color);\n",
              "      border-top-color: var(--fill-color);\n",
              "    }\n",
              "    30% {\n",
              "      border-color: transparent;\n",
              "      border-left-color: var(--fill-color);\n",
              "      border-top-color: var(--fill-color);\n",
              "      border-right-color: var(--fill-color);\n",
              "    }\n",
              "    40% {\n",
              "      border-color: transparent;\n",
              "      border-right-color: var(--fill-color);\n",
              "      border-top-color: var(--fill-color);\n",
              "    }\n",
              "    60% {\n",
              "      border-color: transparent;\n",
              "      border-right-color: var(--fill-color);\n",
              "    }\n",
              "    80% {\n",
              "      border-color: transparent;\n",
              "      border-right-color: var(--fill-color);\n",
              "      border-bottom-color: var(--fill-color);\n",
              "    }\n",
              "    90% {\n",
              "      border-color: transparent;\n",
              "      border-bottom-color: var(--fill-color);\n",
              "    }\n",
              "  }\n",
              "</style>\n",
              "\n",
              "  <script>\n",
              "    async function quickchart(key) {\n",
              "      const quickchartButtonEl =\n",
              "        document.querySelector('#' + key + ' button');\n",
              "      quickchartButtonEl.disabled = true;  // To prevent multiple clicks.\n",
              "      quickchartButtonEl.classList.add('colab-df-spinner');\n",
              "      try {\n",
              "        const charts = await google.colab.kernel.invokeFunction(\n",
              "            'suggestCharts', [key], {});\n",
              "      } catch (error) {\n",
              "        console.error('Error during call to suggestCharts:', error);\n",
              "      }\n",
              "      quickchartButtonEl.classList.remove('colab-df-spinner');\n",
              "      quickchartButtonEl.classList.add('colab-df-quickchart-complete');\n",
              "    }\n",
              "    (() => {\n",
              "      let quickchartButtonEl =\n",
              "        document.querySelector('#df-2a9a8c45-eccc-431b-ac09-c75c62d677cb button');\n",
              "      quickchartButtonEl.style.display =\n",
              "        google.colab.kernel.accessAllowed ? 'block' : 'none';\n",
              "    })();\n",
              "  </script>\n",
              "</div>\n",
              "\n",
              "    </div>\n",
              "  </div>\n"
            ],
            "application/vnd.google.colaboratory.intrinsic+json": {
              "type": "dataframe",
              "variable_name": "df",
              "summary": "{\n  \"name\": \"df\",\n  \"rows\": 5,\n  \"fields\": [\n    {\n      \"column\": \"size\",\n      \"properties\": {\n        \"dtype\": \"string\",\n        \"num_unique_values\": 3,\n        \"samples\": [\n          \"XL\",\n          \"L\",\n          \"M\"\n        ],\n        \"semantic_type\": \"\",\n        \"description\": \"\"\n      }\n    },\n    {\n      \"column\": \"color\",\n      \"properties\": {\n        \"dtype\": \"string\",\n        \"num_unique_values\": 3,\n        \"samples\": [\n          \"red\",\n          \"green\",\n          \"blue\"\n        ],\n        \"semantic_type\": \"\",\n        \"description\": \"\"\n      }\n    },\n    {\n      \"column\": \"gender\",\n      \"properties\": {\n        \"dtype\": \"category\",\n        \"num_unique_values\": 2,\n        \"samples\": [\n          \"male\",\n          \"female\"\n        ],\n        \"semantic_type\": \"\",\n        \"description\": \"\"\n      }\n    },\n    {\n      \"column\": \"price\",\n      \"properties\": {\n        \"dtype\": \"number\",\n        \"std\": 48.47679857416329,\n        \"min\": 79.0,\n        \"max\": 199.0,\n        \"num_unique_values\": 5,\n        \"samples\": [\n          89.0,\n          79.0\n        ],\n        \"semantic_type\": \"\",\n        \"description\": \"\"\n      }\n    },\n    {\n      \"column\": \"weight\",\n      \"properties\": {\n        \"dtype\": \"number\",\n        \"std\": 75,\n        \"min\": 300,\n        \"max\": 500,\n        \"num_unique_values\": 5,\n        \"samples\": [\n          450,\n          410\n        ],\n        \"semantic_type\": \"\",\n        \"description\": \"\"\n      }\n    },\n    {\n      \"column\": \"bought\",\n      \"properties\": {\n        \"dtype\": \"category\",\n        \"num_unique_values\": 2,\n        \"samples\": [\n          \"no\",\n          \"yes\"\n        ],\n        \"semantic_type\": \"\",\n        \"description\": \"\"\n      }\n    }\n  ]\n}"
            }
          },
          "metadata": {},
          "execution_count": 2
        }
      ]
    },
    {
      "cell_type": "markdown",
      "metadata": {
        "id": "41VWXEvpLVCf"
      },
      "source": [
        "Wyświetl podstawowe informacje na temat obiektu _df_."
      ]
    },
    {
      "cell_type": "code",
      "metadata": {
        "id": "FDU1zhczLQYS",
        "colab": {
          "base_uri": "https://localhost:8080/"
        },
        "outputId": "2bae1079-dbcb-4049-8ec6-3d46952af8f8"
      },
      "source": [
        "# tutaj wpisz rozwiązanie\n",
        "df.info()"
      ],
      "execution_count": null,
      "outputs": [
        {
          "output_type": "stream",
          "name": "stdout",
          "text": [
            "<class 'pandas.core.frame.DataFrame'>\n",
            "RangeIndex: 5 entries, 0 to 4\n",
            "Data columns (total 6 columns):\n",
            " #   Column  Non-Null Count  Dtype  \n",
            "---  ------  --------------  -----  \n",
            " 0   size    5 non-null      object \n",
            " 1   color   5 non-null      object \n",
            " 2   gender  5 non-null      object \n",
            " 3   price   5 non-null      float64\n",
            " 4   weight  5 non-null      int64  \n",
            " 5   bought  5 non-null      object \n",
            "dtypes: float64(1), int64(1), object(4)\n",
            "memory usage: 372.0+ bytes\n"
          ]
        }
      ]
    },
    {
      "cell_type": "markdown",
      "metadata": {
        "id": "Bmb7P91_LYbp"
      },
      "source": [
        "Dokonaj konwersji zmiennych na poszczególne typy:\n",
        "* size -> _category_\n",
        "* color -> _category_\n",
        "* gender -> _category_\n",
        "* weight -> _float_\n",
        "* bought -> _category_"
      ]
    },
    {
      "cell_type": "code",
      "metadata": {
        "id": "nLbmiN1ILuVj",
        "colab": {
          "base_uri": "https://localhost:8080/"
        },
        "outputId": "99f9ad3f-88e5-4320-9cd7-303a2a9c29fa"
      },
      "source": [
        "# tutaj wpisz rozwiązanie\n",
        "columnNameAndType = {\n",
        "'size': 'category',\n",
        "    'color': 'category',\n",
        "    'gender': 'category',\n",
        "    'price': 'float64',  # już jest float64, ale dla kompletności\n",
        "    'weight': 'float64',  # zmieniamy z int64 na float64\n",
        "    'bought': 'category'}\n",
        "for col, dtype in columnNameAndType.items():\n",
        "  df[col] = df[col].astype(dtype)\n",
        "\n",
        "df.info()"
      ],
      "execution_count": null,
      "outputs": [
        {
          "output_type": "stream",
          "name": "stdout",
          "text": [
            "<class 'pandas.core.frame.DataFrame'>\n",
            "RangeIndex: 5 entries, 0 to 4\n",
            "Data columns (total 6 columns):\n",
            " #   Column  Non-Null Count  Dtype   \n",
            "---  ------  --------------  -----   \n",
            " 0   size    5 non-null      category\n",
            " 1   color   5 non-null      category\n",
            " 2   gender  5 non-null      category\n",
            " 3   price   5 non-null      float64 \n",
            " 4   weight  5 non-null      float64 \n",
            " 5   bought  5 non-null      category\n",
            "dtypes: category(4), float64(2)\n",
            "memory usage: 744.0 bytes\n"
          ]
        }
      ]
    },
    {
      "cell_type": "markdown",
      "metadata": {
        "id": "J9pY1rtr1sC0"
      },
      "source": [
        "### <a name='2'></a> Ćwiczenie 192\n",
        "Wykorzystując bibliotekę do uczenia maszynowego _scikit-learn_ oraz klasę _LabelEncoder_ dokonaj kodowania 0-1 zmiennej _bought_. Zmiany przypisz na stałe do obiektu _df_ i wyświetl ten obiekt."
      ]
    },
    {
      "cell_type": "code",
      "metadata": {
        "id": "0ZomPI_HL9cZ",
        "colab": {
          "base_uri": "https://localhost:8080/",
          "height": 206
        },
        "outputId": "4081daaa-a6f3-42e1-969a-a0b31576ee92"
      },
      "source": [
        "# tutaj wpisz rozwiązanie\n",
        "from sklearn.preprocessing import LabelEncoder\n",
        "le = LabelEncoder()\n",
        "df['bought'] = le.fit_transform(df['bought'])\n",
        "df.head()"
      ],
      "execution_count": null,
      "outputs": [
        {
          "output_type": "execute_result",
          "data": {
            "text/plain": [
              "  size  color  gender  price  weight  bought\n",
              "0   XL    red  female  199.0   500.0       1\n",
              "1    L  green    male   89.0   450.0       0\n",
              "2    M   blue    male   99.0   300.0       1\n",
              "3    L  green  female  129.0   380.0       0\n",
              "4    M    red  female   79.0   410.0       1"
            ],
            "text/html": [
              "\n",
              "  <div id=\"df-45e2547c-bdfe-4b05-830a-5e06a2a6b919\" class=\"colab-df-container\">\n",
              "    <div>\n",
              "<style scoped>\n",
              "    .dataframe tbody tr th:only-of-type {\n",
              "        vertical-align: middle;\n",
              "    }\n",
              "\n",
              "    .dataframe tbody tr th {\n",
              "        vertical-align: top;\n",
              "    }\n",
              "\n",
              "    .dataframe thead th {\n",
              "        text-align: right;\n",
              "    }\n",
              "</style>\n",
              "<table border=\"1\" class=\"dataframe\">\n",
              "  <thead>\n",
              "    <tr style=\"text-align: right;\">\n",
              "      <th></th>\n",
              "      <th>size</th>\n",
              "      <th>color</th>\n",
              "      <th>gender</th>\n",
              "      <th>price</th>\n",
              "      <th>weight</th>\n",
              "      <th>bought</th>\n",
              "    </tr>\n",
              "  </thead>\n",
              "  <tbody>\n",
              "    <tr>\n",
              "      <th>0</th>\n",
              "      <td>XL</td>\n",
              "      <td>red</td>\n",
              "      <td>female</td>\n",
              "      <td>199.0</td>\n",
              "      <td>500.0</td>\n",
              "      <td>1</td>\n",
              "    </tr>\n",
              "    <tr>\n",
              "      <th>1</th>\n",
              "      <td>L</td>\n",
              "      <td>green</td>\n",
              "      <td>male</td>\n",
              "      <td>89.0</td>\n",
              "      <td>450.0</td>\n",
              "      <td>0</td>\n",
              "    </tr>\n",
              "    <tr>\n",
              "      <th>2</th>\n",
              "      <td>M</td>\n",
              "      <td>blue</td>\n",
              "      <td>male</td>\n",
              "      <td>99.0</td>\n",
              "      <td>300.0</td>\n",
              "      <td>1</td>\n",
              "    </tr>\n",
              "    <tr>\n",
              "      <th>3</th>\n",
              "      <td>L</td>\n",
              "      <td>green</td>\n",
              "      <td>female</td>\n",
              "      <td>129.0</td>\n",
              "      <td>380.0</td>\n",
              "      <td>0</td>\n",
              "    </tr>\n",
              "    <tr>\n",
              "      <th>4</th>\n",
              "      <td>M</td>\n",
              "      <td>red</td>\n",
              "      <td>female</td>\n",
              "      <td>79.0</td>\n",
              "      <td>410.0</td>\n",
              "      <td>1</td>\n",
              "    </tr>\n",
              "  </tbody>\n",
              "</table>\n",
              "</div>\n",
              "    <div class=\"colab-df-buttons\">\n",
              "\n",
              "  <div class=\"colab-df-container\">\n",
              "    <button class=\"colab-df-convert\" onclick=\"convertToInteractive('df-45e2547c-bdfe-4b05-830a-5e06a2a6b919')\"\n",
              "            title=\"Convert this dataframe to an interactive table.\"\n",
              "            style=\"display:none;\">\n",
              "\n",
              "  <svg xmlns=\"http://www.w3.org/2000/svg\" height=\"24px\" viewBox=\"0 -960 960 960\">\n",
              "    <path d=\"M120-120v-720h720v720H120Zm60-500h600v-160H180v160Zm220 220h160v-160H400v160Zm0 220h160v-160H400v160ZM180-400h160v-160H180v160Zm440 0h160v-160H620v160ZM180-180h160v-160H180v160Zm440 0h160v-160H620v160Z\"/>\n",
              "  </svg>\n",
              "    </button>\n",
              "\n",
              "  <style>\n",
              "    .colab-df-container {\n",
              "      display:flex;\n",
              "      gap: 12px;\n",
              "    }\n",
              "\n",
              "    .colab-df-convert {\n",
              "      background-color: #E8F0FE;\n",
              "      border: none;\n",
              "      border-radius: 50%;\n",
              "      cursor: pointer;\n",
              "      display: none;\n",
              "      fill: #1967D2;\n",
              "      height: 32px;\n",
              "      padding: 0 0 0 0;\n",
              "      width: 32px;\n",
              "    }\n",
              "\n",
              "    .colab-df-convert:hover {\n",
              "      background-color: #E2EBFA;\n",
              "      box-shadow: 0px 1px 2px rgba(60, 64, 67, 0.3), 0px 1px 3px 1px rgba(60, 64, 67, 0.15);\n",
              "      fill: #174EA6;\n",
              "    }\n",
              "\n",
              "    .colab-df-buttons div {\n",
              "      margin-bottom: 4px;\n",
              "    }\n",
              "\n",
              "    [theme=dark] .colab-df-convert {\n",
              "      background-color: #3B4455;\n",
              "      fill: #D2E3FC;\n",
              "    }\n",
              "\n",
              "    [theme=dark] .colab-df-convert:hover {\n",
              "      background-color: #434B5C;\n",
              "      box-shadow: 0px 1px 3px 1px rgba(0, 0, 0, 0.15);\n",
              "      filter: drop-shadow(0px 1px 2px rgba(0, 0, 0, 0.3));\n",
              "      fill: #FFFFFF;\n",
              "    }\n",
              "  </style>\n",
              "\n",
              "    <script>\n",
              "      const buttonEl =\n",
              "        document.querySelector('#df-45e2547c-bdfe-4b05-830a-5e06a2a6b919 button.colab-df-convert');\n",
              "      buttonEl.style.display =\n",
              "        google.colab.kernel.accessAllowed ? 'block' : 'none';\n",
              "\n",
              "      async function convertToInteractive(key) {\n",
              "        const element = document.querySelector('#df-45e2547c-bdfe-4b05-830a-5e06a2a6b919');\n",
              "        const dataTable =\n",
              "          await google.colab.kernel.invokeFunction('convertToInteractive',\n",
              "                                                    [key], {});\n",
              "        if (!dataTable) return;\n",
              "\n",
              "        const docLinkHtml = 'Like what you see? Visit the ' +\n",
              "          '<a target=\"_blank\" href=https://colab.research.google.com/notebooks/data_table.ipynb>data table notebook</a>'\n",
              "          + ' to learn more about interactive tables.';\n",
              "        element.innerHTML = '';\n",
              "        dataTable['output_type'] = 'display_data';\n",
              "        await google.colab.output.renderOutput(dataTable, element);\n",
              "        const docLink = document.createElement('div');\n",
              "        docLink.innerHTML = docLinkHtml;\n",
              "        element.appendChild(docLink);\n",
              "      }\n",
              "    </script>\n",
              "  </div>\n",
              "\n",
              "\n",
              "<div id=\"df-06688fbe-ff65-4036-8fce-3ee9c20d5984\">\n",
              "  <button class=\"colab-df-quickchart\" onclick=\"quickchart('df-06688fbe-ff65-4036-8fce-3ee9c20d5984')\"\n",
              "            title=\"Suggest charts\"\n",
              "            style=\"display:none;\">\n",
              "\n",
              "<svg xmlns=\"http://www.w3.org/2000/svg\" height=\"24px\"viewBox=\"0 0 24 24\"\n",
              "     width=\"24px\">\n",
              "    <g>\n",
              "        <path d=\"M19 3H5c-1.1 0-2 .9-2 2v14c0 1.1.9 2 2 2h14c1.1 0 2-.9 2-2V5c0-1.1-.9-2-2-2zM9 17H7v-7h2v7zm4 0h-2V7h2v10zm4 0h-2v-4h2v4z\"/>\n",
              "    </g>\n",
              "</svg>\n",
              "  </button>\n",
              "\n",
              "<style>\n",
              "  .colab-df-quickchart {\n",
              "      --bg-color: #E8F0FE;\n",
              "      --fill-color: #1967D2;\n",
              "      --hover-bg-color: #E2EBFA;\n",
              "      --hover-fill-color: #174EA6;\n",
              "      --disabled-fill-color: #AAA;\n",
              "      --disabled-bg-color: #DDD;\n",
              "  }\n",
              "\n",
              "  [theme=dark] .colab-df-quickchart {\n",
              "      --bg-color: #3B4455;\n",
              "      --fill-color: #D2E3FC;\n",
              "      --hover-bg-color: #434B5C;\n",
              "      --hover-fill-color: #FFFFFF;\n",
              "      --disabled-bg-color: #3B4455;\n",
              "      --disabled-fill-color: #666;\n",
              "  }\n",
              "\n",
              "  .colab-df-quickchart {\n",
              "    background-color: var(--bg-color);\n",
              "    border: none;\n",
              "    border-radius: 50%;\n",
              "    cursor: pointer;\n",
              "    display: none;\n",
              "    fill: var(--fill-color);\n",
              "    height: 32px;\n",
              "    padding: 0;\n",
              "    width: 32px;\n",
              "  }\n",
              "\n",
              "  .colab-df-quickchart:hover {\n",
              "    background-color: var(--hover-bg-color);\n",
              "    box-shadow: 0 1px 2px rgba(60, 64, 67, 0.3), 0 1px 3px 1px rgba(60, 64, 67, 0.15);\n",
              "    fill: var(--button-hover-fill-color);\n",
              "  }\n",
              "\n",
              "  .colab-df-quickchart-complete:disabled,\n",
              "  .colab-df-quickchart-complete:disabled:hover {\n",
              "    background-color: var(--disabled-bg-color);\n",
              "    fill: var(--disabled-fill-color);\n",
              "    box-shadow: none;\n",
              "  }\n",
              "\n",
              "  .colab-df-spinner {\n",
              "    border: 2px solid var(--fill-color);\n",
              "    border-color: transparent;\n",
              "    border-bottom-color: var(--fill-color);\n",
              "    animation:\n",
              "      spin 1s steps(1) infinite;\n",
              "  }\n",
              "\n",
              "  @keyframes spin {\n",
              "    0% {\n",
              "      border-color: transparent;\n",
              "      border-bottom-color: var(--fill-color);\n",
              "      border-left-color: var(--fill-color);\n",
              "    }\n",
              "    20% {\n",
              "      border-color: transparent;\n",
              "      border-left-color: var(--fill-color);\n",
              "      border-top-color: var(--fill-color);\n",
              "    }\n",
              "    30% {\n",
              "      border-color: transparent;\n",
              "      border-left-color: var(--fill-color);\n",
              "      border-top-color: var(--fill-color);\n",
              "      border-right-color: var(--fill-color);\n",
              "    }\n",
              "    40% {\n",
              "      border-color: transparent;\n",
              "      border-right-color: var(--fill-color);\n",
              "      border-top-color: var(--fill-color);\n",
              "    }\n",
              "    60% {\n",
              "      border-color: transparent;\n",
              "      border-right-color: var(--fill-color);\n",
              "    }\n",
              "    80% {\n",
              "      border-color: transparent;\n",
              "      border-right-color: var(--fill-color);\n",
              "      border-bottom-color: var(--fill-color);\n",
              "    }\n",
              "    90% {\n",
              "      border-color: transparent;\n",
              "      border-bottom-color: var(--fill-color);\n",
              "    }\n",
              "  }\n",
              "</style>\n",
              "\n",
              "  <script>\n",
              "    async function quickchart(key) {\n",
              "      const quickchartButtonEl =\n",
              "        document.querySelector('#' + key + ' button');\n",
              "      quickchartButtonEl.disabled = true;  // To prevent multiple clicks.\n",
              "      quickchartButtonEl.classList.add('colab-df-spinner');\n",
              "      try {\n",
              "        const charts = await google.colab.kernel.invokeFunction(\n",
              "            'suggestCharts', [key], {});\n",
              "      } catch (error) {\n",
              "        console.error('Error during call to suggestCharts:', error);\n",
              "      }\n",
              "      quickchartButtonEl.classList.remove('colab-df-spinner');\n",
              "      quickchartButtonEl.classList.add('colab-df-quickchart-complete');\n",
              "    }\n",
              "    (() => {\n",
              "      let quickchartButtonEl =\n",
              "        document.querySelector('#df-06688fbe-ff65-4036-8fce-3ee9c20d5984 button');\n",
              "      quickchartButtonEl.style.display =\n",
              "        google.colab.kernel.accessAllowed ? 'block' : 'none';\n",
              "    })();\n",
              "  </script>\n",
              "</div>\n",
              "\n",
              "    </div>\n",
              "  </div>\n"
            ],
            "application/vnd.google.colaboratory.intrinsic+json": {
              "type": "dataframe",
              "variable_name": "df",
              "summary": "{\n  \"name\": \"df\",\n  \"rows\": 5,\n  \"fields\": [\n    {\n      \"column\": \"size\",\n      \"properties\": {\n        \"dtype\": \"category\",\n        \"num_unique_values\": 3,\n        \"samples\": [\n          \"XL\",\n          \"L\",\n          \"M\"\n        ],\n        \"semantic_type\": \"\",\n        \"description\": \"\"\n      }\n    },\n    {\n      \"column\": \"color\",\n      \"properties\": {\n        \"dtype\": \"category\",\n        \"num_unique_values\": 3,\n        \"samples\": [\n          \"red\",\n          \"green\",\n          \"blue\"\n        ],\n        \"semantic_type\": \"\",\n        \"description\": \"\"\n      }\n    },\n    {\n      \"column\": \"gender\",\n      \"properties\": {\n        \"dtype\": \"category\",\n        \"num_unique_values\": 2,\n        \"samples\": [\n          \"male\",\n          \"female\"\n        ],\n        \"semantic_type\": \"\",\n        \"description\": \"\"\n      }\n    },\n    {\n      \"column\": \"price\",\n      \"properties\": {\n        \"dtype\": \"number\",\n        \"std\": 48.47679857416329,\n        \"min\": 79.0,\n        \"max\": 199.0,\n        \"num_unique_values\": 5,\n        \"samples\": [\n          89.0,\n          79.0\n        ],\n        \"semantic_type\": \"\",\n        \"description\": \"\"\n      }\n    },\n    {\n      \"column\": \"weight\",\n      \"properties\": {\n        \"dtype\": \"number\",\n        \"std\": 75.2994023880668,\n        \"min\": 300.0,\n        \"max\": 500.0,\n        \"num_unique_values\": 5,\n        \"samples\": [\n          450.0,\n          410.0\n        ],\n        \"semantic_type\": \"\",\n        \"description\": \"\"\n      }\n    },\n    {\n      \"column\": \"bought\",\n      \"properties\": {\n        \"dtype\": \"number\",\n        \"std\": 0,\n        \"min\": 0,\n        \"max\": 1,\n        \"num_unique_values\": 2,\n        \"samples\": [\n          0,\n          1\n        ],\n        \"semantic_type\": \"\",\n        \"description\": \"\"\n      }\n    }\n  ]\n}"
            }
          },
          "metadata": {},
          "execution_count": 12
        }
      ]
    },
    {
      "cell_type": "markdown",
      "source": [
        "1. Inicjalizowany jest obiekt LabelEncoder jako le.\n",
        "2. Metoda fit_transform() jest wywoływana na kolumnie bought z obiektu DataFrame. Funkcja ta:\n",
        "* Dopasowuje (fit) etykiety występujące w kolumnie do wewnętrznej reprezentacji numerycznej.\n",
        "* Następnie przekształca (transform) oryginalne wartości (tekstowe) na odpowiadające im liczby.\n",
        "3. Efektem tego działania jest zamiana wartości 'yes' i 'no' na liczby (najczęściej: 'no' → 0, 'yes' → 1, chociaż kolejność może zależeć od kolejności występowania etykiet)."
      ],
      "metadata": {
        "id": "geXLgiuLb1Q3"
      }
    },
    {
      "cell_type": "markdown",
      "metadata": {
        "id": "F0nDHBZpMmnn"
      },
      "source": [
        "Wykorzystując odpowiednią metodę klasy _LabelEncoder_ przywróć pierwotną postać zmiennej _bought_. Zwróć uwagę na typ zmiennej _bought_."
      ]
    },
    {
      "cell_type": "code",
      "metadata": {
        "id": "Rr4NdDHeMhlD",
        "colab": {
          "base_uri": "https://localhost:8080/",
          "height": 206
        },
        "outputId": "8f56e653-31d9-4627-cea6-1dda72b4bc55"
      },
      "source": [
        "# tutaj wpisz rozwiązanie\n",
        "\n",
        "# Przywracanie oryginalnych etykiet\n",
        "df['bought'] = le.inverse_transform(df['bought'])\n",
        "\n",
        "# Konwersja na typ kategoryczny\n",
        "df['bought'] = df['bought'].astype('category')\n",
        "\n",
        "df.head()"
      ],
      "execution_count": null,
      "outputs": [
        {
          "output_type": "execute_result",
          "data": {
            "text/plain": [
              "  size  color  gender  price  weight bought\n",
              "0   XL    red  female  199.0   500.0    yes\n",
              "1    L  green    male   89.0   450.0     no\n",
              "2    M   blue    male   99.0   300.0    yes\n",
              "3    L  green  female  129.0   380.0     no\n",
              "4    M    red  female   79.0   410.0    yes"
            ],
            "text/html": [
              "\n",
              "  <div id=\"df-bf68c937-7769-463c-86d7-5025795b59fd\" class=\"colab-df-container\">\n",
              "    <div>\n",
              "<style scoped>\n",
              "    .dataframe tbody tr th:only-of-type {\n",
              "        vertical-align: middle;\n",
              "    }\n",
              "\n",
              "    .dataframe tbody tr th {\n",
              "        vertical-align: top;\n",
              "    }\n",
              "\n",
              "    .dataframe thead th {\n",
              "        text-align: right;\n",
              "    }\n",
              "</style>\n",
              "<table border=\"1\" class=\"dataframe\">\n",
              "  <thead>\n",
              "    <tr style=\"text-align: right;\">\n",
              "      <th></th>\n",
              "      <th>size</th>\n",
              "      <th>color</th>\n",
              "      <th>gender</th>\n",
              "      <th>price</th>\n",
              "      <th>weight</th>\n",
              "      <th>bought</th>\n",
              "    </tr>\n",
              "  </thead>\n",
              "  <tbody>\n",
              "    <tr>\n",
              "      <th>0</th>\n",
              "      <td>XL</td>\n",
              "      <td>red</td>\n",
              "      <td>female</td>\n",
              "      <td>199.0</td>\n",
              "      <td>500.0</td>\n",
              "      <td>yes</td>\n",
              "    </tr>\n",
              "    <tr>\n",
              "      <th>1</th>\n",
              "      <td>L</td>\n",
              "      <td>green</td>\n",
              "      <td>male</td>\n",
              "      <td>89.0</td>\n",
              "      <td>450.0</td>\n",
              "      <td>no</td>\n",
              "    </tr>\n",
              "    <tr>\n",
              "      <th>2</th>\n",
              "      <td>M</td>\n",
              "      <td>blue</td>\n",
              "      <td>male</td>\n",
              "      <td>99.0</td>\n",
              "      <td>300.0</td>\n",
              "      <td>yes</td>\n",
              "    </tr>\n",
              "    <tr>\n",
              "      <th>3</th>\n",
              "      <td>L</td>\n",
              "      <td>green</td>\n",
              "      <td>female</td>\n",
              "      <td>129.0</td>\n",
              "      <td>380.0</td>\n",
              "      <td>no</td>\n",
              "    </tr>\n",
              "    <tr>\n",
              "      <th>4</th>\n",
              "      <td>M</td>\n",
              "      <td>red</td>\n",
              "      <td>female</td>\n",
              "      <td>79.0</td>\n",
              "      <td>410.0</td>\n",
              "      <td>yes</td>\n",
              "    </tr>\n",
              "  </tbody>\n",
              "</table>\n",
              "</div>\n",
              "    <div class=\"colab-df-buttons\">\n",
              "\n",
              "  <div class=\"colab-df-container\">\n",
              "    <button class=\"colab-df-convert\" onclick=\"convertToInteractive('df-bf68c937-7769-463c-86d7-5025795b59fd')\"\n",
              "            title=\"Convert this dataframe to an interactive table.\"\n",
              "            style=\"display:none;\">\n",
              "\n",
              "  <svg xmlns=\"http://www.w3.org/2000/svg\" height=\"24px\" viewBox=\"0 -960 960 960\">\n",
              "    <path d=\"M120-120v-720h720v720H120Zm60-500h600v-160H180v160Zm220 220h160v-160H400v160Zm0 220h160v-160H400v160ZM180-400h160v-160H180v160Zm440 0h160v-160H620v160ZM180-180h160v-160H180v160Zm440 0h160v-160H620v160Z\"/>\n",
              "  </svg>\n",
              "    </button>\n",
              "\n",
              "  <style>\n",
              "    .colab-df-container {\n",
              "      display:flex;\n",
              "      gap: 12px;\n",
              "    }\n",
              "\n",
              "    .colab-df-convert {\n",
              "      background-color: #E8F0FE;\n",
              "      border: none;\n",
              "      border-radius: 50%;\n",
              "      cursor: pointer;\n",
              "      display: none;\n",
              "      fill: #1967D2;\n",
              "      height: 32px;\n",
              "      padding: 0 0 0 0;\n",
              "      width: 32px;\n",
              "    }\n",
              "\n",
              "    .colab-df-convert:hover {\n",
              "      background-color: #E2EBFA;\n",
              "      box-shadow: 0px 1px 2px rgba(60, 64, 67, 0.3), 0px 1px 3px 1px rgba(60, 64, 67, 0.15);\n",
              "      fill: #174EA6;\n",
              "    }\n",
              "\n",
              "    .colab-df-buttons div {\n",
              "      margin-bottom: 4px;\n",
              "    }\n",
              "\n",
              "    [theme=dark] .colab-df-convert {\n",
              "      background-color: #3B4455;\n",
              "      fill: #D2E3FC;\n",
              "    }\n",
              "\n",
              "    [theme=dark] .colab-df-convert:hover {\n",
              "      background-color: #434B5C;\n",
              "      box-shadow: 0px 1px 3px 1px rgba(0, 0, 0, 0.15);\n",
              "      filter: drop-shadow(0px 1px 2px rgba(0, 0, 0, 0.3));\n",
              "      fill: #FFFFFF;\n",
              "    }\n",
              "  </style>\n",
              "\n",
              "    <script>\n",
              "      const buttonEl =\n",
              "        document.querySelector('#df-bf68c937-7769-463c-86d7-5025795b59fd button.colab-df-convert');\n",
              "      buttonEl.style.display =\n",
              "        google.colab.kernel.accessAllowed ? 'block' : 'none';\n",
              "\n",
              "      async function convertToInteractive(key) {\n",
              "        const element = document.querySelector('#df-bf68c937-7769-463c-86d7-5025795b59fd');\n",
              "        const dataTable =\n",
              "          await google.colab.kernel.invokeFunction('convertToInteractive',\n",
              "                                                    [key], {});\n",
              "        if (!dataTable) return;\n",
              "\n",
              "        const docLinkHtml = 'Like what you see? Visit the ' +\n",
              "          '<a target=\"_blank\" href=https://colab.research.google.com/notebooks/data_table.ipynb>data table notebook</a>'\n",
              "          + ' to learn more about interactive tables.';\n",
              "        element.innerHTML = '';\n",
              "        dataTable['output_type'] = 'display_data';\n",
              "        await google.colab.output.renderOutput(dataTable, element);\n",
              "        const docLink = document.createElement('div');\n",
              "        docLink.innerHTML = docLinkHtml;\n",
              "        element.appendChild(docLink);\n",
              "      }\n",
              "    </script>\n",
              "  </div>\n",
              "\n",
              "\n",
              "<div id=\"df-b5a15feb-b6e3-41dc-8b53-954aef29d92c\">\n",
              "  <button class=\"colab-df-quickchart\" onclick=\"quickchart('df-b5a15feb-b6e3-41dc-8b53-954aef29d92c')\"\n",
              "            title=\"Suggest charts\"\n",
              "            style=\"display:none;\">\n",
              "\n",
              "<svg xmlns=\"http://www.w3.org/2000/svg\" height=\"24px\"viewBox=\"0 0 24 24\"\n",
              "     width=\"24px\">\n",
              "    <g>\n",
              "        <path d=\"M19 3H5c-1.1 0-2 .9-2 2v14c0 1.1.9 2 2 2h14c1.1 0 2-.9 2-2V5c0-1.1-.9-2-2-2zM9 17H7v-7h2v7zm4 0h-2V7h2v10zm4 0h-2v-4h2v4z\"/>\n",
              "    </g>\n",
              "</svg>\n",
              "  </button>\n",
              "\n",
              "<style>\n",
              "  .colab-df-quickchart {\n",
              "      --bg-color: #E8F0FE;\n",
              "      --fill-color: #1967D2;\n",
              "      --hover-bg-color: #E2EBFA;\n",
              "      --hover-fill-color: #174EA6;\n",
              "      --disabled-fill-color: #AAA;\n",
              "      --disabled-bg-color: #DDD;\n",
              "  }\n",
              "\n",
              "  [theme=dark] .colab-df-quickchart {\n",
              "      --bg-color: #3B4455;\n",
              "      --fill-color: #D2E3FC;\n",
              "      --hover-bg-color: #434B5C;\n",
              "      --hover-fill-color: #FFFFFF;\n",
              "      --disabled-bg-color: #3B4455;\n",
              "      --disabled-fill-color: #666;\n",
              "  }\n",
              "\n",
              "  .colab-df-quickchart {\n",
              "    background-color: var(--bg-color);\n",
              "    border: none;\n",
              "    border-radius: 50%;\n",
              "    cursor: pointer;\n",
              "    display: none;\n",
              "    fill: var(--fill-color);\n",
              "    height: 32px;\n",
              "    padding: 0;\n",
              "    width: 32px;\n",
              "  }\n",
              "\n",
              "  .colab-df-quickchart:hover {\n",
              "    background-color: var(--hover-bg-color);\n",
              "    box-shadow: 0 1px 2px rgba(60, 64, 67, 0.3), 0 1px 3px 1px rgba(60, 64, 67, 0.15);\n",
              "    fill: var(--button-hover-fill-color);\n",
              "  }\n",
              "\n",
              "  .colab-df-quickchart-complete:disabled,\n",
              "  .colab-df-quickchart-complete:disabled:hover {\n",
              "    background-color: var(--disabled-bg-color);\n",
              "    fill: var(--disabled-fill-color);\n",
              "    box-shadow: none;\n",
              "  }\n",
              "\n",
              "  .colab-df-spinner {\n",
              "    border: 2px solid var(--fill-color);\n",
              "    border-color: transparent;\n",
              "    border-bottom-color: var(--fill-color);\n",
              "    animation:\n",
              "      spin 1s steps(1) infinite;\n",
              "  }\n",
              "\n",
              "  @keyframes spin {\n",
              "    0% {\n",
              "      border-color: transparent;\n",
              "      border-bottom-color: var(--fill-color);\n",
              "      border-left-color: var(--fill-color);\n",
              "    }\n",
              "    20% {\n",
              "      border-color: transparent;\n",
              "      border-left-color: var(--fill-color);\n",
              "      border-top-color: var(--fill-color);\n",
              "    }\n",
              "    30% {\n",
              "      border-color: transparent;\n",
              "      border-left-color: var(--fill-color);\n",
              "      border-top-color: var(--fill-color);\n",
              "      border-right-color: var(--fill-color);\n",
              "    }\n",
              "    40% {\n",
              "      border-color: transparent;\n",
              "      border-right-color: var(--fill-color);\n",
              "      border-top-color: var(--fill-color);\n",
              "    }\n",
              "    60% {\n",
              "      border-color: transparent;\n",
              "      border-right-color: var(--fill-color);\n",
              "    }\n",
              "    80% {\n",
              "      border-color: transparent;\n",
              "      border-right-color: var(--fill-color);\n",
              "      border-bottom-color: var(--fill-color);\n",
              "    }\n",
              "    90% {\n",
              "      border-color: transparent;\n",
              "      border-bottom-color: var(--fill-color);\n",
              "    }\n",
              "  }\n",
              "</style>\n",
              "\n",
              "  <script>\n",
              "    async function quickchart(key) {\n",
              "      const quickchartButtonEl =\n",
              "        document.querySelector('#' + key + ' button');\n",
              "      quickchartButtonEl.disabled = true;  // To prevent multiple clicks.\n",
              "      quickchartButtonEl.classList.add('colab-df-spinner');\n",
              "      try {\n",
              "        const charts = await google.colab.kernel.invokeFunction(\n",
              "            'suggestCharts', [key], {});\n",
              "      } catch (error) {\n",
              "        console.error('Error during call to suggestCharts:', error);\n",
              "      }\n",
              "      quickchartButtonEl.classList.remove('colab-df-spinner');\n",
              "      quickchartButtonEl.classList.add('colab-df-quickchart-complete');\n",
              "    }\n",
              "    (() => {\n",
              "      let quickchartButtonEl =\n",
              "        document.querySelector('#df-b5a15feb-b6e3-41dc-8b53-954aef29d92c button');\n",
              "      quickchartButtonEl.style.display =\n",
              "        google.colab.kernel.accessAllowed ? 'block' : 'none';\n",
              "    })();\n",
              "  </script>\n",
              "</div>\n",
              "\n",
              "    </div>\n",
              "  </div>\n"
            ],
            "application/vnd.google.colaboratory.intrinsic+json": {
              "type": "dataframe",
              "variable_name": "df",
              "summary": "{\n  \"name\": \"df\",\n  \"rows\": 5,\n  \"fields\": [\n    {\n      \"column\": \"size\",\n      \"properties\": {\n        \"dtype\": \"category\",\n        \"num_unique_values\": 3,\n        \"samples\": [\n          \"XL\",\n          \"L\",\n          \"M\"\n        ],\n        \"semantic_type\": \"\",\n        \"description\": \"\"\n      }\n    },\n    {\n      \"column\": \"color\",\n      \"properties\": {\n        \"dtype\": \"category\",\n        \"num_unique_values\": 3,\n        \"samples\": [\n          \"red\",\n          \"green\",\n          \"blue\"\n        ],\n        \"semantic_type\": \"\",\n        \"description\": \"\"\n      }\n    },\n    {\n      \"column\": \"gender\",\n      \"properties\": {\n        \"dtype\": \"category\",\n        \"num_unique_values\": 2,\n        \"samples\": [\n          \"male\",\n          \"female\"\n        ],\n        \"semantic_type\": \"\",\n        \"description\": \"\"\n      }\n    },\n    {\n      \"column\": \"price\",\n      \"properties\": {\n        \"dtype\": \"number\",\n        \"std\": 48.47679857416329,\n        \"min\": 79.0,\n        \"max\": 199.0,\n        \"num_unique_values\": 5,\n        \"samples\": [\n          89.0,\n          79.0\n        ],\n        \"semantic_type\": \"\",\n        \"description\": \"\"\n      }\n    },\n    {\n      \"column\": \"weight\",\n      \"properties\": {\n        \"dtype\": \"number\",\n        \"std\": 75.2994023880668,\n        \"min\": 300.0,\n        \"max\": 500.0,\n        \"num_unique_values\": 5,\n        \"samples\": [\n          450.0,\n          410.0\n        ],\n        \"semantic_type\": \"\",\n        \"description\": \"\"\n      }\n    },\n    {\n      \"column\": \"bought\",\n      \"properties\": {\n        \"dtype\": \"category\",\n        \"num_unique_values\": 2,\n        \"samples\": [\n          \"no\",\n          \"yes\"\n        ],\n        \"semantic_type\": \"\",\n        \"description\": \"\"\n      }\n    }\n  ]\n}"
            }
          },
          "metadata": {},
          "execution_count": 13
        }
      ]
    },
    {
      "cell_type": "markdown",
      "metadata": {
        "id": "XQLYT2m11wVG"
      },
      "source": [
        "### <a name='3'></a> Ćwiczenie 193\n",
        "Wykorzystując bibliotekę do uczenia maszynowego _scikit-learn_ oraz klasę _OneHotEncoder_ dokonaj kodowania 0-1 zmiennej _size_. Nie przypisuj zmian do obiektu _df_.\n",
        "\n",
        "Użyj parametru _sparse=False_ klasy _OneHotEncoder_."
      ]
    },
    {
      "cell_type": "code",
      "metadata": {
        "id": "pPEQDr2MOfdp",
        "colab": {
          "base_uri": "https://localhost:8080/"
        },
        "outputId": "da48fa81-aaf9-490a-9d22-3230cf6a6405"
      },
      "source": [
        "# tutaj wpisz rozwiązanie\n",
        "from sklearn.preprocessing import OneHotEncoder\n",
        "\n",
        "# Inicjalizacja OneHotEncoder z parametrem sparse=False\n",
        "ohe = OneHotEncoder(sparse_output=False)\n",
        "\n",
        "# Kodowanie kolumny 'size' (wynik to tablica numpy)\n",
        "size_encoded = ohe.fit_transform(df[['size']])\n",
        "\n",
        "# Wyświetlenie zakodowanej macierzy\n",
        "print(size_encoded)"
      ],
      "execution_count": null,
      "outputs": [
        {
          "output_type": "stream",
          "name": "stdout",
          "text": [
            "[[0. 0. 1.]\n",
            " [1. 0. 0.]\n",
            " [0. 1. 0.]\n",
            " [1. 0. 0.]\n",
            " [0. 1. 0.]]\n"
          ]
        }
      ]
    },
    {
      "cell_type": "markdown",
      "source": [
        "1. Inicjalizacja OneHotEncoder:\n",
        "Tworzymy obiekt ohe klasy OneHotEncoder z parametrem sparse=False, co zapewnia, że wynik transformacji będzie tablicą numpy, a nie macierzą rzadką.\n",
        "\n",
        "2. Kodowanie zmiennej size:\n",
        "Metoda fit_transform() jest wywoływana na kolumnie size (uwzględnionej jako DataFrame z wykorzystaniem df[['size']]). Wynik jest przypisywany do zmiennej size_encoded.\n",
        "\n",
        "3. Wyświetlenie wyniku:\n",
        "Na końcu kod wypisuje zakodowaną tablicę, która przedstawia zmienną size w postaci macierzy 0-1."
      ],
      "metadata": {
        "id": "Qqk9s1prdE1O"
      }
    },
    {
      "cell_type": "markdown",
      "metadata": {
        "id": "ybuk-ivrXftz"
      },
      "source": [
        "Wykorzystując bibliotekę do uczenia maszynowego _scikit-learn_ oraz klasę _OneHotEncoder_ dokonaj kodowania 0-1 zmiennej _size_. Nie przypisuj zmian do obiektu _df_.\n",
        "\n",
        "Użyj parametru _sparse=False_ **oraz _drop=first_** klasy _OneHotEncoder_."
      ]
    },
    {
      "cell_type": "code",
      "metadata": {
        "id": "1WFDcfAJXdx2",
        "colab": {
          "base_uri": "https://localhost:8080/"
        },
        "outputId": "f56e51e1-6a10-42f0-985f-fd2d8afbfb89"
      },
      "source": [
        "# tutaj wpisz rozwiązanie\n",
        "\n",
        "# Inicjalizacja OneHotEncoder z parametrami sparse=False oraz drop='first'\n",
        "ohe = OneHotEncoder(sparse_output=False, drop='first')\n",
        "\n",
        "# Kodowanie zmiennej 'size' (wynik to tablica numpy)\n",
        "size_encoded = ohe.fit_transform(df[['size']])\n",
        "\n",
        "# Wyświetlenie zakodowanej macierzy\n",
        "print(size_encoded)"
      ],
      "execution_count": null,
      "outputs": [
        {
          "output_type": "stream",
          "name": "stdout",
          "text": [
            "[[0. 1.]\n",
            " [0. 0.]\n",
            " [1. 0.]\n",
            " [0. 0.]\n",
            " [1. 0.]]\n"
          ]
        }
      ]
    },
    {
      "cell_type": "markdown",
      "source": [
        "1. Inicjalizacja OneHotEncoder:\n",
        "Obiekt ohe jest tworzony z parametrami:\n",
        "\n",
        "* sparse=False: zapewnia, że wynik transformacji będzie gęstą tablicą numpy.\n",
        "* drop='first': powoduje, że pierwsza kategoria zostanie pominięta, co może pomóc uniknąć problemów z kolinearnością przy modelowaniu.\n",
        "2. Transformacja danych:\n",
        "Metoda fit_transform() jest stosowana do kolumny size (przekazanej jako DataFrame przy użyciu df[['size']]), dzięki czemu uzyskujemy macierz z zakodowanymi danymi.\n",
        "\n",
        "3. Wynik:\n",
        "Zakodowana macierz 0-1 jest zapisywana w zmiennej size_encoded, a wynik jest wyświetlany przy użyciu funkcji print()."
      ],
      "metadata": {
        "id": "kvpISczrdqQv"
      }
    },
    {
      "cell_type": "markdown",
      "metadata": {
        "id": "4xTKSUzg10MK"
      },
      "source": [
        "### <a name='4'></a> Ćwiczenie 194\n",
        "Wykorzystując bibliotekę _pandas_ oraz funkcję _get_dummies()_ przedstaw wszystkie zmienne kategoryczne obiektu _df_ w postaci kodowania 0-1. Nie przypisuj zmian na trwałe do obiektu _df_."
      ]
    },
    {
      "cell_type": "code",
      "metadata": {
        "id": "3Pz3mHLxXuNP",
        "colab": {
          "base_uri": "https://localhost:8080/"
        },
        "outputId": "35f01f5c-7f29-4942-be4c-d6c18789e27e"
      },
      "source": [
        "# tutaj wpisz rozwiązanie\n",
        "\n",
        "# Tworzenie DataFrame z zakodowanymi zmiennymi kategorycznymi\n",
        "# Funkcja pd.get_dummies() automatycznie wykrywa kolumny typu object lub category\n",
        "df_dummies = pd.get_dummies(df)\n",
        "\n",
        "# Wyświetlenie nowego DataFrame z kodowaniem 0-1\n",
        "print(df_dummies)"
      ],
      "execution_count": null,
      "outputs": [
        {
          "output_type": "stream",
          "name": "stdout",
          "text": [
            "   price  weight  size_L  size_M  size_XL  color_blue  color_green  color_red  \\\n",
            "0  199.0   500.0   False   False     True       False        False       True   \n",
            "1   89.0   450.0    True   False    False       False         True      False   \n",
            "2   99.0   300.0   False    True    False        True        False      False   \n",
            "3  129.0   380.0    True   False    False       False         True      False   \n",
            "4   79.0   410.0   False    True    False       False        False       True   \n",
            "\n",
            "   gender_female  gender_male  bought_no  bought_yes  \n",
            "0           True        False      False        True  \n",
            "1          False         True       True       False  \n",
            "2          False         True      False        True  \n",
            "3           True        False       True       False  \n",
            "4           True        False      False        True  \n"
          ]
        }
      ]
    },
    {
      "cell_type": "markdown",
      "source": [
        "1. Użycie funkcji get_dummies():\n",
        "Wywołanie pd.get_dummies(df) generuje nowy DataFrame, w którym:\n",
        "* Dla każdej zmiennej kategorycznej zostają utworzone nowe kolumny.\n",
        "* Nazwa nowej kolumny składa się z oryginalnej nazwy oraz wartości danej kategorii, np. size_XL, size_L, size_M.\n",
        "* Wartości 1 lub 0 wskazują obecność danej kategorii w danym wierszu.\n",
        "* Kolumny numeryczne (tu: price, weight) pozostają bez zmian."
      ],
      "metadata": {
        "id": "i3k6rExdfZOE"
      }
    },
    {
      "cell_type": "markdown",
      "metadata": {
        "id": "Li9YVOlGYP5E"
      },
      "source": [
        "Wykorzystując bibliotekę _pandas_ oraz funkcję _get_dummies()_ przedstaw wszystkie zmienne kategoryczne obiektu _df_ w postaci kodowania 0-1. Użyj parametru _drop_first=True_. Nie przypisuj zmian na trwałe do obiektu _df_."
      ]
    },
    {
      "cell_type": "code",
      "metadata": {
        "id": "sCPW91USYMbU",
        "colab": {
          "base_uri": "https://localhost:8080/"
        },
        "outputId": "68b36aca-b8cc-4d3f-cb4a-3aa2967777fb"
      },
      "source": [
        "# tutaj wpisz rozwiązanie\n",
        "\n",
        "# Kodowanie zmiennych kategorycznych na zmienne dummy, drop_first=True\n",
        "df_dummies = pd.get_dummies(df, drop_first=True)\n",
        "\n",
        "# Wyświetlenie DataFrame z kodowaniem 0-1\n",
        "print(df_dummies)"
      ],
      "execution_count": null,
      "outputs": [
        {
          "output_type": "stream",
          "name": "stdout",
          "text": [
            "   price  weight  size_M  size_XL  color_green  color_red  gender_male  \\\n",
            "0  199.0   500.0   False     True        False       True        False   \n",
            "1   89.0   450.0   False    False         True      False         True   \n",
            "2   99.0   300.0    True    False        False      False         True   \n",
            "3  129.0   380.0   False    False         True      False        False   \n",
            "4   79.0   410.0    True    False        False       True        False   \n",
            "\n",
            "   bought_yes  \n",
            "0        True  \n",
            "1       False  \n",
            "2        True  \n",
            "3       False  \n",
            "4        True  \n"
          ]
        }
      ]
    },
    {
      "cell_type": "markdown",
      "source": [
        "1. Funkcja pd.get_dummies() automatycznie wykrywa zmienne kategoryczne i przekształca je na zestaw kolumn z wartościami 0-1.\n",
        "2. Użycie parametru drop_first=True powoduje, że dla każdej zmiennej kategorycznej pomijana jest pierwsza kategoria. Dzięki temu, gdy wszystkie pozostałe dummy mają wartość 0, wiadomo, że dana obserwacja należy do kategorii bazowej.\n",
        "3. Wynik operacji jest przypisany do zmiennej df_dummies, więc oryginalny DataFrame df pozostaje bez zmian."
      ],
      "metadata": {
        "id": "Ha-NyLc6fvL2"
      }
    },
    {
      "cell_type": "markdown",
      "metadata": {
        "id": "cU_DTl0HYppt"
      },
      "source": [
        "Wykorzystując bibliotekę _pandas_ oraz funkcję _get_dummies()_ przedstaw **zmienną _size_** obiektu _df_ w postaci kodowania 0-1. Użyj parametru _drop_first=True_. Nie przypisuj zmian na trwałe do obiektu _df_."
      ]
    },
    {
      "cell_type": "code",
      "metadata": {
        "id": "kZzErJE4YjCB",
        "colab": {
          "base_uri": "https://localhost:8080/"
        },
        "outputId": "68b0e594-9e50-4aee-e75a-7eb356866cfb"
      },
      "source": [
        "# tutaj wpisz rozwiązanie\n",
        "\n",
        "# Kodowanie tylko kolumny 'size' z parametrem drop_first=True\n",
        "size_dummies = pd.get_dummies(df['size'], drop_first=True)\n",
        "\n",
        "# Wyświetlenie wynikowej macierzy 0-1\n",
        "print(size_dummies)"
      ],
      "execution_count": null,
      "outputs": [
        {
          "output_type": "stream",
          "name": "stdout",
          "text": [
            "       M     XL\n",
            "0  False   True\n",
            "1  False  False\n",
            "2   True  False\n",
            "3  False  False\n",
            "4   True  False\n"
          ]
        }
      ]
    },
    {
      "cell_type": "markdown",
      "source": [
        "* pd.get_dummies(df['size'], drop_first=True): Funkcja ta przekształca kolumnę size w nowy DataFrame z kolumnami odpowiadającymi poszczególnym kategoriom (z pominięciem pierwszej, zgodnie z kolejnością sortowania).\n",
        "* Dzięki drop_first=True, dla każdej obserwacji brak zaznaczenia w utworzonych kolumnach (czyli [0, 0]) oznacza, że dana obserwacja należy do kategorii, która została pominięta."
      ],
      "metadata": {
        "id": "yVDz5xAohKCK"
      }
    },
    {
      "cell_type": "markdown",
      "metadata": {
        "id": "o3HKIKlP15Ro"
      },
      "source": [
        "### <a name='5'></a> Ćwiczenie 195\n",
        "Wykorzystując bibliotekę do uczenia maszynowego _scikit-learn_ oraz klasę _StandardScaler_ dokonaj skalowania zmiennej _weight_. Nie przypisuj zmian do obiektu _df_."
      ]
    },
    {
      "cell_type": "code",
      "metadata": {
        "id": "T_cwg7ytaQ7L",
        "colab": {
          "base_uri": "https://localhost:8080/"
        },
        "outputId": "254e1d8c-6fc9-459c-ff95-17e73e13b38a"
      },
      "source": [
        "# tutaj wpisz rozwiązanie\n",
        "from sklearn.preprocessing import StandardScaler\n",
        "\n",
        "# Inicjalizacja StandardScaler\n",
        "scaler = StandardScaler()\n",
        "\n",
        "# Skalowanie kolumny 'weight' (wynik to macierz numpy)\n",
        "weight_scaled = scaler.fit_transform(df[['weight']])\n",
        "\n",
        "# Wyświetlenie wynikowych skalowanych wartości\n",
        "print(weight_scaled)"
      ],
      "execution_count": null,
      "outputs": [
        {
          "output_type": "stream",
          "name": "stdout",
          "text": [
            "[[ 1.3660019 ]\n",
            " [ 0.62360956]\n",
            " [-1.60356745]\n",
            " [-0.41573971]\n",
            " [ 0.02969569]]\n"
          ]
        }
      ]
    },
    {
      "cell_type": "markdown",
      "source": [
        "1. Inicjalizacja i skalowanie:\n",
        "Tworzymy obiekt scaler klasy StandardScaler, a następnie wywołujemy metodę fit_transform() na kolumnie weight. Metoda ta dopasowuje skalowanie (oblicza średnią i odchylenie standardowe) i przekształca dane w jedną operację. Wynik jest zapisywany w zmiennej weight_scaled.\n",
        "\n",
        "2. Wyświetlenie wyniku:\n",
        "Macierz skalowanych wartości jest wypisywana przy użyciu funkcji print(). Oryginalny DataFrame df nie jest modyfikowany."
      ],
      "metadata": {
        "id": "JAmUF9Ithcau"
      }
    },
    {
      "cell_type": "markdown",
      "metadata": {
        "id": "PunXd_Ey16so"
      },
      "source": [
        "### <a name='6'></a> Ćwiczenie 196\n",
        "Wczytaj raz jeszcze słownik _data_ do obiektu _DataFrame_ o nazwie _df_."
      ]
    },
    {
      "cell_type": "code",
      "metadata": {
        "id": "kC_liXB6Zsqk"
      },
      "source": [
        "# tutaj wpisz rozwiązanie\n",
        "\n",
        "df = pd.DataFrame(data)"
      ],
      "execution_count": null,
      "outputs": []
    },
    {
      "cell_type": "markdown",
      "metadata": {
        "id": "ydogC3Imaqq6"
      },
      "source": [
        "Przygotuj dane do modelu uczenia maszynowego:\n",
        "* wykorzystując klasę LabelEncoder dokonaj kodowania 0-1 zmiennej _bought_\n",
        "* dokonaj standaryzacji zmiennych _weight_ oraz _price_\n",
        "* dokonaj kodowania 0-1 posoztałych zmiennych kategorycznych wykorzystując funkcję _get_dummies()._\n",
        "\n",
        "Przypisz zmiany do zmiennej _df_prep_."
      ]
    },
    {
      "cell_type": "code",
      "metadata": {
        "id": "-wVXNrn6a1O-",
        "colab": {
          "base_uri": "https://localhost:8080/"
        },
        "outputId": "53cad622-f566-4d36-da90-6065e9c726f1"
      },
      "source": [
        "# tutaj wpisz rozwiązanie\n",
        "\n",
        "# Kodowanie zmiennej 'bought' na postać 0-1\n",
        "le = LabelEncoder()\n",
        "df['bought'] = le.fit_transform(df['bought'])\n",
        "\n",
        "# Standaryzacja zmiennych 'weight' oraz 'price'\n",
        "scaler = StandardScaler()\n",
        "df[['weight', 'price']] = scaler.fit_transform(df[['weight', 'price']])\n",
        "\n",
        "# Kodowanie zmiennych kategorycznych ('size', 'color', 'gender') na postać 0-1\n",
        "# Używamy get_dummies() z parametrem drop_first=True, aby uniknąć pułapki zmiennych dummy.\n",
        "df_prep = pd.get_dummies(df, columns=['size', 'color', 'gender'], drop_first=True)\n",
        "\n",
        "# Wyświetlenie przygotowanych danych\n",
        "print(df_prep)"
      ],
      "execution_count": null,
      "outputs": [
        {
          "output_type": "stream",
          "name": "stdout",
          "text": [
            "      price    weight  bought  size_M  size_XL  color_green  color_red  \\\n",
            "0  1.845062  1.366002       1   False     True        False       True   \n",
            "1 -0.691898  0.623610       0   False    False         True      False   \n",
            "2 -0.461266 -1.603567       1    True    False        False      False   \n",
            "3  0.230633 -0.415740       0   False    False         True      False   \n",
            "4 -0.922531  0.029696       1    True    False        False       True   \n",
            "\n",
            "   gender_male  \n",
            "0        False  \n",
            "1         True  \n",
            "2         True  \n",
            "3        False  \n",
            "4        False  \n"
          ]
        }
      ]
    },
    {
      "cell_type": "markdown",
      "source": [
        "* LabelEncoder: Zamienia zmienną bought (z wartościami 'yes' i 'no') na liczby (np. 'no' → 0, 'yes' → 1).\n",
        "* StandardScaler: Standaryzuje zmienne weight oraz price, tj. przekształca dane tak, aby miały średnią 0 i odchylenie standardowe 1.\n",
        "* pd.get_dummies() z drop_first=True: Dla pozostałych zmiennych kategorycznych (tu: size, color, gender) tworzy kolumny dummy, przy czym pomija pierwszą kategorię, aby uniknąć kolinearności."
      ],
      "metadata": {
        "id": "75caHpb-i5vD"
      }
    },
    {
      "cell_type": "markdown",
      "metadata": {
        "id": "hOhqDRz618Tx"
      },
      "source": [
        "### <a name='7'></a> Ćwiczenie 197\n",
        "Skopiuj obiekt _df_prep_ do zmiennej _data_. Następnie wyrwij z tego obiektu kolumnę _bought_ i przypisz do zmiennej _target_.\n"
      ]
    },
    {
      "cell_type": "code",
      "metadata": {
        "id": "cWffJERlcHrq",
        "colab": {
          "base_uri": "https://localhost:8080/"
        },
        "outputId": "56fd493b-00df-4aee-8e03-8743d79060f2"
      },
      "source": [
        "# tutaj wpisz rozwiązanie\n",
        "\n",
        "# Kopiowanie df_prep do zmiennej data\n",
        "data = df_prep.copy()\n",
        "\n",
        "# Wyrwanie kolumny 'bought' i przypisanie jej do zmiennej target\n",
        "target = data.pop('bought')\n",
        "\n",
        "# Opcjonalne wyświetlenie wyników:\n",
        "print(data.head())\n",
        "print(target.head())"
      ],
      "execution_count": null,
      "outputs": [
        {
          "output_type": "stream",
          "name": "stdout",
          "text": [
            "      price    weight  size_M  size_XL  color_green  color_red  gender_male\n",
            "0  1.845062  1.366002   False     True        False       True        False\n",
            "1 -0.691898  0.623610   False    False         True      False         True\n",
            "2 -0.461266 -1.603567    True    False        False      False         True\n",
            "3  0.230633 -0.415740   False    False         True      False        False\n",
            "4 -0.922531  0.029696    True    False        False       True        False\n",
            "0    1\n",
            "1    0\n",
            "2    1\n",
            "3    0\n",
            "4    1\n",
            "Name: bought, dtype: int64\n"
          ]
        }
      ]
    },
    {
      "cell_type": "markdown",
      "metadata": {
        "id": "BO_8Cz9DcNx3"
      },
      "source": [
        "Wyświetl 5 pierwszych wierszy obiektu _data_. Upewnij się, że nie ma w nim kolumny _bought_."
      ]
    },
    {
      "cell_type": "code",
      "metadata": {
        "id": "HBR128WFcPkd",
        "colab": {
          "base_uri": "https://localhost:8080/",
          "height": 206
        },
        "outputId": "8b073aae-e891-4593-a63c-87c083f8e968"
      },
      "source": [
        "# tutaj wpisz rozwiązanie\n",
        "data.head()"
      ],
      "execution_count": null,
      "outputs": [
        {
          "output_type": "execute_result",
          "data": {
            "text/plain": [
              "      price    weight  size_M  size_XL  color_green  color_red  gender_male\n",
              "0  1.845062  1.366002   False     True        False       True        False\n",
              "1 -0.691898  0.623610   False    False         True      False         True\n",
              "2 -0.461266 -1.603567    True    False        False      False         True\n",
              "3  0.230633 -0.415740   False    False         True      False        False\n",
              "4 -0.922531  0.029696    True    False        False       True        False"
            ],
            "text/html": [
              "\n",
              "  <div id=\"df-52ed2a16-2c17-4164-9973-a5e8f15aa65b\" class=\"colab-df-container\">\n",
              "    <div>\n",
              "<style scoped>\n",
              "    .dataframe tbody tr th:only-of-type {\n",
              "        vertical-align: middle;\n",
              "    }\n",
              "\n",
              "    .dataframe tbody tr th {\n",
              "        vertical-align: top;\n",
              "    }\n",
              "\n",
              "    .dataframe thead th {\n",
              "        text-align: right;\n",
              "    }\n",
              "</style>\n",
              "<table border=\"1\" class=\"dataframe\">\n",
              "  <thead>\n",
              "    <tr style=\"text-align: right;\">\n",
              "      <th></th>\n",
              "      <th>price</th>\n",
              "      <th>weight</th>\n",
              "      <th>size_M</th>\n",
              "      <th>size_XL</th>\n",
              "      <th>color_green</th>\n",
              "      <th>color_red</th>\n",
              "      <th>gender_male</th>\n",
              "    </tr>\n",
              "  </thead>\n",
              "  <tbody>\n",
              "    <tr>\n",
              "      <th>0</th>\n",
              "      <td>1.845062</td>\n",
              "      <td>1.366002</td>\n",
              "      <td>False</td>\n",
              "      <td>True</td>\n",
              "      <td>False</td>\n",
              "      <td>True</td>\n",
              "      <td>False</td>\n",
              "    </tr>\n",
              "    <tr>\n",
              "      <th>1</th>\n",
              "      <td>-0.691898</td>\n",
              "      <td>0.623610</td>\n",
              "      <td>False</td>\n",
              "      <td>False</td>\n",
              "      <td>True</td>\n",
              "      <td>False</td>\n",
              "      <td>True</td>\n",
              "    </tr>\n",
              "    <tr>\n",
              "      <th>2</th>\n",
              "      <td>-0.461266</td>\n",
              "      <td>-1.603567</td>\n",
              "      <td>True</td>\n",
              "      <td>False</td>\n",
              "      <td>False</td>\n",
              "      <td>False</td>\n",
              "      <td>True</td>\n",
              "    </tr>\n",
              "    <tr>\n",
              "      <th>3</th>\n",
              "      <td>0.230633</td>\n",
              "      <td>-0.415740</td>\n",
              "      <td>False</td>\n",
              "      <td>False</td>\n",
              "      <td>True</td>\n",
              "      <td>False</td>\n",
              "      <td>False</td>\n",
              "    </tr>\n",
              "    <tr>\n",
              "      <th>4</th>\n",
              "      <td>-0.922531</td>\n",
              "      <td>0.029696</td>\n",
              "      <td>True</td>\n",
              "      <td>False</td>\n",
              "      <td>False</td>\n",
              "      <td>True</td>\n",
              "      <td>False</td>\n",
              "    </tr>\n",
              "  </tbody>\n",
              "</table>\n",
              "</div>\n",
              "    <div class=\"colab-df-buttons\">\n",
              "\n",
              "  <div class=\"colab-df-container\">\n",
              "    <button class=\"colab-df-convert\" onclick=\"convertToInteractive('df-52ed2a16-2c17-4164-9973-a5e8f15aa65b')\"\n",
              "            title=\"Convert this dataframe to an interactive table.\"\n",
              "            style=\"display:none;\">\n",
              "\n",
              "  <svg xmlns=\"http://www.w3.org/2000/svg\" height=\"24px\" viewBox=\"0 -960 960 960\">\n",
              "    <path d=\"M120-120v-720h720v720H120Zm60-500h600v-160H180v160Zm220 220h160v-160H400v160Zm0 220h160v-160H400v160ZM180-400h160v-160H180v160Zm440 0h160v-160H620v160ZM180-180h160v-160H180v160Zm440 0h160v-160H620v160Z\"/>\n",
              "  </svg>\n",
              "    </button>\n",
              "\n",
              "  <style>\n",
              "    .colab-df-container {\n",
              "      display:flex;\n",
              "      gap: 12px;\n",
              "    }\n",
              "\n",
              "    .colab-df-convert {\n",
              "      background-color: #E8F0FE;\n",
              "      border: none;\n",
              "      border-radius: 50%;\n",
              "      cursor: pointer;\n",
              "      display: none;\n",
              "      fill: #1967D2;\n",
              "      height: 32px;\n",
              "      padding: 0 0 0 0;\n",
              "      width: 32px;\n",
              "    }\n",
              "\n",
              "    .colab-df-convert:hover {\n",
              "      background-color: #E2EBFA;\n",
              "      box-shadow: 0px 1px 2px rgba(60, 64, 67, 0.3), 0px 1px 3px 1px rgba(60, 64, 67, 0.15);\n",
              "      fill: #174EA6;\n",
              "    }\n",
              "\n",
              "    .colab-df-buttons div {\n",
              "      margin-bottom: 4px;\n",
              "    }\n",
              "\n",
              "    [theme=dark] .colab-df-convert {\n",
              "      background-color: #3B4455;\n",
              "      fill: #D2E3FC;\n",
              "    }\n",
              "\n",
              "    [theme=dark] .colab-df-convert:hover {\n",
              "      background-color: #434B5C;\n",
              "      box-shadow: 0px 1px 3px 1px rgba(0, 0, 0, 0.15);\n",
              "      filter: drop-shadow(0px 1px 2px rgba(0, 0, 0, 0.3));\n",
              "      fill: #FFFFFF;\n",
              "    }\n",
              "  </style>\n",
              "\n",
              "    <script>\n",
              "      const buttonEl =\n",
              "        document.querySelector('#df-52ed2a16-2c17-4164-9973-a5e8f15aa65b button.colab-df-convert');\n",
              "      buttonEl.style.display =\n",
              "        google.colab.kernel.accessAllowed ? 'block' : 'none';\n",
              "\n",
              "      async function convertToInteractive(key) {\n",
              "        const element = document.querySelector('#df-52ed2a16-2c17-4164-9973-a5e8f15aa65b');\n",
              "        const dataTable =\n",
              "          await google.colab.kernel.invokeFunction('convertToInteractive',\n",
              "                                                    [key], {});\n",
              "        if (!dataTable) return;\n",
              "\n",
              "        const docLinkHtml = 'Like what you see? Visit the ' +\n",
              "          '<a target=\"_blank\" href=https://colab.research.google.com/notebooks/data_table.ipynb>data table notebook</a>'\n",
              "          + ' to learn more about interactive tables.';\n",
              "        element.innerHTML = '';\n",
              "        dataTable['output_type'] = 'display_data';\n",
              "        await google.colab.output.renderOutput(dataTable, element);\n",
              "        const docLink = document.createElement('div');\n",
              "        docLink.innerHTML = docLinkHtml;\n",
              "        element.appendChild(docLink);\n",
              "      }\n",
              "    </script>\n",
              "  </div>\n",
              "\n",
              "\n",
              "<div id=\"df-1e310b8c-6db4-461a-b426-ea889f3f73bb\">\n",
              "  <button class=\"colab-df-quickchart\" onclick=\"quickchart('df-1e310b8c-6db4-461a-b426-ea889f3f73bb')\"\n",
              "            title=\"Suggest charts\"\n",
              "            style=\"display:none;\">\n",
              "\n",
              "<svg xmlns=\"http://www.w3.org/2000/svg\" height=\"24px\"viewBox=\"0 0 24 24\"\n",
              "     width=\"24px\">\n",
              "    <g>\n",
              "        <path d=\"M19 3H5c-1.1 0-2 .9-2 2v14c0 1.1.9 2 2 2h14c1.1 0 2-.9 2-2V5c0-1.1-.9-2-2-2zM9 17H7v-7h2v7zm4 0h-2V7h2v10zm4 0h-2v-4h2v4z\"/>\n",
              "    </g>\n",
              "</svg>\n",
              "  </button>\n",
              "\n",
              "<style>\n",
              "  .colab-df-quickchart {\n",
              "      --bg-color: #E8F0FE;\n",
              "      --fill-color: #1967D2;\n",
              "      --hover-bg-color: #E2EBFA;\n",
              "      --hover-fill-color: #174EA6;\n",
              "      --disabled-fill-color: #AAA;\n",
              "      --disabled-bg-color: #DDD;\n",
              "  }\n",
              "\n",
              "  [theme=dark] .colab-df-quickchart {\n",
              "      --bg-color: #3B4455;\n",
              "      --fill-color: #D2E3FC;\n",
              "      --hover-bg-color: #434B5C;\n",
              "      --hover-fill-color: #FFFFFF;\n",
              "      --disabled-bg-color: #3B4455;\n",
              "      --disabled-fill-color: #666;\n",
              "  }\n",
              "\n",
              "  .colab-df-quickchart {\n",
              "    background-color: var(--bg-color);\n",
              "    border: none;\n",
              "    border-radius: 50%;\n",
              "    cursor: pointer;\n",
              "    display: none;\n",
              "    fill: var(--fill-color);\n",
              "    height: 32px;\n",
              "    padding: 0;\n",
              "    width: 32px;\n",
              "  }\n",
              "\n",
              "  .colab-df-quickchart:hover {\n",
              "    background-color: var(--hover-bg-color);\n",
              "    box-shadow: 0 1px 2px rgba(60, 64, 67, 0.3), 0 1px 3px 1px rgba(60, 64, 67, 0.15);\n",
              "    fill: var(--button-hover-fill-color);\n",
              "  }\n",
              "\n",
              "  .colab-df-quickchart-complete:disabled,\n",
              "  .colab-df-quickchart-complete:disabled:hover {\n",
              "    background-color: var(--disabled-bg-color);\n",
              "    fill: var(--disabled-fill-color);\n",
              "    box-shadow: none;\n",
              "  }\n",
              "\n",
              "  .colab-df-spinner {\n",
              "    border: 2px solid var(--fill-color);\n",
              "    border-color: transparent;\n",
              "    border-bottom-color: var(--fill-color);\n",
              "    animation:\n",
              "      spin 1s steps(1) infinite;\n",
              "  }\n",
              "\n",
              "  @keyframes spin {\n",
              "    0% {\n",
              "      border-color: transparent;\n",
              "      border-bottom-color: var(--fill-color);\n",
              "      border-left-color: var(--fill-color);\n",
              "    }\n",
              "    20% {\n",
              "      border-color: transparent;\n",
              "      border-left-color: var(--fill-color);\n",
              "      border-top-color: var(--fill-color);\n",
              "    }\n",
              "    30% {\n",
              "      border-color: transparent;\n",
              "      border-left-color: var(--fill-color);\n",
              "      border-top-color: var(--fill-color);\n",
              "      border-right-color: var(--fill-color);\n",
              "    }\n",
              "    40% {\n",
              "      border-color: transparent;\n",
              "      border-right-color: var(--fill-color);\n",
              "      border-top-color: var(--fill-color);\n",
              "    }\n",
              "    60% {\n",
              "      border-color: transparent;\n",
              "      border-right-color: var(--fill-color);\n",
              "    }\n",
              "    80% {\n",
              "      border-color: transparent;\n",
              "      border-right-color: var(--fill-color);\n",
              "      border-bottom-color: var(--fill-color);\n",
              "    }\n",
              "    90% {\n",
              "      border-color: transparent;\n",
              "      border-bottom-color: var(--fill-color);\n",
              "    }\n",
              "  }\n",
              "</style>\n",
              "\n",
              "  <script>\n",
              "    async function quickchart(key) {\n",
              "      const quickchartButtonEl =\n",
              "        document.querySelector('#' + key + ' button');\n",
              "      quickchartButtonEl.disabled = true;  // To prevent multiple clicks.\n",
              "      quickchartButtonEl.classList.add('colab-df-spinner');\n",
              "      try {\n",
              "        const charts = await google.colab.kernel.invokeFunction(\n",
              "            'suggestCharts', [key], {});\n",
              "      } catch (error) {\n",
              "        console.error('Error during call to suggestCharts:', error);\n",
              "      }\n",
              "      quickchartButtonEl.classList.remove('colab-df-spinner');\n",
              "      quickchartButtonEl.classList.add('colab-df-quickchart-complete');\n",
              "    }\n",
              "    (() => {\n",
              "      let quickchartButtonEl =\n",
              "        document.querySelector('#df-1e310b8c-6db4-461a-b426-ea889f3f73bb button');\n",
              "      quickchartButtonEl.style.display =\n",
              "        google.colab.kernel.accessAllowed ? 'block' : 'none';\n",
              "    })();\n",
              "  </script>\n",
              "</div>\n",
              "\n",
              "    </div>\n",
              "  </div>\n"
            ],
            "application/vnd.google.colaboratory.intrinsic+json": {
              "type": "dataframe",
              "variable_name": "data",
              "summary": "{\n  \"name\": \"data\",\n  \"rows\": 5,\n  \"fields\": [\n    {\n      \"column\": \"price\",\n      \"properties\": {\n        \"dtype\": \"number\",\n        \"std\": 1.118033988749895,\n        \"min\": -0.922531208028885,\n        \"max\": 1.84506241605777,\n        \"num_unique_values\": 5,\n        \"samples\": [\n          -0.6918984060216637,\n          -0.922531208028885,\n          -0.4612656040144425\n        ],\n        \"semantic_type\": \"\",\n        \"description\": \"\"\n      }\n    },\n    {\n      \"column\": \"weight\",\n      \"properties\": {\n        \"dtype\": \"number\",\n        \"std\": 1.118033988749895,\n        \"min\": -1.6035674514745464,\n        \"max\": 1.366001903107947,\n        \"num_unique_values\": 5,\n        \"samples\": [\n          0.6236095644623236,\n          0.029695693545824933,\n          -1.6035674514745464\n        ],\n        \"semantic_type\": \"\",\n        \"description\": \"\"\n      }\n    },\n    {\n      \"column\": \"size_M\",\n      \"properties\": {\n        \"dtype\": \"boolean\",\n        \"num_unique_values\": 2,\n        \"samples\": [\n          true,\n          false\n        ],\n        \"semantic_type\": \"\",\n        \"description\": \"\"\n      }\n    },\n    {\n      \"column\": \"size_XL\",\n      \"properties\": {\n        \"dtype\": \"boolean\",\n        \"num_unique_values\": 2,\n        \"samples\": [\n          false,\n          true\n        ],\n        \"semantic_type\": \"\",\n        \"description\": \"\"\n      }\n    },\n    {\n      \"column\": \"color_green\",\n      \"properties\": {\n        \"dtype\": \"boolean\",\n        \"num_unique_values\": 2,\n        \"samples\": [\n          true,\n          false\n        ],\n        \"semantic_type\": \"\",\n        \"description\": \"\"\n      }\n    },\n    {\n      \"column\": \"color_red\",\n      \"properties\": {\n        \"dtype\": \"boolean\",\n        \"num_unique_values\": 2,\n        \"samples\": [\n          false,\n          true\n        ],\n        \"semantic_type\": \"\",\n        \"description\": \"\"\n      }\n    },\n    {\n      \"column\": \"gender_male\",\n      \"properties\": {\n        \"dtype\": \"boolean\",\n        \"num_unique_values\": 2,\n        \"samples\": [\n          true,\n          false\n        ],\n        \"semantic_type\": \"\",\n        \"description\": \"\"\n      }\n    }\n  ]\n}"
            }
          },
          "metadata": {},
          "execution_count": 29
        }
      ]
    },
    {
      "cell_type": "markdown",
      "metadata": {
        "id": "yeqnIoPucSG8"
      },
      "source": [
        "Wyświetl 5 pierwszych wierszy obiektu _target_."
      ]
    },
    {
      "cell_type": "code",
      "metadata": {
        "id": "P7ikDAjrcSrR",
        "colab": {
          "base_uri": "https://localhost:8080/",
          "height": 241
        },
        "outputId": "58643c28-554c-47da-d2ce-dc11c4576984"
      },
      "source": [
        "# tutaj wpisz rozwiązanie\n",
        "target.head()"
      ],
      "execution_count": null,
      "outputs": [
        {
          "output_type": "execute_result",
          "data": {
            "text/plain": [
              "0    1\n",
              "1    0\n",
              "2    1\n",
              "3    0\n",
              "4    1\n",
              "Name: bought, dtype: int64"
            ],
            "text/html": [
              "<div>\n",
              "<style scoped>\n",
              "    .dataframe tbody tr th:only-of-type {\n",
              "        vertical-align: middle;\n",
              "    }\n",
              "\n",
              "    .dataframe tbody tr th {\n",
              "        vertical-align: top;\n",
              "    }\n",
              "\n",
              "    .dataframe thead th {\n",
              "        text-align: right;\n",
              "    }\n",
              "</style>\n",
              "<table border=\"1\" class=\"dataframe\">\n",
              "  <thead>\n",
              "    <tr style=\"text-align: right;\">\n",
              "      <th></th>\n",
              "      <th>bought</th>\n",
              "    </tr>\n",
              "  </thead>\n",
              "  <tbody>\n",
              "    <tr>\n",
              "      <th>0</th>\n",
              "      <td>1</td>\n",
              "    </tr>\n",
              "    <tr>\n",
              "      <th>1</th>\n",
              "      <td>0</td>\n",
              "    </tr>\n",
              "    <tr>\n",
              "      <th>2</th>\n",
              "      <td>1</td>\n",
              "    </tr>\n",
              "    <tr>\n",
              "      <th>3</th>\n",
              "      <td>0</td>\n",
              "    </tr>\n",
              "    <tr>\n",
              "      <th>4</th>\n",
              "      <td>1</td>\n",
              "    </tr>\n",
              "  </tbody>\n",
              "</table>\n",
              "</div><br><label><b>dtype:</b> int64</label>"
            ]
          },
          "metadata": {},
          "execution_count": 30
        }
      ]
    },
    {
      "cell_type": "markdown",
      "metadata": {
        "id": "TXUd_4631-gw"
      },
      "source": [
        "### <a name='8'></a> Ćwiczenie 198\n",
        "Wykorzystując bibliotekę _scikit-learn_ oraz funkcję _train_test_split_ podziel dane z obiektów _data_ i _target_ na zbiór treningowy (_X\\_train_, _y\\_train_) oraz zbiór testowy (_X\\_test_, _y\\_test_). Do zbioru testowego przydziel 20% próbek.\n",
        "\n",
        "Wyświetl rozmiar obiektów:\n",
        "* _X\\_train_\n",
        "* _X\\_test_\n",
        "* _y\\_train_\n",
        "* _y\\_test_"
      ]
    },
    {
      "cell_type": "code",
      "metadata": {
        "id": "Qy4TamiecWwd",
        "colab": {
          "base_uri": "https://localhost:8080/"
        },
        "outputId": "abc41ca3-d6d4-4ebd-95ce-3f4d14dabd16"
      },
      "source": [
        "# tutaj wpisz rozwiązanie\n",
        "from sklearn.model_selection import train_test_split\n",
        "\n",
        "# Podział danych na zbiór treningowy i testowy (test_size=0.2 oznacza 20% próbek w zbiorze testowym)\n",
        "X_train, X_test, y_train, y_test = train_test_split(data, target, test_size=0.2, random_state=42)\n",
        "\n",
        "# Wyświetlenie rozmiarów poszczególnych obiektów\n",
        "print(\"X_train shape:\", X_train.shape)\n",
        "print(\"X_test shape:\", X_test.shape)\n",
        "print(\"y_train shape:\", y_train.shape)\n",
        "print(\"y_test shape:\", y_test.shape)"
      ],
      "execution_count": null,
      "outputs": [
        {
          "output_type": "stream",
          "name": "stdout",
          "text": [
            "X_train shape: (4, 7)\n",
            "X_test shape: (1, 7)\n",
            "y_train shape: (4,)\n",
            "y_test shape: (1,)\n"
          ]
        }
      ]
    },
    {
      "cell_type": "markdown",
      "source": [
        "* Funkcja train_test_split dzieli dane na zbiory treningowy i testowy. Ustawienie parametru test_size=0.2 powoduje, że 20% próbek zostanie przydzielone do zbioru testowego.\n",
        "* Parametr random_state=42 zapewnia, że podział danych będzie deterministyczny, co ułatwia powtarzalność wyników.\n",
        "* X_train i X_test zawierają zmienne objaśniające (tutaj pozostałe cechy), a y_train i y_test odpowiadają za zmienną docelową target.\n",
        "* Polecenie shape pozwala sprawdzić wymiary utworzonych zbiorów.\n",
        "\n",
        "Przykładowo, jeśli oryginalny DataFrame zawiera 5 próbek, to zbiór treningowy będzie miał 4 próbki, a zbiór testowy 1 próbkę."
      ],
      "metadata": {
        "id": "s8AdYwRdjLv2"
      }
    },
    {
      "cell_type": "markdown",
      "metadata": {
        "id": "tgI6xEn-2AQo"
      },
      "source": [
        "### <a name='9'></a> Ćwiczenie 199\n",
        "Połącz obiekty _X\\_train_ oraz _X\\_test_ w jeden obiekt _DataFrame_ o nazwie _X_."
      ]
    },
    {
      "cell_type": "code",
      "metadata": {
        "id": "WhwF14FEczqX",
        "colab": {
          "base_uri": "https://localhost:8080/"
        },
        "outputId": "29bc97cd-cacb-4f59-e333-40ce5c47e544"
      },
      "source": [
        "# tutaj wpisz rozwiązanie\n",
        "\n",
        "# Łączenie obiektów X_train oraz X_test w jeden DataFrame o nazwie X\n",
        "X = pd.concat([X_train, X_test])\n",
        "\n",
        "# Wyświetlenie wyniku\n",
        "print(X)"
      ],
      "execution_count": null,
      "outputs": [
        {
          "output_type": "stream",
          "name": "stdout",
          "text": [
            "      price    weight  size_M  size_XL  color_green  color_red  gender_male\n",
            "4 -0.922531  0.029696    True    False        False       True        False\n",
            "2 -0.461266 -1.603567    True    False        False      False         True\n",
            "0  1.845062  1.366002   False     True        False       True        False\n",
            "3  0.230633 -0.415740   False    False         True      False        False\n",
            "1 -0.691898  0.623610   False    False         True      False         True\n"
          ]
        }
      ]
    },
    {
      "cell_type": "markdown",
      "source": [
        "#### Kolumny kategoryczne (po zakodowaniu metodą get_dummies() z drop_first=True):\n",
        "\n",
        "1. size_M i size_XL: Oryginalna kolumna size została zakodowana jako zmienne dummy. Przyjmując, że kategorie sortowane leksykograficznie to np. [\"L\", \"M\", \"XL\"] i pomijamy pierwszą (\"L\"),:\n",
        "* Jeśli size_M jest True (a size_XL False), to dana obserwacja pochodzi z kategorii \"M\".\n",
        "* Jeśli size_XL jest True (a size_M False), to dana obserwacja pochodzi z kategorii \"XL\".\n",
        "* Jeśli obie są False, oznacza to, że dana obserwacja należy do kategorii \"L\" (pominiętej).\n",
        "2. color_green i color_red: Podobnie oryginalna zmienna color została zakodowana. Zakładając sortowanie (np. [\"blue\", \"green\", \"red\"]) i pominięcie \"blue\":\n",
        "* color_green ustawione na True oznacza kolor \"green\".\n",
        "* color_red ustawione na True oznacza kolor \"red\".\n",
        "* Jeśli obie są False, to kolor to \"blue\".\n",
        "3. gender_male: Dla kolumny gender, przyjmując, że kategorie to [\"female\", \"male\"] i \"female\" została pominięta, wartość True oznacza \"male\", a False – \"female\"."
      ],
      "metadata": {
        "id": "WRYVHsAinpUq"
      }
    },
    {
      "cell_type": "markdown",
      "metadata": {
        "id": "wxhpf-uq2B1I"
      },
      "source": [
        "### <a name='10'></a> Ćwiczenie 200\n",
        "Połącz obiekty _y\\_train_ oraz _y\\_test_ w jeden obiekt _DataFrame_ o nazwie _y_."
      ]
    },
    {
      "cell_type": "code",
      "metadata": {
        "id": "AUSgDmoOdMYa",
        "colab": {
          "base_uri": "https://localhost:8080/",
          "height": 241
        },
        "outputId": "512b9329-de7f-4e59-8a62-56b0034264c2"
      },
      "source": [
        "# tutaj wpisz rozwiązanie\n",
        "y = pd.concat([y_train, y_test])\n",
        "y"
      ],
      "execution_count": null,
      "outputs": [
        {
          "output_type": "execute_result",
          "data": {
            "text/plain": [
              "4    1\n",
              "2    1\n",
              "0    1\n",
              "3    0\n",
              "1    0\n",
              "Name: bought, dtype: int64"
            ],
            "text/html": [
              "<div>\n",
              "<style scoped>\n",
              "    .dataframe tbody tr th:only-of-type {\n",
              "        vertical-align: middle;\n",
              "    }\n",
              "\n",
              "    .dataframe tbody tr th {\n",
              "        vertical-align: top;\n",
              "    }\n",
              "\n",
              "    .dataframe thead th {\n",
              "        text-align: right;\n",
              "    }\n",
              "</style>\n",
              "<table border=\"1\" class=\"dataframe\">\n",
              "  <thead>\n",
              "    <tr style=\"text-align: right;\">\n",
              "      <th></th>\n",
              "      <th>bought</th>\n",
              "    </tr>\n",
              "  </thead>\n",
              "  <tbody>\n",
              "    <tr>\n",
              "      <th>4</th>\n",
              "      <td>1</td>\n",
              "    </tr>\n",
              "    <tr>\n",
              "      <th>2</th>\n",
              "      <td>1</td>\n",
              "    </tr>\n",
              "    <tr>\n",
              "      <th>0</th>\n",
              "      <td>1</td>\n",
              "    </tr>\n",
              "    <tr>\n",
              "      <th>3</th>\n",
              "      <td>0</td>\n",
              "    </tr>\n",
              "    <tr>\n",
              "      <th>1</th>\n",
              "      <td>0</td>\n",
              "    </tr>\n",
              "  </tbody>\n",
              "</table>\n",
              "</div><br><label><b>dtype:</b> int64</label>"
            ]
          },
          "metadata": {},
          "execution_count": 40
        }
      ]
    },
    {
      "cell_type": "markdown",
      "metadata": {
        "id": "kloW-YmadUcE"
      },
      "source": [
        "Połącz obiekty _X_ oraz _y_ w jeden obiekt _DataFrame_."
      ]
    },
    {
      "cell_type": "code",
      "metadata": {
        "id": "69B3K7NCdRwn",
        "colab": {
          "base_uri": "https://localhost:8080/"
        },
        "outputId": "61b3a85f-238b-4750-912c-78e1de30d63d"
      },
      "source": [
        "# tutaj wpisz rozwiązanie\n",
        "\n",
        "# Łączymy X oraz y w jeden DataFrame (łączenie wzdłuż osi kolumn, axis=1)\n",
        "df_combined = pd.concat([X, y], axis=1)\n",
        "\n",
        "# Wyświetlenie wynikowego DataFrame\n",
        "print(df_combined)"
      ],
      "execution_count": null,
      "outputs": [
        {
          "output_type": "stream",
          "name": "stdout",
          "text": [
            "      price    weight  size_M  size_XL  color_green  color_red  gender_male  \\\n",
            "4 -0.922531  0.029696    True    False        False       True        False   \n",
            "2 -0.461266 -1.603567    True    False        False      False         True   \n",
            "0  1.845062  1.366002   False     True        False       True        False   \n",
            "3  0.230633 -0.415740   False    False         True      False        False   \n",
            "1 -0.691898  0.623610   False    False         True      False         True   \n",
            "\n",
            "   bought  \n",
            "4       1  \n",
            "2       1  \n",
            "0       1  \n",
            "3       0  \n",
            "1       0  \n"
          ]
        }
      ]
    },
    {
      "cell_type": "markdown",
      "source": [
        "1. Używamy funkcji pd.concat() z argumentem axis=1, aby połączyć DataFrame X z Series y kolumnami. W rezultacie uzyskujemy DataFrame, w którym znajdują się wszystkie cechy oraz kolumna z wartością zmiennej docelowej."
      ],
      "metadata": {
        "id": "2FnrwRD2pcPW"
      }
    }
  ]
}