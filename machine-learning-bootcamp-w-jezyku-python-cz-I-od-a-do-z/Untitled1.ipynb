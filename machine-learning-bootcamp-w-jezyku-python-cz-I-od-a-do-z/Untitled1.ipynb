{
  "nbformat": 4,
  "nbformat_minor": 0,
  "metadata": {
    "colab": {
      "provenance": [],
      "authorship_tag": "ABX9TyMLEK+Upf7xK4LA9QtmWkaN",
      "include_colab_link": true
    },
    "kernelspec": {
      "name": "python3",
      "display_name": "Python 3"
    },
    "language_info": {
      "name": "python"
    }
  },
  "cells": [
    {
      "cell_type": "markdown",
      "metadata": {
        "id": "view-in-github",
        "colab_type": "text"
      },
      "source": [
        "<a href=\"https://colab.research.google.com/github/sebekpro/python-krakowiak/blob/main/machine-learning-bootcamp-w-jezyku-python-cz-I-od-a-do-z/Untitled1.ipynb\" target=\"_parent\"><img src=\"https://colab.research.google.com/assets/colab-badge.svg\" alt=\"Open In Colab\"/></a>"
      ]
    },
    {
      "cell_type": "code",
      "execution_count": 2,
      "metadata": {
        "colab": {
          "base_uri": "https://localhost:8080/"
        },
        "id": "wAdrl7qSCU3M",
        "outputId": "9e3080bc-388c-4c13-fab9-c41358f98043"
      },
      "outputs": [
        {
          "output_type": "stream",
          "name": "stdout",
          "text": [
            "Cześć\n"
          ]
        }
      ],
      "source": [
        "print(\"Cześć\")"
      ]
    },
    {
      "cell_type": "markdown",
      "source": [
        "### Nagłówek"
      ],
      "metadata": {
        "id": "EAXL6ItKMRDJ"
      }
    }
  ]
}